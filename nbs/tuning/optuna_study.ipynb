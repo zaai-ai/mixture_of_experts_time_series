{
 "cells": [
  {
   "cell_type": "code",
   "execution_count": 5,
   "metadata": {},
   "outputs": [],
   "source": [
    "import optuna\n",
    "\n",
    "# You can use Matplotlib instead of Plotly for visualization by simply replacing `optuna.visualization` with\n",
    "# `optuna.visualization.matplotlib` in the following examples.\n",
    "from optuna.visualization import plot_contour\n",
    "from optuna.visualization import plot_edf\n",
    "from optuna.visualization import plot_intermediate_values\n",
    "from optuna.visualization import plot_optimization_history\n",
    "from optuna.visualization import plot_parallel_coordinate\n",
    "from optuna.visualization import plot_param_importances\n",
    "from optuna.visualization import plot_rank\n",
    "from optuna.visualization import plot_slice\n",
    "from optuna.visualization import plot_timeline\n"
   ]
  },
  {
   "cell_type": "code",
   "execution_count": 13,
   "metadata": {},
   "outputs": [
    {
     "name": "stdout",
     "output_type": "stream",
     "text": [
      "{'stack_types': ['identity', 'trend'], 'mlp_units': [[16, 16], [16, 16], [16, 16]], 'learning_rate': 0.006146404908330783, 'scaler_type': 'standard', 'max_steps': 5000, 'batch_size': 128, 'windows_batch_size': 128, 'random_seed': 16, 'nr_experts': 4, 'top_k': 16, 'input_size': 54, 'step_size': 1}\n"
     ]
    },
    {
     "ename": "ValueError",
     "evalue": "Mime type rendering requires nbformat>=4.2.0 but it is not installed",
     "output_type": "error",
     "traceback": [
      "\u001b[1;31m---------------------------------------------------------------------------\u001b[0m",
      "\u001b[1;31mValueError\u001b[0m                                Traceback (most recent call last)",
      "File \u001b[1;32mc:\\Users\\ricar\\mixture_of_experts_time_series\\venv\\Lib\\site-packages\\IPython\\core\\formatters.py:984\u001b[0m, in \u001b[0;36mIPythonDisplayFormatter.__call__\u001b[1;34m(self, obj)\u001b[0m\n\u001b[0;32m    982\u001b[0m method \u001b[38;5;241m=\u001b[39m get_real_method(obj, \u001b[38;5;28mself\u001b[39m\u001b[38;5;241m.\u001b[39mprint_method)\n\u001b[0;32m    983\u001b[0m \u001b[38;5;28;01mif\u001b[39;00m method \u001b[38;5;129;01mis\u001b[39;00m \u001b[38;5;129;01mnot\u001b[39;00m \u001b[38;5;28;01mNone\u001b[39;00m:\n\u001b[1;32m--> 984\u001b[0m     \u001b[43mmethod\u001b[49m\u001b[43m(\u001b[49m\u001b[43m)\u001b[49m\n\u001b[0;32m    985\u001b[0m     \u001b[38;5;28;01mreturn\u001b[39;00m \u001b[38;5;28;01mTrue\u001b[39;00m\n",
      "File \u001b[1;32mc:\\Users\\ricar\\mixture_of_experts_time_series\\venv\\Lib\\site-packages\\plotly\\basedatatypes.py:833\u001b[0m, in \u001b[0;36mBaseFigure._ipython_display_\u001b[1;34m(self)\u001b[0m\n\u001b[0;32m    830\u001b[0m \u001b[38;5;28;01mimport\u001b[39;00m\u001b[38;5;250m \u001b[39m\u001b[38;5;21;01mplotly\u001b[39;00m\u001b[38;5;21;01m.\u001b[39;00m\u001b[38;5;21;01mio\u001b[39;00m\u001b[38;5;250m \u001b[39m\u001b[38;5;28;01mas\u001b[39;00m\u001b[38;5;250m \u001b[39m\u001b[38;5;21;01mpio\u001b[39;00m\n\u001b[0;32m    832\u001b[0m \u001b[38;5;28;01mif\u001b[39;00m pio\u001b[38;5;241m.\u001b[39mrenderers\u001b[38;5;241m.\u001b[39mrender_on_display \u001b[38;5;129;01mand\u001b[39;00m pio\u001b[38;5;241m.\u001b[39mrenderers\u001b[38;5;241m.\u001b[39mdefault:\n\u001b[1;32m--> 833\u001b[0m     \u001b[43mpio\u001b[49m\u001b[38;5;241;43m.\u001b[39;49m\u001b[43mshow\u001b[49m\u001b[43m(\u001b[49m\u001b[38;5;28;43mself\u001b[39;49m\u001b[43m)\u001b[49m\n\u001b[0;32m    834\u001b[0m \u001b[38;5;28;01melse\u001b[39;00m:\n\u001b[0;32m    835\u001b[0m     \u001b[38;5;28mprint\u001b[39m(\u001b[38;5;28mrepr\u001b[39m(\u001b[38;5;28mself\u001b[39m))\n",
      "File \u001b[1;32mc:\\Users\\ricar\\mixture_of_experts_time_series\\venv\\Lib\\site-packages\\plotly\\io\\_renderers.py:425\u001b[0m, in \u001b[0;36mshow\u001b[1;34m(fig, renderer, validate, **kwargs)\u001b[0m\n\u001b[0;32m    420\u001b[0m     \u001b[38;5;28;01mraise\u001b[39;00m \u001b[38;5;167;01mValueError\u001b[39;00m(\n\u001b[0;32m    421\u001b[0m         \u001b[38;5;124m\"\u001b[39m\u001b[38;5;124mMime type rendering requires ipython but it is not installed\u001b[39m\u001b[38;5;124m\"\u001b[39m\n\u001b[0;32m    422\u001b[0m     )\n\u001b[0;32m    424\u001b[0m \u001b[38;5;28;01mif\u001b[39;00m \u001b[38;5;129;01mnot\u001b[39;00m nbformat \u001b[38;5;129;01mor\u001b[39;00m Version(nbformat\u001b[38;5;241m.\u001b[39m__version__) \u001b[38;5;241m<\u001b[39m Version(\u001b[38;5;124m\"\u001b[39m\u001b[38;5;124m4.2.0\u001b[39m\u001b[38;5;124m\"\u001b[39m):\n\u001b[1;32m--> 425\u001b[0m     \u001b[38;5;28;01mraise\u001b[39;00m \u001b[38;5;167;01mValueError\u001b[39;00m(\n\u001b[0;32m    426\u001b[0m         \u001b[38;5;124m\"\u001b[39m\u001b[38;5;124mMime type rendering requires nbformat>=4.2.0 but it is not installed\u001b[39m\u001b[38;5;124m\"\u001b[39m\n\u001b[0;32m    427\u001b[0m     )\n\u001b[0;32m    429\u001b[0m display_jupyter_version_warnings()\n\u001b[0;32m    431\u001b[0m ipython_display\u001b[38;5;241m.\u001b[39mdisplay(bundle, raw\u001b[38;5;241m=\u001b[39m\u001b[38;5;28;01mTrue\u001b[39;00m)\n",
      "\u001b[1;31mValueError\u001b[0m: Mime type rendering requires nbformat>=4.2.0 but it is not installed"
     ]
    },
    {
     "data": {
      "application/vnd.plotly.v1+json": {
       "config": {
        "plotlyServerURL": "https://plot.ly"
       },
       "data": [
        {
         "base": [
          "2025-03-18T15:44:16.391042",
          "2025-03-18T15:53:11.699340",
          "2025-03-18T15:57:45.465008",
          "2025-03-18T16:05:04.466545",
          "2025-03-18T16:06:04.603624",
          "2025-03-18T16:06:21.058867",
          "2025-03-18T16:09:04.751826",
          "2025-03-18T16:09:44.424655",
          "2025-03-18T16:11:59.368822",
          "2025-03-18T16:12:28.405889",
          "2025-03-18T16:13:55.492567",
          "2025-03-18T16:18:41.670058",
          "2025-03-18T16:22:04.779274",
          "2025-03-18T16:25:43.523532",
          "2025-03-18T16:29:06.133419",
          "2025-03-18T16:37:53.952239",
          "2025-03-18T16:38:44.627591",
          "2025-03-18T16:43:14.142797",
          "2025-03-18T16:46:34.782873",
          "2025-03-18T16:47:04.343287"
         ],
         "hovertemplate": "%{text}<extra>COMPLETE</extra>",
         "marker": {
          "color": "blue"
         },
         "name": "COMPLETE",
         "orientation": "h",
         "text": [
          "{<br>  \"number\": 0,<br>  \"values\": [<br>    772.61767578125<br>  ],<br>  \"params\": {<br>    \"stack_types\": [<br>      \"identity\",<br>      \"trend\"<br>    ],<br>    \"mlp_units\": [<br>      [<br>        512,<br>        512<br>      ],<br>      [<br>        512,<br>        512<br>      ],<br>      [<br>        512,<br>        512<br>      ]<br>    ],<br>    \"learning_rate\": 0.0005279266365389877,<br>    \"scaler_type\": \"minmax\",<br>    \"max_steps\": 5000,<br>    \"batch_size\": 64,<br>    \"windows_batch_size\": 512,<br>    \"random_seed\": 3,<br>    \"nr_experts\": 8,<br>    \"top_k\": 4,<br>    \"input_size\": 36,<br>    \"step_size\": 18<br>  },<br>  \"user_attrs\": {<br>    \"ALL_PARAMS\": {<br>      \"h\": 18,<br>      \"stack_types\": [<br>        \"identity\",<br>        \"trend\"<br>      ],<br>      \"mlp_units\": [<br>        [<br>          512,<br>          512<br>        ],<br>        [<br>          512,<br>          512<br>        ],<br>        [<br>          512,<br>          512<br>        ]<br>      ],<br>      \"learning_rate\": 0.0005279266365389877,<br>      \"scaler_type\": \"minmax\",<br>      \"max_steps\": 5000,<br>      \"batch_size\": 64,<br>      \"windows_batch_size\": 512,<br>      \"random_seed\": 3,<br>      \"nr_experts\": 8,<br>      \"top_k\": 4,<br>      \"input_size\": 36,<br>      \"step_size\": 18<br>    },<br>    \"METRICS\": {<br>      \"loss\": 772.61767578125,<br>      \"train_loss\": 0.04782214015722275<br>    }<br>  }<br>}",
          "{<br>  \"number\": 1,<br>  \"values\": [<br>    649.74267578125<br>  ],<br>  \"params\": {<br>    \"stack_types\": [<br>      \"identity\",<br>      \"trend\",<br>      \"seasonality\"<br>    ],<br>    \"mlp_units\": [<br>      [<br>        8,<br>        8<br>      ],<br>      [<br>        8,<br>        8<br>      ],<br>      [<br>        8,<br>        8<br>      ]<br>    ],<br>    \"learning_rate\": 0.0025227335709233313,<br>    \"scaler_type\": \"standard\",<br>    \"max_steps\": 5000,<br>    \"batch_size\": 128,<br>    \"windows_batch_size\": 512,<br>    \"random_seed\": 17,<br>    \"nr_experts\": 4,<br>    \"top_k\": 8,<br>    \"input_size\": 36,<br>    \"step_size\": 1<br>  },<br>  \"user_attrs\": {<br>    \"ALL_PARAMS\": {<br>      \"h\": 18,<br>      \"stack_types\": [<br>        \"identity\",<br>        \"trend\",<br>        \"seasonality\"<br>      ],<br>      \"mlp_units\": [<br>        [<br>          8,<br>          8<br>        ],<br>        [<br>          8,<br>          8<br>        ],<br>        [<br>          8,<br>          8<br>        ]<br>      ],<br>      \"learning_rate\": 0.0025227335709233313,<br>      \"scaler_type\": \"standard\",<br>      \"max_steps\": 5000,<br>      \"batch_size\": 128,<br>      \"windows_batch_size\": 512,<br>      \"random_seed\": 17,<br>      \"nr_experts\": 4,<br>      \"top_k\": 8,<br>      \"input_size\": 36,<br>      \"step_size\": 1<br>    },<br>    \"METRICS\": {<br>      \"loss\": 649.74267578125,<br>      \"train_loss\": 10.978531837463379<br>    }<br>  }<br>}",
          "{<br>  \"number\": 2,<br>  \"values\": [<br>    706.9453735351562<br>  ],<br>  \"params\": {<br>    \"stack_types\": [<br>      \"identity\",<br>      \"trend\",<br>      \"seasonality\"<br>    ],<br>    \"mlp_units\": [<br>      [<br>        32,<br>        32<br>      ],<br>      [<br>        32,<br>        32<br>      ],<br>      [<br>        32,<br>        32<br>      ]<br>    ],<br>    \"learning_rate\": 0.08846747305656116,<br>    \"scaler_type\": \"standard\",<br>    \"max_steps\": 5000,<br>    \"batch_size\": 64,<br>    \"windows_batch_size\": 512,<br>    \"random_seed\": 6,<br>    \"nr_experts\": 8,<br>    \"top_k\": 16,<br>    \"input_size\": 18,<br>    \"step_size\": 1<br>  },<br>  \"user_attrs\": {<br>    \"ALL_PARAMS\": {<br>      \"h\": 18,<br>      \"stack_types\": [<br>        \"identity\",<br>        \"trend\",<br>        \"seasonality\"<br>      ],<br>      \"mlp_units\": [<br>        [<br>          32,<br>          32<br>        ],<br>        [<br>          32,<br>          32<br>        ],<br>        [<br>          32,<br>          32<br>        ]<br>      ],<br>      \"learning_rate\": 0.08846747305656116,<br>      \"scaler_type\": \"standard\",<br>      \"max_steps\": 5000,<br>      \"batch_size\": 64,<br>      \"windows_batch_size\": 512,<br>      \"random_seed\": 6,<br>      \"nr_experts\": 8,<br>      \"top_k\": 16,<br>      \"input_size\": 18,<br>      \"step_size\": 1<br>    },<br>    \"METRICS\": {<br>      \"loss\": 706.9453735351562,<br>      \"train_loss\": 7.065622329711914<br>    }<br>  }<br>}",
          "{<br>  \"number\": 3,<br>  \"values\": [<br>    859.8711547851562<br>  ],<br>  \"params\": {<br>    \"stack_types\": [<br>      \"identity\",<br>      \"trend\",<br>      \"seasonality\"<br>    ],<br>    \"mlp_units\": [<br>      [<br>        64,<br>        64<br>      ],<br>      [<br>        64,<br>        64<br>      ],<br>      [<br>        64,<br>        64<br>      ]<br>    ],<br>    \"learning_rate\": 0.08741730112225618,<br>    \"scaler_type\": \"robust\",<br>    \"max_steps\": 1000,<br>    \"batch_size\": 32,<br>    \"windows_batch_size\": 512,<br>    \"random_seed\": 12,<br>    \"nr_experts\": 4,<br>    \"top_k\": 8,<br>    \"input_size\": 90,<br>    \"step_size\": 1<br>  },<br>  \"user_attrs\": {<br>    \"ALL_PARAMS\": {<br>      \"h\": 18,<br>      \"stack_types\": [<br>        \"identity\",<br>        \"trend\",<br>        \"seasonality\"<br>      ],<br>      \"mlp_units\": [<br>        [<br>          64,<br>          64<br>        ],<br>        [<br>          64,<br>          64<br>        ],<br>        [<br>          64,<br>          64<br>        ]<br>      ],<br>      \"learning_rate\": 0.08741730112225618,<br>      \"scaler_type\": \"robust\",<br>      \"max_steps\": 1000,<br>      \"batch_size\": 32,<br>      \"windows_batch_size\": 512,<br>      \"random_seed\": 12,<br>      \"nr_experts\": 4,<br>      \"top_k\": 8,<br>      \"input_size\": 90,<br>      \"step_size\": 1<br>    },<br>    \"METRICS\": {<br>      \"loss\": 859.8711547851562,<br>      \"train_loss\": 1.5252292156219482<br>    }<br>  }<br>}",
          "{<br>  \"number\": 4,<br>  \"values\": [<br>    704.5496215820312<br>  ],<br>  \"params\": {<br>    \"stack_types\": [<br>      \"identity\",<br>      \"trend\",<br>      \"seasonality\"<br>    ],<br>    \"mlp_units\": [<br>      [<br>        32,<br>        32<br>      ],<br>      [<br>        32,<br>        32<br>      ],<br>      [<br>        32,<br>        32<br>      ]<br>    ],<br>    \"learning_rate\": 0.001127190815263976,<br>    \"scaler_type\": null,<br>    \"max_steps\": 500,<br>    \"batch_size\": 64,<br>    \"windows_batch_size\": 512,<br>    \"random_seed\": 8,<br>    \"nr_experts\": 2,<br>    \"top_k\": 2,<br>    \"input_size\": 36,<br>    \"step_size\": 18<br>  },<br>  \"user_attrs\": {<br>    \"ALL_PARAMS\": {<br>      \"h\": 18,<br>      \"stack_types\": [<br>        \"identity\",<br>        \"trend\",<br>        \"seasonality\"<br>      ],<br>      \"mlp_units\": [<br>        [<br>          32,<br>          32<br>        ],<br>        [<br>          32,<br>          32<br>        ],<br>        [<br>          32,<br>          32<br>        ]<br>      ],<br>      \"learning_rate\": 0.001127190815263976,<br>      \"scaler_type\": null,<br>      \"max_steps\": 500,<br>      \"batch_size\": 64,<br>      \"windows_batch_size\": 512,<br>      \"random_seed\": 8,<br>      \"nr_experts\": 2,<br>      \"top_k\": 2,<br>      \"input_size\": 36,<br>      \"step_size\": 18<br>    },<br>    \"METRICS\": {<br>      \"loss\": 704.5496215820312,<br>      \"train_loss\": 529.3162231445312<br>    }<br>  }<br>}",
          "{<br>  \"number\": 5,<br>  \"values\": [<br>    773.0947265625<br>  ],<br>  \"params\": {<br>    \"stack_types\": [<br>      \"identity\",<br>      \"trend\"<br>    ],<br>    \"mlp_units\": [<br>      [<br>        32,<br>        32<br>      ],<br>      [<br>        32,<br>        32<br>      ],<br>      [<br>        32,<br>        32<br>      ]<br>    ],<br>    \"learning_rate\": 0.0030033348247970834,<br>    \"scaler_type\": \"robust\",<br>    \"max_steps\": 5000,<br>    \"batch_size\": 128,<br>    \"windows_batch_size\": 512,<br>    \"random_seed\": 6,<br>    \"nr_experts\": 2,<br>    \"top_k\": 2,<br>    \"input_size\": 90,<br>    \"step_size\": 1<br>  },<br>  \"user_attrs\": {<br>    \"ALL_PARAMS\": {<br>      \"h\": 18,<br>      \"stack_types\": [<br>        \"identity\",<br>        \"trend\"<br>      ],<br>      \"mlp_units\": [<br>        [<br>          32,<br>          32<br>        ],<br>        [<br>          32,<br>          32<br>        ],<br>        [<br>          32,<br>          32<br>        ]<br>      ],<br>      \"learning_rate\": 0.0030033348247970834,<br>      \"scaler_type\": \"robust\",<br>      \"max_steps\": 5000,<br>      \"batch_size\": 128,<br>      \"windows_batch_size\": 512,<br>      \"random_seed\": 6,<br>      \"nr_experts\": 2,<br>      \"top_k\": 2,<br>      \"input_size\": 90,<br>      \"step_size\": 1<br>    },<br>    \"METRICS\": {<br>      \"loss\": 773.0947265625,<br>      \"train_loss\": 0.7770071029663086<br>    }<br>  }<br>}",
          "{<br>  \"number\": 6,<br>  \"values\": [<br>    699.616943359375<br>  ],<br>  \"params\": {<br>    \"stack_types\": [<br>      \"identity\",<br>      \"trend\",<br>      \"seasonality\"<br>    ],<br>    \"mlp_units\": [<br>      [<br>        4,<br>        4<br>      ],<br>      [<br>        4,<br>        4<br>      ],<br>      [<br>        4,<br>        4<br>      ]<br>    ],<br>    \"learning_rate\": 0.013476882502117836,<br>    \"scaler_type\": null,<br>    \"max_steps\": 1000,<br>    \"batch_size\": 256,<br>    \"windows_batch_size\": 256,<br>    \"random_seed\": 11,<br>    \"nr_experts\": 2,<br>    \"top_k\": 8,<br>    \"input_size\": 36,<br>    \"step_size\": 18<br>  },<br>  \"user_attrs\": {<br>    \"ALL_PARAMS\": {<br>      \"h\": 18,<br>      \"stack_types\": [<br>        \"identity\",<br>        \"trend\",<br>        \"seasonality\"<br>      ],<br>      \"mlp_units\": [<br>        [<br>          4,<br>          4<br>        ],<br>        [<br>          4,<br>          4<br>        ],<br>        [<br>          4,<br>          4<br>        ]<br>      ],<br>      \"learning_rate\": 0.013476882502117836,<br>      \"scaler_type\": null,<br>      \"max_steps\": 1000,<br>      \"batch_size\": 256,<br>      \"windows_batch_size\": 256,<br>      \"random_seed\": 11,<br>      \"nr_experts\": 2,<br>      \"top_k\": 8,<br>      \"input_size\": 36,<br>      \"step_size\": 18<br>    },<br>    \"METRICS\": {<br>      \"loss\": 699.616943359375,<br>      \"train_loss\": 556.4986572265625<br>    }<br>  }<br>}",
          "{<br>  \"number\": 7,<br>  \"values\": [<br>    671.228759765625<br>  ],<br>  \"params\": {<br>    \"stack_types\": [<br>      \"identity\",<br>      \"trend\"<br>    ],<br>    \"mlp_units\": [<br>      [<br>        16,<br>        16<br>      ],<br>      [<br>        16,<br>        16<br>      ],<br>      [<br>        16,<br>        16<br>      ]<br>    ],<br>    \"learning_rate\": 0.0012905044970194842,<br>    \"scaler_type\": \"standard\",<br>    \"max_steps\": 5000,<br>    \"batch_size\": 64,<br>    \"windows_batch_size\": 128,<br>    \"random_seed\": 8,<br>    \"nr_experts\": 2,<br>    \"top_k\": 16,<br>    \"input_size\": 54,<br>    \"step_size\": 1<br>  },<br>  \"user_attrs\": {<br>    \"ALL_PARAMS\": {<br>      \"h\": 18,<br>      \"stack_types\": [<br>        \"identity\",<br>        \"trend\"<br>      ],<br>      \"mlp_units\": [<br>        [<br>          16,<br>          16<br>        ],<br>        [<br>          16,<br>          16<br>        ],<br>        [<br>          16,<br>          16<br>        ]<br>      ],<br>      \"learning_rate\": 0.0012905044970194842,<br>      \"scaler_type\": \"standard\",<br>      \"max_steps\": 5000,<br>      \"batch_size\": 64,<br>      \"windows_batch_size\": 128,<br>      \"random_seed\": 8,<br>      \"nr_experts\": 2,<br>      \"top_k\": 16,<br>      \"input_size\": 54,<br>      \"step_size\": 1<br>    },<br>    \"METRICS\": {<br>      \"loss\": 671.228759765625,<br>      \"train_loss\": 7.032589435577393<br>    }<br>  }<br>}",
          "{<br>  \"number\": 8,<br>  \"values\": [<br>    862.3060913085938<br>  ],<br>  \"params\": {<br>    \"stack_types\": [<br>      \"identity\",<br>      \"trend\"<br>    ],<br>    \"mlp_units\": [<br>      [<br>        16,<br>        16<br>      ],<br>      [<br>        16,<br>        16<br>      ],<br>      [<br>        16,<br>        16<br>      ]<br>    ],<br>    \"learning_rate\": 0.07046300250856881,<br>    \"scaler_type\": \"robust\",<br>    \"max_steps\": 1000,<br>    \"batch_size\": 32,<br>    \"windows_batch_size\": 256,<br>    \"random_seed\": 20,<br>    \"nr_experts\": 2,<br>    \"top_k\": 16,<br>    \"input_size\": 36,<br>    \"step_size\": 18<br>  },<br>  \"user_attrs\": {<br>    \"ALL_PARAMS\": {<br>      \"h\": 18,<br>      \"stack_types\": [<br>        \"identity\",<br>        \"trend\"<br>      ],<br>      \"mlp_units\": [<br>        [<br>          16,<br>          16<br>        ],<br>        [<br>          16,<br>          16<br>        ],<br>        [<br>          16,<br>          16<br>        ]<br>      ],<br>      \"learning_rate\": 0.07046300250856881,<br>      \"scaler_type\": \"robust\",<br>      \"max_steps\": 1000,<br>      \"batch_size\": 32,<br>      \"windows_batch_size\": 256,<br>      \"random_seed\": 20,<br>      \"nr_experts\": 2,<br>      \"top_k\": 16,<br>      \"input_size\": 36,<br>      \"step_size\": 18<br>    },<br>    \"METRICS\": {<br>      \"loss\": 862.3060913085938,<br>      \"train_loss\": 2.7790091037750244<br>    }<br>  }<br>}",
          "{<br>  \"number\": 9,<br>  \"values\": [<br>    802.54931640625<br>  ],<br>  \"params\": {<br>    \"stack_types\": [<br>      \"identity\",<br>      \"trend\"<br>    ],<br>    \"mlp_units\": [<br>      [<br>        32,<br>        32<br>      ],<br>      [<br>        32,<br>        32<br>      ],<br>      [<br>        32,<br>        32<br>      ]<br>    ],<br>    \"learning_rate\": 0.06318557020013556,<br>    \"scaler_type\": null,<br>    \"max_steps\": 500,<br>    \"batch_size\": 256,<br>    \"windows_batch_size\": 128,<br>    \"random_seed\": 7,<br>    \"nr_experts\": 16,<br>    \"top_k\": 4,<br>    \"input_size\": 90,<br>    \"step_size\": 1<br>  },<br>  \"user_attrs\": {<br>    \"ALL_PARAMS\": {<br>      \"h\": 18,<br>      \"stack_types\": [<br>        \"identity\",<br>        \"trend\"<br>      ],<br>      \"mlp_units\": [<br>        [<br>          32,<br>          32<br>        ],<br>        [<br>          32,<br>          32<br>        ],<br>        [<br>          32,<br>          32<br>        ]<br>      ],<br>      \"learning_rate\": 0.06318557020013556,<br>      \"scaler_type\": null,<br>      \"max_steps\": 500,<br>      \"batch_size\": 256,<br>      \"windows_batch_size\": 128,<br>      \"random_seed\": 7,<br>      \"nr_experts\": 16,<br>      \"top_k\": 4,<br>      \"input_size\": 90,<br>      \"step_size\": 1<br>    },<br>    \"METRICS\": {<br>      \"loss\": 802.54931640625,<br>      \"train_loss\": 688.884765625<br>    }<br>  }<br>}",
          "{<br>  \"number\": 11,<br>  \"values\": [<br>    691.5285034179688<br>  ],<br>  \"params\": {<br>    \"stack_types\": [<br>      \"identity\",<br>      \"trend\",<br>      \"seasonality\"<br>    ],<br>    \"mlp_units\": [<br>      [<br>        8,<br>        8<br>      ],<br>      [<br>        8,<br>        8<br>      ],<br>      [<br>        8,<br>        8<br>      ]<br>    ],<br>    \"learning_rate\": 0.00010020095416949909,<br>    \"scaler_type\": \"standard\",<br>    \"max_steps\": 5000,<br>    \"batch_size\": 128,<br>    \"windows_batch_size\": 1024,<br>    \"random_seed\": 18,<br>    \"nr_experts\": 4,<br>    \"top_k\": 8,<br>    \"input_size\": 72,<br>    \"step_size\": 1<br>  },<br>  \"user_attrs\": {<br>    \"ALL_PARAMS\": {<br>      \"h\": 18,<br>      \"stack_types\": [<br>        \"identity\",<br>        \"trend\",<br>        \"seasonality\"<br>      ],<br>      \"mlp_units\": [<br>        [<br>          8,<br>          8<br>        ],<br>        [<br>          8,<br>          8<br>        ],<br>        [<br>          8,<br>          8<br>        ]<br>      ],<br>      \"learning_rate\": 0.00010020095416949909,<br>      \"scaler_type\": \"standard\",<br>      \"max_steps\": 5000,<br>      \"batch_size\": 128,<br>      \"windows_batch_size\": 1024,<br>      \"random_seed\": 18,<br>      \"nr_experts\": 4,<br>      \"top_k\": 8,<br>      \"input_size\": 72,<br>      \"step_size\": 1<br>    },<br>    \"METRICS\": {<br>      \"loss\": 691.5285034179688,<br>      \"train_loss\": 10.743629455566406<br>    }<br>  }<br>}",
          "{<br>  \"number\": 12,<br>  \"values\": [<br>    642.6854248046875<br>  ],<br>  \"params\": {<br>    \"stack_types\": [<br>      \"identity\",<br>      \"trend\"<br>    ],<br>    \"mlp_units\": [<br>      [<br>        16,<br>        16<br>      ],<br>      [<br>        16,<br>        16<br>      ],<br>      [<br>        16,<br>        16<br>      ]<br>    ],<br>    \"learning_rate\": 0.006146404908330783,<br>    \"scaler_type\": \"standard\",<br>    \"max_steps\": 5000,<br>    \"batch_size\": 128,<br>    \"windows_batch_size\": 128,<br>    \"random_seed\": 16,<br>    \"nr_experts\": 4,<br>    \"top_k\": 16,<br>    \"input_size\": 54,<br>    \"step_size\": 1<br>  },<br>  \"user_attrs\": {<br>    \"ALL_PARAMS\": {<br>      \"h\": 18,<br>      \"stack_types\": [<br>        \"identity\",<br>        \"trend\"<br>      ],<br>      \"mlp_units\": [<br>        [<br>          16,<br>          16<br>        ],<br>        [<br>          16,<br>          16<br>        ],<br>        [<br>          16,<br>          16<br>        ]<br>      ],<br>      \"learning_rate\": 0.006146404908330783,<br>      \"scaler_type\": \"standard\",<br>      \"max_steps\": 5000,<br>      \"batch_size\": 128,<br>      \"windows_batch_size\": 128,<br>      \"random_seed\": 16,<br>      \"nr_experts\": 4,<br>      \"top_k\": 16,<br>      \"input_size\": 54,<br>      \"step_size\": 1<br>    },<br>    \"METRICS\": {<br>      \"loss\": 642.6854248046875,<br>      \"train_loss\": 11.049762725830078<br>    }<br>  }<br>}",
          "{<br>  \"number\": 13,<br>  \"values\": [<br>    646.3319702148438<br>  ],<br>  \"params\": {<br>    \"stack_types\": [<br>      \"identity\",<br>      \"trend\"<br>    ],<br>    \"mlp_units\": [<br>      [<br>        8,<br>        8<br>      ],<br>      [<br>        8,<br>        8<br>      ],<br>      [<br>        8,<br>        8<br>      ]<br>    ],<br>    \"learning_rate\": 0.010159660496643613,<br>    \"scaler_type\": \"standard\",<br>    \"max_steps\": 5000,<br>    \"batch_size\": 128,<br>    \"windows_batch_size\": 128,<br>    \"random_seed\": 15,<br>    \"nr_experts\": 4,<br>    \"top_k\": 8,<br>    \"input_size\": 54,<br>    \"step_size\": 1<br>  },<br>  \"user_attrs\": {<br>    \"ALL_PARAMS\": {<br>      \"h\": 18,<br>      \"stack_types\": [<br>        \"identity\",<br>        \"trend\"<br>      ],<br>      \"mlp_units\": [<br>        [<br>          8,<br>          8<br>        ],<br>        [<br>          8,<br>          8<br>        ],<br>        [<br>          8,<br>          8<br>        ]<br>      ],<br>      \"learning_rate\": 0.010159660496643613,<br>      \"scaler_type\": \"standard\",<br>      \"max_steps\": 5000,<br>      \"batch_size\": 128,<br>      \"windows_batch_size\": 128,<br>      \"random_seed\": 15,<br>      \"nr_experts\": 4,<br>      \"top_k\": 8,<br>      \"input_size\": 54,<br>      \"step_size\": 1<br>    },<br>    \"METRICS\": {<br>      \"loss\": 646.3319702148438,<br>      \"train_loss\": 6.890422344207764<br>    }<br>  }<br>}",
          "{<br>  \"number\": 15,<br>  \"values\": [<br>    691.064453125<br>  ],<br>  \"params\": {<br>    \"stack_types\": [<br>      \"identity\",<br>      \"trend\"<br>    ],<br>    \"mlp_units\": [<br>      [<br>        128,<br>        128<br>      ],<br>      [<br>        128,<br>        128<br>      ],<br>      [<br>        128,<br>        128<br>      ]<br>    ],<br>    \"learning_rate\": 0.011874699186061207,<br>    \"scaler_type\": \"standard\",<br>    \"max_steps\": 5000,<br>    \"batch_size\": 128,<br>    \"windows_batch_size\": 128,<br>    \"random_seed\": 14,<br>    \"nr_experts\": 4,<br>    \"top_k\": 16,<br>    \"input_size\": 54,<br>    \"step_size\": 1<br>  },<br>  \"user_attrs\": {<br>    \"ALL_PARAMS\": {<br>      \"h\": 18,<br>      \"stack_types\": [<br>        \"identity\",<br>        \"trend\"<br>      ],<br>      \"mlp_units\": [<br>        [<br>          128,<br>          128<br>        ],<br>        [<br>          128,<br>          128<br>        ],<br>        [<br>          128,<br>          128<br>        ]<br>      ],<br>      \"learning_rate\": 0.011874699186061207,<br>      \"scaler_type\": \"standard\",<br>      \"max_steps\": 5000,<br>      \"batch_size\": 128,<br>      \"windows_batch_size\": 128,<br>      \"random_seed\": 14,<br>      \"nr_experts\": 4,<br>      \"top_k\": 16,<br>      \"input_size\": 54,<br>      \"step_size\": 1<br>    },<br>    \"METRICS\": {<br>      \"loss\": 691.064453125,<br>      \"train_loss\": 12.24218463897705<br>    }<br>  }<br>}",
          "{<br>  \"number\": 16,<br>  \"values\": [<br>    848.1317749023438<br>  ],<br>  \"params\": {<br>    \"stack_types\": [<br>      \"identity\",<br>      \"trend\"<br>    ],<br>    \"mlp_units\": [<br>      [<br>        1024,<br>        1024<br>      ],<br>      [<br>        1024,<br>        1024<br>      ],<br>      [<br>        1024,<br>        1024<br>      ]<br>    ],<br>    \"learning_rate\": 0.012585647878705898,<br>    \"scaler_type\": \"minmax\",<br>    \"max_steps\": 5000,<br>    \"batch_size\": 128,<br>    \"windows_batch_size\": 128,<br>    \"random_seed\": 15,<br>    \"nr_experts\": 4,<br>    \"top_k\": 8,<br>    \"input_size\": 54,<br>    \"step_size\": 1<br>  },<br>  \"user_attrs\": {<br>    \"ALL_PARAMS\": {<br>      \"h\": 18,<br>      \"stack_types\": [<br>        \"identity\",<br>        \"trend\"<br>      ],<br>      \"mlp_units\": [<br>        [<br>          1024,<br>          1024<br>        ],<br>        [<br>          1024,<br>          1024<br>        ],<br>        [<br>          1024,<br>          1024<br>        ]<br>      ],<br>      \"learning_rate\": 0.012585647878705898,<br>      \"scaler_type\": \"minmax\",<br>      \"max_steps\": 5000,<br>      \"batch_size\": 128,<br>      \"windows_batch_size\": 128,<br>      \"random_seed\": 15,<br>      \"nr_experts\": 4,<br>      \"top_k\": 8,<br>      \"input_size\": 54,<br>      \"step_size\": 1<br>    },<br>    \"METRICS\": {<br>      \"loss\": 848.1317749023438,<br>      \"train_loss\": 8.256481170654297<br>    }<br>  }<br>}",
          "{<br>  \"number\": 17,<br>  \"values\": [<br>    653.6649780273438<br>  ],<br>  \"params\": {<br>    \"stack_types\": [<br>      \"identity\",<br>      \"trend\"<br>    ],<br>    \"mlp_units\": [<br>      [<br>        8,<br>        8<br>      ],<br>      [<br>        8,<br>        8<br>      ],<br>      [<br>        8,<br>        8<br>      ]<br>    ],<br>    \"learning_rate\": 0.006892403261395654,<br>    \"scaler_type\": \"standard\",<br>    \"max_steps\": 500,<br>    \"batch_size\": 128,<br>    \"windows_batch_size\": 128,<br>    \"random_seed\": 14,<br>    \"nr_experts\": 16,<br>    \"top_k\": 16,<br>    \"input_size\": 54,<br>    \"step_size\": 1<br>  },<br>  \"user_attrs\": {<br>    \"ALL_PARAMS\": {<br>      \"h\": 18,<br>      \"stack_types\": [<br>        \"identity\",<br>        \"trend\"<br>      ],<br>      \"mlp_units\": [<br>        [<br>          8,<br>          8<br>        ],<br>        [<br>          8,<br>          8<br>        ],<br>        [<br>          8,<br>          8<br>        ]<br>      ],<br>      \"learning_rate\": 0.006892403261395654,<br>      \"scaler_type\": \"standard\",<br>      \"max_steps\": 500,<br>      \"batch_size\": 128,<br>      \"windows_batch_size\": 128,<br>      \"random_seed\": 14,<br>      \"nr_experts\": 16,<br>      \"top_k\": 16,<br>      \"input_size\": 54,<br>      \"step_size\": 1<br>    },<br>    \"METRICS\": {<br>      \"loss\": 653.6649780273438,<br>      \"train_loss\": 12.044931411743164<br>    }<br>  }<br>}",
          "{<br>  \"number\": 18,<br>  \"values\": [<br>    762.8816528320312<br>  ],<br>  \"params\": {<br>    \"stack_types\": [<br>      \"identity\",<br>      \"trend\"<br>    ],<br>    \"mlp_units\": [<br>      [<br>        256,<br>        256<br>      ],<br>      [<br>        256,<br>        256<br>      ],<br>      [<br>        256,<br>        256<br>      ]<br>    ],<br>    \"learning_rate\": 0.006024484665662051,<br>    \"scaler_type\": \"standard\",<br>    \"max_steps\": 5000,<br>    \"batch_size\": 128,<br>    \"windows_batch_size\": 1024,<br>    \"random_seed\": 17,<br>    \"nr_experts\": 4,<br>    \"top_k\": 4,<br>    \"input_size\": 54,<br>    \"step_size\": 1<br>  },<br>  \"user_attrs\": {<br>    \"ALL_PARAMS\": {<br>      \"h\": 18,<br>      \"stack_types\": [<br>        \"identity\",<br>        \"trend\"<br>      ],<br>      \"mlp_units\": [<br>        [<br>          256,<br>          256<br>        ],<br>        [<br>          256,<br>          256<br>        ],<br>        [<br>          256,<br>          256<br>        ]<br>      ],<br>      \"learning_rate\": 0.006024484665662051,<br>      \"scaler_type\": \"standard\",<br>      \"max_steps\": 5000,<br>      \"batch_size\": 128,<br>      \"windows_batch_size\": 1024,<br>      \"random_seed\": 17,<br>      \"nr_experts\": 4,<br>      \"top_k\": 4,<br>      \"input_size\": 54,<br>      \"step_size\": 1<br>    },<br>    \"METRICS\": {<br>      \"loss\": 762.8816528320312,<br>      \"train_loss\": 11.472053527832031<br>    }<br>  }<br>}",
          "{<br>  \"number\": 19,<br>  \"values\": [<br>    679.8352661132812<br>  ],<br>  \"params\": {<br>    \"stack_types\": [<br>      \"identity\",<br>      \"trend\"<br>    ],<br>    \"mlp_units\": [<br>      [<br>        16,<br>        16<br>      ],<br>      [<br>        16,<br>        16<br>      ],<br>      [<br>        16,<br>        16<br>      ]<br>    ],<br>    \"learning_rate\": 0.03036816581851595,<br>    \"scaler_type\": \"standard\",<br>    \"max_steps\": 5000,<br>    \"batch_size\": 128,<br>    \"windows_batch_size\": 128,<br>    \"random_seed\": 20,<br>    \"nr_experts\": 4,<br>    \"top_k\": 2,<br>    \"input_size\": 18,<br>    \"step_size\": 1<br>  },<br>  \"user_attrs\": {<br>    \"ALL_PARAMS\": {<br>      \"h\": 18,<br>      \"stack_types\": [<br>        \"identity\",<br>        \"trend\"<br>      ],<br>      \"mlp_units\": [<br>        [<br>          16,<br>          16<br>        ],<br>        [<br>          16,<br>          16<br>        ],<br>        [<br>          16,<br>          16<br>        ]<br>      ],<br>      \"learning_rate\": 0.03036816581851595,<br>      \"scaler_type\": \"standard\",<br>      \"max_steps\": 5000,<br>      \"batch_size\": 128,<br>      \"windows_batch_size\": 128,<br>      \"random_seed\": 20,<br>      \"nr_experts\": 4,<br>      \"top_k\": 2,<br>      \"input_size\": 18,<br>      \"step_size\": 1<br>    },<br>    \"METRICS\": {<br>      \"loss\": 679.8352661132812,<br>      \"train_loss\": 4.465137481689453<br>    }<br>  }<br>}",
          "{<br>  \"number\": 20,<br>  \"values\": [<br>    837.36376953125<br>  ],<br>  \"params\": {<br>    \"stack_types\": [<br>      \"identity\",<br>      \"trend\"<br>    ],<br>    \"mlp_units\": [<br>      [<br>        256,<br>        256<br>      ],<br>      [<br>        256,<br>        256<br>      ],<br>      [<br>        256,<br>        256<br>      ]<br>    ],<br>    \"learning_rate\": 0.02777332831255977,<br>    \"scaler_type\": \"minmax\",<br>    \"max_steps\": 500,<br>    \"batch_size\": 256,<br>    \"windows_batch_size\": 128,<br>    \"random_seed\": 13,<br>    \"nr_experts\": 4,<br>    \"top_k\": 16,<br>    \"input_size\": 72,<br>    \"step_size\": 18<br>  },<br>  \"user_attrs\": {<br>    \"ALL_PARAMS\": {<br>      \"h\": 18,<br>      \"stack_types\": [<br>        \"identity\",<br>        \"trend\"<br>      ],<br>      \"mlp_units\": [<br>        [<br>          256,<br>          256<br>        ],<br>        [<br>          256,<br>          256<br>        ],<br>        [<br>          256,<br>          256<br>        ]<br>      ],<br>      \"learning_rate\": 0.02777332831255977,<br>      \"scaler_type\": \"minmax\",<br>      \"max_steps\": 500,<br>      \"batch_size\": 256,<br>      \"windows_batch_size\": 128,<br>      \"random_seed\": 13,<br>      \"nr_experts\": 4,<br>      \"top_k\": 16,<br>      \"input_size\": 72,<br>      \"step_size\": 18<br>    },<br>    \"METRICS\": {<br>      \"loss\": 837.36376953125,<br>      \"train_loss\": 0.2606201469898224<br>    }<br>  }<br>}",
          "{<br>  \"number\": 21,<br>  \"values\": [<br>    766.0140380859375<br>  ],<br>  \"params\": {<br>    \"stack_types\": [<br>      \"identity\",<br>      \"trend\"<br>    ],<br>    \"mlp_units\": [<br>      [<br>        4,<br>        4<br>      ],<br>      [<br>        4,<br>        4<br>      ],<br>      [<br>        4,<br>        4<br>      ]<br>    ],<br>    \"learning_rate\": 0.0003009486284640884,<br>    \"scaler_type\": \"standard\",<br>    \"max_steps\": 1000,<br>    \"batch_size\": 32,<br>    \"windows_batch_size\": 128,<br>    \"random_seed\": 16,<br>    \"nr_experts\": 16,<br>    \"top_k\": 8,<br>    \"input_size\": 54,<br>    \"step_size\": 1<br>  },<br>  \"user_attrs\": {<br>    \"ALL_PARAMS\": {<br>      \"h\": 18,<br>      \"stack_types\": [<br>        \"identity\",<br>        \"trend\"<br>      ],<br>      \"mlp_units\": [<br>        [<br>          4,<br>          4<br>        ],<br>        [<br>          4,<br>          4<br>        ],<br>        [<br>          4,<br>          4<br>        ]<br>      ],<br>      \"learning_rate\": 0.0003009486284640884,<br>      \"scaler_type\": \"standard\",<br>      \"max_steps\": 1000,<br>      \"batch_size\": 32,<br>      \"windows_batch_size\": 128,<br>      \"random_seed\": 16,<br>      \"nr_experts\": 16,<br>      \"top_k\": 8,<br>      \"input_size\": 54,<br>      \"step_size\": 1<br>    },<br>    \"METRICS\": {<br>      \"loss\": 766.0140380859375,<br>      \"train_loss\": 17.616622924804688<br>    }<br>  }<br>}"
         ],
         "textposition": "none",
         "type": "bar",
         "x": [
          535250.0619999999,
          273710.17,
          438963.393,
          60089.366,
          16435.722999999998,
          163654.215,
          39630.756,
          134911.14099999997,
          29015.165,
          44710.279,
          286128.75,
          203075.37600000002,
          194060.62900000002,
          202580.32700000002,
          527783.769,
          50625.903,
          269455.359,
          200595.154,
          29502.634000000002,
          119170.973
         ],
         "y": [
          0,
          1,
          2,
          3,
          4,
          5,
          6,
          7,
          8,
          9,
          11,
          12,
          13,
          15,
          16,
          17,
          18,
          19,
          20,
          21
         ]
        },
        {
         "base": [
          "2025-03-18T17:14:56.107878"
         ],
         "hovertemplate": "%{text}<extra>FAIL</extra>",
         "marker": {
          "color": "red"
         },
         "name": "FAIL",
         "orientation": "h",
         "text": [
          "{<br>  \"number\": 23,<br>  \"values\": null,<br>  \"params\": {<br>    \"stack_types\": [<br>      \"identity\",<br>      \"trend\"<br>    ],<br>    \"mlp_units\": [<br>      [<br>        1024,<br>        1024<br>      ],<br>      [<br>        1024,<br>        1024<br>      ],<br>      [<br>        1024,<br>        1024<br>      ]<br>    ],<br>    \"learning_rate\": 0.027088290442660735,<br>    \"scaler_type\": \"standard\",<br>    \"max_steps\": 5000,<br>    \"batch_size\": 128,<br>    \"windows_batch_size\": 1024,<br>    \"random_seed\": 10,<br>    \"nr_experts\": 8<br>  }<br>}"
         ],
         "textposition": "none",
         "type": "bar",
         "x": [
          286.216
         ],
         "y": [
          23
         ]
        },
        {
         "base": [
          "2025-03-18T16:13:13.149670",
          "2025-03-18T16:25:18.893052",
          "2025-03-18T16:49:03.551709"
         ],
         "hovertemplate": "%{text}<extra>RUNNING</extra>",
         "marker": {
          "color": "green"
         },
         "name": "RUNNING",
         "orientation": "h",
         "text": [
          "{<br>  \"number\": 10,<br>  \"values\": null,<br>  \"params\": {<br>    \"stack_types\": [<br>      \"identity\",<br>      \"trend\",<br>      \"seasonality\"<br>    ],<br>    \"mlp_units\": [<br>      [<br>        8,<br>        8<br>      ],<br>      [<br>        8,<br>        8<br>      ],<br>      [<br>        8,<br>        8<br>      ]<br>    ],<br>    \"learning_rate\": 0.00011153138903761713,<br>    \"scaler_type\": \"standard\",<br>    \"max_steps\": 5000,<br>    \"batch_size\": 128,<br>    \"windows_batch_size\": 1024,<br>    \"random_seed\": 18,<br>    \"nr_experts\": 4,<br>    \"top_k\": 8,<br>    \"input_size\": 72,<br>    \"step_size\": 1<br>  }<br>}",
          "{<br>  \"number\": 14,<br>  \"values\": null,<br>  \"params\": {<br>    \"stack_types\": [<br>      \"identity\",<br>      \"trend\"<br>    ],<br>    \"mlp_units\": [<br>      [<br>        256,<br>        256<br>      ],<br>      [<br>        256,<br>        256<br>      ],<br>      [<br>        256,<br>        256<br>      ]<br>    ],<br>    \"learning_rate\": 0.011537855008197196,<br>    \"scaler_type\": \"standard\",<br>    \"max_steps\": 5000,<br>    \"batch_size\": 128,<br>    \"windows_batch_size\": 128,<br>    \"random_seed\": 14,<br>    \"nr_experts\": 4,<br>    \"top_k\": 16,<br>    \"input_size\": 54,<br>    \"step_size\": 1<br>  }<br>}",
          "{<br>  \"number\": 22,<br>  \"values\": null,<br>  \"params\": {<br>    \"stack_types\": [<br>      \"identity\",<br>      \"trend\"<br>    ],<br>    \"mlp_units\": [<br>      [<br>        1024,<br>        1024<br>      ],<br>      [<br>        1024,<br>        1024<br>      ],<br>      [<br>        1024,<br>        1024<br>      ]<br>    ],<br>    \"learning_rate\": 0.005840400344232055,<br>    \"scaler_type\": \"standard\",<br>    \"max_steps\": 5000,<br>    \"batch_size\": 128,<br>    \"windows_batch_size\": 1024,<br>    \"random_seed\": 10,<br>    \"nr_experts\": 8,<br>    \"top_k\": 8,<br>    \"input_size\": 54,<br>    \"step_size\": 1<br>  }<br>}"
         ],
         "textposition": "none",
         "type": "bar",
         "x": [
          3704244.424,
          2978501.042,
          1553842.385
         ],
         "y": [
          10,
          14,
          22
         ]
        }
       ],
       "layout": {
        "showlegend": true,
        "template": {
         "data": {
          "bar": [
           {
            "error_x": {
             "color": "#2a3f5f"
            },
            "error_y": {
             "color": "#2a3f5f"
            },
            "marker": {
             "line": {
              "color": "#E5ECF6",
              "width": 0.5
             },
             "pattern": {
              "fillmode": "overlay",
              "size": 10,
              "solidity": 0.2
             }
            },
            "type": "bar"
           }
          ],
          "barpolar": [
           {
            "marker": {
             "line": {
              "color": "#E5ECF6",
              "width": 0.5
             },
             "pattern": {
              "fillmode": "overlay",
              "size": 10,
              "solidity": 0.2
             }
            },
            "type": "barpolar"
           }
          ],
          "carpet": [
           {
            "aaxis": {
             "endlinecolor": "#2a3f5f",
             "gridcolor": "white",
             "linecolor": "white",
             "minorgridcolor": "white",
             "startlinecolor": "#2a3f5f"
            },
            "baxis": {
             "endlinecolor": "#2a3f5f",
             "gridcolor": "white",
             "linecolor": "white",
             "minorgridcolor": "white",
             "startlinecolor": "#2a3f5f"
            },
            "type": "carpet"
           }
          ],
          "choropleth": [
           {
            "colorbar": {
             "outlinewidth": 0,
             "ticks": ""
            },
            "type": "choropleth"
           }
          ],
          "contour": [
           {
            "colorbar": {
             "outlinewidth": 0,
             "ticks": ""
            },
            "colorscale": [
             [
              0,
              "#0d0887"
             ],
             [
              0.1111111111111111,
              "#46039f"
             ],
             [
              0.2222222222222222,
              "#7201a8"
             ],
             [
              0.3333333333333333,
              "#9c179e"
             ],
             [
              0.4444444444444444,
              "#bd3786"
             ],
             [
              0.5555555555555556,
              "#d8576b"
             ],
             [
              0.6666666666666666,
              "#ed7953"
             ],
             [
              0.7777777777777778,
              "#fb9f3a"
             ],
             [
              0.8888888888888888,
              "#fdca26"
             ],
             [
              1,
              "#f0f921"
             ]
            ],
            "type": "contour"
           }
          ],
          "contourcarpet": [
           {
            "colorbar": {
             "outlinewidth": 0,
             "ticks": ""
            },
            "type": "contourcarpet"
           }
          ],
          "heatmap": [
           {
            "colorbar": {
             "outlinewidth": 0,
             "ticks": ""
            },
            "colorscale": [
             [
              0,
              "#0d0887"
             ],
             [
              0.1111111111111111,
              "#46039f"
             ],
             [
              0.2222222222222222,
              "#7201a8"
             ],
             [
              0.3333333333333333,
              "#9c179e"
             ],
             [
              0.4444444444444444,
              "#bd3786"
             ],
             [
              0.5555555555555556,
              "#d8576b"
             ],
             [
              0.6666666666666666,
              "#ed7953"
             ],
             [
              0.7777777777777778,
              "#fb9f3a"
             ],
             [
              0.8888888888888888,
              "#fdca26"
             ],
             [
              1,
              "#f0f921"
             ]
            ],
            "type": "heatmap"
           }
          ],
          "histogram": [
           {
            "marker": {
             "pattern": {
              "fillmode": "overlay",
              "size": 10,
              "solidity": 0.2
             }
            },
            "type": "histogram"
           }
          ],
          "histogram2d": [
           {
            "colorbar": {
             "outlinewidth": 0,
             "ticks": ""
            },
            "colorscale": [
             [
              0,
              "#0d0887"
             ],
             [
              0.1111111111111111,
              "#46039f"
             ],
             [
              0.2222222222222222,
              "#7201a8"
             ],
             [
              0.3333333333333333,
              "#9c179e"
             ],
             [
              0.4444444444444444,
              "#bd3786"
             ],
             [
              0.5555555555555556,
              "#d8576b"
             ],
             [
              0.6666666666666666,
              "#ed7953"
             ],
             [
              0.7777777777777778,
              "#fb9f3a"
             ],
             [
              0.8888888888888888,
              "#fdca26"
             ],
             [
              1,
              "#f0f921"
             ]
            ],
            "type": "histogram2d"
           }
          ],
          "histogram2dcontour": [
           {
            "colorbar": {
             "outlinewidth": 0,
             "ticks": ""
            },
            "colorscale": [
             [
              0,
              "#0d0887"
             ],
             [
              0.1111111111111111,
              "#46039f"
             ],
             [
              0.2222222222222222,
              "#7201a8"
             ],
             [
              0.3333333333333333,
              "#9c179e"
             ],
             [
              0.4444444444444444,
              "#bd3786"
             ],
             [
              0.5555555555555556,
              "#d8576b"
             ],
             [
              0.6666666666666666,
              "#ed7953"
             ],
             [
              0.7777777777777778,
              "#fb9f3a"
             ],
             [
              0.8888888888888888,
              "#fdca26"
             ],
             [
              1,
              "#f0f921"
             ]
            ],
            "type": "histogram2dcontour"
           }
          ],
          "mesh3d": [
           {
            "colorbar": {
             "outlinewidth": 0,
             "ticks": ""
            },
            "type": "mesh3d"
           }
          ],
          "parcoords": [
           {
            "line": {
             "colorbar": {
              "outlinewidth": 0,
              "ticks": ""
             }
            },
            "type": "parcoords"
           }
          ],
          "pie": [
           {
            "automargin": true,
            "type": "pie"
           }
          ],
          "scatter": [
           {
            "fillpattern": {
             "fillmode": "overlay",
             "size": 10,
             "solidity": 0.2
            },
            "type": "scatter"
           }
          ],
          "scatter3d": [
           {
            "line": {
             "colorbar": {
              "outlinewidth": 0,
              "ticks": ""
             }
            },
            "marker": {
             "colorbar": {
              "outlinewidth": 0,
              "ticks": ""
             }
            },
            "type": "scatter3d"
           }
          ],
          "scattercarpet": [
           {
            "marker": {
             "colorbar": {
              "outlinewidth": 0,
              "ticks": ""
             }
            },
            "type": "scattercarpet"
           }
          ],
          "scattergeo": [
           {
            "marker": {
             "colorbar": {
              "outlinewidth": 0,
              "ticks": ""
             }
            },
            "type": "scattergeo"
           }
          ],
          "scattergl": [
           {
            "marker": {
             "colorbar": {
              "outlinewidth": 0,
              "ticks": ""
             }
            },
            "type": "scattergl"
           }
          ],
          "scattermap": [
           {
            "marker": {
             "colorbar": {
              "outlinewidth": 0,
              "ticks": ""
             }
            },
            "type": "scattermap"
           }
          ],
          "scattermapbox": [
           {
            "marker": {
             "colorbar": {
              "outlinewidth": 0,
              "ticks": ""
             }
            },
            "type": "scattermapbox"
           }
          ],
          "scatterpolar": [
           {
            "marker": {
             "colorbar": {
              "outlinewidth": 0,
              "ticks": ""
             }
            },
            "type": "scatterpolar"
           }
          ],
          "scatterpolargl": [
           {
            "marker": {
             "colorbar": {
              "outlinewidth": 0,
              "ticks": ""
             }
            },
            "type": "scatterpolargl"
           }
          ],
          "scatterternary": [
           {
            "marker": {
             "colorbar": {
              "outlinewidth": 0,
              "ticks": ""
             }
            },
            "type": "scatterternary"
           }
          ],
          "surface": [
           {
            "colorbar": {
             "outlinewidth": 0,
             "ticks": ""
            },
            "colorscale": [
             [
              0,
              "#0d0887"
             ],
             [
              0.1111111111111111,
              "#46039f"
             ],
             [
              0.2222222222222222,
              "#7201a8"
             ],
             [
              0.3333333333333333,
              "#9c179e"
             ],
             [
              0.4444444444444444,
              "#bd3786"
             ],
             [
              0.5555555555555556,
              "#d8576b"
             ],
             [
              0.6666666666666666,
              "#ed7953"
             ],
             [
              0.7777777777777778,
              "#fb9f3a"
             ],
             [
              0.8888888888888888,
              "#fdca26"
             ],
             [
              1,
              "#f0f921"
             ]
            ],
            "type": "surface"
           }
          ],
          "table": [
           {
            "cells": {
             "fill": {
              "color": "#EBF0F8"
             },
             "line": {
              "color": "white"
             }
            },
            "header": {
             "fill": {
              "color": "#C8D4E3"
             },
             "line": {
              "color": "white"
             }
            },
            "type": "table"
           }
          ]
         },
         "layout": {
          "annotationdefaults": {
           "arrowcolor": "#2a3f5f",
           "arrowhead": 0,
           "arrowwidth": 1
          },
          "autotypenumbers": "strict",
          "coloraxis": {
           "colorbar": {
            "outlinewidth": 0,
            "ticks": ""
           }
          },
          "colorscale": {
           "diverging": [
            [
             0,
             "#8e0152"
            ],
            [
             0.1,
             "#c51b7d"
            ],
            [
             0.2,
             "#de77ae"
            ],
            [
             0.3,
             "#f1b6da"
            ],
            [
             0.4,
             "#fde0ef"
            ],
            [
             0.5,
             "#f7f7f7"
            ],
            [
             0.6,
             "#e6f5d0"
            ],
            [
             0.7,
             "#b8e186"
            ],
            [
             0.8,
             "#7fbc41"
            ],
            [
             0.9,
             "#4d9221"
            ],
            [
             1,
             "#276419"
            ]
           ],
           "sequential": [
            [
             0,
             "#0d0887"
            ],
            [
             0.1111111111111111,
             "#46039f"
            ],
            [
             0.2222222222222222,
             "#7201a8"
            ],
            [
             0.3333333333333333,
             "#9c179e"
            ],
            [
             0.4444444444444444,
             "#bd3786"
            ],
            [
             0.5555555555555556,
             "#d8576b"
            ],
            [
             0.6666666666666666,
             "#ed7953"
            ],
            [
             0.7777777777777778,
             "#fb9f3a"
            ],
            [
             0.8888888888888888,
             "#fdca26"
            ],
            [
             1,
             "#f0f921"
            ]
           ],
           "sequentialminus": [
            [
             0,
             "#0d0887"
            ],
            [
             0.1111111111111111,
             "#46039f"
            ],
            [
             0.2222222222222222,
             "#7201a8"
            ],
            [
             0.3333333333333333,
             "#9c179e"
            ],
            [
             0.4444444444444444,
             "#bd3786"
            ],
            [
             0.5555555555555556,
             "#d8576b"
            ],
            [
             0.6666666666666666,
             "#ed7953"
            ],
            [
             0.7777777777777778,
             "#fb9f3a"
            ],
            [
             0.8888888888888888,
             "#fdca26"
            ],
            [
             1,
             "#f0f921"
            ]
           ]
          },
          "colorway": [
           "#636efa",
           "#EF553B",
           "#00cc96",
           "#ab63fa",
           "#FFA15A",
           "#19d3f3",
           "#FF6692",
           "#B6E880",
           "#FF97FF",
           "#FECB52"
          ],
          "font": {
           "color": "#2a3f5f"
          },
          "geo": {
           "bgcolor": "white",
           "lakecolor": "white",
           "landcolor": "#E5ECF6",
           "showlakes": true,
           "showland": true,
           "subunitcolor": "white"
          },
          "hoverlabel": {
           "align": "left"
          },
          "hovermode": "closest",
          "mapbox": {
           "style": "light"
          },
          "paper_bgcolor": "white",
          "plot_bgcolor": "#E5ECF6",
          "polar": {
           "angularaxis": {
            "gridcolor": "white",
            "linecolor": "white",
            "ticks": ""
           },
           "bgcolor": "#E5ECF6",
           "radialaxis": {
            "gridcolor": "white",
            "linecolor": "white",
            "ticks": ""
           }
          },
          "scene": {
           "xaxis": {
            "backgroundcolor": "#E5ECF6",
            "gridcolor": "white",
            "gridwidth": 2,
            "linecolor": "white",
            "showbackground": true,
            "ticks": "",
            "zerolinecolor": "white"
           },
           "yaxis": {
            "backgroundcolor": "#E5ECF6",
            "gridcolor": "white",
            "gridwidth": 2,
            "linecolor": "white",
            "showbackground": true,
            "ticks": "",
            "zerolinecolor": "white"
           },
           "zaxis": {
            "backgroundcolor": "#E5ECF6",
            "gridcolor": "white",
            "gridwidth": 2,
            "linecolor": "white",
            "showbackground": true,
            "ticks": "",
            "zerolinecolor": "white"
           }
          },
          "shapedefaults": {
           "line": {
            "color": "#2a3f5f"
           }
          },
          "ternary": {
           "aaxis": {
            "gridcolor": "white",
            "linecolor": "white",
            "ticks": ""
           },
           "baxis": {
            "gridcolor": "white",
            "linecolor": "white",
            "ticks": ""
           },
           "bgcolor": "#E5ECF6",
           "caxis": {
            "gridcolor": "white",
            "linecolor": "white",
            "ticks": ""
           }
          },
          "title": {
           "x": 0.05
          },
          "xaxis": {
           "automargin": true,
           "gridcolor": "white",
           "linecolor": "white",
           "ticks": "",
           "title": {
            "standoff": 15
           },
           "zerolinecolor": "white",
           "zerolinewidth": 2
          },
          "yaxis": {
           "automargin": true,
           "gridcolor": "white",
           "linecolor": "white",
           "ticks": "",
           "title": {
            "standoff": 15
           },
           "zerolinecolor": "white",
           "zerolinewidth": 2
          }
         }
        },
        "title": {
         "text": "Timeline Plot"
        },
        "xaxis": {
         "title": {
          "text": "Datetime"
         },
         "type": "date"
        },
        "yaxis": {
         "title": {
          "text": "Trial"
         }
        }
       }
      },
      "text/html": [
       "<div>                        <script type=\"text/javascript\">window.PlotlyConfig = {MathJaxConfig: 'local'};</script>\n",
       "        <script charset=\"utf-8\" src=\"https://cdn.plot.ly/plotly-3.0.1.min.js\"></script>                <div id=\"fed5e5ec-98fb-4d0a-8191-c4becfb6dee1\" class=\"plotly-graph-div\" style=\"height:100%; width:100%;\"></div>            <script type=\"text/javascript\">                window.PLOTLYENV=window.PLOTLYENV || {};                                if (document.getElementById(\"fed5e5ec-98fb-4d0a-8191-c4becfb6dee1\")) {                    Plotly.newPlot(                        \"fed5e5ec-98fb-4d0a-8191-c4becfb6dee1\",                        [{\"base\":[\"2025-03-18T15:44:16.391042\",\"2025-03-18T15:53:11.699340\",\"2025-03-18T15:57:45.465008\",\"2025-03-18T16:05:04.466545\",\"2025-03-18T16:06:04.603624\",\"2025-03-18T16:06:21.058867\",\"2025-03-18T16:09:04.751826\",\"2025-03-18T16:09:44.424655\",\"2025-03-18T16:11:59.368822\",\"2025-03-18T16:12:28.405889\",\"2025-03-18T16:13:55.492567\",\"2025-03-18T16:18:41.670058\",\"2025-03-18T16:22:04.779274\",\"2025-03-18T16:25:43.523532\",\"2025-03-18T16:29:06.133419\",\"2025-03-18T16:37:53.952239\",\"2025-03-18T16:38:44.627591\",\"2025-03-18T16:43:14.142797\",\"2025-03-18T16:46:34.782873\",\"2025-03-18T16:47:04.343287\"],\"hovertemplate\":\"%{text}\\u003cextra\\u003eCOMPLETE\\u003c\\u002fextra\\u003e\",\"marker\":{\"color\":\"blue\"},\"name\":\"COMPLETE\",\"orientation\":\"h\",\"text\":[\"{\\u003cbr\\u003e  \\\"number\\\": 0,\\u003cbr\\u003e  \\\"values\\\": [\\u003cbr\\u003e    772.61767578125\\u003cbr\\u003e  ],\\u003cbr\\u003e  \\\"params\\\": {\\u003cbr\\u003e    \\\"stack_types\\\": [\\u003cbr\\u003e      \\\"identity\\\",\\u003cbr\\u003e      \\\"trend\\\"\\u003cbr\\u003e    ],\\u003cbr\\u003e    \\\"mlp_units\\\": [\\u003cbr\\u003e      [\\u003cbr\\u003e        512,\\u003cbr\\u003e        512\\u003cbr\\u003e      ],\\u003cbr\\u003e      [\\u003cbr\\u003e        512,\\u003cbr\\u003e        512\\u003cbr\\u003e      ],\\u003cbr\\u003e      [\\u003cbr\\u003e        512,\\u003cbr\\u003e        512\\u003cbr\\u003e      ]\\u003cbr\\u003e    ],\\u003cbr\\u003e    \\\"learning_rate\\\": 0.0005279266365389877,\\u003cbr\\u003e    \\\"scaler_type\\\": \\\"minmax\\\",\\u003cbr\\u003e    \\\"max_steps\\\": 5000,\\u003cbr\\u003e    \\\"batch_size\\\": 64,\\u003cbr\\u003e    \\\"windows_batch_size\\\": 512,\\u003cbr\\u003e    \\\"random_seed\\\": 3,\\u003cbr\\u003e    \\\"nr_experts\\\": 8,\\u003cbr\\u003e    \\\"top_k\\\": 4,\\u003cbr\\u003e    \\\"input_size\\\": 36,\\u003cbr\\u003e    \\\"step_size\\\": 18\\u003cbr\\u003e  },\\u003cbr\\u003e  \\\"user_attrs\\\": {\\u003cbr\\u003e    \\\"ALL_PARAMS\\\": {\\u003cbr\\u003e      \\\"h\\\": 18,\\u003cbr\\u003e      \\\"stack_types\\\": [\\u003cbr\\u003e        \\\"identity\\\",\\u003cbr\\u003e        \\\"trend\\\"\\u003cbr\\u003e      ],\\u003cbr\\u003e      \\\"mlp_units\\\": [\\u003cbr\\u003e        [\\u003cbr\\u003e          512,\\u003cbr\\u003e          512\\u003cbr\\u003e        ],\\u003cbr\\u003e        [\\u003cbr\\u003e          512,\\u003cbr\\u003e          512\\u003cbr\\u003e        ],\\u003cbr\\u003e        [\\u003cbr\\u003e          512,\\u003cbr\\u003e          512\\u003cbr\\u003e        ]\\u003cbr\\u003e      ],\\u003cbr\\u003e      \\\"learning_rate\\\": 0.0005279266365389877,\\u003cbr\\u003e      \\\"scaler_type\\\": \\\"minmax\\\",\\u003cbr\\u003e      \\\"max_steps\\\": 5000,\\u003cbr\\u003e      \\\"batch_size\\\": 64,\\u003cbr\\u003e      \\\"windows_batch_size\\\": 512,\\u003cbr\\u003e      \\\"random_seed\\\": 3,\\u003cbr\\u003e      \\\"nr_experts\\\": 8,\\u003cbr\\u003e      \\\"top_k\\\": 4,\\u003cbr\\u003e      \\\"input_size\\\": 36,\\u003cbr\\u003e      \\\"step_size\\\": 18\\u003cbr\\u003e    },\\u003cbr\\u003e    \\\"METRICS\\\": {\\u003cbr\\u003e      \\\"loss\\\": 772.61767578125,\\u003cbr\\u003e      \\\"train_loss\\\": 0.04782214015722275\\u003cbr\\u003e    }\\u003cbr\\u003e  }\\u003cbr\\u003e}\",\"{\\u003cbr\\u003e  \\\"number\\\": 1,\\u003cbr\\u003e  \\\"values\\\": [\\u003cbr\\u003e    649.74267578125\\u003cbr\\u003e  ],\\u003cbr\\u003e  \\\"params\\\": {\\u003cbr\\u003e    \\\"stack_types\\\": [\\u003cbr\\u003e      \\\"identity\\\",\\u003cbr\\u003e      \\\"trend\\\",\\u003cbr\\u003e      \\\"seasonality\\\"\\u003cbr\\u003e    ],\\u003cbr\\u003e    \\\"mlp_units\\\": [\\u003cbr\\u003e      [\\u003cbr\\u003e        8,\\u003cbr\\u003e        8\\u003cbr\\u003e      ],\\u003cbr\\u003e      [\\u003cbr\\u003e        8,\\u003cbr\\u003e        8\\u003cbr\\u003e      ],\\u003cbr\\u003e      [\\u003cbr\\u003e        8,\\u003cbr\\u003e        8\\u003cbr\\u003e      ]\\u003cbr\\u003e    ],\\u003cbr\\u003e    \\\"learning_rate\\\": 0.0025227335709233313,\\u003cbr\\u003e    \\\"scaler_type\\\": \\\"standard\\\",\\u003cbr\\u003e    \\\"max_steps\\\": 5000,\\u003cbr\\u003e    \\\"batch_size\\\": 128,\\u003cbr\\u003e    \\\"windows_batch_size\\\": 512,\\u003cbr\\u003e    \\\"random_seed\\\": 17,\\u003cbr\\u003e    \\\"nr_experts\\\": 4,\\u003cbr\\u003e    \\\"top_k\\\": 8,\\u003cbr\\u003e    \\\"input_size\\\": 36,\\u003cbr\\u003e    \\\"step_size\\\": 1\\u003cbr\\u003e  },\\u003cbr\\u003e  \\\"user_attrs\\\": {\\u003cbr\\u003e    \\\"ALL_PARAMS\\\": {\\u003cbr\\u003e      \\\"h\\\": 18,\\u003cbr\\u003e      \\\"stack_types\\\": [\\u003cbr\\u003e        \\\"identity\\\",\\u003cbr\\u003e        \\\"trend\\\",\\u003cbr\\u003e        \\\"seasonality\\\"\\u003cbr\\u003e      ],\\u003cbr\\u003e      \\\"mlp_units\\\": [\\u003cbr\\u003e        [\\u003cbr\\u003e          8,\\u003cbr\\u003e          8\\u003cbr\\u003e        ],\\u003cbr\\u003e        [\\u003cbr\\u003e          8,\\u003cbr\\u003e          8\\u003cbr\\u003e        ],\\u003cbr\\u003e        [\\u003cbr\\u003e          8,\\u003cbr\\u003e          8\\u003cbr\\u003e        ]\\u003cbr\\u003e      ],\\u003cbr\\u003e      \\\"learning_rate\\\": 0.0025227335709233313,\\u003cbr\\u003e      \\\"scaler_type\\\": \\\"standard\\\",\\u003cbr\\u003e      \\\"max_steps\\\": 5000,\\u003cbr\\u003e      \\\"batch_size\\\": 128,\\u003cbr\\u003e      \\\"windows_batch_size\\\": 512,\\u003cbr\\u003e      \\\"random_seed\\\": 17,\\u003cbr\\u003e      \\\"nr_experts\\\": 4,\\u003cbr\\u003e      \\\"top_k\\\": 8,\\u003cbr\\u003e      \\\"input_size\\\": 36,\\u003cbr\\u003e      \\\"step_size\\\": 1\\u003cbr\\u003e    },\\u003cbr\\u003e    \\\"METRICS\\\": {\\u003cbr\\u003e      \\\"loss\\\": 649.74267578125,\\u003cbr\\u003e      \\\"train_loss\\\": 10.978531837463379\\u003cbr\\u003e    }\\u003cbr\\u003e  }\\u003cbr\\u003e}\",\"{\\u003cbr\\u003e  \\\"number\\\": 2,\\u003cbr\\u003e  \\\"values\\\": [\\u003cbr\\u003e    706.9453735351562\\u003cbr\\u003e  ],\\u003cbr\\u003e  \\\"params\\\": {\\u003cbr\\u003e    \\\"stack_types\\\": [\\u003cbr\\u003e      \\\"identity\\\",\\u003cbr\\u003e      \\\"trend\\\",\\u003cbr\\u003e      \\\"seasonality\\\"\\u003cbr\\u003e    ],\\u003cbr\\u003e    \\\"mlp_units\\\": [\\u003cbr\\u003e      [\\u003cbr\\u003e        32,\\u003cbr\\u003e        32\\u003cbr\\u003e      ],\\u003cbr\\u003e      [\\u003cbr\\u003e        32,\\u003cbr\\u003e        32\\u003cbr\\u003e      ],\\u003cbr\\u003e      [\\u003cbr\\u003e        32,\\u003cbr\\u003e        32\\u003cbr\\u003e      ]\\u003cbr\\u003e    ],\\u003cbr\\u003e    \\\"learning_rate\\\": 0.08846747305656116,\\u003cbr\\u003e    \\\"scaler_type\\\": \\\"standard\\\",\\u003cbr\\u003e    \\\"max_steps\\\": 5000,\\u003cbr\\u003e    \\\"batch_size\\\": 64,\\u003cbr\\u003e    \\\"windows_batch_size\\\": 512,\\u003cbr\\u003e    \\\"random_seed\\\": 6,\\u003cbr\\u003e    \\\"nr_experts\\\": 8,\\u003cbr\\u003e    \\\"top_k\\\": 16,\\u003cbr\\u003e    \\\"input_size\\\": 18,\\u003cbr\\u003e    \\\"step_size\\\": 1\\u003cbr\\u003e  },\\u003cbr\\u003e  \\\"user_attrs\\\": {\\u003cbr\\u003e    \\\"ALL_PARAMS\\\": {\\u003cbr\\u003e      \\\"h\\\": 18,\\u003cbr\\u003e      \\\"stack_types\\\": [\\u003cbr\\u003e        \\\"identity\\\",\\u003cbr\\u003e        \\\"trend\\\",\\u003cbr\\u003e        \\\"seasonality\\\"\\u003cbr\\u003e      ],\\u003cbr\\u003e      \\\"mlp_units\\\": [\\u003cbr\\u003e        [\\u003cbr\\u003e          32,\\u003cbr\\u003e          32\\u003cbr\\u003e        ],\\u003cbr\\u003e        [\\u003cbr\\u003e          32,\\u003cbr\\u003e          32\\u003cbr\\u003e        ],\\u003cbr\\u003e        [\\u003cbr\\u003e          32,\\u003cbr\\u003e          32\\u003cbr\\u003e        ]\\u003cbr\\u003e      ],\\u003cbr\\u003e      \\\"learning_rate\\\": 0.08846747305656116,\\u003cbr\\u003e      \\\"scaler_type\\\": \\\"standard\\\",\\u003cbr\\u003e      \\\"max_steps\\\": 5000,\\u003cbr\\u003e      \\\"batch_size\\\": 64,\\u003cbr\\u003e      \\\"windows_batch_size\\\": 512,\\u003cbr\\u003e      \\\"random_seed\\\": 6,\\u003cbr\\u003e      \\\"nr_experts\\\": 8,\\u003cbr\\u003e      \\\"top_k\\\": 16,\\u003cbr\\u003e      \\\"input_size\\\": 18,\\u003cbr\\u003e      \\\"step_size\\\": 1\\u003cbr\\u003e    },\\u003cbr\\u003e    \\\"METRICS\\\": {\\u003cbr\\u003e      \\\"loss\\\": 706.9453735351562,\\u003cbr\\u003e      \\\"train_loss\\\": 7.065622329711914\\u003cbr\\u003e    }\\u003cbr\\u003e  }\\u003cbr\\u003e}\",\"{\\u003cbr\\u003e  \\\"number\\\": 3,\\u003cbr\\u003e  \\\"values\\\": [\\u003cbr\\u003e    859.8711547851562\\u003cbr\\u003e  ],\\u003cbr\\u003e  \\\"params\\\": {\\u003cbr\\u003e    \\\"stack_types\\\": [\\u003cbr\\u003e      \\\"identity\\\",\\u003cbr\\u003e      \\\"trend\\\",\\u003cbr\\u003e      \\\"seasonality\\\"\\u003cbr\\u003e    ],\\u003cbr\\u003e    \\\"mlp_units\\\": [\\u003cbr\\u003e      [\\u003cbr\\u003e        64,\\u003cbr\\u003e        64\\u003cbr\\u003e      ],\\u003cbr\\u003e      [\\u003cbr\\u003e        64,\\u003cbr\\u003e        64\\u003cbr\\u003e      ],\\u003cbr\\u003e      [\\u003cbr\\u003e        64,\\u003cbr\\u003e        64\\u003cbr\\u003e      ]\\u003cbr\\u003e    ],\\u003cbr\\u003e    \\\"learning_rate\\\": 0.08741730112225618,\\u003cbr\\u003e    \\\"scaler_type\\\": \\\"robust\\\",\\u003cbr\\u003e    \\\"max_steps\\\": 1000,\\u003cbr\\u003e    \\\"batch_size\\\": 32,\\u003cbr\\u003e    \\\"windows_batch_size\\\": 512,\\u003cbr\\u003e    \\\"random_seed\\\": 12,\\u003cbr\\u003e    \\\"nr_experts\\\": 4,\\u003cbr\\u003e    \\\"top_k\\\": 8,\\u003cbr\\u003e    \\\"input_size\\\": 90,\\u003cbr\\u003e    \\\"step_size\\\": 1\\u003cbr\\u003e  },\\u003cbr\\u003e  \\\"user_attrs\\\": {\\u003cbr\\u003e    \\\"ALL_PARAMS\\\": {\\u003cbr\\u003e      \\\"h\\\": 18,\\u003cbr\\u003e      \\\"stack_types\\\": [\\u003cbr\\u003e        \\\"identity\\\",\\u003cbr\\u003e        \\\"trend\\\",\\u003cbr\\u003e        \\\"seasonality\\\"\\u003cbr\\u003e      ],\\u003cbr\\u003e      \\\"mlp_units\\\": [\\u003cbr\\u003e        [\\u003cbr\\u003e          64,\\u003cbr\\u003e          64\\u003cbr\\u003e        ],\\u003cbr\\u003e        [\\u003cbr\\u003e          64,\\u003cbr\\u003e          64\\u003cbr\\u003e        ],\\u003cbr\\u003e        [\\u003cbr\\u003e          64,\\u003cbr\\u003e          64\\u003cbr\\u003e        ]\\u003cbr\\u003e      ],\\u003cbr\\u003e      \\\"learning_rate\\\": 0.08741730112225618,\\u003cbr\\u003e      \\\"scaler_type\\\": \\\"robust\\\",\\u003cbr\\u003e      \\\"max_steps\\\": 1000,\\u003cbr\\u003e      \\\"batch_size\\\": 32,\\u003cbr\\u003e      \\\"windows_batch_size\\\": 512,\\u003cbr\\u003e      \\\"random_seed\\\": 12,\\u003cbr\\u003e      \\\"nr_experts\\\": 4,\\u003cbr\\u003e      \\\"top_k\\\": 8,\\u003cbr\\u003e      \\\"input_size\\\": 90,\\u003cbr\\u003e      \\\"step_size\\\": 1\\u003cbr\\u003e    },\\u003cbr\\u003e    \\\"METRICS\\\": {\\u003cbr\\u003e      \\\"loss\\\": 859.8711547851562,\\u003cbr\\u003e      \\\"train_loss\\\": 1.5252292156219482\\u003cbr\\u003e    }\\u003cbr\\u003e  }\\u003cbr\\u003e}\",\"{\\u003cbr\\u003e  \\\"number\\\": 4,\\u003cbr\\u003e  \\\"values\\\": [\\u003cbr\\u003e    704.5496215820312\\u003cbr\\u003e  ],\\u003cbr\\u003e  \\\"params\\\": {\\u003cbr\\u003e    \\\"stack_types\\\": [\\u003cbr\\u003e      \\\"identity\\\",\\u003cbr\\u003e      \\\"trend\\\",\\u003cbr\\u003e      \\\"seasonality\\\"\\u003cbr\\u003e    ],\\u003cbr\\u003e    \\\"mlp_units\\\": [\\u003cbr\\u003e      [\\u003cbr\\u003e        32,\\u003cbr\\u003e        32\\u003cbr\\u003e      ],\\u003cbr\\u003e      [\\u003cbr\\u003e        32,\\u003cbr\\u003e        32\\u003cbr\\u003e      ],\\u003cbr\\u003e      [\\u003cbr\\u003e        32,\\u003cbr\\u003e        32\\u003cbr\\u003e      ]\\u003cbr\\u003e    ],\\u003cbr\\u003e    \\\"learning_rate\\\": 0.001127190815263976,\\u003cbr\\u003e    \\\"scaler_type\\\": null,\\u003cbr\\u003e    \\\"max_steps\\\": 500,\\u003cbr\\u003e    \\\"batch_size\\\": 64,\\u003cbr\\u003e    \\\"windows_batch_size\\\": 512,\\u003cbr\\u003e    \\\"random_seed\\\": 8,\\u003cbr\\u003e    \\\"nr_experts\\\": 2,\\u003cbr\\u003e    \\\"top_k\\\": 2,\\u003cbr\\u003e    \\\"input_size\\\": 36,\\u003cbr\\u003e    \\\"step_size\\\": 18\\u003cbr\\u003e  },\\u003cbr\\u003e  \\\"user_attrs\\\": {\\u003cbr\\u003e    \\\"ALL_PARAMS\\\": {\\u003cbr\\u003e      \\\"h\\\": 18,\\u003cbr\\u003e      \\\"stack_types\\\": [\\u003cbr\\u003e        \\\"identity\\\",\\u003cbr\\u003e        \\\"trend\\\",\\u003cbr\\u003e        \\\"seasonality\\\"\\u003cbr\\u003e      ],\\u003cbr\\u003e      \\\"mlp_units\\\": [\\u003cbr\\u003e        [\\u003cbr\\u003e          32,\\u003cbr\\u003e          32\\u003cbr\\u003e        ],\\u003cbr\\u003e        [\\u003cbr\\u003e          32,\\u003cbr\\u003e          32\\u003cbr\\u003e        ],\\u003cbr\\u003e        [\\u003cbr\\u003e          32,\\u003cbr\\u003e          32\\u003cbr\\u003e        ]\\u003cbr\\u003e      ],\\u003cbr\\u003e      \\\"learning_rate\\\": 0.001127190815263976,\\u003cbr\\u003e      \\\"scaler_type\\\": null,\\u003cbr\\u003e      \\\"max_steps\\\": 500,\\u003cbr\\u003e      \\\"batch_size\\\": 64,\\u003cbr\\u003e      \\\"windows_batch_size\\\": 512,\\u003cbr\\u003e      \\\"random_seed\\\": 8,\\u003cbr\\u003e      \\\"nr_experts\\\": 2,\\u003cbr\\u003e      \\\"top_k\\\": 2,\\u003cbr\\u003e      \\\"input_size\\\": 36,\\u003cbr\\u003e      \\\"step_size\\\": 18\\u003cbr\\u003e    },\\u003cbr\\u003e    \\\"METRICS\\\": {\\u003cbr\\u003e      \\\"loss\\\": 704.5496215820312,\\u003cbr\\u003e      \\\"train_loss\\\": 529.3162231445312\\u003cbr\\u003e    }\\u003cbr\\u003e  }\\u003cbr\\u003e}\",\"{\\u003cbr\\u003e  \\\"number\\\": 5,\\u003cbr\\u003e  \\\"values\\\": [\\u003cbr\\u003e    773.0947265625\\u003cbr\\u003e  ],\\u003cbr\\u003e  \\\"params\\\": {\\u003cbr\\u003e    \\\"stack_types\\\": [\\u003cbr\\u003e      \\\"identity\\\",\\u003cbr\\u003e      \\\"trend\\\"\\u003cbr\\u003e    ],\\u003cbr\\u003e    \\\"mlp_units\\\": [\\u003cbr\\u003e      [\\u003cbr\\u003e        32,\\u003cbr\\u003e        32\\u003cbr\\u003e      ],\\u003cbr\\u003e      [\\u003cbr\\u003e        32,\\u003cbr\\u003e        32\\u003cbr\\u003e      ],\\u003cbr\\u003e      [\\u003cbr\\u003e        32,\\u003cbr\\u003e        32\\u003cbr\\u003e      ]\\u003cbr\\u003e    ],\\u003cbr\\u003e    \\\"learning_rate\\\": 0.0030033348247970834,\\u003cbr\\u003e    \\\"scaler_type\\\": \\\"robust\\\",\\u003cbr\\u003e    \\\"max_steps\\\": 5000,\\u003cbr\\u003e    \\\"batch_size\\\": 128,\\u003cbr\\u003e    \\\"windows_batch_size\\\": 512,\\u003cbr\\u003e    \\\"random_seed\\\": 6,\\u003cbr\\u003e    \\\"nr_experts\\\": 2,\\u003cbr\\u003e    \\\"top_k\\\": 2,\\u003cbr\\u003e    \\\"input_size\\\": 90,\\u003cbr\\u003e    \\\"step_size\\\": 1\\u003cbr\\u003e  },\\u003cbr\\u003e  \\\"user_attrs\\\": {\\u003cbr\\u003e    \\\"ALL_PARAMS\\\": {\\u003cbr\\u003e      \\\"h\\\": 18,\\u003cbr\\u003e      \\\"stack_types\\\": [\\u003cbr\\u003e        \\\"identity\\\",\\u003cbr\\u003e        \\\"trend\\\"\\u003cbr\\u003e      ],\\u003cbr\\u003e      \\\"mlp_units\\\": [\\u003cbr\\u003e        [\\u003cbr\\u003e          32,\\u003cbr\\u003e          32\\u003cbr\\u003e        ],\\u003cbr\\u003e        [\\u003cbr\\u003e          32,\\u003cbr\\u003e          32\\u003cbr\\u003e        ],\\u003cbr\\u003e        [\\u003cbr\\u003e          32,\\u003cbr\\u003e          32\\u003cbr\\u003e        ]\\u003cbr\\u003e      ],\\u003cbr\\u003e      \\\"learning_rate\\\": 0.0030033348247970834,\\u003cbr\\u003e      \\\"scaler_type\\\": \\\"robust\\\",\\u003cbr\\u003e      \\\"max_steps\\\": 5000,\\u003cbr\\u003e      \\\"batch_size\\\": 128,\\u003cbr\\u003e      \\\"windows_batch_size\\\": 512,\\u003cbr\\u003e      \\\"random_seed\\\": 6,\\u003cbr\\u003e      \\\"nr_experts\\\": 2,\\u003cbr\\u003e      \\\"top_k\\\": 2,\\u003cbr\\u003e      \\\"input_size\\\": 90,\\u003cbr\\u003e      \\\"step_size\\\": 1\\u003cbr\\u003e    },\\u003cbr\\u003e    \\\"METRICS\\\": {\\u003cbr\\u003e      \\\"loss\\\": 773.0947265625,\\u003cbr\\u003e      \\\"train_loss\\\": 0.7770071029663086\\u003cbr\\u003e    }\\u003cbr\\u003e  }\\u003cbr\\u003e}\",\"{\\u003cbr\\u003e  \\\"number\\\": 6,\\u003cbr\\u003e  \\\"values\\\": [\\u003cbr\\u003e    699.616943359375\\u003cbr\\u003e  ],\\u003cbr\\u003e  \\\"params\\\": {\\u003cbr\\u003e    \\\"stack_types\\\": [\\u003cbr\\u003e      \\\"identity\\\",\\u003cbr\\u003e      \\\"trend\\\",\\u003cbr\\u003e      \\\"seasonality\\\"\\u003cbr\\u003e    ],\\u003cbr\\u003e    \\\"mlp_units\\\": [\\u003cbr\\u003e      [\\u003cbr\\u003e        4,\\u003cbr\\u003e        4\\u003cbr\\u003e      ],\\u003cbr\\u003e      [\\u003cbr\\u003e        4,\\u003cbr\\u003e        4\\u003cbr\\u003e      ],\\u003cbr\\u003e      [\\u003cbr\\u003e        4,\\u003cbr\\u003e        4\\u003cbr\\u003e      ]\\u003cbr\\u003e    ],\\u003cbr\\u003e    \\\"learning_rate\\\": 0.013476882502117836,\\u003cbr\\u003e    \\\"scaler_type\\\": null,\\u003cbr\\u003e    \\\"max_steps\\\": 1000,\\u003cbr\\u003e    \\\"batch_size\\\": 256,\\u003cbr\\u003e    \\\"windows_batch_size\\\": 256,\\u003cbr\\u003e    \\\"random_seed\\\": 11,\\u003cbr\\u003e    \\\"nr_experts\\\": 2,\\u003cbr\\u003e    \\\"top_k\\\": 8,\\u003cbr\\u003e    \\\"input_size\\\": 36,\\u003cbr\\u003e    \\\"step_size\\\": 18\\u003cbr\\u003e  },\\u003cbr\\u003e  \\\"user_attrs\\\": {\\u003cbr\\u003e    \\\"ALL_PARAMS\\\": {\\u003cbr\\u003e      \\\"h\\\": 18,\\u003cbr\\u003e      \\\"stack_types\\\": [\\u003cbr\\u003e        \\\"identity\\\",\\u003cbr\\u003e        \\\"trend\\\",\\u003cbr\\u003e        \\\"seasonality\\\"\\u003cbr\\u003e      ],\\u003cbr\\u003e      \\\"mlp_units\\\": [\\u003cbr\\u003e        [\\u003cbr\\u003e          4,\\u003cbr\\u003e          4\\u003cbr\\u003e        ],\\u003cbr\\u003e        [\\u003cbr\\u003e          4,\\u003cbr\\u003e          4\\u003cbr\\u003e        ],\\u003cbr\\u003e        [\\u003cbr\\u003e          4,\\u003cbr\\u003e          4\\u003cbr\\u003e        ]\\u003cbr\\u003e      ],\\u003cbr\\u003e      \\\"learning_rate\\\": 0.013476882502117836,\\u003cbr\\u003e      \\\"scaler_type\\\": null,\\u003cbr\\u003e      \\\"max_steps\\\": 1000,\\u003cbr\\u003e      \\\"batch_size\\\": 256,\\u003cbr\\u003e      \\\"windows_batch_size\\\": 256,\\u003cbr\\u003e      \\\"random_seed\\\": 11,\\u003cbr\\u003e      \\\"nr_experts\\\": 2,\\u003cbr\\u003e      \\\"top_k\\\": 8,\\u003cbr\\u003e      \\\"input_size\\\": 36,\\u003cbr\\u003e      \\\"step_size\\\": 18\\u003cbr\\u003e    },\\u003cbr\\u003e    \\\"METRICS\\\": {\\u003cbr\\u003e      \\\"loss\\\": 699.616943359375,\\u003cbr\\u003e      \\\"train_loss\\\": 556.4986572265625\\u003cbr\\u003e    }\\u003cbr\\u003e  }\\u003cbr\\u003e}\",\"{\\u003cbr\\u003e  \\\"number\\\": 7,\\u003cbr\\u003e  \\\"values\\\": [\\u003cbr\\u003e    671.228759765625\\u003cbr\\u003e  ],\\u003cbr\\u003e  \\\"params\\\": {\\u003cbr\\u003e    \\\"stack_types\\\": [\\u003cbr\\u003e      \\\"identity\\\",\\u003cbr\\u003e      \\\"trend\\\"\\u003cbr\\u003e    ],\\u003cbr\\u003e    \\\"mlp_units\\\": [\\u003cbr\\u003e      [\\u003cbr\\u003e        16,\\u003cbr\\u003e        16\\u003cbr\\u003e      ],\\u003cbr\\u003e      [\\u003cbr\\u003e        16,\\u003cbr\\u003e        16\\u003cbr\\u003e      ],\\u003cbr\\u003e      [\\u003cbr\\u003e        16,\\u003cbr\\u003e        16\\u003cbr\\u003e      ]\\u003cbr\\u003e    ],\\u003cbr\\u003e    \\\"learning_rate\\\": 0.0012905044970194842,\\u003cbr\\u003e    \\\"scaler_type\\\": \\\"standard\\\",\\u003cbr\\u003e    \\\"max_steps\\\": 5000,\\u003cbr\\u003e    \\\"batch_size\\\": 64,\\u003cbr\\u003e    \\\"windows_batch_size\\\": 128,\\u003cbr\\u003e    \\\"random_seed\\\": 8,\\u003cbr\\u003e    \\\"nr_experts\\\": 2,\\u003cbr\\u003e    \\\"top_k\\\": 16,\\u003cbr\\u003e    \\\"input_size\\\": 54,\\u003cbr\\u003e    \\\"step_size\\\": 1\\u003cbr\\u003e  },\\u003cbr\\u003e  \\\"user_attrs\\\": {\\u003cbr\\u003e    \\\"ALL_PARAMS\\\": {\\u003cbr\\u003e      \\\"h\\\": 18,\\u003cbr\\u003e      \\\"stack_types\\\": [\\u003cbr\\u003e        \\\"identity\\\",\\u003cbr\\u003e        \\\"trend\\\"\\u003cbr\\u003e      ],\\u003cbr\\u003e      \\\"mlp_units\\\": [\\u003cbr\\u003e        [\\u003cbr\\u003e          16,\\u003cbr\\u003e          16\\u003cbr\\u003e        ],\\u003cbr\\u003e        [\\u003cbr\\u003e          16,\\u003cbr\\u003e          16\\u003cbr\\u003e        ],\\u003cbr\\u003e        [\\u003cbr\\u003e          16,\\u003cbr\\u003e          16\\u003cbr\\u003e        ]\\u003cbr\\u003e      ],\\u003cbr\\u003e      \\\"learning_rate\\\": 0.0012905044970194842,\\u003cbr\\u003e      \\\"scaler_type\\\": \\\"standard\\\",\\u003cbr\\u003e      \\\"max_steps\\\": 5000,\\u003cbr\\u003e      \\\"batch_size\\\": 64,\\u003cbr\\u003e      \\\"windows_batch_size\\\": 128,\\u003cbr\\u003e      \\\"random_seed\\\": 8,\\u003cbr\\u003e      \\\"nr_experts\\\": 2,\\u003cbr\\u003e      \\\"top_k\\\": 16,\\u003cbr\\u003e      \\\"input_size\\\": 54,\\u003cbr\\u003e      \\\"step_size\\\": 1\\u003cbr\\u003e    },\\u003cbr\\u003e    \\\"METRICS\\\": {\\u003cbr\\u003e      \\\"loss\\\": 671.228759765625,\\u003cbr\\u003e      \\\"train_loss\\\": 7.032589435577393\\u003cbr\\u003e    }\\u003cbr\\u003e  }\\u003cbr\\u003e}\",\"{\\u003cbr\\u003e  \\\"number\\\": 8,\\u003cbr\\u003e  \\\"values\\\": [\\u003cbr\\u003e    862.3060913085938\\u003cbr\\u003e  ],\\u003cbr\\u003e  \\\"params\\\": {\\u003cbr\\u003e    \\\"stack_types\\\": [\\u003cbr\\u003e      \\\"identity\\\",\\u003cbr\\u003e      \\\"trend\\\"\\u003cbr\\u003e    ],\\u003cbr\\u003e    \\\"mlp_units\\\": [\\u003cbr\\u003e      [\\u003cbr\\u003e        16,\\u003cbr\\u003e        16\\u003cbr\\u003e      ],\\u003cbr\\u003e      [\\u003cbr\\u003e        16,\\u003cbr\\u003e        16\\u003cbr\\u003e      ],\\u003cbr\\u003e      [\\u003cbr\\u003e        16,\\u003cbr\\u003e        16\\u003cbr\\u003e      ]\\u003cbr\\u003e    ],\\u003cbr\\u003e    \\\"learning_rate\\\": 0.07046300250856881,\\u003cbr\\u003e    \\\"scaler_type\\\": \\\"robust\\\",\\u003cbr\\u003e    \\\"max_steps\\\": 1000,\\u003cbr\\u003e    \\\"batch_size\\\": 32,\\u003cbr\\u003e    \\\"windows_batch_size\\\": 256,\\u003cbr\\u003e    \\\"random_seed\\\": 20,\\u003cbr\\u003e    \\\"nr_experts\\\": 2,\\u003cbr\\u003e    \\\"top_k\\\": 16,\\u003cbr\\u003e    \\\"input_size\\\": 36,\\u003cbr\\u003e    \\\"step_size\\\": 18\\u003cbr\\u003e  },\\u003cbr\\u003e  \\\"user_attrs\\\": {\\u003cbr\\u003e    \\\"ALL_PARAMS\\\": {\\u003cbr\\u003e      \\\"h\\\": 18,\\u003cbr\\u003e      \\\"stack_types\\\": [\\u003cbr\\u003e        \\\"identity\\\",\\u003cbr\\u003e        \\\"trend\\\"\\u003cbr\\u003e      ],\\u003cbr\\u003e      \\\"mlp_units\\\": [\\u003cbr\\u003e        [\\u003cbr\\u003e          16,\\u003cbr\\u003e          16\\u003cbr\\u003e        ],\\u003cbr\\u003e        [\\u003cbr\\u003e          16,\\u003cbr\\u003e          16\\u003cbr\\u003e        ],\\u003cbr\\u003e        [\\u003cbr\\u003e          16,\\u003cbr\\u003e          16\\u003cbr\\u003e        ]\\u003cbr\\u003e      ],\\u003cbr\\u003e      \\\"learning_rate\\\": 0.07046300250856881,\\u003cbr\\u003e      \\\"scaler_type\\\": \\\"robust\\\",\\u003cbr\\u003e      \\\"max_steps\\\": 1000,\\u003cbr\\u003e      \\\"batch_size\\\": 32,\\u003cbr\\u003e      \\\"windows_batch_size\\\": 256,\\u003cbr\\u003e      \\\"random_seed\\\": 20,\\u003cbr\\u003e      \\\"nr_experts\\\": 2,\\u003cbr\\u003e      \\\"top_k\\\": 16,\\u003cbr\\u003e      \\\"input_size\\\": 36,\\u003cbr\\u003e      \\\"step_size\\\": 18\\u003cbr\\u003e    },\\u003cbr\\u003e    \\\"METRICS\\\": {\\u003cbr\\u003e      \\\"loss\\\": 862.3060913085938,\\u003cbr\\u003e      \\\"train_loss\\\": 2.7790091037750244\\u003cbr\\u003e    }\\u003cbr\\u003e  }\\u003cbr\\u003e}\",\"{\\u003cbr\\u003e  \\\"number\\\": 9,\\u003cbr\\u003e  \\\"values\\\": [\\u003cbr\\u003e    802.54931640625\\u003cbr\\u003e  ],\\u003cbr\\u003e  \\\"params\\\": {\\u003cbr\\u003e    \\\"stack_types\\\": [\\u003cbr\\u003e      \\\"identity\\\",\\u003cbr\\u003e      \\\"trend\\\"\\u003cbr\\u003e    ],\\u003cbr\\u003e    \\\"mlp_units\\\": [\\u003cbr\\u003e      [\\u003cbr\\u003e        32,\\u003cbr\\u003e        32\\u003cbr\\u003e      ],\\u003cbr\\u003e      [\\u003cbr\\u003e        32,\\u003cbr\\u003e        32\\u003cbr\\u003e      ],\\u003cbr\\u003e      [\\u003cbr\\u003e        32,\\u003cbr\\u003e        32\\u003cbr\\u003e      ]\\u003cbr\\u003e    ],\\u003cbr\\u003e    \\\"learning_rate\\\": 0.06318557020013556,\\u003cbr\\u003e    \\\"scaler_type\\\": null,\\u003cbr\\u003e    \\\"max_steps\\\": 500,\\u003cbr\\u003e    \\\"batch_size\\\": 256,\\u003cbr\\u003e    \\\"windows_batch_size\\\": 128,\\u003cbr\\u003e    \\\"random_seed\\\": 7,\\u003cbr\\u003e    \\\"nr_experts\\\": 16,\\u003cbr\\u003e    \\\"top_k\\\": 4,\\u003cbr\\u003e    \\\"input_size\\\": 90,\\u003cbr\\u003e    \\\"step_size\\\": 1\\u003cbr\\u003e  },\\u003cbr\\u003e  \\\"user_attrs\\\": {\\u003cbr\\u003e    \\\"ALL_PARAMS\\\": {\\u003cbr\\u003e      \\\"h\\\": 18,\\u003cbr\\u003e      \\\"stack_types\\\": [\\u003cbr\\u003e        \\\"identity\\\",\\u003cbr\\u003e        \\\"trend\\\"\\u003cbr\\u003e      ],\\u003cbr\\u003e      \\\"mlp_units\\\": [\\u003cbr\\u003e        [\\u003cbr\\u003e          32,\\u003cbr\\u003e          32\\u003cbr\\u003e        ],\\u003cbr\\u003e        [\\u003cbr\\u003e          32,\\u003cbr\\u003e          32\\u003cbr\\u003e        ],\\u003cbr\\u003e        [\\u003cbr\\u003e          32,\\u003cbr\\u003e          32\\u003cbr\\u003e        ]\\u003cbr\\u003e      ],\\u003cbr\\u003e      \\\"learning_rate\\\": 0.06318557020013556,\\u003cbr\\u003e      \\\"scaler_type\\\": null,\\u003cbr\\u003e      \\\"max_steps\\\": 500,\\u003cbr\\u003e      \\\"batch_size\\\": 256,\\u003cbr\\u003e      \\\"windows_batch_size\\\": 128,\\u003cbr\\u003e      \\\"random_seed\\\": 7,\\u003cbr\\u003e      \\\"nr_experts\\\": 16,\\u003cbr\\u003e      \\\"top_k\\\": 4,\\u003cbr\\u003e      \\\"input_size\\\": 90,\\u003cbr\\u003e      \\\"step_size\\\": 1\\u003cbr\\u003e    },\\u003cbr\\u003e    \\\"METRICS\\\": {\\u003cbr\\u003e      \\\"loss\\\": 802.54931640625,\\u003cbr\\u003e      \\\"train_loss\\\": 688.884765625\\u003cbr\\u003e    }\\u003cbr\\u003e  }\\u003cbr\\u003e}\",\"{\\u003cbr\\u003e  \\\"number\\\": 11,\\u003cbr\\u003e  \\\"values\\\": [\\u003cbr\\u003e    691.5285034179688\\u003cbr\\u003e  ],\\u003cbr\\u003e  \\\"params\\\": {\\u003cbr\\u003e    \\\"stack_types\\\": [\\u003cbr\\u003e      \\\"identity\\\",\\u003cbr\\u003e      \\\"trend\\\",\\u003cbr\\u003e      \\\"seasonality\\\"\\u003cbr\\u003e    ],\\u003cbr\\u003e    \\\"mlp_units\\\": [\\u003cbr\\u003e      [\\u003cbr\\u003e        8,\\u003cbr\\u003e        8\\u003cbr\\u003e      ],\\u003cbr\\u003e      [\\u003cbr\\u003e        8,\\u003cbr\\u003e        8\\u003cbr\\u003e      ],\\u003cbr\\u003e      [\\u003cbr\\u003e        8,\\u003cbr\\u003e        8\\u003cbr\\u003e      ]\\u003cbr\\u003e    ],\\u003cbr\\u003e    \\\"learning_rate\\\": 0.00010020095416949909,\\u003cbr\\u003e    \\\"scaler_type\\\": \\\"standard\\\",\\u003cbr\\u003e    \\\"max_steps\\\": 5000,\\u003cbr\\u003e    \\\"batch_size\\\": 128,\\u003cbr\\u003e    \\\"windows_batch_size\\\": 1024,\\u003cbr\\u003e    \\\"random_seed\\\": 18,\\u003cbr\\u003e    \\\"nr_experts\\\": 4,\\u003cbr\\u003e    \\\"top_k\\\": 8,\\u003cbr\\u003e    \\\"input_size\\\": 72,\\u003cbr\\u003e    \\\"step_size\\\": 1\\u003cbr\\u003e  },\\u003cbr\\u003e  \\\"user_attrs\\\": {\\u003cbr\\u003e    \\\"ALL_PARAMS\\\": {\\u003cbr\\u003e      \\\"h\\\": 18,\\u003cbr\\u003e      \\\"stack_types\\\": [\\u003cbr\\u003e        \\\"identity\\\",\\u003cbr\\u003e        \\\"trend\\\",\\u003cbr\\u003e        \\\"seasonality\\\"\\u003cbr\\u003e      ],\\u003cbr\\u003e      \\\"mlp_units\\\": [\\u003cbr\\u003e        [\\u003cbr\\u003e          8,\\u003cbr\\u003e          8\\u003cbr\\u003e        ],\\u003cbr\\u003e        [\\u003cbr\\u003e          8,\\u003cbr\\u003e          8\\u003cbr\\u003e        ],\\u003cbr\\u003e        [\\u003cbr\\u003e          8,\\u003cbr\\u003e          8\\u003cbr\\u003e        ]\\u003cbr\\u003e      ],\\u003cbr\\u003e      \\\"learning_rate\\\": 0.00010020095416949909,\\u003cbr\\u003e      \\\"scaler_type\\\": \\\"standard\\\",\\u003cbr\\u003e      \\\"max_steps\\\": 5000,\\u003cbr\\u003e      \\\"batch_size\\\": 128,\\u003cbr\\u003e      \\\"windows_batch_size\\\": 1024,\\u003cbr\\u003e      \\\"random_seed\\\": 18,\\u003cbr\\u003e      \\\"nr_experts\\\": 4,\\u003cbr\\u003e      \\\"top_k\\\": 8,\\u003cbr\\u003e      \\\"input_size\\\": 72,\\u003cbr\\u003e      \\\"step_size\\\": 1\\u003cbr\\u003e    },\\u003cbr\\u003e    \\\"METRICS\\\": {\\u003cbr\\u003e      \\\"loss\\\": 691.5285034179688,\\u003cbr\\u003e      \\\"train_loss\\\": 10.743629455566406\\u003cbr\\u003e    }\\u003cbr\\u003e  }\\u003cbr\\u003e}\",\"{\\u003cbr\\u003e  \\\"number\\\": 12,\\u003cbr\\u003e  \\\"values\\\": [\\u003cbr\\u003e    642.6854248046875\\u003cbr\\u003e  ],\\u003cbr\\u003e  \\\"params\\\": {\\u003cbr\\u003e    \\\"stack_types\\\": [\\u003cbr\\u003e      \\\"identity\\\",\\u003cbr\\u003e      \\\"trend\\\"\\u003cbr\\u003e    ],\\u003cbr\\u003e    \\\"mlp_units\\\": [\\u003cbr\\u003e      [\\u003cbr\\u003e        16,\\u003cbr\\u003e        16\\u003cbr\\u003e      ],\\u003cbr\\u003e      [\\u003cbr\\u003e        16,\\u003cbr\\u003e        16\\u003cbr\\u003e      ],\\u003cbr\\u003e      [\\u003cbr\\u003e        16,\\u003cbr\\u003e        16\\u003cbr\\u003e      ]\\u003cbr\\u003e    ],\\u003cbr\\u003e    \\\"learning_rate\\\": 0.006146404908330783,\\u003cbr\\u003e    \\\"scaler_type\\\": \\\"standard\\\",\\u003cbr\\u003e    \\\"max_steps\\\": 5000,\\u003cbr\\u003e    \\\"batch_size\\\": 128,\\u003cbr\\u003e    \\\"windows_batch_size\\\": 128,\\u003cbr\\u003e    \\\"random_seed\\\": 16,\\u003cbr\\u003e    \\\"nr_experts\\\": 4,\\u003cbr\\u003e    \\\"top_k\\\": 16,\\u003cbr\\u003e    \\\"input_size\\\": 54,\\u003cbr\\u003e    \\\"step_size\\\": 1\\u003cbr\\u003e  },\\u003cbr\\u003e  \\\"user_attrs\\\": {\\u003cbr\\u003e    \\\"ALL_PARAMS\\\": {\\u003cbr\\u003e      \\\"h\\\": 18,\\u003cbr\\u003e      \\\"stack_types\\\": [\\u003cbr\\u003e        \\\"identity\\\",\\u003cbr\\u003e        \\\"trend\\\"\\u003cbr\\u003e      ],\\u003cbr\\u003e      \\\"mlp_units\\\": [\\u003cbr\\u003e        [\\u003cbr\\u003e          16,\\u003cbr\\u003e          16\\u003cbr\\u003e        ],\\u003cbr\\u003e        [\\u003cbr\\u003e          16,\\u003cbr\\u003e          16\\u003cbr\\u003e        ],\\u003cbr\\u003e        [\\u003cbr\\u003e          16,\\u003cbr\\u003e          16\\u003cbr\\u003e        ]\\u003cbr\\u003e      ],\\u003cbr\\u003e      \\\"learning_rate\\\": 0.006146404908330783,\\u003cbr\\u003e      \\\"scaler_type\\\": \\\"standard\\\",\\u003cbr\\u003e      \\\"max_steps\\\": 5000,\\u003cbr\\u003e      \\\"batch_size\\\": 128,\\u003cbr\\u003e      \\\"windows_batch_size\\\": 128,\\u003cbr\\u003e      \\\"random_seed\\\": 16,\\u003cbr\\u003e      \\\"nr_experts\\\": 4,\\u003cbr\\u003e      \\\"top_k\\\": 16,\\u003cbr\\u003e      \\\"input_size\\\": 54,\\u003cbr\\u003e      \\\"step_size\\\": 1\\u003cbr\\u003e    },\\u003cbr\\u003e    \\\"METRICS\\\": {\\u003cbr\\u003e      \\\"loss\\\": 642.6854248046875,\\u003cbr\\u003e      \\\"train_loss\\\": 11.049762725830078\\u003cbr\\u003e    }\\u003cbr\\u003e  }\\u003cbr\\u003e}\",\"{\\u003cbr\\u003e  \\\"number\\\": 13,\\u003cbr\\u003e  \\\"values\\\": [\\u003cbr\\u003e    646.3319702148438\\u003cbr\\u003e  ],\\u003cbr\\u003e  \\\"params\\\": {\\u003cbr\\u003e    \\\"stack_types\\\": [\\u003cbr\\u003e      \\\"identity\\\",\\u003cbr\\u003e      \\\"trend\\\"\\u003cbr\\u003e    ],\\u003cbr\\u003e    \\\"mlp_units\\\": [\\u003cbr\\u003e      [\\u003cbr\\u003e        8,\\u003cbr\\u003e        8\\u003cbr\\u003e      ],\\u003cbr\\u003e      [\\u003cbr\\u003e        8,\\u003cbr\\u003e        8\\u003cbr\\u003e      ],\\u003cbr\\u003e      [\\u003cbr\\u003e        8,\\u003cbr\\u003e        8\\u003cbr\\u003e      ]\\u003cbr\\u003e    ],\\u003cbr\\u003e    \\\"learning_rate\\\": 0.010159660496643613,\\u003cbr\\u003e    \\\"scaler_type\\\": \\\"standard\\\",\\u003cbr\\u003e    \\\"max_steps\\\": 5000,\\u003cbr\\u003e    \\\"batch_size\\\": 128,\\u003cbr\\u003e    \\\"windows_batch_size\\\": 128,\\u003cbr\\u003e    \\\"random_seed\\\": 15,\\u003cbr\\u003e    \\\"nr_experts\\\": 4,\\u003cbr\\u003e    \\\"top_k\\\": 8,\\u003cbr\\u003e    \\\"input_size\\\": 54,\\u003cbr\\u003e    \\\"step_size\\\": 1\\u003cbr\\u003e  },\\u003cbr\\u003e  \\\"user_attrs\\\": {\\u003cbr\\u003e    \\\"ALL_PARAMS\\\": {\\u003cbr\\u003e      \\\"h\\\": 18,\\u003cbr\\u003e      \\\"stack_types\\\": [\\u003cbr\\u003e        \\\"identity\\\",\\u003cbr\\u003e        \\\"trend\\\"\\u003cbr\\u003e      ],\\u003cbr\\u003e      \\\"mlp_units\\\": [\\u003cbr\\u003e        [\\u003cbr\\u003e          8,\\u003cbr\\u003e          8\\u003cbr\\u003e        ],\\u003cbr\\u003e        [\\u003cbr\\u003e          8,\\u003cbr\\u003e          8\\u003cbr\\u003e        ],\\u003cbr\\u003e        [\\u003cbr\\u003e          8,\\u003cbr\\u003e          8\\u003cbr\\u003e        ]\\u003cbr\\u003e      ],\\u003cbr\\u003e      \\\"learning_rate\\\": 0.010159660496643613,\\u003cbr\\u003e      \\\"scaler_type\\\": \\\"standard\\\",\\u003cbr\\u003e      \\\"max_steps\\\": 5000,\\u003cbr\\u003e      \\\"batch_size\\\": 128,\\u003cbr\\u003e      \\\"windows_batch_size\\\": 128,\\u003cbr\\u003e      \\\"random_seed\\\": 15,\\u003cbr\\u003e      \\\"nr_experts\\\": 4,\\u003cbr\\u003e      \\\"top_k\\\": 8,\\u003cbr\\u003e      \\\"input_size\\\": 54,\\u003cbr\\u003e      \\\"step_size\\\": 1\\u003cbr\\u003e    },\\u003cbr\\u003e    \\\"METRICS\\\": {\\u003cbr\\u003e      \\\"loss\\\": 646.3319702148438,\\u003cbr\\u003e      \\\"train_loss\\\": 6.890422344207764\\u003cbr\\u003e    }\\u003cbr\\u003e  }\\u003cbr\\u003e}\",\"{\\u003cbr\\u003e  \\\"number\\\": 15,\\u003cbr\\u003e  \\\"values\\\": [\\u003cbr\\u003e    691.064453125\\u003cbr\\u003e  ],\\u003cbr\\u003e  \\\"params\\\": {\\u003cbr\\u003e    \\\"stack_types\\\": [\\u003cbr\\u003e      \\\"identity\\\",\\u003cbr\\u003e      \\\"trend\\\"\\u003cbr\\u003e    ],\\u003cbr\\u003e    \\\"mlp_units\\\": [\\u003cbr\\u003e      [\\u003cbr\\u003e        128,\\u003cbr\\u003e        128\\u003cbr\\u003e      ],\\u003cbr\\u003e      [\\u003cbr\\u003e        128,\\u003cbr\\u003e        128\\u003cbr\\u003e      ],\\u003cbr\\u003e      [\\u003cbr\\u003e        128,\\u003cbr\\u003e        128\\u003cbr\\u003e      ]\\u003cbr\\u003e    ],\\u003cbr\\u003e    \\\"learning_rate\\\": 0.011874699186061207,\\u003cbr\\u003e    \\\"scaler_type\\\": \\\"standard\\\",\\u003cbr\\u003e    \\\"max_steps\\\": 5000,\\u003cbr\\u003e    \\\"batch_size\\\": 128,\\u003cbr\\u003e    \\\"windows_batch_size\\\": 128,\\u003cbr\\u003e    \\\"random_seed\\\": 14,\\u003cbr\\u003e    \\\"nr_experts\\\": 4,\\u003cbr\\u003e    \\\"top_k\\\": 16,\\u003cbr\\u003e    \\\"input_size\\\": 54,\\u003cbr\\u003e    \\\"step_size\\\": 1\\u003cbr\\u003e  },\\u003cbr\\u003e  \\\"user_attrs\\\": {\\u003cbr\\u003e    \\\"ALL_PARAMS\\\": {\\u003cbr\\u003e      \\\"h\\\": 18,\\u003cbr\\u003e      \\\"stack_types\\\": [\\u003cbr\\u003e        \\\"identity\\\",\\u003cbr\\u003e        \\\"trend\\\"\\u003cbr\\u003e      ],\\u003cbr\\u003e      \\\"mlp_units\\\": [\\u003cbr\\u003e        [\\u003cbr\\u003e          128,\\u003cbr\\u003e          128\\u003cbr\\u003e        ],\\u003cbr\\u003e        [\\u003cbr\\u003e          128,\\u003cbr\\u003e          128\\u003cbr\\u003e        ],\\u003cbr\\u003e        [\\u003cbr\\u003e          128,\\u003cbr\\u003e          128\\u003cbr\\u003e        ]\\u003cbr\\u003e      ],\\u003cbr\\u003e      \\\"learning_rate\\\": 0.011874699186061207,\\u003cbr\\u003e      \\\"scaler_type\\\": \\\"standard\\\",\\u003cbr\\u003e      \\\"max_steps\\\": 5000,\\u003cbr\\u003e      \\\"batch_size\\\": 128,\\u003cbr\\u003e      \\\"windows_batch_size\\\": 128,\\u003cbr\\u003e      \\\"random_seed\\\": 14,\\u003cbr\\u003e      \\\"nr_experts\\\": 4,\\u003cbr\\u003e      \\\"top_k\\\": 16,\\u003cbr\\u003e      \\\"input_size\\\": 54,\\u003cbr\\u003e      \\\"step_size\\\": 1\\u003cbr\\u003e    },\\u003cbr\\u003e    \\\"METRICS\\\": {\\u003cbr\\u003e      \\\"loss\\\": 691.064453125,\\u003cbr\\u003e      \\\"train_loss\\\": 12.24218463897705\\u003cbr\\u003e    }\\u003cbr\\u003e  }\\u003cbr\\u003e}\",\"{\\u003cbr\\u003e  \\\"number\\\": 16,\\u003cbr\\u003e  \\\"values\\\": [\\u003cbr\\u003e    848.1317749023438\\u003cbr\\u003e  ],\\u003cbr\\u003e  \\\"params\\\": {\\u003cbr\\u003e    \\\"stack_types\\\": [\\u003cbr\\u003e      \\\"identity\\\",\\u003cbr\\u003e      \\\"trend\\\"\\u003cbr\\u003e    ],\\u003cbr\\u003e    \\\"mlp_units\\\": [\\u003cbr\\u003e      [\\u003cbr\\u003e        1024,\\u003cbr\\u003e        1024\\u003cbr\\u003e      ],\\u003cbr\\u003e      [\\u003cbr\\u003e        1024,\\u003cbr\\u003e        1024\\u003cbr\\u003e      ],\\u003cbr\\u003e      [\\u003cbr\\u003e        1024,\\u003cbr\\u003e        1024\\u003cbr\\u003e      ]\\u003cbr\\u003e    ],\\u003cbr\\u003e    \\\"learning_rate\\\": 0.012585647878705898,\\u003cbr\\u003e    \\\"scaler_type\\\": \\\"minmax\\\",\\u003cbr\\u003e    \\\"max_steps\\\": 5000,\\u003cbr\\u003e    \\\"batch_size\\\": 128,\\u003cbr\\u003e    \\\"windows_batch_size\\\": 128,\\u003cbr\\u003e    \\\"random_seed\\\": 15,\\u003cbr\\u003e    \\\"nr_experts\\\": 4,\\u003cbr\\u003e    \\\"top_k\\\": 8,\\u003cbr\\u003e    \\\"input_size\\\": 54,\\u003cbr\\u003e    \\\"step_size\\\": 1\\u003cbr\\u003e  },\\u003cbr\\u003e  \\\"user_attrs\\\": {\\u003cbr\\u003e    \\\"ALL_PARAMS\\\": {\\u003cbr\\u003e      \\\"h\\\": 18,\\u003cbr\\u003e      \\\"stack_types\\\": [\\u003cbr\\u003e        \\\"identity\\\",\\u003cbr\\u003e        \\\"trend\\\"\\u003cbr\\u003e      ],\\u003cbr\\u003e      \\\"mlp_units\\\": [\\u003cbr\\u003e        [\\u003cbr\\u003e          1024,\\u003cbr\\u003e          1024\\u003cbr\\u003e        ],\\u003cbr\\u003e        [\\u003cbr\\u003e          1024,\\u003cbr\\u003e          1024\\u003cbr\\u003e        ],\\u003cbr\\u003e        [\\u003cbr\\u003e          1024,\\u003cbr\\u003e          1024\\u003cbr\\u003e        ]\\u003cbr\\u003e      ],\\u003cbr\\u003e      \\\"learning_rate\\\": 0.012585647878705898,\\u003cbr\\u003e      \\\"scaler_type\\\": \\\"minmax\\\",\\u003cbr\\u003e      \\\"max_steps\\\": 5000,\\u003cbr\\u003e      \\\"batch_size\\\": 128,\\u003cbr\\u003e      \\\"windows_batch_size\\\": 128,\\u003cbr\\u003e      \\\"random_seed\\\": 15,\\u003cbr\\u003e      \\\"nr_experts\\\": 4,\\u003cbr\\u003e      \\\"top_k\\\": 8,\\u003cbr\\u003e      \\\"input_size\\\": 54,\\u003cbr\\u003e      \\\"step_size\\\": 1\\u003cbr\\u003e    },\\u003cbr\\u003e    \\\"METRICS\\\": {\\u003cbr\\u003e      \\\"loss\\\": 848.1317749023438,\\u003cbr\\u003e      \\\"train_loss\\\": 8.256481170654297\\u003cbr\\u003e    }\\u003cbr\\u003e  }\\u003cbr\\u003e}\",\"{\\u003cbr\\u003e  \\\"number\\\": 17,\\u003cbr\\u003e  \\\"values\\\": [\\u003cbr\\u003e    653.6649780273438\\u003cbr\\u003e  ],\\u003cbr\\u003e  \\\"params\\\": {\\u003cbr\\u003e    \\\"stack_types\\\": [\\u003cbr\\u003e      \\\"identity\\\",\\u003cbr\\u003e      \\\"trend\\\"\\u003cbr\\u003e    ],\\u003cbr\\u003e    \\\"mlp_units\\\": [\\u003cbr\\u003e      [\\u003cbr\\u003e        8,\\u003cbr\\u003e        8\\u003cbr\\u003e      ],\\u003cbr\\u003e      [\\u003cbr\\u003e        8,\\u003cbr\\u003e        8\\u003cbr\\u003e      ],\\u003cbr\\u003e      [\\u003cbr\\u003e        8,\\u003cbr\\u003e        8\\u003cbr\\u003e      ]\\u003cbr\\u003e    ],\\u003cbr\\u003e    \\\"learning_rate\\\": 0.006892403261395654,\\u003cbr\\u003e    \\\"scaler_type\\\": \\\"standard\\\",\\u003cbr\\u003e    \\\"max_steps\\\": 500,\\u003cbr\\u003e    \\\"batch_size\\\": 128,\\u003cbr\\u003e    \\\"windows_batch_size\\\": 128,\\u003cbr\\u003e    \\\"random_seed\\\": 14,\\u003cbr\\u003e    \\\"nr_experts\\\": 16,\\u003cbr\\u003e    \\\"top_k\\\": 16,\\u003cbr\\u003e    \\\"input_size\\\": 54,\\u003cbr\\u003e    \\\"step_size\\\": 1\\u003cbr\\u003e  },\\u003cbr\\u003e  \\\"user_attrs\\\": {\\u003cbr\\u003e    \\\"ALL_PARAMS\\\": {\\u003cbr\\u003e      \\\"h\\\": 18,\\u003cbr\\u003e      \\\"stack_types\\\": [\\u003cbr\\u003e        \\\"identity\\\",\\u003cbr\\u003e        \\\"trend\\\"\\u003cbr\\u003e      ],\\u003cbr\\u003e      \\\"mlp_units\\\": [\\u003cbr\\u003e        [\\u003cbr\\u003e          8,\\u003cbr\\u003e          8\\u003cbr\\u003e        ],\\u003cbr\\u003e        [\\u003cbr\\u003e          8,\\u003cbr\\u003e          8\\u003cbr\\u003e        ],\\u003cbr\\u003e        [\\u003cbr\\u003e          8,\\u003cbr\\u003e          8\\u003cbr\\u003e        ]\\u003cbr\\u003e      ],\\u003cbr\\u003e      \\\"learning_rate\\\": 0.006892403261395654,\\u003cbr\\u003e      \\\"scaler_type\\\": \\\"standard\\\",\\u003cbr\\u003e      \\\"max_steps\\\": 500,\\u003cbr\\u003e      \\\"batch_size\\\": 128,\\u003cbr\\u003e      \\\"windows_batch_size\\\": 128,\\u003cbr\\u003e      \\\"random_seed\\\": 14,\\u003cbr\\u003e      \\\"nr_experts\\\": 16,\\u003cbr\\u003e      \\\"top_k\\\": 16,\\u003cbr\\u003e      \\\"input_size\\\": 54,\\u003cbr\\u003e      \\\"step_size\\\": 1\\u003cbr\\u003e    },\\u003cbr\\u003e    \\\"METRICS\\\": {\\u003cbr\\u003e      \\\"loss\\\": 653.6649780273438,\\u003cbr\\u003e      \\\"train_loss\\\": 12.044931411743164\\u003cbr\\u003e    }\\u003cbr\\u003e  }\\u003cbr\\u003e}\",\"{\\u003cbr\\u003e  \\\"number\\\": 18,\\u003cbr\\u003e  \\\"values\\\": [\\u003cbr\\u003e    762.8816528320312\\u003cbr\\u003e  ],\\u003cbr\\u003e  \\\"params\\\": {\\u003cbr\\u003e    \\\"stack_types\\\": [\\u003cbr\\u003e      \\\"identity\\\",\\u003cbr\\u003e      \\\"trend\\\"\\u003cbr\\u003e    ],\\u003cbr\\u003e    \\\"mlp_units\\\": [\\u003cbr\\u003e      [\\u003cbr\\u003e        256,\\u003cbr\\u003e        256\\u003cbr\\u003e      ],\\u003cbr\\u003e      [\\u003cbr\\u003e        256,\\u003cbr\\u003e        256\\u003cbr\\u003e      ],\\u003cbr\\u003e      [\\u003cbr\\u003e        256,\\u003cbr\\u003e        256\\u003cbr\\u003e      ]\\u003cbr\\u003e    ],\\u003cbr\\u003e    \\\"learning_rate\\\": 0.006024484665662051,\\u003cbr\\u003e    \\\"scaler_type\\\": \\\"standard\\\",\\u003cbr\\u003e    \\\"max_steps\\\": 5000,\\u003cbr\\u003e    \\\"batch_size\\\": 128,\\u003cbr\\u003e    \\\"windows_batch_size\\\": 1024,\\u003cbr\\u003e    \\\"random_seed\\\": 17,\\u003cbr\\u003e    \\\"nr_experts\\\": 4,\\u003cbr\\u003e    \\\"top_k\\\": 4,\\u003cbr\\u003e    \\\"input_size\\\": 54,\\u003cbr\\u003e    \\\"step_size\\\": 1\\u003cbr\\u003e  },\\u003cbr\\u003e  \\\"user_attrs\\\": {\\u003cbr\\u003e    \\\"ALL_PARAMS\\\": {\\u003cbr\\u003e      \\\"h\\\": 18,\\u003cbr\\u003e      \\\"stack_types\\\": [\\u003cbr\\u003e        \\\"identity\\\",\\u003cbr\\u003e        \\\"trend\\\"\\u003cbr\\u003e      ],\\u003cbr\\u003e      \\\"mlp_units\\\": [\\u003cbr\\u003e        [\\u003cbr\\u003e          256,\\u003cbr\\u003e          256\\u003cbr\\u003e        ],\\u003cbr\\u003e        [\\u003cbr\\u003e          256,\\u003cbr\\u003e          256\\u003cbr\\u003e        ],\\u003cbr\\u003e        [\\u003cbr\\u003e          256,\\u003cbr\\u003e          256\\u003cbr\\u003e        ]\\u003cbr\\u003e      ],\\u003cbr\\u003e      \\\"learning_rate\\\": 0.006024484665662051,\\u003cbr\\u003e      \\\"scaler_type\\\": \\\"standard\\\",\\u003cbr\\u003e      \\\"max_steps\\\": 5000,\\u003cbr\\u003e      \\\"batch_size\\\": 128,\\u003cbr\\u003e      \\\"windows_batch_size\\\": 1024,\\u003cbr\\u003e      \\\"random_seed\\\": 17,\\u003cbr\\u003e      \\\"nr_experts\\\": 4,\\u003cbr\\u003e      \\\"top_k\\\": 4,\\u003cbr\\u003e      \\\"input_size\\\": 54,\\u003cbr\\u003e      \\\"step_size\\\": 1\\u003cbr\\u003e    },\\u003cbr\\u003e    \\\"METRICS\\\": {\\u003cbr\\u003e      \\\"loss\\\": 762.8816528320312,\\u003cbr\\u003e      \\\"train_loss\\\": 11.472053527832031\\u003cbr\\u003e    }\\u003cbr\\u003e  }\\u003cbr\\u003e}\",\"{\\u003cbr\\u003e  \\\"number\\\": 19,\\u003cbr\\u003e  \\\"values\\\": [\\u003cbr\\u003e    679.8352661132812\\u003cbr\\u003e  ],\\u003cbr\\u003e  \\\"params\\\": {\\u003cbr\\u003e    \\\"stack_types\\\": [\\u003cbr\\u003e      \\\"identity\\\",\\u003cbr\\u003e      \\\"trend\\\"\\u003cbr\\u003e    ],\\u003cbr\\u003e    \\\"mlp_units\\\": [\\u003cbr\\u003e      [\\u003cbr\\u003e        16,\\u003cbr\\u003e        16\\u003cbr\\u003e      ],\\u003cbr\\u003e      [\\u003cbr\\u003e        16,\\u003cbr\\u003e        16\\u003cbr\\u003e      ],\\u003cbr\\u003e      [\\u003cbr\\u003e        16,\\u003cbr\\u003e        16\\u003cbr\\u003e      ]\\u003cbr\\u003e    ],\\u003cbr\\u003e    \\\"learning_rate\\\": 0.03036816581851595,\\u003cbr\\u003e    \\\"scaler_type\\\": \\\"standard\\\",\\u003cbr\\u003e    \\\"max_steps\\\": 5000,\\u003cbr\\u003e    \\\"batch_size\\\": 128,\\u003cbr\\u003e    \\\"windows_batch_size\\\": 128,\\u003cbr\\u003e    \\\"random_seed\\\": 20,\\u003cbr\\u003e    \\\"nr_experts\\\": 4,\\u003cbr\\u003e    \\\"top_k\\\": 2,\\u003cbr\\u003e    \\\"input_size\\\": 18,\\u003cbr\\u003e    \\\"step_size\\\": 1\\u003cbr\\u003e  },\\u003cbr\\u003e  \\\"user_attrs\\\": {\\u003cbr\\u003e    \\\"ALL_PARAMS\\\": {\\u003cbr\\u003e      \\\"h\\\": 18,\\u003cbr\\u003e      \\\"stack_types\\\": [\\u003cbr\\u003e        \\\"identity\\\",\\u003cbr\\u003e        \\\"trend\\\"\\u003cbr\\u003e      ],\\u003cbr\\u003e      \\\"mlp_units\\\": [\\u003cbr\\u003e        [\\u003cbr\\u003e          16,\\u003cbr\\u003e          16\\u003cbr\\u003e        ],\\u003cbr\\u003e        [\\u003cbr\\u003e          16,\\u003cbr\\u003e          16\\u003cbr\\u003e        ],\\u003cbr\\u003e        [\\u003cbr\\u003e          16,\\u003cbr\\u003e          16\\u003cbr\\u003e        ]\\u003cbr\\u003e      ],\\u003cbr\\u003e      \\\"learning_rate\\\": 0.03036816581851595,\\u003cbr\\u003e      \\\"scaler_type\\\": \\\"standard\\\",\\u003cbr\\u003e      \\\"max_steps\\\": 5000,\\u003cbr\\u003e      \\\"batch_size\\\": 128,\\u003cbr\\u003e      \\\"windows_batch_size\\\": 128,\\u003cbr\\u003e      \\\"random_seed\\\": 20,\\u003cbr\\u003e      \\\"nr_experts\\\": 4,\\u003cbr\\u003e      \\\"top_k\\\": 2,\\u003cbr\\u003e      \\\"input_size\\\": 18,\\u003cbr\\u003e      \\\"step_size\\\": 1\\u003cbr\\u003e    },\\u003cbr\\u003e    \\\"METRICS\\\": {\\u003cbr\\u003e      \\\"loss\\\": 679.8352661132812,\\u003cbr\\u003e      \\\"train_loss\\\": 4.465137481689453\\u003cbr\\u003e    }\\u003cbr\\u003e  }\\u003cbr\\u003e}\",\"{\\u003cbr\\u003e  \\\"number\\\": 20,\\u003cbr\\u003e  \\\"values\\\": [\\u003cbr\\u003e    837.36376953125\\u003cbr\\u003e  ],\\u003cbr\\u003e  \\\"params\\\": {\\u003cbr\\u003e    \\\"stack_types\\\": [\\u003cbr\\u003e      \\\"identity\\\",\\u003cbr\\u003e      \\\"trend\\\"\\u003cbr\\u003e    ],\\u003cbr\\u003e    \\\"mlp_units\\\": [\\u003cbr\\u003e      [\\u003cbr\\u003e        256,\\u003cbr\\u003e        256\\u003cbr\\u003e      ],\\u003cbr\\u003e      [\\u003cbr\\u003e        256,\\u003cbr\\u003e        256\\u003cbr\\u003e      ],\\u003cbr\\u003e      [\\u003cbr\\u003e        256,\\u003cbr\\u003e        256\\u003cbr\\u003e      ]\\u003cbr\\u003e    ],\\u003cbr\\u003e    \\\"learning_rate\\\": 0.02777332831255977,\\u003cbr\\u003e    \\\"scaler_type\\\": \\\"minmax\\\",\\u003cbr\\u003e    \\\"max_steps\\\": 500,\\u003cbr\\u003e    \\\"batch_size\\\": 256,\\u003cbr\\u003e    \\\"windows_batch_size\\\": 128,\\u003cbr\\u003e    \\\"random_seed\\\": 13,\\u003cbr\\u003e    \\\"nr_experts\\\": 4,\\u003cbr\\u003e    \\\"top_k\\\": 16,\\u003cbr\\u003e    \\\"input_size\\\": 72,\\u003cbr\\u003e    \\\"step_size\\\": 18\\u003cbr\\u003e  },\\u003cbr\\u003e  \\\"user_attrs\\\": {\\u003cbr\\u003e    \\\"ALL_PARAMS\\\": {\\u003cbr\\u003e      \\\"h\\\": 18,\\u003cbr\\u003e      \\\"stack_types\\\": [\\u003cbr\\u003e        \\\"identity\\\",\\u003cbr\\u003e        \\\"trend\\\"\\u003cbr\\u003e      ],\\u003cbr\\u003e      \\\"mlp_units\\\": [\\u003cbr\\u003e        [\\u003cbr\\u003e          256,\\u003cbr\\u003e          256\\u003cbr\\u003e        ],\\u003cbr\\u003e        [\\u003cbr\\u003e          256,\\u003cbr\\u003e          256\\u003cbr\\u003e        ],\\u003cbr\\u003e        [\\u003cbr\\u003e          256,\\u003cbr\\u003e          256\\u003cbr\\u003e        ]\\u003cbr\\u003e      ],\\u003cbr\\u003e      \\\"learning_rate\\\": 0.02777332831255977,\\u003cbr\\u003e      \\\"scaler_type\\\": \\\"minmax\\\",\\u003cbr\\u003e      \\\"max_steps\\\": 500,\\u003cbr\\u003e      \\\"batch_size\\\": 256,\\u003cbr\\u003e      \\\"windows_batch_size\\\": 128,\\u003cbr\\u003e      \\\"random_seed\\\": 13,\\u003cbr\\u003e      \\\"nr_experts\\\": 4,\\u003cbr\\u003e      \\\"top_k\\\": 16,\\u003cbr\\u003e      \\\"input_size\\\": 72,\\u003cbr\\u003e      \\\"step_size\\\": 18\\u003cbr\\u003e    },\\u003cbr\\u003e    \\\"METRICS\\\": {\\u003cbr\\u003e      \\\"loss\\\": 837.36376953125,\\u003cbr\\u003e      \\\"train_loss\\\": 0.2606201469898224\\u003cbr\\u003e    }\\u003cbr\\u003e  }\\u003cbr\\u003e}\",\"{\\u003cbr\\u003e  \\\"number\\\": 21,\\u003cbr\\u003e  \\\"values\\\": [\\u003cbr\\u003e    766.0140380859375\\u003cbr\\u003e  ],\\u003cbr\\u003e  \\\"params\\\": {\\u003cbr\\u003e    \\\"stack_types\\\": [\\u003cbr\\u003e      \\\"identity\\\",\\u003cbr\\u003e      \\\"trend\\\"\\u003cbr\\u003e    ],\\u003cbr\\u003e    \\\"mlp_units\\\": [\\u003cbr\\u003e      [\\u003cbr\\u003e        4,\\u003cbr\\u003e        4\\u003cbr\\u003e      ],\\u003cbr\\u003e      [\\u003cbr\\u003e        4,\\u003cbr\\u003e        4\\u003cbr\\u003e      ],\\u003cbr\\u003e      [\\u003cbr\\u003e        4,\\u003cbr\\u003e        4\\u003cbr\\u003e      ]\\u003cbr\\u003e    ],\\u003cbr\\u003e    \\\"learning_rate\\\": 0.0003009486284640884,\\u003cbr\\u003e    \\\"scaler_type\\\": \\\"standard\\\",\\u003cbr\\u003e    \\\"max_steps\\\": 1000,\\u003cbr\\u003e    \\\"batch_size\\\": 32,\\u003cbr\\u003e    \\\"windows_batch_size\\\": 128,\\u003cbr\\u003e    \\\"random_seed\\\": 16,\\u003cbr\\u003e    \\\"nr_experts\\\": 16,\\u003cbr\\u003e    \\\"top_k\\\": 8,\\u003cbr\\u003e    \\\"input_size\\\": 54,\\u003cbr\\u003e    \\\"step_size\\\": 1\\u003cbr\\u003e  },\\u003cbr\\u003e  \\\"user_attrs\\\": {\\u003cbr\\u003e    \\\"ALL_PARAMS\\\": {\\u003cbr\\u003e      \\\"h\\\": 18,\\u003cbr\\u003e      \\\"stack_types\\\": [\\u003cbr\\u003e        \\\"identity\\\",\\u003cbr\\u003e        \\\"trend\\\"\\u003cbr\\u003e      ],\\u003cbr\\u003e      \\\"mlp_units\\\": [\\u003cbr\\u003e        [\\u003cbr\\u003e          4,\\u003cbr\\u003e          4\\u003cbr\\u003e        ],\\u003cbr\\u003e        [\\u003cbr\\u003e          4,\\u003cbr\\u003e          4\\u003cbr\\u003e        ],\\u003cbr\\u003e        [\\u003cbr\\u003e          4,\\u003cbr\\u003e          4\\u003cbr\\u003e        ]\\u003cbr\\u003e      ],\\u003cbr\\u003e      \\\"learning_rate\\\": 0.0003009486284640884,\\u003cbr\\u003e      \\\"scaler_type\\\": \\\"standard\\\",\\u003cbr\\u003e      \\\"max_steps\\\": 1000,\\u003cbr\\u003e      \\\"batch_size\\\": 32,\\u003cbr\\u003e      \\\"windows_batch_size\\\": 128,\\u003cbr\\u003e      \\\"random_seed\\\": 16,\\u003cbr\\u003e      \\\"nr_experts\\\": 16,\\u003cbr\\u003e      \\\"top_k\\\": 8,\\u003cbr\\u003e      \\\"input_size\\\": 54,\\u003cbr\\u003e      \\\"step_size\\\": 1\\u003cbr\\u003e    },\\u003cbr\\u003e    \\\"METRICS\\\": {\\u003cbr\\u003e      \\\"loss\\\": 766.0140380859375,\\u003cbr\\u003e      \\\"train_loss\\\": 17.616622924804688\\u003cbr\\u003e    }\\u003cbr\\u003e  }\\u003cbr\\u003e}\"],\"textposition\":\"none\",\"x\":[535250.0619999999,273710.17,438963.393,60089.366,16435.722999999998,163654.215,39630.756,134911.14099999997,29015.165,44710.279,286128.75,203075.37600000002,194060.62900000002,202580.32700000002,527783.769,50625.903,269455.359,200595.154,29502.634000000002,119170.973],\"y\":[0,1,2,3,4,5,6,7,8,9,11,12,13,15,16,17,18,19,20,21],\"type\":\"bar\"},{\"base\":[\"2025-03-18T17:14:56.107878\"],\"hovertemplate\":\"%{text}\\u003cextra\\u003eFAIL\\u003c\\u002fextra\\u003e\",\"marker\":{\"color\":\"red\"},\"name\":\"FAIL\",\"orientation\":\"h\",\"text\":[\"{\\u003cbr\\u003e  \\\"number\\\": 23,\\u003cbr\\u003e  \\\"values\\\": null,\\u003cbr\\u003e  \\\"params\\\": {\\u003cbr\\u003e    \\\"stack_types\\\": [\\u003cbr\\u003e      \\\"identity\\\",\\u003cbr\\u003e      \\\"trend\\\"\\u003cbr\\u003e    ],\\u003cbr\\u003e    \\\"mlp_units\\\": [\\u003cbr\\u003e      [\\u003cbr\\u003e        1024,\\u003cbr\\u003e        1024\\u003cbr\\u003e      ],\\u003cbr\\u003e      [\\u003cbr\\u003e        1024,\\u003cbr\\u003e        1024\\u003cbr\\u003e      ],\\u003cbr\\u003e      [\\u003cbr\\u003e        1024,\\u003cbr\\u003e        1024\\u003cbr\\u003e      ]\\u003cbr\\u003e    ],\\u003cbr\\u003e    \\\"learning_rate\\\": 0.027088290442660735,\\u003cbr\\u003e    \\\"scaler_type\\\": \\\"standard\\\",\\u003cbr\\u003e    \\\"max_steps\\\": 5000,\\u003cbr\\u003e    \\\"batch_size\\\": 128,\\u003cbr\\u003e    \\\"windows_batch_size\\\": 1024,\\u003cbr\\u003e    \\\"random_seed\\\": 10,\\u003cbr\\u003e    \\\"nr_experts\\\": 8\\u003cbr\\u003e  }\\u003cbr\\u003e}\"],\"textposition\":\"none\",\"x\":[286.216],\"y\":[23],\"type\":\"bar\"},{\"base\":[\"2025-03-18T16:13:13.149670\",\"2025-03-18T16:25:18.893052\",\"2025-03-18T16:49:03.551709\"],\"hovertemplate\":\"%{text}\\u003cextra\\u003eRUNNING\\u003c\\u002fextra\\u003e\",\"marker\":{\"color\":\"green\"},\"name\":\"RUNNING\",\"orientation\":\"h\",\"text\":[\"{\\u003cbr\\u003e  \\\"number\\\": 10,\\u003cbr\\u003e  \\\"values\\\": null,\\u003cbr\\u003e  \\\"params\\\": {\\u003cbr\\u003e    \\\"stack_types\\\": [\\u003cbr\\u003e      \\\"identity\\\",\\u003cbr\\u003e      \\\"trend\\\",\\u003cbr\\u003e      \\\"seasonality\\\"\\u003cbr\\u003e    ],\\u003cbr\\u003e    \\\"mlp_units\\\": [\\u003cbr\\u003e      [\\u003cbr\\u003e        8,\\u003cbr\\u003e        8\\u003cbr\\u003e      ],\\u003cbr\\u003e      [\\u003cbr\\u003e        8,\\u003cbr\\u003e        8\\u003cbr\\u003e      ],\\u003cbr\\u003e      [\\u003cbr\\u003e        8,\\u003cbr\\u003e        8\\u003cbr\\u003e      ]\\u003cbr\\u003e    ],\\u003cbr\\u003e    \\\"learning_rate\\\": 0.00011153138903761713,\\u003cbr\\u003e    \\\"scaler_type\\\": \\\"standard\\\",\\u003cbr\\u003e    \\\"max_steps\\\": 5000,\\u003cbr\\u003e    \\\"batch_size\\\": 128,\\u003cbr\\u003e    \\\"windows_batch_size\\\": 1024,\\u003cbr\\u003e    \\\"random_seed\\\": 18,\\u003cbr\\u003e    \\\"nr_experts\\\": 4,\\u003cbr\\u003e    \\\"top_k\\\": 8,\\u003cbr\\u003e    \\\"input_size\\\": 72,\\u003cbr\\u003e    \\\"step_size\\\": 1\\u003cbr\\u003e  }\\u003cbr\\u003e}\",\"{\\u003cbr\\u003e  \\\"number\\\": 14,\\u003cbr\\u003e  \\\"values\\\": null,\\u003cbr\\u003e  \\\"params\\\": {\\u003cbr\\u003e    \\\"stack_types\\\": [\\u003cbr\\u003e      \\\"identity\\\",\\u003cbr\\u003e      \\\"trend\\\"\\u003cbr\\u003e    ],\\u003cbr\\u003e    \\\"mlp_units\\\": [\\u003cbr\\u003e      [\\u003cbr\\u003e        256,\\u003cbr\\u003e        256\\u003cbr\\u003e      ],\\u003cbr\\u003e      [\\u003cbr\\u003e        256,\\u003cbr\\u003e        256\\u003cbr\\u003e      ],\\u003cbr\\u003e      [\\u003cbr\\u003e        256,\\u003cbr\\u003e        256\\u003cbr\\u003e      ]\\u003cbr\\u003e    ],\\u003cbr\\u003e    \\\"learning_rate\\\": 0.011537855008197196,\\u003cbr\\u003e    \\\"scaler_type\\\": \\\"standard\\\",\\u003cbr\\u003e    \\\"max_steps\\\": 5000,\\u003cbr\\u003e    \\\"batch_size\\\": 128,\\u003cbr\\u003e    \\\"windows_batch_size\\\": 128,\\u003cbr\\u003e    \\\"random_seed\\\": 14,\\u003cbr\\u003e    \\\"nr_experts\\\": 4,\\u003cbr\\u003e    \\\"top_k\\\": 16,\\u003cbr\\u003e    \\\"input_size\\\": 54,\\u003cbr\\u003e    \\\"step_size\\\": 1\\u003cbr\\u003e  }\\u003cbr\\u003e}\",\"{\\u003cbr\\u003e  \\\"number\\\": 22,\\u003cbr\\u003e  \\\"values\\\": null,\\u003cbr\\u003e  \\\"params\\\": {\\u003cbr\\u003e    \\\"stack_types\\\": [\\u003cbr\\u003e      \\\"identity\\\",\\u003cbr\\u003e      \\\"trend\\\"\\u003cbr\\u003e    ],\\u003cbr\\u003e    \\\"mlp_units\\\": [\\u003cbr\\u003e      [\\u003cbr\\u003e        1024,\\u003cbr\\u003e        1024\\u003cbr\\u003e      ],\\u003cbr\\u003e      [\\u003cbr\\u003e        1024,\\u003cbr\\u003e        1024\\u003cbr\\u003e      ],\\u003cbr\\u003e      [\\u003cbr\\u003e        1024,\\u003cbr\\u003e        1024\\u003cbr\\u003e      ]\\u003cbr\\u003e    ],\\u003cbr\\u003e    \\\"learning_rate\\\": 0.005840400344232055,\\u003cbr\\u003e    \\\"scaler_type\\\": \\\"standard\\\",\\u003cbr\\u003e    \\\"max_steps\\\": 5000,\\u003cbr\\u003e    \\\"batch_size\\\": 128,\\u003cbr\\u003e    \\\"windows_batch_size\\\": 1024,\\u003cbr\\u003e    \\\"random_seed\\\": 10,\\u003cbr\\u003e    \\\"nr_experts\\\": 8,\\u003cbr\\u003e    \\\"top_k\\\": 8,\\u003cbr\\u003e    \\\"input_size\\\": 54,\\u003cbr\\u003e    \\\"step_size\\\": 1\\u003cbr\\u003e  }\\u003cbr\\u003e}\"],\"textposition\":\"none\",\"x\":[3704244.424,2978501.042,1553842.385],\"y\":[10,14,22],\"type\":\"bar\"}],                        {\"template\":{\"data\":{\"histogram2dcontour\":[{\"type\":\"histogram2dcontour\",\"colorbar\":{\"outlinewidth\":0,\"ticks\":\"\"},\"colorscale\":[[0.0,\"#0d0887\"],[0.1111111111111111,\"#46039f\"],[0.2222222222222222,\"#7201a8\"],[0.3333333333333333,\"#9c179e\"],[0.4444444444444444,\"#bd3786\"],[0.5555555555555556,\"#d8576b\"],[0.6666666666666666,\"#ed7953\"],[0.7777777777777778,\"#fb9f3a\"],[0.8888888888888888,\"#fdca26\"],[1.0,\"#f0f921\"]]}],\"choropleth\":[{\"type\":\"choropleth\",\"colorbar\":{\"outlinewidth\":0,\"ticks\":\"\"}}],\"histogram2d\":[{\"type\":\"histogram2d\",\"colorbar\":{\"outlinewidth\":0,\"ticks\":\"\"},\"colorscale\":[[0.0,\"#0d0887\"],[0.1111111111111111,\"#46039f\"],[0.2222222222222222,\"#7201a8\"],[0.3333333333333333,\"#9c179e\"],[0.4444444444444444,\"#bd3786\"],[0.5555555555555556,\"#d8576b\"],[0.6666666666666666,\"#ed7953\"],[0.7777777777777778,\"#fb9f3a\"],[0.8888888888888888,\"#fdca26\"],[1.0,\"#f0f921\"]]}],\"heatmap\":[{\"type\":\"heatmap\",\"colorbar\":{\"outlinewidth\":0,\"ticks\":\"\"},\"colorscale\":[[0.0,\"#0d0887\"],[0.1111111111111111,\"#46039f\"],[0.2222222222222222,\"#7201a8\"],[0.3333333333333333,\"#9c179e\"],[0.4444444444444444,\"#bd3786\"],[0.5555555555555556,\"#d8576b\"],[0.6666666666666666,\"#ed7953\"],[0.7777777777777778,\"#fb9f3a\"],[0.8888888888888888,\"#fdca26\"],[1.0,\"#f0f921\"]]}],\"contourcarpet\":[{\"type\":\"contourcarpet\",\"colorbar\":{\"outlinewidth\":0,\"ticks\":\"\"}}],\"contour\":[{\"type\":\"contour\",\"colorbar\":{\"outlinewidth\":0,\"ticks\":\"\"},\"colorscale\":[[0.0,\"#0d0887\"],[0.1111111111111111,\"#46039f\"],[0.2222222222222222,\"#7201a8\"],[0.3333333333333333,\"#9c179e\"],[0.4444444444444444,\"#bd3786\"],[0.5555555555555556,\"#d8576b\"],[0.6666666666666666,\"#ed7953\"],[0.7777777777777778,\"#fb9f3a\"],[0.8888888888888888,\"#fdca26\"],[1.0,\"#f0f921\"]]}],\"surface\":[{\"type\":\"surface\",\"colorbar\":{\"outlinewidth\":0,\"ticks\":\"\"},\"colorscale\":[[0.0,\"#0d0887\"],[0.1111111111111111,\"#46039f\"],[0.2222222222222222,\"#7201a8\"],[0.3333333333333333,\"#9c179e\"],[0.4444444444444444,\"#bd3786\"],[0.5555555555555556,\"#d8576b\"],[0.6666666666666666,\"#ed7953\"],[0.7777777777777778,\"#fb9f3a\"],[0.8888888888888888,\"#fdca26\"],[1.0,\"#f0f921\"]]}],\"mesh3d\":[{\"type\":\"mesh3d\",\"colorbar\":{\"outlinewidth\":0,\"ticks\":\"\"}}],\"scatter\":[{\"fillpattern\":{\"fillmode\":\"overlay\",\"size\":10,\"solidity\":0.2},\"type\":\"scatter\"}],\"parcoords\":[{\"type\":\"parcoords\",\"line\":{\"colorbar\":{\"outlinewidth\":0,\"ticks\":\"\"}}}],\"scatterpolargl\":[{\"type\":\"scatterpolargl\",\"marker\":{\"colorbar\":{\"outlinewidth\":0,\"ticks\":\"\"}}}],\"bar\":[{\"error_x\":{\"color\":\"#2a3f5f\"},\"error_y\":{\"color\":\"#2a3f5f\"},\"marker\":{\"line\":{\"color\":\"#E5ECF6\",\"width\":0.5},\"pattern\":{\"fillmode\":\"overlay\",\"size\":10,\"solidity\":0.2}},\"type\":\"bar\"}],\"scattergeo\":[{\"type\":\"scattergeo\",\"marker\":{\"colorbar\":{\"outlinewidth\":0,\"ticks\":\"\"}}}],\"scatterpolar\":[{\"type\":\"scatterpolar\",\"marker\":{\"colorbar\":{\"outlinewidth\":0,\"ticks\":\"\"}}}],\"histogram\":[{\"marker\":{\"pattern\":{\"fillmode\":\"overlay\",\"size\":10,\"solidity\":0.2}},\"type\":\"histogram\"}],\"scattergl\":[{\"type\":\"scattergl\",\"marker\":{\"colorbar\":{\"outlinewidth\":0,\"ticks\":\"\"}}}],\"scatter3d\":[{\"type\":\"scatter3d\",\"line\":{\"colorbar\":{\"outlinewidth\":0,\"ticks\":\"\"}},\"marker\":{\"colorbar\":{\"outlinewidth\":0,\"ticks\":\"\"}}}],\"scattermap\":[{\"type\":\"scattermap\",\"marker\":{\"colorbar\":{\"outlinewidth\":0,\"ticks\":\"\"}}}],\"scattermapbox\":[{\"type\":\"scattermapbox\",\"marker\":{\"colorbar\":{\"outlinewidth\":0,\"ticks\":\"\"}}}],\"scatterternary\":[{\"type\":\"scatterternary\",\"marker\":{\"colorbar\":{\"outlinewidth\":0,\"ticks\":\"\"}}}],\"scattercarpet\":[{\"type\":\"scattercarpet\",\"marker\":{\"colorbar\":{\"outlinewidth\":0,\"ticks\":\"\"}}}],\"carpet\":[{\"aaxis\":{\"endlinecolor\":\"#2a3f5f\",\"gridcolor\":\"white\",\"linecolor\":\"white\",\"minorgridcolor\":\"white\",\"startlinecolor\":\"#2a3f5f\"},\"baxis\":{\"endlinecolor\":\"#2a3f5f\",\"gridcolor\":\"white\",\"linecolor\":\"white\",\"minorgridcolor\":\"white\",\"startlinecolor\":\"#2a3f5f\"},\"type\":\"carpet\"}],\"table\":[{\"cells\":{\"fill\":{\"color\":\"#EBF0F8\"},\"line\":{\"color\":\"white\"}},\"header\":{\"fill\":{\"color\":\"#C8D4E3\"},\"line\":{\"color\":\"white\"}},\"type\":\"table\"}],\"barpolar\":[{\"marker\":{\"line\":{\"color\":\"#E5ECF6\",\"width\":0.5},\"pattern\":{\"fillmode\":\"overlay\",\"size\":10,\"solidity\":0.2}},\"type\":\"barpolar\"}],\"pie\":[{\"automargin\":true,\"type\":\"pie\"}]},\"layout\":{\"autotypenumbers\":\"strict\",\"colorway\":[\"#636efa\",\"#EF553B\",\"#00cc96\",\"#ab63fa\",\"#FFA15A\",\"#19d3f3\",\"#FF6692\",\"#B6E880\",\"#FF97FF\",\"#FECB52\"],\"font\":{\"color\":\"#2a3f5f\"},\"hovermode\":\"closest\",\"hoverlabel\":{\"align\":\"left\"},\"paper_bgcolor\":\"white\",\"plot_bgcolor\":\"#E5ECF6\",\"polar\":{\"bgcolor\":\"#E5ECF6\",\"angularaxis\":{\"gridcolor\":\"white\",\"linecolor\":\"white\",\"ticks\":\"\"},\"radialaxis\":{\"gridcolor\":\"white\",\"linecolor\":\"white\",\"ticks\":\"\"}},\"ternary\":{\"bgcolor\":\"#E5ECF6\",\"aaxis\":{\"gridcolor\":\"white\",\"linecolor\":\"white\",\"ticks\":\"\"},\"baxis\":{\"gridcolor\":\"white\",\"linecolor\":\"white\",\"ticks\":\"\"},\"caxis\":{\"gridcolor\":\"white\",\"linecolor\":\"white\",\"ticks\":\"\"}},\"coloraxis\":{\"colorbar\":{\"outlinewidth\":0,\"ticks\":\"\"}},\"colorscale\":{\"sequential\":[[0.0,\"#0d0887\"],[0.1111111111111111,\"#46039f\"],[0.2222222222222222,\"#7201a8\"],[0.3333333333333333,\"#9c179e\"],[0.4444444444444444,\"#bd3786\"],[0.5555555555555556,\"#d8576b\"],[0.6666666666666666,\"#ed7953\"],[0.7777777777777778,\"#fb9f3a\"],[0.8888888888888888,\"#fdca26\"],[1.0,\"#f0f921\"]],\"sequentialminus\":[[0.0,\"#0d0887\"],[0.1111111111111111,\"#46039f\"],[0.2222222222222222,\"#7201a8\"],[0.3333333333333333,\"#9c179e\"],[0.4444444444444444,\"#bd3786\"],[0.5555555555555556,\"#d8576b\"],[0.6666666666666666,\"#ed7953\"],[0.7777777777777778,\"#fb9f3a\"],[0.8888888888888888,\"#fdca26\"],[1.0,\"#f0f921\"]],\"diverging\":[[0,\"#8e0152\"],[0.1,\"#c51b7d\"],[0.2,\"#de77ae\"],[0.3,\"#f1b6da\"],[0.4,\"#fde0ef\"],[0.5,\"#f7f7f7\"],[0.6,\"#e6f5d0\"],[0.7,\"#b8e186\"],[0.8,\"#7fbc41\"],[0.9,\"#4d9221\"],[1,\"#276419\"]]},\"xaxis\":{\"gridcolor\":\"white\",\"linecolor\":\"white\",\"ticks\":\"\",\"title\":{\"standoff\":15},\"zerolinecolor\":\"white\",\"automargin\":true,\"zerolinewidth\":2},\"yaxis\":{\"gridcolor\":\"white\",\"linecolor\":\"white\",\"ticks\":\"\",\"title\":{\"standoff\":15},\"zerolinecolor\":\"white\",\"automargin\":true,\"zerolinewidth\":2},\"scene\":{\"xaxis\":{\"backgroundcolor\":\"#E5ECF6\",\"gridcolor\":\"white\",\"linecolor\":\"white\",\"showbackground\":true,\"ticks\":\"\",\"zerolinecolor\":\"white\",\"gridwidth\":2},\"yaxis\":{\"backgroundcolor\":\"#E5ECF6\",\"gridcolor\":\"white\",\"linecolor\":\"white\",\"showbackground\":true,\"ticks\":\"\",\"zerolinecolor\":\"white\",\"gridwidth\":2},\"zaxis\":{\"backgroundcolor\":\"#E5ECF6\",\"gridcolor\":\"white\",\"linecolor\":\"white\",\"showbackground\":true,\"ticks\":\"\",\"zerolinecolor\":\"white\",\"gridwidth\":2}},\"shapedefaults\":{\"line\":{\"color\":\"#2a3f5f\"}},\"annotationdefaults\":{\"arrowcolor\":\"#2a3f5f\",\"arrowhead\":0,\"arrowwidth\":1},\"geo\":{\"bgcolor\":\"white\",\"landcolor\":\"#E5ECF6\",\"subunitcolor\":\"white\",\"showland\":true,\"showlakes\":true,\"lakecolor\":\"white\"},\"title\":{\"x\":0.05},\"mapbox\":{\"style\":\"light\"}}},\"xaxis\":{\"type\":\"date\",\"title\":{\"text\":\"Datetime\"}},\"title\":{\"text\":\"Timeline Plot\"},\"yaxis\":{\"title\":{\"text\":\"Trial\"}},\"showlegend\":true},                        {\"responsive\": true}                    )                };            </script>        </div>"
      ],
      "text/plain": [
       "Figure({\n",
       "    'data': [{'base': [2025-03-18T15:44:16.391042, 2025-03-18T15:53:11.699340,\n",
       "                       2025-03-18T15:57:45.465008, 2025-03-18T16:05:04.466545,\n",
       "                       2025-03-18T16:06:04.603624, 2025-03-18T16:06:21.058867,\n",
       "                       2025-03-18T16:09:04.751826, 2025-03-18T16:09:44.424655,\n",
       "                       2025-03-18T16:11:59.368822, 2025-03-18T16:12:28.405889,\n",
       "                       2025-03-18T16:13:55.492567, 2025-03-18T16:18:41.670058,\n",
       "                       2025-03-18T16:22:04.779274, 2025-03-18T16:25:43.523532,\n",
       "                       2025-03-18T16:29:06.133419, 2025-03-18T16:37:53.952239,\n",
       "                       2025-03-18T16:38:44.627591, 2025-03-18T16:43:14.142797,\n",
       "                       2025-03-18T16:46:34.782873, 2025-03-18T16:47:04.343287],\n",
       "              'hovertemplate': '%{text}<extra>COMPLETE</extra>',\n",
       "              'marker': {'color': 'blue'},\n",
       "              'name': 'COMPLETE',\n",
       "              'orientation': 'h',\n",
       "              'text': [{<br>  \"number\": 0,<br>  \"values\": [<br>\n",
       "                       772.61767578125<br>  ],<br>  \"params\": {<br>\n",
       "                       \"stack_types\": [<br>      \"identity\",<br>      \"trend\"<br>\n",
       "                       ],<br>    \"mlp_units\": [<br>      [<br>        512,<br>\n",
       "                       512<br>      ],<br>      [<br>        512,<br>\n",
       "                       512<br>      ],<br>      [<br>        512,<br>\n",
       "                       512<br>      ]<br>    ],<br>    \"learning_rate\":\n",
       "                       0.0005279266365389877,<br>    \"scaler_type\": \"minmax\",<br>\n",
       "                       \"max_steps\": 5000,<br>    \"batch_size\": 64,<br>\n",
       "                       \"windows_batch_size\": 512,<br>    \"random_seed\": 3,<br>\n",
       "                       \"nr_experts\": 8,<br>    \"top_k\": 4,<br>    \"input_size\":\n",
       "                       36,<br>    \"step_size\": 18<br>  },<br>  \"user_attrs\": {<br>\n",
       "                       \"ALL_PARAMS\": {<br>      \"h\": 18,<br>      \"stack_types\":\n",
       "                       [<br>        \"identity\",<br>        \"trend\"<br>      ],<br>\n",
       "                       \"mlp_units\": [<br>        [<br>          512,<br>\n",
       "                       512<br>        ],<br>        [<br>          512,<br>\n",
       "                       512<br>        ],<br>        [<br>          512,<br>\n",
       "                       512<br>        ]<br>      ],<br>      \"learning_rate\":\n",
       "                       0.0005279266365389877,<br>      \"scaler_type\": \"minmax\",<br>\n",
       "                       \"max_steps\": 5000,<br>      \"batch_size\": 64,<br>\n",
       "                       \"windows_batch_size\": 512,<br>      \"random_seed\": 3,<br>\n",
       "                       \"nr_experts\": 8,<br>      \"top_k\": 4,<br>      \"input_size\":\n",
       "                       36,<br>      \"step_size\": 18<br>    },<br>    \"METRICS\":\n",
       "                       {<br>      \"loss\": 772.61767578125,<br>      \"train_loss\":\n",
       "                       0.04782214015722275<br>    }<br>  }<br>}, {<br>  \"number\":\n",
       "                       1,<br>  \"values\": [<br>    649.74267578125<br>  ],<br>\n",
       "                       \"params\": {<br>    \"stack_types\": [<br>      \"identity\",<br>\n",
       "                       \"trend\",<br>      \"seasonality\"<br>    ],<br>\n",
       "                       \"mlp_units\": [<br>      [<br>        8,<br>        8<br>\n",
       "                       ],<br>      [<br>        8,<br>        8<br>      ],<br>\n",
       "                       [<br>        8,<br>        8<br>      ]<br>    ],<br>\n",
       "                       \"learning_rate\": 0.0025227335709233313,<br>\n",
       "                       \"scaler_type\": \"standard\",<br>    \"max_steps\": 5000,<br>\n",
       "                       \"batch_size\": 128,<br>    \"windows_batch_size\": 512,<br>\n",
       "                       \"random_seed\": 17,<br>    \"nr_experts\": 4,<br>    \"top_k\":\n",
       "                       8,<br>    \"input_size\": 36,<br>    \"step_size\": 1<br>\n",
       "                       },<br>  \"user_attrs\": {<br>    \"ALL_PARAMS\": {<br>      \"h\":\n",
       "                       18,<br>      \"stack_types\": [<br>        \"identity\",<br>\n",
       "                       \"trend\",<br>        \"seasonality\"<br>      ],<br>\n",
       "                       \"mlp_units\": [<br>        [<br>          8,<br>\n",
       "                       8<br>        ],<br>        [<br>          8,<br>\n",
       "                       8<br>        ],<br>        [<br>          8,<br>\n",
       "                       8<br>        ]<br>      ],<br>      \"learning_rate\":\n",
       "                       0.0025227335709233313,<br>      \"scaler_type\":\n",
       "                       \"standard\",<br>      \"max_steps\": 5000,<br>\n",
       "                       \"batch_size\": 128,<br>      \"windows_batch_size\": 512,<br>\n",
       "                       \"random_seed\": 17,<br>      \"nr_experts\": 4,<br>\n",
       "                       \"top_k\": 8,<br>      \"input_size\": 36,<br>      \"step_size\":\n",
       "                       1<br>    },<br>    \"METRICS\": {<br>      \"loss\":\n",
       "                       649.74267578125,<br>      \"train_loss\":\n",
       "                       10.978531837463379<br>    }<br>  }<br>}, {<br>  \"number\":\n",
       "                       2,<br>  \"values\": [<br>    706.9453735351562<br>  ],<br>\n",
       "                       \"params\": {<br>    \"stack_types\": [<br>      \"identity\",<br>\n",
       "                       \"trend\",<br>      \"seasonality\"<br>    ],<br>\n",
       "                       \"mlp_units\": [<br>      [<br>        32,<br>        32<br>\n",
       "                       ],<br>      [<br>        32,<br>        32<br>      ],<br>\n",
       "                       [<br>        32,<br>        32<br>      ]<br>    ],<br>\n",
       "                       \"learning_rate\": 0.08846747305656116,<br>    \"scaler_type\":\n",
       "                       \"standard\",<br>    \"max_steps\": 5000,<br>    \"batch_size\":\n",
       "                       64,<br>    \"windows_batch_size\": 512,<br>    \"random_seed\":\n",
       "                       6,<br>    \"nr_experts\": 8,<br>    \"top_k\": 16,<br>\n",
       "                       \"input_size\": 18,<br>    \"step_size\": 1<br>  },<br>\n",
       "                       \"user_attrs\": {<br>    \"ALL_PARAMS\": {<br>      \"h\": 18,<br>\n",
       "                       \"stack_types\": [<br>        \"identity\",<br>\n",
       "                       \"trend\",<br>        \"seasonality\"<br>      ],<br>\n",
       "                       \"mlp_units\": [<br>        [<br>          32,<br>\n",
       "                       32<br>        ],<br>        [<br>          32,<br>\n",
       "                       32<br>        ],<br>        [<br>          32,<br>\n",
       "                       32<br>        ]<br>      ],<br>      \"learning_rate\":\n",
       "                       0.08846747305656116,<br>      \"scaler_type\": \"standard\",<br>\n",
       "                       \"max_steps\": 5000,<br>      \"batch_size\": 64,<br>\n",
       "                       \"windows_batch_size\": 512,<br>      \"random_seed\": 6,<br>\n",
       "                       \"nr_experts\": 8,<br>      \"top_k\": 16,<br>\n",
       "                       \"input_size\": 18,<br>      \"step_size\": 1<br>    },<br>\n",
       "                       \"METRICS\": {<br>      \"loss\": 706.9453735351562,<br>\n",
       "                       \"train_loss\": 7.065622329711914<br>    }<br>  }<br>}, {<br>\n",
       "                       \"number\": 3,<br>  \"values\": [<br>    859.8711547851562<br>\n",
       "                       ],<br>  \"params\": {<br>    \"stack_types\": [<br>\n",
       "                       \"identity\",<br>      \"trend\",<br>      \"seasonality\"<br>\n",
       "                       ],<br>    \"mlp_units\": [<br>      [<br>        64,<br>\n",
       "                       64<br>      ],<br>      [<br>        64,<br>        64<br>\n",
       "                       ],<br>      [<br>        64,<br>        64<br>      ]<br>\n",
       "                       ],<br>    \"learning_rate\": 0.08741730112225618,<br>\n",
       "                       \"scaler_type\": \"robust\",<br>    \"max_steps\": 1000,<br>\n",
       "                       \"batch_size\": 32,<br>    \"windows_batch_size\": 512,<br>\n",
       "                       \"random_seed\": 12,<br>    \"nr_experts\": 4,<br>    \"top_k\":\n",
       "                       8,<br>    \"input_size\": 90,<br>    \"step_size\": 1<br>\n",
       "                       },<br>  \"user_attrs\": {<br>    \"ALL_PARAMS\": {<br>      \"h\":\n",
       "                       18,<br>      \"stack_types\": [<br>        \"identity\",<br>\n",
       "                       \"trend\",<br>        \"seasonality\"<br>      ],<br>\n",
       "                       \"mlp_units\": [<br>        [<br>          64,<br>\n",
       "                       64<br>        ],<br>        [<br>          64,<br>\n",
       "                       64<br>        ],<br>        [<br>          64,<br>\n",
       "                       64<br>        ]<br>      ],<br>      \"learning_rate\":\n",
       "                       0.08741730112225618,<br>      \"scaler_type\": \"robust\",<br>\n",
       "                       \"max_steps\": 1000,<br>      \"batch_size\": 32,<br>\n",
       "                       \"windows_batch_size\": 512,<br>      \"random_seed\": 12,<br>\n",
       "                       \"nr_experts\": 4,<br>      \"top_k\": 8,<br>      \"input_size\":\n",
       "                       90,<br>      \"step_size\": 1<br>    },<br>    \"METRICS\":\n",
       "                       {<br>      \"loss\": 859.8711547851562,<br>      \"train_loss\":\n",
       "                       1.5252292156219482<br>    }<br>  }<br>}, {<br>  \"number\":\n",
       "                       4,<br>  \"values\": [<br>    704.5496215820312<br>  ],<br>\n",
       "                       \"params\": {<br>    \"stack_types\": [<br>      \"identity\",<br>\n",
       "                       \"trend\",<br>      \"seasonality\"<br>    ],<br>\n",
       "                       \"mlp_units\": [<br>      [<br>        32,<br>        32<br>\n",
       "                       ],<br>      [<br>        32,<br>        32<br>      ],<br>\n",
       "                       [<br>        32,<br>        32<br>      ]<br>    ],<br>\n",
       "                       \"learning_rate\": 0.001127190815263976,<br>    \"scaler_type\":\n",
       "                       null,<br>    \"max_steps\": 500,<br>    \"batch_size\": 64,<br>\n",
       "                       \"windows_batch_size\": 512,<br>    \"random_seed\": 8,<br>\n",
       "                       \"nr_experts\": 2,<br>    \"top_k\": 2,<br>    \"input_size\":\n",
       "                       36,<br>    \"step_size\": 18<br>  },<br>  \"user_attrs\": {<br>\n",
       "                       \"ALL_PARAMS\": {<br>      \"h\": 18,<br>      \"stack_types\":\n",
       "                       [<br>        \"identity\",<br>        \"trend\",<br>\n",
       "                       \"seasonality\"<br>      ],<br>      \"mlp_units\": [<br>\n",
       "                       [<br>          32,<br>          32<br>        ],<br>\n",
       "                       [<br>          32,<br>          32<br>        ],<br>\n",
       "                       [<br>          32,<br>          32<br>        ]<br>\n",
       "                       ],<br>      \"learning_rate\": 0.001127190815263976,<br>\n",
       "                       \"scaler_type\": null,<br>      \"max_steps\": 500,<br>\n",
       "                       \"batch_size\": 64,<br>      \"windows_batch_size\": 512,<br>\n",
       "                       \"random_seed\": 8,<br>      \"nr_experts\": 2,<br>\n",
       "                       \"top_k\": 2,<br>      \"input_size\": 36,<br>      \"step_size\":\n",
       "                       18<br>    },<br>    \"METRICS\": {<br>      \"loss\":\n",
       "                       704.5496215820312,<br>      \"train_loss\":\n",
       "                       529.3162231445312<br>    }<br>  }<br>}, {<br>  \"number\":\n",
       "                       5,<br>  \"values\": [<br>    773.0947265625<br>  ],<br>\n",
       "                       \"params\": {<br>    \"stack_types\": [<br>      \"identity\",<br>\n",
       "                       \"trend\"<br>    ],<br>    \"mlp_units\": [<br>      [<br>\n",
       "                       32,<br>        32<br>      ],<br>      [<br>        32,<br>\n",
       "                       32<br>      ],<br>      [<br>        32,<br>        32<br>\n",
       "                       ]<br>    ],<br>    \"learning_rate\":\n",
       "                       0.0030033348247970834,<br>    \"scaler_type\": \"robust\",<br>\n",
       "                       \"max_steps\": 5000,<br>    \"batch_size\": 128,<br>\n",
       "                       \"windows_batch_size\": 512,<br>    \"random_seed\": 6,<br>\n",
       "                       \"nr_experts\": 2,<br>    \"top_k\": 2,<br>    \"input_size\":\n",
       "                       90,<br>    \"step_size\": 1<br>  },<br>  \"user_attrs\": {<br>\n",
       "                       \"ALL_PARAMS\": {<br>      \"h\": 18,<br>      \"stack_types\":\n",
       "                       [<br>        \"identity\",<br>        \"trend\"<br>      ],<br>\n",
       "                       \"mlp_units\": [<br>        [<br>          32,<br>\n",
       "                       32<br>        ],<br>        [<br>          32,<br>\n",
       "                       32<br>        ],<br>        [<br>          32,<br>\n",
       "                       32<br>        ]<br>      ],<br>      \"learning_rate\":\n",
       "                       0.0030033348247970834,<br>      \"scaler_type\": \"robust\",<br>\n",
       "                       \"max_steps\": 5000,<br>      \"batch_size\": 128,<br>\n",
       "                       \"windows_batch_size\": 512,<br>      \"random_seed\": 6,<br>\n",
       "                       \"nr_experts\": 2,<br>      \"top_k\": 2,<br>      \"input_size\":\n",
       "                       90,<br>      \"step_size\": 1<br>    },<br>    \"METRICS\":\n",
       "                       {<br>      \"loss\": 773.0947265625,<br>      \"train_loss\":\n",
       "                       0.7770071029663086<br>    }<br>  }<br>}, {<br>  \"number\":\n",
       "                       6,<br>  \"values\": [<br>    699.616943359375<br>  ],<br>\n",
       "                       \"params\": {<br>    \"stack_types\": [<br>      \"identity\",<br>\n",
       "                       \"trend\",<br>      \"seasonality\"<br>    ],<br>\n",
       "                       \"mlp_units\": [<br>      [<br>        4,<br>        4<br>\n",
       "                       ],<br>      [<br>        4,<br>        4<br>      ],<br>\n",
       "                       [<br>        4,<br>        4<br>      ]<br>    ],<br>\n",
       "                       \"learning_rate\": 0.013476882502117836,<br>    \"scaler_type\":\n",
       "                       null,<br>    \"max_steps\": 1000,<br>    \"batch_size\":\n",
       "                       256,<br>    \"windows_batch_size\": 256,<br>    \"random_seed\":\n",
       "                       11,<br>    \"nr_experts\": 2,<br>    \"top_k\": 8,<br>\n",
       "                       \"input_size\": 36,<br>    \"step_size\": 18<br>  },<br>\n",
       "                       \"user_attrs\": {<br>    \"ALL_PARAMS\": {<br>      \"h\": 18,<br>\n",
       "                       \"stack_types\": [<br>        \"identity\",<br>\n",
       "                       \"trend\",<br>        \"seasonality\"<br>      ],<br>\n",
       "                       \"mlp_units\": [<br>        [<br>          4,<br>\n",
       "                       4<br>        ],<br>        [<br>          4,<br>\n",
       "                       4<br>        ],<br>        [<br>          4,<br>\n",
       "                       4<br>        ]<br>      ],<br>      \"learning_rate\":\n",
       "                       0.013476882502117836,<br>      \"scaler_type\": null,<br>\n",
       "                       \"max_steps\": 1000,<br>      \"batch_size\": 256,<br>\n",
       "                       \"windows_batch_size\": 256,<br>      \"random_seed\": 11,<br>\n",
       "                       \"nr_experts\": 2,<br>      \"top_k\": 8,<br>      \"input_size\":\n",
       "                       36,<br>      \"step_size\": 18<br>    },<br>    \"METRICS\":\n",
       "                       {<br>      \"loss\": 699.616943359375,<br>      \"train_loss\":\n",
       "                       556.4986572265625<br>    }<br>  }<br>}, {<br>  \"number\":\n",
       "                       7,<br>  \"values\": [<br>    671.228759765625<br>  ],<br>\n",
       "                       \"params\": {<br>    \"stack_types\": [<br>      \"identity\",<br>\n",
       "                       \"trend\"<br>    ],<br>    \"mlp_units\": [<br>      [<br>\n",
       "                       16,<br>        16<br>      ],<br>      [<br>        16,<br>\n",
       "                       16<br>      ],<br>      [<br>        16,<br>        16<br>\n",
       "                       ]<br>    ],<br>    \"learning_rate\":\n",
       "                       0.0012905044970194842,<br>    \"scaler_type\": \"standard\",<br>\n",
       "                       \"max_steps\": 5000,<br>    \"batch_size\": 64,<br>\n",
       "                       \"windows_batch_size\": 128,<br>    \"random_seed\": 8,<br>\n",
       "                       \"nr_experts\": 2,<br>    \"top_k\": 16,<br>    \"input_size\":\n",
       "                       54,<br>    \"step_size\": 1<br>  },<br>  \"user_attrs\": {<br>\n",
       "                       \"ALL_PARAMS\": {<br>      \"h\": 18,<br>      \"stack_types\":\n",
       "                       [<br>        \"identity\",<br>        \"trend\"<br>      ],<br>\n",
       "                       \"mlp_units\": [<br>        [<br>          16,<br>\n",
       "                       16<br>        ],<br>        [<br>          16,<br>\n",
       "                       16<br>        ],<br>        [<br>          16,<br>\n",
       "                       16<br>        ]<br>      ],<br>      \"learning_rate\":\n",
       "                       0.0012905044970194842,<br>      \"scaler_type\":\n",
       "                       \"standard\",<br>      \"max_steps\": 5000,<br>\n",
       "                       \"batch_size\": 64,<br>      \"windows_batch_size\": 128,<br>\n",
       "                       \"random_seed\": 8,<br>      \"nr_experts\": 2,<br>\n",
       "                       \"top_k\": 16,<br>      \"input_size\": 54,<br>\n",
       "                       \"step_size\": 1<br>    },<br>    \"METRICS\": {<br>\n",
       "                       \"loss\": 671.228759765625,<br>      \"train_loss\":\n",
       "                       7.032589435577393<br>    }<br>  }<br>}, {<br>  \"number\":\n",
       "                       8,<br>  \"values\": [<br>    862.3060913085938<br>  ],<br>\n",
       "                       \"params\": {<br>    \"stack_types\": [<br>      \"identity\",<br>\n",
       "                       \"trend\"<br>    ],<br>    \"mlp_units\": [<br>      [<br>\n",
       "                       16,<br>        16<br>      ],<br>      [<br>        16,<br>\n",
       "                       16<br>      ],<br>      [<br>        16,<br>        16<br>\n",
       "                       ]<br>    ],<br>    \"learning_rate\": 0.07046300250856881,<br>\n",
       "                       \"scaler_type\": \"robust\",<br>    \"max_steps\": 1000,<br>\n",
       "                       \"batch_size\": 32,<br>    \"windows_batch_size\": 256,<br>\n",
       "                       \"random_seed\": 20,<br>    \"nr_experts\": 2,<br>    \"top_k\":\n",
       "                       16,<br>    \"input_size\": 36,<br>    \"step_size\": 18<br>\n",
       "                       },<br>  \"user_attrs\": {<br>    \"ALL_PARAMS\": {<br>      \"h\":\n",
       "                       18,<br>      \"stack_types\": [<br>        \"identity\",<br>\n",
       "                       \"trend\"<br>      ],<br>      \"mlp_units\": [<br>        [<br>\n",
       "                       16,<br>          16<br>        ],<br>        [<br>\n",
       "                       16,<br>          16<br>        ],<br>        [<br>\n",
       "                       16,<br>          16<br>        ]<br>      ],<br>\n",
       "                       \"learning_rate\": 0.07046300250856881,<br>\n",
       "                       \"scaler_type\": \"robust\",<br>      \"max_steps\": 1000,<br>\n",
       "                       \"batch_size\": 32,<br>      \"windows_batch_size\": 256,<br>\n",
       "                       \"random_seed\": 20,<br>      \"nr_experts\": 2,<br>\n",
       "                       \"top_k\": 16,<br>      \"input_size\": 36,<br>\n",
       "                       \"step_size\": 18<br>    },<br>    \"METRICS\": {<br>\n",
       "                       \"loss\": 862.3060913085938,<br>      \"train_loss\":\n",
       "                       2.7790091037750244<br>    }<br>  }<br>}, {<br>  \"number\":\n",
       "                       9,<br>  \"values\": [<br>    802.54931640625<br>  ],<br>\n",
       "                       \"params\": {<br>    \"stack_types\": [<br>      \"identity\",<br>\n",
       "                       \"trend\"<br>    ],<br>    \"mlp_units\": [<br>      [<br>\n",
       "                       32,<br>        32<br>      ],<br>      [<br>        32,<br>\n",
       "                       32<br>      ],<br>      [<br>        32,<br>        32<br>\n",
       "                       ]<br>    ],<br>    \"learning_rate\": 0.06318557020013556,<br>\n",
       "                       \"scaler_type\": null,<br>    \"max_steps\": 500,<br>\n",
       "                       \"batch_size\": 256,<br>    \"windows_batch_size\": 128,<br>\n",
       "                       \"random_seed\": 7,<br>    \"nr_experts\": 16,<br>    \"top_k\":\n",
       "                       4,<br>    \"input_size\": 90,<br>    \"step_size\": 1<br>\n",
       "                       },<br>  \"user_attrs\": {<br>    \"ALL_PARAMS\": {<br>      \"h\":\n",
       "                       18,<br>      \"stack_types\": [<br>        \"identity\",<br>\n",
       "                       \"trend\"<br>      ],<br>      \"mlp_units\": [<br>        [<br>\n",
       "                       32,<br>          32<br>        ],<br>        [<br>\n",
       "                       32,<br>          32<br>        ],<br>        [<br>\n",
       "                       32,<br>          32<br>        ]<br>      ],<br>\n",
       "                       \"learning_rate\": 0.06318557020013556,<br>\n",
       "                       \"scaler_type\": null,<br>      \"max_steps\": 500,<br>\n",
       "                       \"batch_size\": 256,<br>      \"windows_batch_size\": 128,<br>\n",
       "                       \"random_seed\": 7,<br>      \"nr_experts\": 16,<br>\n",
       "                       \"top_k\": 4,<br>      \"input_size\": 90,<br>      \"step_size\":\n",
       "                       1<br>    },<br>    \"METRICS\": {<br>      \"loss\":\n",
       "                       802.54931640625,<br>      \"train_loss\": 688.884765625<br>\n",
       "                       }<br>  }<br>}, {<br>  \"number\": 11,<br>  \"values\": [<br>\n",
       "                       691.5285034179688<br>  ],<br>  \"params\": {<br>\n",
       "                       \"stack_types\": [<br>      \"identity\",<br>      \"trend\",<br>\n",
       "                       \"seasonality\"<br>    ],<br>    \"mlp_units\": [<br>      [<br>\n",
       "                       8,<br>        8<br>      ],<br>      [<br>        8,<br>\n",
       "                       8<br>      ],<br>      [<br>        8,<br>        8<br>\n",
       "                       ]<br>    ],<br>    \"learning_rate\":\n",
       "                       0.00010020095416949909,<br>    \"scaler_type\":\n",
       "                       \"standard\",<br>    \"max_steps\": 5000,<br>    \"batch_size\":\n",
       "                       128,<br>    \"windows_batch_size\": 1024,<br>\n",
       "                       \"random_seed\": 18,<br>    \"nr_experts\": 4,<br>    \"top_k\":\n",
       "                       8,<br>    \"input_size\": 72,<br>    \"step_size\": 1<br>\n",
       "                       },<br>  \"user_attrs\": {<br>    \"ALL_PARAMS\": {<br>      \"h\":\n",
       "                       18,<br>      \"stack_types\": [<br>        \"identity\",<br>\n",
       "                       \"trend\",<br>        \"seasonality\"<br>      ],<br>\n",
       "                       \"mlp_units\": [<br>        [<br>          8,<br>\n",
       "                       8<br>        ],<br>        [<br>          8,<br>\n",
       "                       8<br>        ],<br>        [<br>          8,<br>\n",
       "                       8<br>        ]<br>      ],<br>      \"learning_rate\":\n",
       "                       0.00010020095416949909,<br>      \"scaler_type\":\n",
       "                       \"standard\",<br>      \"max_steps\": 5000,<br>\n",
       "                       \"batch_size\": 128,<br>      \"windows_batch_size\": 1024,<br>\n",
       "                       \"random_seed\": 18,<br>      \"nr_experts\": 4,<br>\n",
       "                       \"top_k\": 8,<br>      \"input_size\": 72,<br>      \"step_size\":\n",
       "                       1<br>    },<br>    \"METRICS\": {<br>      \"loss\":\n",
       "                       691.5285034179688,<br>      \"train_loss\":\n",
       "                       10.743629455566406<br>    }<br>  }<br>}, {<br>  \"number\":\n",
       "                       12,<br>  \"values\": [<br>    642.6854248046875<br>  ],<br>\n",
       "                       \"params\": {<br>    \"stack_types\": [<br>      \"identity\",<br>\n",
       "                       \"trend\"<br>    ],<br>    \"mlp_units\": [<br>      [<br>\n",
       "                       16,<br>        16<br>      ],<br>      [<br>        16,<br>\n",
       "                       16<br>      ],<br>      [<br>        16,<br>        16<br>\n",
       "                       ]<br>    ],<br>    \"learning_rate\":\n",
       "                       0.006146404908330783,<br>    \"scaler_type\": \"standard\",<br>\n",
       "                       \"max_steps\": 5000,<br>    \"batch_size\": 128,<br>\n",
       "                       \"windows_batch_size\": 128,<br>    \"random_seed\": 16,<br>\n",
       "                       \"nr_experts\": 4,<br>    \"top_k\": 16,<br>    \"input_size\":\n",
       "                       54,<br>    \"step_size\": 1<br>  },<br>  \"user_attrs\": {<br>\n",
       "                       \"ALL_PARAMS\": {<br>      \"h\": 18,<br>      \"stack_types\":\n",
       "                       [<br>        \"identity\",<br>        \"trend\"<br>      ],<br>\n",
       "                       \"mlp_units\": [<br>        [<br>          16,<br>\n",
       "                       16<br>        ],<br>        [<br>          16,<br>\n",
       "                       16<br>        ],<br>        [<br>          16,<br>\n",
       "                       16<br>        ]<br>      ],<br>      \"learning_rate\":\n",
       "                       0.006146404908330783,<br>      \"scaler_type\":\n",
       "                       \"standard\",<br>      \"max_steps\": 5000,<br>\n",
       "                       \"batch_size\": 128,<br>      \"windows_batch_size\": 128,<br>\n",
       "                       \"random_seed\": 16,<br>      \"nr_experts\": 4,<br>\n",
       "                       \"top_k\": 16,<br>      \"input_size\": 54,<br>\n",
       "                       \"step_size\": 1<br>    },<br>    \"METRICS\": {<br>\n",
       "                       \"loss\": 642.6854248046875,<br>      \"train_loss\":\n",
       "                       11.049762725830078<br>    }<br>  }<br>}, {<br>  \"number\":\n",
       "                       13,<br>  \"values\": [<br>    646.3319702148438<br>  ],<br>\n",
       "                       \"params\": {<br>    \"stack_types\": [<br>      \"identity\",<br>\n",
       "                       \"trend\"<br>    ],<br>    \"mlp_units\": [<br>      [<br>\n",
       "                       8,<br>        8<br>      ],<br>      [<br>        8,<br>\n",
       "                       8<br>      ],<br>      [<br>        8,<br>        8<br>\n",
       "                       ]<br>    ],<br>    \"learning_rate\":\n",
       "                       0.010159660496643613,<br>    \"scaler_type\": \"standard\",<br>\n",
       "                       \"max_steps\": 5000,<br>    \"batch_size\": 128,<br>\n",
       "                       \"windows_batch_size\": 128,<br>    \"random_seed\": 15,<br>\n",
       "                       \"nr_experts\": 4,<br>    \"top_k\": 8,<br>    \"input_size\":\n",
       "                       54,<br>    \"step_size\": 1<br>  },<br>  \"user_attrs\": {<br>\n",
       "                       \"ALL_PARAMS\": {<br>      \"h\": 18,<br>      \"stack_types\":\n",
       "                       [<br>        \"identity\",<br>        \"trend\"<br>      ],<br>\n",
       "                       \"mlp_units\": [<br>        [<br>          8,<br>\n",
       "                       8<br>        ],<br>        [<br>          8,<br>\n",
       "                       8<br>        ],<br>        [<br>          8,<br>\n",
       "                       8<br>        ]<br>      ],<br>      \"learning_rate\":\n",
       "                       0.010159660496643613,<br>      \"scaler_type\":\n",
       "                       \"standard\",<br>      \"max_steps\": 5000,<br>\n",
       "                       \"batch_size\": 128,<br>      \"windows_batch_size\": 128,<br>\n",
       "                       \"random_seed\": 15,<br>      \"nr_experts\": 4,<br>\n",
       "                       \"top_k\": 8,<br>      \"input_size\": 54,<br>      \"step_size\":\n",
       "                       1<br>    },<br>    \"METRICS\": {<br>      \"loss\":\n",
       "                       646.3319702148438,<br>      \"train_loss\":\n",
       "                       6.890422344207764<br>    }<br>  }<br>}, {<br>  \"number\":\n",
       "                       15,<br>  \"values\": [<br>    691.064453125<br>  ],<br>\n",
       "                       \"params\": {<br>    \"stack_types\": [<br>      \"identity\",<br>\n",
       "                       \"trend\"<br>    ],<br>    \"mlp_units\": [<br>      [<br>\n",
       "                       128,<br>        128<br>      ],<br>      [<br>\n",
       "                       128,<br>        128<br>      ],<br>      [<br>\n",
       "                       128,<br>        128<br>      ]<br>    ],<br>\n",
       "                       \"learning_rate\": 0.011874699186061207,<br>    \"scaler_type\":\n",
       "                       \"standard\",<br>    \"max_steps\": 5000,<br>    \"batch_size\":\n",
       "                       128,<br>    \"windows_batch_size\": 128,<br>    \"random_seed\":\n",
       "                       14,<br>    \"nr_experts\": 4,<br>    \"top_k\": 16,<br>\n",
       "                       \"input_size\": 54,<br>    \"step_size\": 1<br>  },<br>\n",
       "                       \"user_attrs\": {<br>    \"ALL_PARAMS\": {<br>      \"h\": 18,<br>\n",
       "                       \"stack_types\": [<br>        \"identity\",<br>\n",
       "                       \"trend\"<br>      ],<br>      \"mlp_units\": [<br>        [<br>\n",
       "                       128,<br>          128<br>        ],<br>        [<br>\n",
       "                       128,<br>          128<br>        ],<br>        [<br>\n",
       "                       128,<br>          128<br>        ]<br>      ],<br>\n",
       "                       \"learning_rate\": 0.011874699186061207,<br>\n",
       "                       \"scaler_type\": \"standard\",<br>      \"max_steps\": 5000,<br>\n",
       "                       \"batch_size\": 128,<br>      \"windows_batch_size\": 128,<br>\n",
       "                       \"random_seed\": 14,<br>      \"nr_experts\": 4,<br>\n",
       "                       \"top_k\": 16,<br>      \"input_size\": 54,<br>\n",
       "                       \"step_size\": 1<br>    },<br>    \"METRICS\": {<br>\n",
       "                       \"loss\": 691.064453125,<br>      \"train_loss\":\n",
       "                       12.24218463897705<br>    }<br>  }<br>}, {<br>  \"number\":\n",
       "                       16,<br>  \"values\": [<br>    848.1317749023438<br>  ],<br>\n",
       "                       \"params\": {<br>    \"stack_types\": [<br>      \"identity\",<br>\n",
       "                       \"trend\"<br>    ],<br>    \"mlp_units\": [<br>      [<br>\n",
       "                       1024,<br>        1024<br>      ],<br>      [<br>\n",
       "                       1024,<br>        1024<br>      ],<br>      [<br>\n",
       "                       1024,<br>        1024<br>      ]<br>    ],<br>\n",
       "                       \"learning_rate\": 0.012585647878705898,<br>    \"scaler_type\":\n",
       "                       \"minmax\",<br>    \"max_steps\": 5000,<br>    \"batch_size\":\n",
       "                       128,<br>    \"windows_batch_size\": 128,<br>    \"random_seed\":\n",
       "                       15,<br>    \"nr_experts\": 4,<br>    \"top_k\": 8,<br>\n",
       "                       \"input_size\": 54,<br>    \"step_size\": 1<br>  },<br>\n",
       "                       \"user_attrs\": {<br>    \"ALL_PARAMS\": {<br>      \"h\": 18,<br>\n",
       "                       \"stack_types\": [<br>        \"identity\",<br>\n",
       "                       \"trend\"<br>      ],<br>      \"mlp_units\": [<br>        [<br>\n",
       "                       1024,<br>          1024<br>        ],<br>        [<br>\n",
       "                       1024,<br>          1024<br>        ],<br>        [<br>\n",
       "                       1024,<br>          1024<br>        ]<br>      ],<br>\n",
       "                       \"learning_rate\": 0.012585647878705898,<br>\n",
       "                       \"scaler_type\": \"minmax\",<br>      \"max_steps\": 5000,<br>\n",
       "                       \"batch_size\": 128,<br>      \"windows_batch_size\": 128,<br>\n",
       "                       \"random_seed\": 15,<br>      \"nr_experts\": 4,<br>\n",
       "                       \"top_k\": 8,<br>      \"input_size\": 54,<br>      \"step_size\":\n",
       "                       1<br>    },<br>    \"METRICS\": {<br>      \"loss\":\n",
       "                       848.1317749023438,<br>      \"train_loss\":\n",
       "                       8.256481170654297<br>    }<br>  }<br>}, {<br>  \"number\":\n",
       "                       17,<br>  \"values\": [<br>    653.6649780273438<br>  ],<br>\n",
       "                       \"params\": {<br>    \"stack_types\": [<br>      \"identity\",<br>\n",
       "                       \"trend\"<br>    ],<br>    \"mlp_units\": [<br>      [<br>\n",
       "                       8,<br>        8<br>      ],<br>      [<br>        8,<br>\n",
       "                       8<br>      ],<br>      [<br>        8,<br>        8<br>\n",
       "                       ]<br>    ],<br>    \"learning_rate\":\n",
       "                       0.006892403261395654,<br>    \"scaler_type\": \"standard\",<br>\n",
       "                       \"max_steps\": 500,<br>    \"batch_size\": 128,<br>\n",
       "                       \"windows_batch_size\": 128,<br>    \"random_seed\": 14,<br>\n",
       "                       \"nr_experts\": 16,<br>    \"top_k\": 16,<br>    \"input_size\":\n",
       "                       54,<br>    \"step_size\": 1<br>  },<br>  \"user_attrs\": {<br>\n",
       "                       \"ALL_PARAMS\": {<br>      \"h\": 18,<br>      \"stack_types\":\n",
       "                       [<br>        \"identity\",<br>        \"trend\"<br>      ],<br>\n",
       "                       \"mlp_units\": [<br>        [<br>          8,<br>\n",
       "                       8<br>        ],<br>        [<br>          8,<br>\n",
       "                       8<br>        ],<br>        [<br>          8,<br>\n",
       "                       8<br>        ]<br>      ],<br>      \"learning_rate\":\n",
       "                       0.006892403261395654,<br>      \"scaler_type\":\n",
       "                       \"standard\",<br>      \"max_steps\": 500,<br>\n",
       "                       \"batch_size\": 128,<br>      \"windows_batch_size\": 128,<br>\n",
       "                       \"random_seed\": 14,<br>      \"nr_experts\": 16,<br>\n",
       "                       \"top_k\": 16,<br>      \"input_size\": 54,<br>\n",
       "                       \"step_size\": 1<br>    },<br>    \"METRICS\": {<br>\n",
       "                       \"loss\": 653.6649780273438,<br>      \"train_loss\":\n",
       "                       12.044931411743164<br>    }<br>  }<br>}, {<br>  \"number\":\n",
       "                       18,<br>  \"values\": [<br>    762.8816528320312<br>  ],<br>\n",
       "                       \"params\": {<br>    \"stack_types\": [<br>      \"identity\",<br>\n",
       "                       \"trend\"<br>    ],<br>    \"mlp_units\": [<br>      [<br>\n",
       "                       256,<br>        256<br>      ],<br>      [<br>\n",
       "                       256,<br>        256<br>      ],<br>      [<br>\n",
       "                       256,<br>        256<br>      ]<br>    ],<br>\n",
       "                       \"learning_rate\": 0.006024484665662051,<br>    \"scaler_type\":\n",
       "                       \"standard\",<br>    \"max_steps\": 5000,<br>    \"batch_size\":\n",
       "                       128,<br>    \"windows_batch_size\": 1024,<br>\n",
       "                       \"random_seed\": 17,<br>    \"nr_experts\": 4,<br>    \"top_k\":\n",
       "                       4,<br>    \"input_size\": 54,<br>    \"step_size\": 1<br>\n",
       "                       },<br>  \"user_attrs\": {<br>    \"ALL_PARAMS\": {<br>      \"h\":\n",
       "                       18,<br>      \"stack_types\": [<br>        \"identity\",<br>\n",
       "                       \"trend\"<br>      ],<br>      \"mlp_units\": [<br>        [<br>\n",
       "                       256,<br>          256<br>        ],<br>        [<br>\n",
       "                       256,<br>          256<br>        ],<br>        [<br>\n",
       "                       256,<br>          256<br>        ]<br>      ],<br>\n",
       "                       \"learning_rate\": 0.006024484665662051,<br>\n",
       "                       \"scaler_type\": \"standard\",<br>      \"max_steps\": 5000,<br>\n",
       "                       \"batch_size\": 128,<br>      \"windows_batch_size\": 1024,<br>\n",
       "                       \"random_seed\": 17,<br>      \"nr_experts\": 4,<br>\n",
       "                       \"top_k\": 4,<br>      \"input_size\": 54,<br>      \"step_size\":\n",
       "                       1<br>    },<br>    \"METRICS\": {<br>      \"loss\":\n",
       "                       762.8816528320312,<br>      \"train_loss\":\n",
       "                       11.472053527832031<br>    }<br>  }<br>}, {<br>  \"number\":\n",
       "                       19,<br>  \"values\": [<br>    679.8352661132812<br>  ],<br>\n",
       "                       \"params\": {<br>    \"stack_types\": [<br>      \"identity\",<br>\n",
       "                       \"trend\"<br>    ],<br>    \"mlp_units\": [<br>      [<br>\n",
       "                       16,<br>        16<br>      ],<br>      [<br>        16,<br>\n",
       "                       16<br>      ],<br>      [<br>        16,<br>        16<br>\n",
       "                       ]<br>    ],<br>    \"learning_rate\": 0.03036816581851595,<br>\n",
       "                       \"scaler_type\": \"standard\",<br>    \"max_steps\": 5000,<br>\n",
       "                       \"batch_size\": 128,<br>    \"windows_batch_size\": 128,<br>\n",
       "                       \"random_seed\": 20,<br>    \"nr_experts\": 4,<br>    \"top_k\":\n",
       "                       2,<br>    \"input_size\": 18,<br>    \"step_size\": 1<br>\n",
       "                       },<br>  \"user_attrs\": {<br>    \"ALL_PARAMS\": {<br>      \"h\":\n",
       "                       18,<br>      \"stack_types\": [<br>        \"identity\",<br>\n",
       "                       \"trend\"<br>      ],<br>      \"mlp_units\": [<br>        [<br>\n",
       "                       16,<br>          16<br>        ],<br>        [<br>\n",
       "                       16,<br>          16<br>        ],<br>        [<br>\n",
       "                       16,<br>          16<br>        ]<br>      ],<br>\n",
       "                       \"learning_rate\": 0.03036816581851595,<br>\n",
       "                       \"scaler_type\": \"standard\",<br>      \"max_steps\": 5000,<br>\n",
       "                       \"batch_size\": 128,<br>      \"windows_batch_size\": 128,<br>\n",
       "                       \"random_seed\": 20,<br>      \"nr_experts\": 4,<br>\n",
       "                       \"top_k\": 2,<br>      \"input_size\": 18,<br>      \"step_size\":\n",
       "                       1<br>    },<br>    \"METRICS\": {<br>      \"loss\":\n",
       "                       679.8352661132812,<br>      \"train_loss\":\n",
       "                       4.465137481689453<br>    }<br>  }<br>}, {<br>  \"number\":\n",
       "                       20,<br>  \"values\": [<br>    837.36376953125<br>  ],<br>\n",
       "                       \"params\": {<br>    \"stack_types\": [<br>      \"identity\",<br>\n",
       "                       \"trend\"<br>    ],<br>    \"mlp_units\": [<br>      [<br>\n",
       "                       256,<br>        256<br>      ],<br>      [<br>\n",
       "                       256,<br>        256<br>      ],<br>      [<br>\n",
       "                       256,<br>        256<br>      ]<br>    ],<br>\n",
       "                       \"learning_rate\": 0.02777332831255977,<br>    \"scaler_type\":\n",
       "                       \"minmax\",<br>    \"max_steps\": 500,<br>    \"batch_size\":\n",
       "                       256,<br>    \"windows_batch_size\": 128,<br>    \"random_seed\":\n",
       "                       13,<br>    \"nr_experts\": 4,<br>    \"top_k\": 16,<br>\n",
       "                       \"input_size\": 72,<br>    \"step_size\": 18<br>  },<br>\n",
       "                       \"user_attrs\": {<br>    \"ALL_PARAMS\": {<br>      \"h\": 18,<br>\n",
       "                       \"stack_types\": [<br>        \"identity\",<br>\n",
       "                       \"trend\"<br>      ],<br>      \"mlp_units\": [<br>        [<br>\n",
       "                       256,<br>          256<br>        ],<br>        [<br>\n",
       "                       256,<br>          256<br>        ],<br>        [<br>\n",
       "                       256,<br>          256<br>        ]<br>      ],<br>\n",
       "                       \"learning_rate\": 0.02777332831255977,<br>\n",
       "                       \"scaler_type\": \"minmax\",<br>      \"max_steps\": 500,<br>\n",
       "                       \"batch_size\": 256,<br>      \"windows_batch_size\": 128,<br>\n",
       "                       \"random_seed\": 13,<br>      \"nr_experts\": 4,<br>\n",
       "                       \"top_k\": 16,<br>      \"input_size\": 72,<br>\n",
       "                       \"step_size\": 18<br>    },<br>    \"METRICS\": {<br>\n",
       "                       \"loss\": 837.36376953125,<br>      \"train_loss\":\n",
       "                       0.2606201469898224<br>    }<br>  }<br>}, {<br>  \"number\":\n",
       "                       21,<br>  \"values\": [<br>    766.0140380859375<br>  ],<br>\n",
       "                       \"params\": {<br>    \"stack_types\": [<br>      \"identity\",<br>\n",
       "                       \"trend\"<br>    ],<br>    \"mlp_units\": [<br>      [<br>\n",
       "                       4,<br>        4<br>      ],<br>      [<br>        4,<br>\n",
       "                       4<br>      ],<br>      [<br>        4,<br>        4<br>\n",
       "                       ]<br>    ],<br>    \"learning_rate\":\n",
       "                       0.0003009486284640884,<br>    \"scaler_type\": \"standard\",<br>\n",
       "                       \"max_steps\": 1000,<br>    \"batch_size\": 32,<br>\n",
       "                       \"windows_batch_size\": 128,<br>    \"random_seed\": 16,<br>\n",
       "                       \"nr_experts\": 16,<br>    \"top_k\": 8,<br>    \"input_size\":\n",
       "                       54,<br>    \"step_size\": 1<br>  },<br>  \"user_attrs\": {<br>\n",
       "                       \"ALL_PARAMS\": {<br>      \"h\": 18,<br>      \"stack_types\":\n",
       "                       [<br>        \"identity\",<br>        \"trend\"<br>      ],<br>\n",
       "                       \"mlp_units\": [<br>        [<br>          4,<br>\n",
       "                       4<br>        ],<br>        [<br>          4,<br>\n",
       "                       4<br>        ],<br>        [<br>          4,<br>\n",
       "                       4<br>        ]<br>      ],<br>      \"learning_rate\":\n",
       "                       0.0003009486284640884,<br>      \"scaler_type\":\n",
       "                       \"standard\",<br>      \"max_steps\": 1000,<br>\n",
       "                       \"batch_size\": 32,<br>      \"windows_batch_size\": 128,<br>\n",
       "                       \"random_seed\": 16,<br>      \"nr_experts\": 16,<br>\n",
       "                       \"top_k\": 8,<br>      \"input_size\": 54,<br>      \"step_size\":\n",
       "                       1<br>    },<br>    \"METRICS\": {<br>      \"loss\":\n",
       "                       766.0140380859375,<br>      \"train_loss\":\n",
       "                       17.616622924804688<br>    }<br>  }<br>}],\n",
       "              'textposition': 'none',\n",
       "              'type': 'bar',\n",
       "              'x': [535250.0619999999, 273710.17, 438963.393, 60089.366,\n",
       "                    16435.722999999998, 163654.215, 39630.756, 134911.14099999997,\n",
       "                    29015.165, 44710.279, 286128.75, 203075.37600000002,\n",
       "                    194060.62900000002, 202580.32700000002, 527783.769, 50625.903,\n",
       "                    269455.359, 200595.154, 29502.634000000002, 119170.973],\n",
       "              'y': [0, 1, 2, 3, 4, 5, 6, 7, 8, 9, 11, 12, 13, 15, 16, 17, 18, 19,\n",
       "                    20, 21]},\n",
       "             {'base': [2025-03-18T17:14:56.107878],\n",
       "              'hovertemplate': '%{text}<extra>FAIL</extra>',\n",
       "              'marker': {'color': 'red'},\n",
       "              'name': 'FAIL',\n",
       "              'orientation': 'h',\n",
       "              'text': [{<br>  \"number\": 23,<br>  \"values\": null,<br>  \"params\":\n",
       "                       {<br>    \"stack_types\": [<br>      \"identity\",<br>\n",
       "                       \"trend\"<br>    ],<br>    \"mlp_units\": [<br>      [<br>\n",
       "                       1024,<br>        1024<br>      ],<br>      [<br>\n",
       "                       1024,<br>        1024<br>      ],<br>      [<br>\n",
       "                       1024,<br>        1024<br>      ]<br>    ],<br>\n",
       "                       \"learning_rate\": 0.027088290442660735,<br>    \"scaler_type\":\n",
       "                       \"standard\",<br>    \"max_steps\": 5000,<br>    \"batch_size\":\n",
       "                       128,<br>    \"windows_batch_size\": 1024,<br>\n",
       "                       \"random_seed\": 10,<br>    \"nr_experts\": 8<br>  }<br>}],\n",
       "              'textposition': 'none',\n",
       "              'type': 'bar',\n",
       "              'x': [286.216],\n",
       "              'y': [23]},\n",
       "             {'base': [2025-03-18T16:13:13.149670, 2025-03-18T16:25:18.893052,\n",
       "                       2025-03-18T16:49:03.551709],\n",
       "              'hovertemplate': '%{text}<extra>RUNNING</extra>',\n",
       "              'marker': {'color': 'green'},\n",
       "              'name': 'RUNNING',\n",
       "              'orientation': 'h',\n",
       "              'text': [{<br>  \"number\": 10,<br>  \"values\": null,<br>  \"params\":\n",
       "                       {<br>    \"stack_types\": [<br>      \"identity\",<br>\n",
       "                       \"trend\",<br>      \"seasonality\"<br>    ],<br>\n",
       "                       \"mlp_units\": [<br>      [<br>        8,<br>        8<br>\n",
       "                       ],<br>      [<br>        8,<br>        8<br>      ],<br>\n",
       "                       [<br>        8,<br>        8<br>      ]<br>    ],<br>\n",
       "                       \"learning_rate\": 0.00011153138903761713,<br>\n",
       "                       \"scaler_type\": \"standard\",<br>    \"max_steps\": 5000,<br>\n",
       "                       \"batch_size\": 128,<br>    \"windows_batch_size\": 1024,<br>\n",
       "                       \"random_seed\": 18,<br>    \"nr_experts\": 4,<br>    \"top_k\":\n",
       "                       8,<br>    \"input_size\": 72,<br>    \"step_size\": 1<br>\n",
       "                       }<br>}, {<br>  \"number\": 14,<br>  \"values\": null,<br>\n",
       "                       \"params\": {<br>    \"stack_types\": [<br>      \"identity\",<br>\n",
       "                       \"trend\"<br>    ],<br>    \"mlp_units\": [<br>      [<br>\n",
       "                       256,<br>        256<br>      ],<br>      [<br>\n",
       "                       256,<br>        256<br>      ],<br>      [<br>\n",
       "                       256,<br>        256<br>      ]<br>    ],<br>\n",
       "                       \"learning_rate\": 0.011537855008197196,<br>    \"scaler_type\":\n",
       "                       \"standard\",<br>    \"max_steps\": 5000,<br>    \"batch_size\":\n",
       "                       128,<br>    \"windows_batch_size\": 128,<br>    \"random_seed\":\n",
       "                       14,<br>    \"nr_experts\": 4,<br>    \"top_k\": 16,<br>\n",
       "                       \"input_size\": 54,<br>    \"step_size\": 1<br>  }<br>}, {<br>\n",
       "                       \"number\": 22,<br>  \"values\": null,<br>  \"params\": {<br>\n",
       "                       \"stack_types\": [<br>      \"identity\",<br>      \"trend\"<br>\n",
       "                       ],<br>    \"mlp_units\": [<br>      [<br>        1024,<br>\n",
       "                       1024<br>      ],<br>      [<br>        1024,<br>\n",
       "                       1024<br>      ],<br>      [<br>        1024,<br>\n",
       "                       1024<br>      ]<br>    ],<br>    \"learning_rate\":\n",
       "                       0.005840400344232055,<br>    \"scaler_type\": \"standard\",<br>\n",
       "                       \"max_steps\": 5000,<br>    \"batch_size\": 128,<br>\n",
       "                       \"windows_batch_size\": 1024,<br>    \"random_seed\": 10,<br>\n",
       "                       \"nr_experts\": 8,<br>    \"top_k\": 8,<br>    \"input_size\":\n",
       "                       54,<br>    \"step_size\": 1<br>  }<br>}],\n",
       "              'textposition': 'none',\n",
       "              'type': 'bar',\n",
       "              'x': [3704244.424, 2978501.042, 1553842.385],\n",
       "              'y': [10, 14, 22]}],\n",
       "    'layout': {'showlegend': True,\n",
       "               'template': '...',\n",
       "               'title': {'text': 'Timeline Plot'},\n",
       "               'xaxis': {'title': {'text': 'Datetime'}, 'type': 'date'},\n",
       "               'yaxis': {'title': {'text': 'Trial'}}}\n",
       "})"
      ]
     },
     "execution_count": 13,
     "metadata": {},
     "output_type": "execute_result"
    }
   ],
   "source": [
    "study = optuna.load_study(\n",
    "        study_name=\"nbeatsMoe_m3_18\",\n",
    "        storage=\"sqlite:///c:/Users/ricar/mixture_of_experts_time_series/db/study.db\",\n",
    "    )\n",
    "\n",
    "# plot_optimization_history(study)\n",
    "# plot_param_importances(study)\n",
    "# print best params\n",
    "print(study.best_params)\n",
    "# plot_rank(study, params=[\"nr_experts\", \"top_k\"])\n",
    "plot_timeline(study)"
   ]
  }
 ],
 "metadata": {
  "kernelspec": {
   "display_name": "venv",
   "language": "python",
   "name": "python3"
  },
  "language_info": {
   "codemirror_mode": {
    "name": "ipython",
    "version": 3
   },
   "file_extension": ".py",
   "mimetype": "text/x-python",
   "name": "python",
   "nbconvert_exporter": "python",
   "pygments_lexer": "ipython3",
   "version": "3.11.9"
  }
 },
 "nbformat": 4,
 "nbformat_minor": 2
}
