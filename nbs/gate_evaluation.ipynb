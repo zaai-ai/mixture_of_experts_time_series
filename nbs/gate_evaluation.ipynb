{
 "cells": [
  {
   "cell_type": "code",
   "execution_count": 1,
   "id": "57708ece",
   "metadata": {},
   "outputs": [],
   "source": [
    "%matplotlib inline"
   ]
  },
  {
   "cell_type": "code",
   "execution_count": 2,
   "id": "459a3fb3",
   "metadata": {},
   "outputs": [],
   "source": [
    "import os\n",
    "\n",
    "os.chdir(\"..\")"
   ]
  },
  {
   "cell_type": "code",
   "execution_count": 3,
   "id": "ff43b6c6",
   "metadata": {},
   "outputs": [
    {
     "name": "stderr",
     "output_type": "stream",
     "text": [
      "/home/ricardo/.local/lib/python3.10/site-packages/tqdm/auto.py:21: TqdmWarning: IProgress not found. Please update jupyter and ipywidgets. See https://ipywidgets.readthedocs.io/en/stable/user_install.html\n",
      "  from .autonotebook import tqdm as notebook_tqdm\n",
      "2025-04-20 01:02:36,161\tINFO util.py:154 -- Missing packages: ['ipywidgets']. Run `pip install -U ipywidgets`, then restart the notebook server for rich notebook output.\n",
      "2025-04-20 01:02:36,294\tINFO util.py:154 -- Missing packages: ['ipywidgets']. Run `pip install -U ipywidgets`, then restart the notebook server for rich notebook output.\n"
     ]
    }
   ],
   "source": [
    "from neuralforecast.models import NBEATS\n",
    "from neuralforecast import NeuralForecast\n",
    "from utils import load_dataset, train_test_split\n",
    "from models.NBeatsMoe import NBeatsMoe, NBEATSMoEBlock\n",
    "import torch.nn as nn\n",
    "import pandas as pd\n",
    "\n",
    "# datasets list\n",
    "datasets = [\n",
    "    {\n",
    "        \"name\": \"m3\",\n",
    "        \"directory\": \"C:\\\\Users\\\\ricar\\\\mixture_of_experts_time_series\\\\data\\\\m3\\\\\",\n",
    "        \"group\": \"Monthly\",\n",
    "        \"freq\": \"M\",\n",
    "    },\n",
    "    # {\n",
    "    #     \"name\": \"m4\",\n",
    "    #     \"directory\": \"C:\\\\Users\\\\ricar\\\\mixture_of_experts_time_series\\\\data\\\\m4\\\\\",\n",
    "    #     \"group\": \"Monthly\",\n",
    "    #     \"freq\": \"M\",\n",
    "    # } \n",
    "]"
   ]
  },
  {
   "cell_type": "code",
   "execution_count": 4,
   "id": "d71ea8c6",
   "metadata": {},
   "outputs": [],
   "source": [
    "# Y_ALL_m4 = load_dataset(\"m4\", datasets[1])\n",
    "# Y_ALL_m3 = load_dataset(\"m3\", datasets[0])\n",
    "n_lags = 36\n",
    "horizon = 18"
   ]
  },
  {
   "cell_type": "markdown",
   "id": "5c3b3f84",
   "metadata": {},
   "source": [
    "Let's define the models and the gates to evaluate ..."
   ]
  },
  {
   "cell_type": "code",
   "execution_count": 5,
   "id": "e99f903f",
   "metadata": {},
   "outputs": [],
   "source": [
    "from neuralforecast.losses.numpy import smape\n",
    "\n",
    "def calculate_smape(Y_test, predictions, model_name):\n",
    "    y_true = Y_test['y'].values\n",
    "    y_hat = predictions[model_name].values\n",
    "\n",
    "    n_series = Y_test['unique_id'].nunique()\n",
    "    y_true = y_true.reshape(n_series, -1)\n",
    "    y_hat = y_hat.reshape(n_series, -1)\n",
    "\n",
    "    smape_value = smape(y_true, y_hat)\n",
    "    return smape_value"
   ]
  },
  {
   "cell_type": "code",
   "execution_count": null,
   "id": "c07fd3c1",
   "metadata": {},
   "outputs": [
    {
     "name": "stdout",
     "output_type": "stream",
     "text": [
      "Loading m3_monthly dataset...\n"
     ]
    }
   ],
   "source": [
    "results = []\n",
    "gate_type_list = [\"no_gate\", \"linear\", \"mlp\", \"conv1d-flatten\", \"conv1d-gap\"]\n",
    "\n",
    "for gate_type in gate_type_list:\n",
    "    for dataset in datasets:\n",
    "        \n",
    "        # Load dataset\n",
    "        Y_ALL = load_dataset(dataset[\"name\"], dataset)\n",
    "        # Train test split\n",
    "        Y_train, Y_test = train_test_split(Y_ALL, horizon)\n",
    "        \n",
    "        for i in range(10):\n",
    "            # Define model\n",
    "            if gate_type == \"no_gate\":\n",
    "                model = NBEATS(\n",
    "                    h=horizon,\n",
    "                    input_size=n_lags,\n",
    "                    mlp_units=3*[[256,256]],\n",
    "                    max_steps=5000,\n",
    "                    early_stop_patience_steps=10,\n",
    "                    random_seed=i\n",
    "                )\n",
    "            else:\n",
    "                model = NBeatsMoe(\n",
    "                    h=horizon,\n",
    "                    input_size=n_lags,\n",
    "                    nr_experts=4,\n",
    "                    top_k=2,\n",
    "                    mlp_units=3*[[128,128]],\n",
    "                    gate_type=gate_type,\n",
    "                    max_steps=5000,\n",
    "                    early_stop_patience_steps=10,\n",
    "                    random_seed=i,\n",
    "                )\n",
    "            \n",
    "            # Define NeuralForecast, fit and predict\n",
    "            nf = NeuralForecast(models=[model], freq=dataset[\"freq\"])\n",
    "            nf.fit(df=Y_train, static_df=None, val_size=horizon)\n",
    "            predictions = nf.predict(futr_df=Y_test)\n",
    "            \n",
    "            # Calculate SMAPE\n",
    "            smape_value = calculate_smape(Y_test, predictions, model_name=model.__class__.__name__)\n",
    "            \n",
    "            # Save result\n",
    "            results.append({\n",
    "                \"dataset\": dataset[\"name\"],\n",
    "                \"gate_type\": gate_type,\n",
    "                \"smape\": smape_value,\n",
    "                \"random_seed\": i,\n",
    "            })\n",
    "\n",
    "# Create and display the results DataFrame\n",
    "results_df = pd.DataFrame(results)\n",
    "results_df"
   ]
  },
  {
   "cell_type": "code",
   "execution_count": 7,
   "id": "3d7929af",
   "metadata": {},
   "outputs": [
    {
     "data": {
      "text/html": [
       "<div>\n",
       "<style scoped>\n",
       "    .dataframe tbody tr th:only-of-type {\n",
       "        vertical-align: middle;\n",
       "    }\n",
       "\n",
       "    .dataframe tbody tr th {\n",
       "        vertical-align: top;\n",
       "    }\n",
       "\n",
       "    .dataframe thead th {\n",
       "        text-align: right;\n",
       "    }\n",
       "</style>\n",
       "<table border=\"1\" class=\"dataframe\">\n",
       "  <thead>\n",
       "    <tr style=\"text-align: right;\">\n",
       "      <th></th>\n",
       "      <th>dataset</th>\n",
       "      <th>gate_type</th>\n",
       "      <th>smape</th>\n",
       "      <th>random_seed</th>\n",
       "    </tr>\n",
       "  </thead>\n",
       "  <tbody>\n",
       "    <tr>\n",
       "      <th>0</th>\n",
       "      <td>m3</td>\n",
       "      <td>no_gate</td>\n",
       "      <td>0.163146</td>\n",
       "      <td>0</td>\n",
       "    </tr>\n",
       "    <tr>\n",
       "      <th>1</th>\n",
       "      <td>m3</td>\n",
       "      <td>no_gate</td>\n",
       "      <td>0.170551</td>\n",
       "      <td>1</td>\n",
       "    </tr>\n",
       "    <tr>\n",
       "      <th>2</th>\n",
       "      <td>m3</td>\n",
       "      <td>linear</td>\n",
       "      <td>0.169973</td>\n",
       "      <td>0</td>\n",
       "    </tr>\n",
       "    <tr>\n",
       "      <th>3</th>\n",
       "      <td>m3</td>\n",
       "      <td>linear</td>\n",
       "      <td>0.167532</td>\n",
       "      <td>1</td>\n",
       "    </tr>\n",
       "    <tr>\n",
       "      <th>4</th>\n",
       "      <td>m3</td>\n",
       "      <td>mlp</td>\n",
       "      <td>0.168169</td>\n",
       "      <td>0</td>\n",
       "    </tr>\n",
       "    <tr>\n",
       "      <th>5</th>\n",
       "      <td>m3</td>\n",
       "      <td>mlp</td>\n",
       "      <td>0.169032</td>\n",
       "      <td>1</td>\n",
       "    </tr>\n",
       "    <tr>\n",
       "      <th>6</th>\n",
       "      <td>m3</td>\n",
       "      <td>conv1d-flatten</td>\n",
       "      <td>0.169982</td>\n",
       "      <td>0</td>\n",
       "    </tr>\n",
       "    <tr>\n",
       "      <th>7</th>\n",
       "      <td>m3</td>\n",
       "      <td>conv1d-flatten</td>\n",
       "      <td>0.167517</td>\n",
       "      <td>1</td>\n",
       "    </tr>\n",
       "    <tr>\n",
       "      <th>8</th>\n",
       "      <td>m3</td>\n",
       "      <td>conv1d-gap</td>\n",
       "      <td>0.167705</td>\n",
       "      <td>0</td>\n",
       "    </tr>\n",
       "    <tr>\n",
       "      <th>9</th>\n",
       "      <td>m3</td>\n",
       "      <td>conv1d-gap</td>\n",
       "      <td>0.165932</td>\n",
       "      <td>1</td>\n",
       "    </tr>\n",
       "  </tbody>\n",
       "</table>\n",
       "</div>"
      ],
      "text/plain": [
       "  dataset       gate_type     smape  random_seed\n",
       "0      m3         no_gate  0.163146            0\n",
       "1      m3         no_gate  0.170551            1\n",
       "2      m3          linear  0.169973            0\n",
       "3      m3          linear  0.167532            1\n",
       "4      m3             mlp  0.168169            0\n",
       "5      m3             mlp  0.169032            1\n",
       "6      m3  conv1d-flatten  0.169982            0\n",
       "7      m3  conv1d-flatten  0.167517            1\n",
       "8      m3      conv1d-gap  0.167705            0\n",
       "9      m3      conv1d-gap  0.165932            1"
      ]
     },
     "execution_count": 7,
     "metadata": {},
     "output_type": "execute_result"
    }
   ],
   "source": [
    "results_df"
   ]
  },
  {
   "cell_type": "code",
   "execution_count": 8,
   "id": "5aa61c25",
   "metadata": {},
   "outputs": [
    {
     "data": {
      "image/png": "[encoded data removed]",
      "text/plain": [
       "<Figure size 500x500 with 1 Axes>"
      ]
     },
     "metadata": {},
     "output_type": "display_data"
    }
   ],
   "source": [
    "import matplotlib.pyplot as plt\n",
    "\n",
    "datasets_unique = results_df['dataset'].unique()\n",
    "n = len(datasets_unique)\n",
    "\n",
    "fig, axes = plt.subplots(1, n, figsize=(5 * n, 5), sharey=True)\n",
    "if n == 1:\n",
    "    axes = [axes]\n",
    "\n",
    "for ax, ds in zip(axes, datasets_unique):\n",
    "    subset = results_df[results_df['dataset'] == ds]\n",
    "    pivot = subset.pivot(index='random_seed', columns='gate_type', values='smape')\n",
    "    \n",
    "    # Build a list of arrays (one per gate_type) to avoid label mismatch\n",
    "    data_to_plot = [pivot[col].values for col in pivot.columns]\n",
    "    ax.boxplot(data_to_plot, labels=pivot.columns, patch_artist=True)\n",
    "    \n",
    "    ax.set_title(f'Dataset: {ds}')\n",
    "    ax.set_xlabel('Gate Type')\n",
    "    ax.set_xticklabels(pivot.columns, rotation=45, ha='right')\n",
    "\n",
    "axes[0].set_ylabel('SMAPE')\n",
    "plt.tight_layout()\n",
    "plt.show()\n"
   ]
  }
 ],
 "metadata": {
  "kernelspec": {
   "display_name": "Python 3",
   "language": "python",
   "name": "python3"
  },
  "language_info": {
   "codemirror_mode": {
    "name": "ipython",
    "version": 3
   },
   "file_extension": ".py",
   "mimetype": "text/x-python",
   "name": "python",
   "nbconvert_exporter": "python",
   "pygments_lexer": "ipython3",
   "version": "3.10.12"
  }
 },
 "nbformat": 4,
 "nbformat_minor": 5
}
