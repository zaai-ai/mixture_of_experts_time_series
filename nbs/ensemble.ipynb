{
 "cells": [
  {
   "cell_type": "code",
   "execution_count": 3,
   "id": "5159f59f",
   "metadata": {},
   "outputs": [],
   "source": [
    "import os\n",
    "\n",
    "os.chdir(\"..\")"
   ]
  },
  {
   "cell_type": "code",
   "execution_count": 4,
   "id": "6edd7b51",
   "metadata": {},
   "outputs": [
    {
     "name": "stderr",
     "output_type": "stream",
     "text": [
      "c:\\Users\\ricar\\mixture_of_experts_time_series\\venv\\Lib\\site-packages\\tqdm\\auto.py:21: TqdmWarning: IProgress not found. Please update jupyter and ipywidgets. See https://ipywidgets.readthedocs.io/en/stable/user_install.html\n",
      "  from .autonotebook import tqdm as notebook_tqdm\n",
      "2025-06-03 13:27:14,125\tINFO util.py:154 -- Missing packages: ['ipywidgets']. Run `pip install -U ipywidgets`, then restart the notebook server for rich notebook output.\n",
      "2025-06-03 13:27:14,505\tINFO util.py:154 -- Missing packages: ['ipywidgets']. Run `pip install -U ipywidgets`, then restart the notebook server for rich notebook output.\n",
      "c:\\Users\\ricar\\mixture_of_experts_time_series\\venv\\Lib\\site-packages\\gluonts\\json.py:102: UserWarning: Using `json`-module for json-handling. Consider installing one of `orjson`, `ujson` to speed up serialization and deserialization.\n",
      "  warnings.warn(\n"
     ]
    }
   ],
   "source": [
    "from datasetsforecast.m3 import M3\n",
    "from utilsforecast.plotting import plot_series\n",
    "import pandas as pd\n",
    "from models.NBeatsStackMoe import NBeatsStackMoe\n",
    "from models.NBeatsMoeLags import NBeatsMoeLags\n",
    "from neuralforecast import NeuralForecast\n",
    "from utils import load_dataset, train_test_split\n",
    "from models.callbacks.probs_collector import GateValuesCollectorCallback\n",
    "from neuralforecast.losses.numpy import smape\n",
    "from neuralforecast.models import NBEATS\n",
    "from neuralforecast.tsdataset import TimeSeriesDataset\n",
    "import matplotlib.pyplot as plt\n",
    "from datasets.load_data.gluonts_dataset import GluontsDataset\n",
    "from models.hyper import config\n",
    "import numpy as np\n",
    "import random\n",
    "from neuralforecast.losses.pytorch import HuberLoss, MAE, MSE, MAPE, MASE, SMAPE\n",
    "from functools import partial\n",
    "\n",
    "# Load the M3 dataset\n",
    "m3 = M3.load(directory='C:\\\\Users\\\\ricar\\\\mixture_of_experts_time_series\\\\data\\\\m3\\\\', group='Monthly')[0]\n"
   ]
  },
  {
   "cell_type": "markdown",
   "id": "4bca8c87",
   "metadata": {},
   "source": [
    "First lets stop gradient on the denominator of smape..."
   ]
  },
  {
   "cell_type": "code",
   "execution_count": 5,
   "id": "bad58bb4",
   "metadata": {},
   "outputs": [],
   "source": [
    "# import torch\n",
    "# from typing import Union\n",
    "# from neuralforecast.losses.pytorch import BasePointLoss, _divide_no_nan, _weighted_mean\n",
    "\n",
    "# class SMAPE(BasePointLoss):\n",
    "#     \"\"\"Symmetric Mean Absolute Percentage Error with gradient stopped in denominator.\n",
    "\n",
    "#     Calculates Symmetric Mean Absolute Percentage Error between\n",
    "#     `y` and `y_hat` with numerical stability by stopping gradients\n",
    "#     in the denominator during training.\n",
    "\n",
    "#     $$ \\mathrm{sMAPE}_{2}(\\\\mathbf{y}_{\\\\tau}, \\\\mathbf{\\hat{y}}_{\\\\tau}) = \\\\frac{1}{H} \\\\sum^{t+H}_{\\\\tau=t+1} \\\\frac{|y_{\\\\tau}-\\hat{y}_{\\\\tau}|}{|y_{\\\\tau}|+|\\hat{y}_{\\\\tau}|} $$\n",
    "\n",
    "#     **Parameters:**<br>\n",
    "#     `horizon_weight`: Tensor of size h, weight for each timestamp of the forecasting window.<br>\n",
    "\n",
    "#     **References:**<br>\n",
    "#     [Makridakis S., \"Accuracy measures: theoretical and practical concerns\".](https://www.sciencedirect.com/science/article/pii/0169207093900793)\n",
    "#     \"\"\"\n",
    "\n",
    "#     def __init__(self, horizon_weight=None):\n",
    "#         super(SMAPE, self).__init__(\n",
    "#             horizon_weight=horizon_weight, outputsize_multiplier=1, output_names=[\"\"]\n",
    "#         )\n",
    "\n",
    "#     def __call__(\n",
    "#         self,\n",
    "#         y: torch.Tensor,\n",
    "#         y_hat: torch.Tensor,\n",
    "#         mask: Union[torch.Tensor, None] = None,\n",
    "#     ):\n",
    "#         \"\"\"\n",
    "#         **Parameters:**<br>\n",
    "#         `y`: tensor, Actual values.<br>\n",
    "#         `y_hat`: tensor, Predicted values.<br>\n",
    "#         `mask`: tensor, Specifies date stamps per series to consider in loss.<br>\n",
    "\n",
    "#         **Returns:**<br>\n",
    "#         `smape`: tensor (single value).\n",
    "#         \"\"\"\n",
    "#         delta_y = torch.abs(y - y_hat)\n",
    "#         # Stop gradient flow through the denominator for numerical stability\n",
    "#         scale = (torch.abs(y) + torch.abs(y_hat)).detach()\n",
    "#         losses = _divide_no_nan(delta_y, scale)\n",
    "#         weights = self._compute_weights(y=y, mask=mask)\n",
    "#         return 2 * _weighted_mean(losses=losses, weights=weights)\n"
   ]
  },
  {
   "cell_type": "code",
   "execution_count": 6,
   "id": "2d9dab18",
   "metadata": {},
   "outputs": [],
   "source": [
    "horizon = 18"
   ]
  },
  {
   "cell_type": "code",
   "execution_count": 7,
   "id": "093b9f88",
   "metadata": {},
   "outputs": [],
   "source": [
    "partial_mase = lambda: MASE(seasonality=12)\n",
    "\n",
    "# MASE = partial(MASE, horizon=1)\n",
    "_random_conf = {\n",
    "    \"loss\": ['SMAPE', 'partial_mase', 'MAPE'],\n",
    "    \"input_size\": [int(horizon * x) for x in [1.5, 2, 2.5, 3, 4, 5]],\n",
    "}\n",
    "\n",
    "\n",
    "def get_random_conf(conf = None):\n",
    "    conf = conf or {}\n",
    "    # if conf is None:\n",
    "        # conf = config['m3']['Monthly']['NBeatsStackMoe']\n",
    "    conf[\"n_blocks\"] = [3, 3, 3]\n",
    "    conf[\"mlp_units\"] = 3* [[256,256]]\n",
    "    conf[\"stack_types\"] = [\"trend\", \"seasonality\"]\n",
    "    conf[\"loss\"] = eval(random.choice(_random_conf[\"loss\"]))()\n",
    "    conf[\"input_size\"] = random.choice(_random_conf[\"input_size\"])\n",
    "    conf[\"random_seed\"] = random.randint(0, 10000)\n",
    "    conf[\"max_steps\"] = 6000\n",
    "    conf[\"shared_weights\"] = True\n",
    "    # conf[\"early_stop_patience_steps\"] = 10\n",
    "    # conf[\"batch_size\"] = 1024\n",
    "    # conf[\"start_padding_enabled\"] = True\n",
    "    return conf\n"
   ]
  },
  {
   "cell_type": "code",
   "execution_count": 8,
   "id": "d59597a8",
   "metadata": {},
   "outputs": [],
   "source": [
    "def calculate_smape(Y_test_df, Y_hat_df, forecast_col):\n",
    "    \"\"\"Calculate the sMAPE.\"\"\"\n",
    "    y_true = Y_test_df['y'].values\n",
    "    try:\n",
    "        y_hat = Y_hat_df[forecast_col].values\n",
    "    except Exception as exc:\n",
    "        y_hat = Y_hat_df\n",
    "   \n",
    "    n_series = Y_test_df['unique_id'].nunique()\n",
    "    try:\n",
    "        y_true = y_true.reshape(n_series, -1)\n",
    "        y_hat = y_hat.reshape(n_series, -1)\n",
    "    except Exception as e:\n",
    "        raise ValueError(\"Error reshaping arrays\") from e\n",
    "\n",
    "    return smape(y_true, y_hat)"
   ]
  },
  {
   "cell_type": "code",
   "execution_count": null,
   "id": "c381bcac",
   "metadata": {},
   "outputs": [
    {
     "name": "stderr",
     "output_type": "stream",
     "text": [
      "INFO:lightning_fabric.utilities.seed:Seed set to 6065\n",
      "INFO:lightning_fabric.utilities.seed:Seed set to 4427\n",
      "INFO:lightning_fabric.utilities.seed:Seed set to 3755\n",
      "INFO:lightning_fabric.utilities.seed:Seed set to 6452\n",
      "INFO:lightning_fabric.utilities.seed:Seed set to 9876\n",
      "INFO:lightning_fabric.utilities.seed:Seed set to 9823\n",
      "INFO:lightning_fabric.utilities.seed:Seed set to 9778\n",
      "INFO:lightning_fabric.utilities.seed:Seed set to 9374\n",
      "INFO:lightning_fabric.utilities.seed:Seed set to 5138\n",
      "INFO:lightning_fabric.utilities.seed:Seed set to 7568\n",
      "INFO:lightning_fabric.utilities.seed:Seed set to 8887\n",
      "INFO:lightning_fabric.utilities.seed:Seed set to 2588\n",
      "INFO:lightning_fabric.utilities.seed:Seed set to 2389\n",
      "INFO:lightning_fabric.utilities.seed:Seed set to 3332\n",
      "INFO:lightning_fabric.utilities.seed:Seed set to 2980\n",
      "INFO:lightning_fabric.utilities.seed:Seed set to 9875\n",
      "INFO:lightning_fabric.utilities.seed:Seed set to 7413\n",
      "INFO:lightning_fabric.utilities.seed:Seed set to 8007\n",
      "INFO:lightning_fabric.utilities.seed:Seed set to 2473\n",
      "INFO:lightning_fabric.utilities.seed:Seed set to 4829\n",
      "INFO:lightning_fabric.utilities.seed:Seed set to 1589\n",
      "INFO:lightning_fabric.utilities.seed:Seed set to 2958\n",
      "INFO:lightning_fabric.utilities.seed:Seed set to 1708\n",
      "INFO:lightning_fabric.utilities.seed:Seed set to 7207\n",
      "INFO:lightning_fabric.utilities.seed:Seed set to 6224\n",
      "INFO:lightning_fabric.utilities.seed:Seed set to 2154\n",
      "INFO:lightning_fabric.utilities.seed:Seed set to 7904\n",
      "INFO:lightning_fabric.utilities.seed:Seed set to 5617\n",
      "INFO:lightning_fabric.utilities.seed:Seed set to 189\n",
      "INFO:lightning_fabric.utilities.seed:Seed set to 4502\n",
      "INFO:lightning_fabric.utilities.seed:Seed set to 9040\n",
      "INFO:lightning_fabric.utilities.seed:Seed set to 7314\n",
      "INFO:lightning_fabric.utilities.seed:Seed set to 3435\n",
      "INFO:lightning_fabric.utilities.seed:Seed set to 5428\n",
      "INFO:lightning_fabric.utilities.seed:Seed set to 4071\n",
      "INFO:lightning_fabric.utilities.seed:Seed set to 1061\n",
      "INFO:lightning_fabric.utilities.seed:Seed set to 5362\n",
      "INFO:lightning_fabric.utilities.seed:Seed set to 8137\n",
      "INFO:lightning_fabric.utilities.seed:Seed set to 3159\n",
      "INFO:lightning_fabric.utilities.seed:Seed set to 9539\n",
      "INFO:lightning_fabric.utilities.seed:Seed set to 1408\n",
      "INFO:lightning_fabric.utilities.seed:Seed set to 1842\n",
      "INFO:lightning_fabric.utilities.seed:Seed set to 8388\n",
      "INFO:lightning_fabric.utilities.seed:Seed set to 7983\n",
      "INFO:lightning_fabric.utilities.seed:Seed set to 634\n",
      "INFO:lightning_fabric.utilities.seed:Seed set to 235\n",
      "INFO:lightning_fabric.utilities.seed:Seed set to 8432\n",
      "INFO:lightning_fabric.utilities.seed:Seed set to 3864\n",
      "INFO:lightning_fabric.utilities.seed:Seed set to 6697\n",
      "INFO:lightning_fabric.utilities.seed:Seed set to 9621\n",
      "INFO:lightning_fabric.utilities.seed:Seed set to 8617\n",
      "INFO:lightning_fabric.utilities.seed:Seed set to 6553\n",
      "INFO:lightning_fabric.utilities.seed:Seed set to 2728\n",
      "INFO:lightning_fabric.utilities.seed:Seed set to 5138\n",
      "INFO:lightning_fabric.utilities.seed:Seed set to 7568\n",
      "INFO:lightning_fabric.utilities.seed:Seed set to 8887\n",
      "INFO:lightning_fabric.utilities.seed:Seed set to 2588\n",
      "INFO:lightning_fabric.utilities.seed:Seed set to 2389\n",
      "INFO:lightning_fabric.utilities.seed:Seed set to 3332\n",
      "INFO:lightning_fabric.utilities.seed:Seed set to 2980\n",
      "INFO:lightning_fabric.utilities.seed:Seed set to 9875\n",
      "INFO:lightning_fabric.utilities.seed:Seed set to 7413\n",
      "INFO:lightning_fabric.utilities.seed:Seed set to 8007\n",
      "INFO:lightning_fabric.utilities.seed:Seed set to 2473\n",
      "INFO:lightning_fabric.utilities.seed:Seed set to 4829\n",
      "INFO:lightning_fabric.utilities.seed:Seed set to 1589\n",
      "INFO:lightning_fabric.utilities.seed:Seed set to 2958\n",
      "INFO:lightning_fabric.utilities.seed:Seed set to 1708\n",
      "INFO:lightning_fabric.utilities.seed:Seed set to 7207\n",
      "INFO:lightning_fabric.utilities.seed:Seed set to 6224\n",
      "INFO:lightning_fabric.utilities.seed:Seed set to 2154\n",
      "INFO:lightning_fabric.utilities.seed:Seed set to 7904\n",
      "INFO:lightning_fabric.utilities.seed:Seed set to 5617\n",
      "INFO:lightning_fabric.utilities.seed:Seed set to 189\n",
      "INFO:lightning_fabric.utilities.seed:Seed set to 4502\n",
      "INFO:lightning_fabric.utilities.seed:Seed set to 9040\n",
      "INFO:lightning_fabric.utilities.seed:Seed set to 7314\n",
      "INFO:lightning_fabric.utilities.seed:Seed set to 3435\n",
      "INFO:lightning_fabric.utilities.seed:Seed set to 5428\n",
      "INFO:lightning_fabric.utilities.seed:Seed set to 4071\n",
      "INFO:lightning_fabric.utilities.seed:Seed set to 1061\n",
      "INFO:lightning_fabric.utilities.seed:Seed set to 5362\n",
      "INFO:lightning_fabric.utilities.seed:Seed set to 8137\n",
      "INFO:lightning_fabric.utilities.seed:Seed set to 3159\n",
      "INFO:lightning_fabric.utilities.seed:Seed set to 9539\n",
      "INFO:lightning_fabric.utilities.seed:Seed set to 1408\n",
      "INFO:lightning_fabric.utilities.seed:Seed set to 1842\n",
      "INFO:lightning_fabric.utilities.seed:Seed set to 8388\n",
      "INFO:lightning_fabric.utilities.seed:Seed set to 7983\n",
      "INFO:lightning_fabric.utilities.seed:Seed set to 634\n",
      "INFO:lightning_fabric.utilities.seed:Seed set to 235\n",
      "INFO:lightning_fabric.utilities.seed:Seed set to 8432\n",
      "INFO:lightning_fabric.utilities.seed:Seed set to 3864\n",
      "INFO:lightning_fabric.utilities.seed:Seed set to 6697\n",
      "INFO:lightning_fabric.utilities.seed:Seed set to 9621\n",
      "INFO:lightning_fabric.utilities.seed:Seed set to 8617\n",
      "INFO:lightning_fabric.utilities.seed:Seed set to 6553\n",
      "INFO:lightning_fabric.utilities.seed:Seed set to 2728\n",
      "INFO:lightning_fabric.utilities.seed:Seed set to 5138\n",
      "INFO:lightning_fabric.utilities.seed:Seed set to 7568\n",
      "INFO:lightning_fabric.utilities.seed:Seed set to 8887\n",
      "INFO:lightning_fabric.utilities.seed:Seed set to 2588\n",
      "INFO:lightning_fabric.utilities.seed:Seed set to 2389\n",
      "INFO:lightning_fabric.utilities.seed:Seed set to 3332\n",
      "INFO:lightning_fabric.utilities.seed:Seed set to 2980\n",
      "INFO:lightning_fabric.utilities.seed:Seed set to 9875\n",
      "INFO:lightning_fabric.utilities.seed:Seed set to 7413\n",
      "INFO:lightning_fabric.utilities.seed:Seed set to 8007\n",
      "INFO:lightning_fabric.utilities.seed:Seed set to 2473\n",
      "INFO:lightning_fabric.utilities.seed:Seed set to 4829\n",
      "INFO:lightning_fabric.utilities.seed:Seed set to 1589\n",
      "INFO:lightning_fabric.utilities.seed:Seed set to 2958\n",
      "INFO:lightning_fabric.utilities.seed:Seed set to 1708\n",
      "INFO:lightning_fabric.utilities.seed:Seed set to 7207\n",
      "INFO:lightning_fabric.utilities.seed:Seed set to 6224\n",
      "INFO:lightning_fabric.utilities.seed:Seed set to 2154\n",
      "INFO:lightning_fabric.utilities.seed:Seed set to 7904\n",
      "INFO:lightning_fabric.utilities.seed:Seed set to 5617\n",
      "INFO:lightning_fabric.utilities.seed:Seed set to 189\n",
      "INFO:lightning_fabric.utilities.seed:Seed set to 4502\n",
      "INFO:lightning_fabric.utilities.seed:Seed set to 9040\n",
      "INFO:lightning_fabric.utilities.seed:Seed set to 7314\n",
      "INFO:lightning_fabric.utilities.seed:Seed set to 3435\n",
      "INFO:lightning_fabric.utilities.seed:Seed set to 5428\n",
      "INFO:lightning_fabric.utilities.seed:Seed set to 4071\n",
      "INFO:lightning_fabric.utilities.seed:Seed set to 1061\n",
      "INFO:lightning_fabric.utilities.seed:Seed set to 5362\n",
      "INFO:lightning_fabric.utilities.seed:Seed set to 8137\n",
      "INFO:lightning_fabric.utilities.seed:Seed set to 3159\n",
      "INFO:lightning_fabric.utilities.seed:Seed set to 9539\n",
      "INFO:lightning_fabric.utilities.seed:Seed set to 1408\n",
      "INFO:lightning_fabric.utilities.seed:Seed set to 1842\n",
      "INFO:lightning_fabric.utilities.seed:Seed set to 8388\n",
      "INFO:lightning_fabric.utilities.seed:Seed set to 7983\n",
      "INFO:lightning_fabric.utilities.seed:Seed set to 634\n",
      "INFO:lightning_fabric.utilities.seed:Seed set to 235\n",
      "INFO:lightning_fabric.utilities.seed:Seed set to 8432\n",
      "INFO:lightning_fabric.utilities.seed:Seed set to 3864\n",
      "INFO:lightning_fabric.utilities.seed:Seed set to 6697\n",
      "INFO:lightning_fabric.utilities.seed:Seed set to 9621\n",
      "INFO:lightning_fabric.utilities.seed:Seed set to 8617\n",
      "INFO:lightning_fabric.utilities.seed:Seed set to 6553\n",
      "INFO:lightning_fabric.utilities.seed:Seed set to 2728\n",
      "INFO:lightning_fabric.utilities.seed:Seed set to 5138\n",
      "INFO:lightning_fabric.utilities.seed:Seed set to 7568\n",
      "INFO:lightning_fabric.utilities.seed:Seed set to 8887\n",
      "INFO:lightning_fabric.utilities.seed:Seed set to 2588\n",
      "INFO:lightning_fabric.utilities.seed:Seed set to 2389\n",
      "INFO:lightning_fabric.utilities.seed:Seed set to 3332\n",
      "INFO:lightning_fabric.utilities.seed:Seed set to 2980\n",
      "INFO:lightning_fabric.utilities.seed:Seed set to 9875\n",
      "INFO:lightning_fabric.utilities.seed:Seed set to 7413\n",
      "INFO:lightning_fabric.utilities.seed:Seed set to 8007\n",
      "INFO:lightning_fabric.utilities.seed:Seed set to 2473\n",
      "INFO:lightning_fabric.utilities.seed:Seed set to 4829\n",
      "INFO:lightning_fabric.utilities.seed:Seed set to 1589\n",
      "INFO:lightning_fabric.utilities.seed:Seed set to 2958\n",
      "INFO:lightning_fabric.utilities.seed:Seed set to 1708\n",
      "INFO:lightning_fabric.utilities.seed:Seed set to 7207\n",
      "INFO:lightning_fabric.utilities.seed:Seed set to 6224\n",
      "INFO:lightning_fabric.utilities.seed:Seed set to 2154\n",
      "INFO:lightning_fabric.utilities.seed:Seed set to 7904\n",
      "INFO:lightning_fabric.utilities.seed:Seed set to 5617\n",
      "INFO:lightning_fabric.utilities.seed:Seed set to 189\n",
      "INFO:lightning_fabric.utilities.seed:Seed set to 4502\n",
      "INFO:lightning_fabric.utilities.seed:Seed set to 9040\n",
      "INFO:lightning_fabric.utilities.seed:Seed set to 7314\n",
      "INFO:lightning_fabric.utilities.seed:Seed set to 3435\n",
      "INFO:lightning_fabric.utilities.seed:Seed set to 5428\n",
      "INFO:lightning_fabric.utilities.seed:Seed set to 4071\n",
      "INFO:lightning_fabric.utilities.seed:Seed set to 1061\n",
      "INFO:lightning_fabric.utilities.seed:Seed set to 5362\n",
      "INFO:lightning_fabric.utilities.seed:Seed set to 8137\n",
      "INFO:lightning_fabric.utilities.seed:Seed set to 3159\n",
      "INFO:lightning_fabric.utilities.seed:Seed set to 9539\n",
      "INFO:lightning_fabric.utilities.seed:Seed set to 1408\n",
      "INFO:lightning_fabric.utilities.seed:Seed set to 1842\n",
      "INFO:lightning_fabric.utilities.seed:Seed set to 8388\n",
      "INFO:lightning_fabric.utilities.seed:Seed set to 7983\n",
      "INFO:lightning_fabric.utilities.seed:Seed set to 634\n",
      "INFO:pytorch_lightning.utilities.rank_zero:GPU available: True (cuda), used: True\n",
      "INFO:pytorch_lightning.utilities.rank_zero:TPU available: False, using: 0 TPU cores\n",
      "INFO:pytorch_lightning.utilities.rank_zero:HPU available: False, using: 0 HPUs\n",
      "INFO:pytorch_lightning.accelerators.cuda:LOCAL_RANK: 0 - CUDA_VISIBLE_DEVICES: [0]\n",
      "INFO:pytorch_lightning.callbacks.model_summary:\n",
      "  | Name         | Type          | Params | Mode \n",
      "-------------------------------------------------------\n",
      "0 | loss         | MAPE          | 0      | train\n",
      "1 | padder_train | ConstantPad1d | 0      | train\n",
      "2 | scaler       | TemporalNorm  | 0      | train\n",
      "3 | blocks       | ModuleList    | 429 K  | train\n",
      "4 | gate         | Sequential    | 306    | train\n",
      "-------------------------------------------------------\n",
      "428 K     Trainable params\n",
      "1.7 K     Non-trainable params\n",
      "430 K     Total params\n",
      "1.720     Total estimated model params size (MB)\n",
      "25        Modules in train mode\n",
      "0         Modules in eval mode\n"
     ]
    },
    {
     "name": "stdout",
     "output_type": "stream",
     "text": [
      "Epoch 133:  33%|███▎      | 15/45 [00:00<00:01, 16.64it/s, v_num=1554, train_loss_step=0.109, train_loss_epoch=0.100, valid_loss=0.165]  "
     ]
    },
    {
     "name": "stderr",
     "output_type": "stream",
     "text": [
      "INFO:pytorch_lightning.utilities.rank_zero:`Trainer.fit` stopped: `max_steps=6000` reached.\n"
     ]
    },
    {
     "name": "stdout",
     "output_type": "stream",
     "text": [
      "Epoch 133:  33%|███▎      | 15/45 [00:00<00:01, 16.64it/s, v_num=1554, train_loss_step=0.109, train_loss_epoch=0.100, valid_loss=0.165]\n"
     ]
    },
    {
     "name": "stderr",
     "output_type": "stream",
     "text": [
      "INFO:pytorch_lightning.utilities.rank_zero:GPU available: True (cuda), used: True\n",
      "INFO:pytorch_lightning.utilities.rank_zero:TPU available: False, using: 0 TPU cores\n",
      "INFO:pytorch_lightning.utilities.rank_zero:HPU available: False, using: 0 HPUs\n",
      "INFO:pytorch_lightning.accelerators.cuda:LOCAL_RANK: 0 - CUDA_VISIBLE_DEVICES: [0]\n",
      "INFO:pytorch_lightning.callbacks.model_summary:\n",
      "  | Name         | Type          | Params | Mode \n",
      "-------------------------------------------------------\n",
      "0 | loss         | SMAPE         | 0      | train\n",
      "1 | padder_train | ConstantPad1d | 0      | train\n",
      "2 | scaler       | TemporalNorm  | 0      | train\n",
      "3 | blocks       | ModuleList    | 464 K  | train\n",
      "4 | gate         | Sequential    | 999    | train\n",
      "-------------------------------------------------------\n",
      "461 K     Trainable params\n",
      "4.0 K     Non-trainable params\n",
      "465 K     Total params\n",
      "1.861     Total estimated model params size (MB)\n",
      "25        Modules in train mode\n",
      "0         Modules in eval mode\n"
     ]
    },
    {
     "name": "stdout",
     "output_type": "stream",
     "text": [
      "Epoch 133:  33%|███▎      | 15/45 [00:01<00:02, 13.65it/s, v_num=1555, train_loss_step=0.0915, train_loss_epoch=0.0577, valid_loss=0.164]"
     ]
    },
    {
     "name": "stderr",
     "output_type": "stream",
     "text": [
      "INFO:pytorch_lightning.utilities.rank_zero:`Trainer.fit` stopped: `max_steps=6000` reached.\n"
     ]
    },
    {
     "name": "stdout",
     "output_type": "stream",
     "text": [
      "Epoch 133:  33%|███▎      | 15/45 [00:01<00:02, 13.65it/s, v_num=1555, train_loss_step=0.0915, train_loss_epoch=0.0577, valid_loss=0.164]\n"
     ]
    },
    {
     "name": "stderr",
     "output_type": "stream",
     "text": [
      "INFO:pytorch_lightning.utilities.rank_zero:GPU available: True (cuda), used: True\n",
      "INFO:pytorch_lightning.utilities.rank_zero:TPU available: False, using: 0 TPU cores\n",
      "INFO:pytorch_lightning.utilities.rank_zero:HPU available: False, using: 0 HPUs\n",
      "INFO:pytorch_lightning.accelerators.cuda:LOCAL_RANK: 0 - CUDA_VISIBLE_DEVICES: [0]\n",
      "INFO:pytorch_lightning.callbacks.model_summary:\n",
      "  | Name         | Type          | Params | Mode \n",
      "-------------------------------------------------------\n",
      "0 | loss         | MASE          | 0      | train\n",
      "1 | padder_train | ConstantPad1d | 0      | train\n",
      "2 | scaler       | TemporalNorm  | 0      | train\n",
      "3 | blocks       | ModuleList    | 454 K  | train\n",
      "4 | gate         | Sequential    | 801    | train\n",
      "-------------------------------------------------------\n",
      "451 K     Trainable params\n",
      "3.3 K     Non-trainable params\n",
      "455 K     Total params\n",
      "1.821     Total estimated model params size (MB)\n",
      "25        Modules in train mode\n",
      "0         Modules in eval mode\n"
     ]
    },
    {
     "name": "stdout",
     "output_type": "stream",
     "text": [
      "Epoch 133:  33%|███▎      | 15/45 [00:00<00:01, 16.46it/s, v_num=1556, train_loss_step=0.990, train_loss_epoch=0.824, valid_loss=1.310]"
     ]
    },
    {
     "name": "stderr",
     "output_type": "stream",
     "text": [
      "INFO:pytorch_lightning.utilities.rank_zero:`Trainer.fit` stopped: `max_steps=6000` reached.\n"
     ]
    },
    {
     "name": "stdout",
     "output_type": "stream",
     "text": [
      "Epoch 133:  33%|███▎      | 15/45 [00:00<00:01, 16.46it/s, v_num=1556, train_loss_step=0.990, train_loss_epoch=0.824, valid_loss=1.310]\n"
     ]
    },
    {
     "name": "stderr",
     "output_type": "stream",
     "text": [
      "INFO:pytorch_lightning.utilities.rank_zero:GPU available: True (cuda), used: True\n",
      "INFO:pytorch_lightning.utilities.rank_zero:TPU available: False, using: 0 TPU cores\n",
      "INFO:pytorch_lightning.utilities.rank_zero:HPU available: False, using: 0 HPUs\n",
      "INFO:pytorch_lightning.accelerators.cuda:LOCAL_RANK: 0 - CUDA_VISIBLE_DEVICES: [0]\n",
      "INFO:pytorch_lightning.callbacks.model_summary:\n",
      "  | Name         | Type          | Params | Mode \n",
      "-------------------------------------------------------\n",
      "0 | loss         | MASE          | 0      | train\n",
      "1 | padder_train | ConstantPad1d | 0      | train\n",
      "2 | scaler       | TemporalNorm  | 0      | train\n",
      "3 | blocks       | ModuleList    | 464 K  | train\n",
      "4 | gate         | Sequential    | 999    | train\n",
      "-------------------------------------------------------\n",
      "461 K     Trainable params\n",
      "4.0 K     Non-trainable params\n",
      "465 K     Total params\n",
      "1.861     Total estimated model params size (MB)\n",
      "25        Modules in train mode\n",
      "0         Modules in eval mode\n"
     ]
    },
    {
     "name": "stdout",
     "output_type": "stream",
     "text": [
      "Epoch 133:  33%|███▎      | 15/45 [00:01<00:02, 13.47it/s, v_num=1557, train_loss_step=0.218, train_loss_epoch=0.247, valid_loss=1.390]"
     ]
    },
    {
     "name": "stderr",
     "output_type": "stream",
     "text": [
      "INFO:pytorch_lightning.utilities.rank_zero:`Trainer.fit` stopped: `max_steps=6000` reached.\n"
     ]
    },
    {
     "name": "stdout",
     "output_type": "stream",
     "text": [
      "Epoch 133:  33%|███▎      | 15/45 [00:01<00:02, 13.47it/s, v_num=1557, train_loss_step=0.218, train_loss_epoch=0.247, valid_loss=1.390]\n"
     ]
    },
    {
     "name": "stderr",
     "output_type": "stream",
     "text": [
      "INFO:pytorch_lightning.utilities.rank_zero:GPU available: True (cuda), used: True\n",
      "INFO:pytorch_lightning.utilities.rank_zero:TPU available: False, using: 0 TPU cores\n",
      "INFO:pytorch_lightning.utilities.rank_zero:HPU available: False, using: 0 HPUs\n",
      "INFO:pytorch_lightning.accelerators.cuda:LOCAL_RANK: 0 - CUDA_VISIBLE_DEVICES: [0]\n",
      "INFO:pytorch_lightning.callbacks.model_summary:\n",
      "  | Name         | Type          | Params | Mode \n",
      "-------------------------------------------------------\n",
      "0 | loss         | SMAPE         | 0      | train\n",
      "1 | padder_train | ConstantPad1d | 0      | train\n",
      "2 | scaler       | TemporalNorm  | 0      | train\n",
      "3 | blocks       | ModuleList    | 439 K  | train\n",
      "4 | gate         | Sequential    | 504    | train\n",
      "-------------------------------------------------------\n",
      "437 K     Trainable params\n",
      "2.3 K     Non-trainable params\n",
      "440 K     Total params\n",
      "1.761     Total estimated model params size (MB)\n",
      "25        Modules in train mode\n",
      "0         Modules in eval mode\n"
     ]
    },
    {
     "name": "stdout",
     "output_type": "stream",
     "text": [
      "Epoch 133:  33%|███▎      | 15/45 [00:00<00:01, 15.62it/s, v_num=1558, train_loss_step=0.0909, train_loss_epoch=0.0858, valid_loss=0.156]"
     ]
    },
    {
     "name": "stderr",
     "output_type": "stream",
     "text": [
      "INFO:pytorch_lightning.utilities.rank_zero:`Trainer.fit` stopped: `max_steps=6000` reached.\n"
     ]
    },
    {
     "name": "stdout",
     "output_type": "stream",
     "text": [
      "Epoch 133:  33%|███▎      | 15/45 [00:00<00:01, 15.37it/s, v_num=1558, train_loss_step=0.0909, train_loss_epoch=0.0858, valid_loss=0.156]\n"
     ]
    },
    {
     "name": "stderr",
     "output_type": "stream",
     "text": [
      "INFO:pytorch_lightning.utilities.rank_zero:GPU available: True (cuda), used: True\n",
      "INFO:pytorch_lightning.utilities.rank_zero:TPU available: False, using: 0 TPU cores\n",
      "INFO:pytorch_lightning.utilities.rank_zero:HPU available: False, using: 0 HPUs\n",
      "INFO:pytorch_lightning.accelerators.cuda:LOCAL_RANK: 0 - CUDA_VISIBLE_DEVICES: [0]\n",
      "INFO:pytorch_lightning.callbacks.model_summary:\n",
      "  | Name         | Type          | Params | Mode \n",
      "-------------------------------------------------------\n",
      "0 | loss         | MASE          | 0      | train\n",
      "1 | padder_train | ConstantPad1d | 0      | train\n",
      "2 | scaler       | TemporalNorm  | 0      | train\n",
      "3 | blocks       | ModuleList    | 429 K  | train\n",
      "4 | gate         | Sequential    | 306    | train\n",
      "-------------------------------------------------------\n",
      "428 K     Trainable params\n",
      "1.7 K     Non-trainable params\n",
      "430 K     Total params\n",
      "1.720     Total estimated model params size (MB)\n",
      "25        Modules in train mode\n",
      "0         Modules in eval mode\n"
     ]
    },
    {
     "name": "stdout",
     "output_type": "stream",
     "text": [
      "Epoch 133:  33%|███▎      | 15/45 [00:01<00:02, 14.70it/s, v_num=1559, train_loss_step=0.618, train_loss_epoch=0.597, valid_loss=1.270]"
     ]
    },
    {
     "name": "stderr",
     "output_type": "stream",
     "text": [
      "INFO:pytorch_lightning.utilities.rank_zero:`Trainer.fit` stopped: `max_steps=6000` reached.\n"
     ]
    },
    {
     "name": "stdout",
     "output_type": "stream",
     "text": [
      "Epoch 133:  33%|███▎      | 15/45 [00:01<00:02, 14.48it/s, v_num=1559, train_loss_step=0.618, train_loss_epoch=0.597, valid_loss=1.270]\n"
     ]
    },
    {
     "name": "stderr",
     "output_type": "stream",
     "text": [
      "INFO:pytorch_lightning.utilities.rank_zero:GPU available: True (cuda), used: True\n",
      "INFO:pytorch_lightning.utilities.rank_zero:TPU available: False, using: 0 TPU cores\n",
      "INFO:pytorch_lightning.utilities.rank_zero:HPU available: False, using: 0 HPUs\n",
      "INFO:pytorch_lightning.accelerators.cuda:LOCAL_RANK: 0 - CUDA_VISIBLE_DEVICES: [0]\n",
      "INFO:pytorch_lightning.callbacks.model_summary:\n",
      "  | Name         | Type          | Params | Mode \n",
      "-------------------------------------------------------\n",
      "0 | loss         | MAPE          | 0      | train\n",
      "1 | padder_train | ConstantPad1d | 0      | train\n",
      "2 | scaler       | TemporalNorm  | 0      | train\n",
      "3 | blocks       | ModuleList    | 434 K  | train\n",
      "4 | gate         | Sequential    | 405    | train\n",
      "-------------------------------------------------------\n",
      "433 K     Trainable params\n",
      "2.0 K     Non-trainable params\n",
      "435 K     Total params\n",
      "1.740     Total estimated model params size (MB)\n",
      "25        Modules in train mode\n",
      "0         Modules in eval mode\n"
     ]
    },
    {
     "name": "stdout",
     "output_type": "stream",
     "text": [
      "Epoch 133:  33%|███▎      | 15/45 [00:00<00:01, 16.49it/s, v_num=1560, train_loss_step=0.0719, train_loss_epoch=0.0963, valid_loss=0.168]"
     ]
    },
    {
     "name": "stderr",
     "output_type": "stream",
     "text": [
      "INFO:pytorch_lightning.utilities.rank_zero:`Trainer.fit` stopped: `max_steps=6000` reached.\n"
     ]
    },
    {
     "name": "stdout",
     "output_type": "stream",
     "text": [
      "Epoch 133:  33%|███▎      | 15/45 [00:00<00:01, 16.49it/s, v_num=1560, train_loss_step=0.0719, train_loss_epoch=0.0963, valid_loss=0.168]\n"
     ]
    },
    {
     "name": "stderr",
     "output_type": "stream",
     "text": [
      "INFO:pytorch_lightning.utilities.rank_zero:GPU available: True (cuda), used: True\n",
      "INFO:pytorch_lightning.utilities.rank_zero:TPU available: False, using: 0 TPU cores\n",
      "INFO:pytorch_lightning.utilities.rank_zero:HPU available: False, using: 0 HPUs\n",
      "INFO:pytorch_lightning.accelerators.cuda:LOCAL_RANK: 0 - CUDA_VISIBLE_DEVICES: [0]\n",
      "INFO:pytorch_lightning.callbacks.model_summary:\n",
      "  | Name         | Type          | Params | Mode \n",
      "-------------------------------------------------------\n",
      "0 | loss         | MASE          | 0      | train\n",
      "1 | padder_train | ConstantPad1d | 0      | train\n",
      "2 | scaler       | TemporalNorm  | 0      | train\n",
      "3 | blocks       | ModuleList    | 444 K  | train\n",
      "4 | gate         | Sequential    | 603    | train\n",
      "-------------------------------------------------------\n",
      "442 K     Trainable params\n",
      "2.7 K     Non-trainable params\n",
      "445 K     Total params\n",
      "1.781     Total estimated model params size (MB)\n",
      "25        Modules in train mode\n",
      "0         Modules in eval mode\n"
     ]
    },
    {
     "name": "stdout",
     "output_type": "stream",
     "text": [
      "Epoch 133:  33%|███▎      | 15/45 [00:01<00:02, 14.77it/s, v_num=1561, train_loss_step=0.587, train_loss_epoch=0.661, valid_loss=1.290]"
     ]
    },
    {
     "name": "stderr",
     "output_type": "stream",
     "text": [
      "INFO:pytorch_lightning.utilities.rank_zero:`Trainer.fit` stopped: `max_steps=6000` reached.\n"
     ]
    },
    {
     "name": "stdout",
     "output_type": "stream",
     "text": [
      "Epoch 133:  33%|███▎      | 15/45 [00:01<00:02, 14.77it/s, v_num=1561, train_loss_step=0.587, train_loss_epoch=0.661, valid_loss=1.290]\n"
     ]
    },
    {
     "name": "stderr",
     "output_type": "stream",
     "text": [
      "INFO:pytorch_lightning.utilities.rank_zero:GPU available: True (cuda), used: True\n",
      "INFO:pytorch_lightning.utilities.rank_zero:TPU available: False, using: 0 TPU cores\n",
      "INFO:pytorch_lightning.utilities.rank_zero:HPU available: False, using: 0 HPUs\n",
      "INFO:pytorch_lightning.accelerators.cuda:LOCAL_RANK: 0 - CUDA_VISIBLE_DEVICES: [0]\n",
      "INFO:pytorch_lightning.callbacks.model_summary:\n",
      "  | Name         | Type          | Params | Mode \n",
      "-------------------------------------------------------\n",
      "0 | loss         | MASE          | 0      | train\n",
      "1 | padder_train | ConstantPad1d | 0      | train\n",
      "2 | scaler       | TemporalNorm  | 0      | train\n",
      "3 | blocks       | ModuleList    | 454 K  | train\n",
      "4 | gate         | Sequential    | 801    | train\n",
      "-------------------------------------------------------\n",
      "451 K     Trainable params\n",
      "3.3 K     Non-trainable params\n",
      "455 K     Total params\n",
      "1.821     Total estimated model params size (MB)\n",
      "25        Modules in train mode\n",
      "0         Modules in eval mode\n"
     ]
    },
    {
     "name": "stdout",
     "output_type": "stream",
     "text": [
      "Epoch 133:  33%|███▎      | 15/45 [00:01<00:02, 14.70it/s, v_num=1562, train_loss_step=0.932, train_loss_epoch=0.810, valid_loss=1.320]"
     ]
    },
    {
     "name": "stderr",
     "output_type": "stream",
     "text": [
      "INFO:pytorch_lightning.utilities.rank_zero:`Trainer.fit` stopped: `max_steps=6000` reached.\n"
     ]
    },
    {
     "name": "stdout",
     "output_type": "stream",
     "text": [
      "Epoch 133:  33%|███▎      | 15/45 [00:01<00:02, 14.48it/s, v_num=1562, train_loss_step=0.932, train_loss_epoch=0.810, valid_loss=1.320]\n"
     ]
    },
    {
     "name": "stderr",
     "output_type": "stream",
     "text": [
      "INFO:pytorch_lightning.utilities.rank_zero:GPU available: True (cuda), used: True\n",
      "INFO:pytorch_lightning.utilities.rank_zero:TPU available: False, using: 0 TPU cores\n",
      "INFO:pytorch_lightning.utilities.rank_zero:HPU available: False, using: 0 HPUs\n",
      "INFO:pytorch_lightning.accelerators.cuda:LOCAL_RANK: 0 - CUDA_VISIBLE_DEVICES: [0]\n",
      "INFO:pytorch_lightning.callbacks.model_summary:\n",
      "  | Name         | Type          | Params | Mode \n",
      "-------------------------------------------------------\n",
      "0 | loss         | SMAPE         | 0      | train\n",
      "1 | padder_train | ConstantPad1d | 0      | train\n",
      "2 | scaler       | TemporalNorm  | 0      | train\n",
      "3 | blocks       | ModuleList    | 444 K  | train\n",
      "4 | gate         | Sequential    | 603    | train\n",
      "-------------------------------------------------------\n",
      "442 K     Trainable params\n",
      "2.7 K     Non-trainable params\n",
      "445 K     Total params\n",
      "1.781     Total estimated model params size (MB)\n",
      "25        Modules in train mode\n",
      "0         Modules in eval mode\n"
     ]
    },
    {
     "name": "stdout",
     "output_type": "stream",
     "text": [
      "Epoch 133:  33%|███▎      | 15/45 [00:00<00:01, 16.53it/s, v_num=1563, train_loss_step=0.0812, train_loss_epoch=0.0808, valid_loss=0.154]"
     ]
    },
    {
     "name": "stderr",
     "output_type": "stream",
     "text": [
      "INFO:pytorch_lightning.utilities.rank_zero:`Trainer.fit` stopped: `max_steps=6000` reached.\n"
     ]
    },
    {
     "name": "stdout",
     "output_type": "stream",
     "text": [
      "Epoch 133:  33%|███▎      | 15/45 [00:00<00:01, 16.25it/s, v_num=1563, train_loss_step=0.0812, train_loss_epoch=0.0808, valid_loss=0.154]\n"
     ]
    },
    {
     "name": "stderr",
     "output_type": "stream",
     "text": [
      "INFO:pytorch_lightning.utilities.rank_zero:GPU available: True (cuda), used: True\n",
      "INFO:pytorch_lightning.utilities.rank_zero:TPU available: False, using: 0 TPU cores\n",
      "INFO:pytorch_lightning.utilities.rank_zero:HPU available: False, using: 0 HPUs\n",
      "INFO:pytorch_lightning.accelerators.cuda:LOCAL_RANK: 0 - CUDA_VISIBLE_DEVICES: [0]\n",
      "INFO:pytorch_lightning.callbacks.model_summary:\n",
      "  | Name         | Type          | Params | Mode \n",
      "-------------------------------------------------------\n",
      "0 | loss         | MAPE          | 0      | train\n",
      "1 | padder_train | ConstantPad1d | 0      | train\n",
      "2 | scaler       | TemporalNorm  | 0      | train\n",
      "3 | blocks       | ModuleList    | 429 K  | train\n",
      "4 | gate         | Sequential    | 306    | train\n",
      "-------------------------------------------------------\n",
      "428 K     Trainable params\n",
      "1.7 K     Non-trainable params\n",
      "430 K     Total params\n",
      "1.720     Total estimated model params size (MB)\n",
      "25        Modules in train mode\n",
      "0         Modules in eval mode\n"
     ]
    },
    {
     "name": "stdout",
     "output_type": "stream",
     "text": [
      "Epoch 133:  33%|███▎      | 15/45 [00:00<00:01, 17.05it/s, v_num=1564, train_loss_step=0.107, train_loss_epoch=0.0964, valid_loss=0.168] "
     ]
    },
    {
     "name": "stderr",
     "output_type": "stream",
     "text": [
      "INFO:pytorch_lightning.utilities.rank_zero:`Trainer.fit` stopped: `max_steps=6000` reached.\n"
     ]
    },
    {
     "name": "stdout",
     "output_type": "stream",
     "text": [
      "Epoch 133:  33%|███▎      | 15/45 [00:00<00:01, 17.05it/s, v_num=1564, train_loss_step=0.107, train_loss_epoch=0.0964, valid_loss=0.168]\n"
     ]
    },
    {
     "name": "stderr",
     "output_type": "stream",
     "text": [
      "INFO:pytorch_lightning.utilities.rank_zero:GPU available: True (cuda), used: True\n",
      "INFO:pytorch_lightning.utilities.rank_zero:TPU available: False, using: 0 TPU cores\n",
      "INFO:pytorch_lightning.utilities.rank_zero:HPU available: False, using: 0 HPUs\n",
      "INFO:pytorch_lightning.accelerators.cuda:LOCAL_RANK: 0 - CUDA_VISIBLE_DEVICES: [0]\n",
      "INFO:pytorch_lightning.callbacks.model_summary:\n",
      "  | Name         | Type          | Params | Mode \n",
      "-------------------------------------------------------\n",
      "0 | loss         | MAPE          | 0      | train\n",
      "1 | padder_train | ConstantPad1d | 0      | train\n",
      "2 | scaler       | TemporalNorm  | 0      | train\n",
      "3 | blocks       | ModuleList    | 464 K  | train\n",
      "4 | gate         | Sequential    | 999    | train\n",
      "-------------------------------------------------------\n",
      "461 K     Trainable params\n",
      "4.0 K     Non-trainable params\n",
      "465 K     Total params\n",
      "1.861     Total estimated model params size (MB)\n",
      "25        Modules in train mode\n",
      "0         Modules in eval mode\n"
     ]
    },
    {
     "name": "stdout",
     "output_type": "stream",
     "text": [
      "Epoch 133:  33%|███▎      | 15/45 [00:00<00:01, 15.45it/s, v_num=1565, train_loss_step=0.052, train_loss_epoch=0.063, valid_loss=0.184]  "
     ]
    },
    {
     "name": "stderr",
     "output_type": "stream",
     "text": [
      "INFO:pytorch_lightning.utilities.rank_zero:`Trainer.fit` stopped: `max_steps=6000` reached.\n"
     ]
    },
    {
     "name": "stdout",
     "output_type": "stream",
     "text": [
      "Epoch 133:  33%|███▎      | 15/45 [00:00<00:01, 15.21it/s, v_num=1565, train_loss_step=0.052, train_loss_epoch=0.063, valid_loss=0.184]\n"
     ]
    },
    {
     "name": "stderr",
     "output_type": "stream",
     "text": [
      "INFO:pytorch_lightning.utilities.rank_zero:GPU available: True (cuda), used: True\n",
      "INFO:pytorch_lightning.utilities.rank_zero:TPU available: False, using: 0 TPU cores\n",
      "INFO:pytorch_lightning.utilities.rank_zero:HPU available: False, using: 0 HPUs\n",
      "INFO:pytorch_lightning.accelerators.cuda:LOCAL_RANK: 0 - CUDA_VISIBLE_DEVICES: [0]\n",
      "INFO:pytorch_lightning.callbacks.model_summary:\n",
      "  | Name         | Type          | Params | Mode \n",
      "-------------------------------------------------------\n",
      "0 | loss         | MAPE          | 0      | train\n",
      "1 | padder_train | ConstantPad1d | 0      | train\n",
      "2 | scaler       | TemporalNorm  | 0      | train\n",
      "3 | blocks       | ModuleList    | 434 K  | train\n",
      "4 | gate         | Sequential    | 405    | train\n",
      "-------------------------------------------------------\n",
      "433 K     Trainable params\n",
      "2.0 K     Non-trainable params\n",
      "435 K     Total params\n",
      "1.740     Total estimated model params size (MB)\n",
      "25        Modules in train mode\n",
      "0         Modules in eval mode\n"
     ]
    },
    {
     "name": "stdout",
     "output_type": "stream",
     "text": [
      "Epoch 133:  33%|███▎      | 15/45 [00:00<00:01, 16.30it/s, v_num=1566, train_loss_step=0.087, train_loss_epoch=0.0901, valid_loss=0.167] "
     ]
    },
    {
     "name": "stderr",
     "output_type": "stream",
     "text": [
      "INFO:pytorch_lightning.utilities.rank_zero:`Trainer.fit` stopped: `max_steps=6000` reached.\n"
     ]
    },
    {
     "name": "stdout",
     "output_type": "stream",
     "text": [
      "Epoch 133:  33%|███▎      | 15/45 [00:00<00:01, 16.30it/s, v_num=1566, train_loss_step=0.087, train_loss_epoch=0.0901, valid_loss=0.167]\n"
     ]
    },
    {
     "name": "stderr",
     "output_type": "stream",
     "text": [
      "INFO:pytorch_lightning.utilities.rank_zero:GPU available: True (cuda), used: True\n",
      "INFO:pytorch_lightning.utilities.rank_zero:TPU available: False, using: 0 TPU cores\n",
      "INFO:pytorch_lightning.utilities.rank_zero:HPU available: False, using: 0 HPUs\n",
      "INFO:pytorch_lightning.accelerators.cuda:LOCAL_RANK: 0 - CUDA_VISIBLE_DEVICES: [0]\n",
      "INFO:pytorch_lightning.callbacks.model_summary:\n",
      "  | Name         | Type          | Params | Mode \n",
      "-------------------------------------------------------\n",
      "0 | loss         | MAPE          | 0      | train\n",
      "1 | padder_train | ConstantPad1d | 0      | train\n",
      "2 | scaler       | TemporalNorm  | 0      | train\n",
      "3 | blocks       | ModuleList    | 464 K  | train\n",
      "4 | gate         | Sequential    | 999    | train\n",
      "-------------------------------------------------------\n",
      "461 K     Trainable params\n",
      "4.0 K     Non-trainable params\n",
      "465 K     Total params\n",
      "1.861     Total estimated model params size (MB)\n",
      "25        Modules in train mode\n",
      "0         Modules in eval mode\n"
     ]
    },
    {
     "name": "stdout",
     "output_type": "stream",
     "text": [
      "Epoch 133:  33%|███▎      | 15/45 [00:01<00:02, 14.70it/s, v_num=1567, train_loss_step=0.0642, train_loss_epoch=0.0618, valid_loss=0.197]"
     ]
    },
    {
     "name": "stderr",
     "output_type": "stream",
     "text": [
      "INFO:pytorch_lightning.utilities.rank_zero:`Trainer.fit` stopped: `max_steps=6000` reached.\n"
     ]
    },
    {
     "name": "stdout",
     "output_type": "stream",
     "text": [
      "Epoch 133:  33%|███▎      | 15/45 [00:01<00:02, 14.70it/s, v_num=1567, train_loss_step=0.0642, train_loss_epoch=0.0618, valid_loss=0.197]\n"
     ]
    },
    {
     "name": "stderr",
     "output_type": "stream",
     "text": [
      "INFO:pytorch_lightning.utilities.rank_zero:GPU available: True (cuda), used: True\n",
      "INFO:pytorch_lightning.utilities.rank_zero:TPU available: False, using: 0 TPU cores\n",
      "INFO:pytorch_lightning.utilities.rank_zero:HPU available: False, using: 0 HPUs\n",
      "INFO:pytorch_lightning.accelerators.cuda:LOCAL_RANK: 0 - CUDA_VISIBLE_DEVICES: [0]\n",
      "INFO:pytorch_lightning.callbacks.model_summary:\n",
      "  | Name         | Type          | Params | Mode \n",
      "-------------------------------------------------------\n",
      "0 | loss         | SMAPE         | 0      | train\n",
      "1 | padder_train | ConstantPad1d | 0      | train\n",
      "2 | scaler       | TemporalNorm  | 0      | train\n",
      "3 | blocks       | ModuleList    | 444 K  | train\n",
      "4 | gate         | Sequential    | 603    | train\n",
      "-------------------------------------------------------\n",
      "442 K     Trainable params\n",
      "2.7 K     Non-trainable params\n",
      "445 K     Total params\n",
      "1.781     Total estimated model params size (MB)\n",
      "25        Modules in train mode\n",
      "0         Modules in eval mode\n"
     ]
    },
    {
     "name": "stdout",
     "output_type": "stream",
     "text": [
      "Epoch 133:  33%|███▎      | 15/45 [00:01<00:02, 14.26it/s, v_num=1568, train_loss_step=0.0908, train_loss_epoch=0.0775, valid_loss=0.158]"
     ]
    },
    {
     "name": "stderr",
     "output_type": "stream",
     "text": [
      "INFO:pytorch_lightning.utilities.rank_zero:`Trainer.fit` stopped: `max_steps=6000` reached.\n"
     ]
    },
    {
     "name": "stdout",
     "output_type": "stream",
     "text": [
      "Epoch 133:  33%|███▎      | 15/45 [00:01<00:02, 14.26it/s, v_num=1568, train_loss_step=0.0908, train_loss_epoch=0.0775, valid_loss=0.158]\n"
     ]
    },
    {
     "name": "stderr",
     "output_type": "stream",
     "text": [
      "INFO:pytorch_lightning.utilities.rank_zero:GPU available: True (cuda), used: True\n",
      "INFO:pytorch_lightning.utilities.rank_zero:TPU available: False, using: 0 TPU cores\n",
      "INFO:pytorch_lightning.utilities.rank_zero:HPU available: False, using: 0 HPUs\n",
      "INFO:pytorch_lightning.accelerators.cuda:LOCAL_RANK: 0 - CUDA_VISIBLE_DEVICES: [0]\n",
      "INFO:pytorch_lightning.callbacks.model_summary:\n",
      "  | Name         | Type          | Params | Mode \n",
      "-------------------------------------------------------\n",
      "0 | loss         | MAPE          | 0      | train\n",
      "1 | padder_train | ConstantPad1d | 0      | train\n",
      "2 | scaler       | TemporalNorm  | 0      | train\n",
      "3 | blocks       | ModuleList    | 434 K  | train\n",
      "4 | gate         | Sequential    | 405    | train\n",
      "-------------------------------------------------------\n",
      "433 K     Trainable params\n",
      "2.0 K     Non-trainable params\n",
      "435 K     Total params\n",
      "1.740     Total estimated model params size (MB)\n",
      "25        Modules in train mode\n",
      "0         Modules in eval mode\n"
     ]
    },
    {
     "name": "stdout",
     "output_type": "stream",
     "text": [
      "Epoch 133:  33%|███▎      | 15/45 [00:00<00:01, 15.09it/s, v_num=1569, train_loss_step=0.0871, train_loss_epoch=0.0983, valid_loss=0.169]"
     ]
    },
    {
     "name": "stderr",
     "output_type": "stream",
     "text": [
      "INFO:pytorch_lightning.utilities.rank_zero:`Trainer.fit` stopped: `max_steps=6000` reached.\n"
     ]
    },
    {
     "name": "stdout",
     "output_type": "stream",
     "text": [
      "Epoch 133:  33%|███▎      | 15/45 [00:00<00:01, 15.09it/s, v_num=1569, train_loss_step=0.0871, train_loss_epoch=0.0983, valid_loss=0.169]\n"
     ]
    },
    {
     "name": "stderr",
     "output_type": "stream",
     "text": [
      "INFO:pytorch_lightning.utilities.rank_zero:GPU available: True (cuda), used: True\n",
      "INFO:pytorch_lightning.utilities.rank_zero:TPU available: False, using: 0 TPU cores\n",
      "INFO:pytorch_lightning.utilities.rank_zero:HPU available: False, using: 0 HPUs\n",
      "INFO:pytorch_lightning.accelerators.cuda:LOCAL_RANK: 0 - CUDA_VISIBLE_DEVICES: [0]\n",
      "INFO:pytorch_lightning.callbacks.model_summary:\n",
      "  | Name         | Type          | Params | Mode \n",
      "-------------------------------------------------------\n",
      "0 | loss         | SMAPE         | 0      | train\n",
      "1 | padder_train | ConstantPad1d | 0      | train\n",
      "2 | scaler       | TemporalNorm  | 0      | train\n",
      "3 | blocks       | ModuleList    | 434 K  | train\n",
      "4 | gate         | Sequential    | 405    | train\n",
      "-------------------------------------------------------\n",
      "433 K     Trainable params\n",
      "2.0 K     Non-trainable params\n",
      "435 K     Total params\n",
      "1.740     Total estimated model params size (MB)\n",
      "25        Modules in train mode\n",
      "0         Modules in eval mode\n"
     ]
    },
    {
     "name": "stdout",
     "output_type": "stream",
     "text": [
      "Epoch 133:  33%|███▎      | 15/45 [00:01<00:02, 14.62it/s, v_num=1570, train_loss_step=0.0702, train_loss_epoch=0.0854, valid_loss=0.158]"
     ]
    },
    {
     "name": "stderr",
     "output_type": "stream",
     "text": [
      "INFO:pytorch_lightning.utilities.rank_zero:`Trainer.fit` stopped: `max_steps=6000` reached.\n"
     ]
    },
    {
     "name": "stdout",
     "output_type": "stream",
     "text": [
      "Epoch 133:  33%|███▎      | 15/45 [00:01<00:02, 14.62it/s, v_num=1570, train_loss_step=0.0702, train_loss_epoch=0.0854, valid_loss=0.158]\n"
     ]
    },
    {
     "name": "stderr",
     "output_type": "stream",
     "text": [
      "INFO:pytorch_lightning.utilities.rank_zero:GPU available: True (cuda), used: True\n",
      "INFO:pytorch_lightning.utilities.rank_zero:TPU available: False, using: 0 TPU cores\n",
      "INFO:pytorch_lightning.utilities.rank_zero:HPU available: False, using: 0 HPUs\n",
      "INFO:pytorch_lightning.accelerators.cuda:LOCAL_RANK: 0 - CUDA_VISIBLE_DEVICES: [0]\n",
      "INFO:pytorch_lightning.callbacks.model_summary:\n",
      "  | Name         | Type          | Params | Mode \n",
      "-------------------------------------------------------\n",
      "0 | loss         | SMAPE         | 0      | train\n",
      "1 | padder_train | ConstantPad1d | 0      | train\n",
      "2 | scaler       | TemporalNorm  | 0      | train\n",
      "3 | blocks       | ModuleList    | 439 K  | train\n",
      "4 | gate         | Sequential    | 504    | train\n",
      "-------------------------------------------------------\n",
      "437 K     Trainable params\n",
      "2.3 K     Non-trainable params\n",
      "440 K     Total params\n",
      "1.761     Total estimated model params size (MB)\n",
      "25        Modules in train mode\n",
      "0         Modules in eval mode\n"
     ]
    },
    {
     "name": "stdout",
     "output_type": "stream",
     "text": [
      "Epoch 133:  33%|███▎      | 15/45 [00:01<00:02, 14.72it/s, v_num=1571, train_loss_step=0.0756, train_loss_epoch=0.0805, valid_loss=0.153]"
     ]
    },
    {
     "name": "stderr",
     "output_type": "stream",
     "text": [
      "INFO:pytorch_lightning.utilities.rank_zero:`Trainer.fit` stopped: `max_steps=6000` reached.\n"
     ]
    },
    {
     "name": "stdout",
     "output_type": "stream",
     "text": [
      "Epoch 133:  33%|███▎      | 15/45 [00:01<00:02, 14.72it/s, v_num=1571, train_loss_step=0.0756, train_loss_epoch=0.0805, valid_loss=0.153]\n"
     ]
    },
    {
     "name": "stderr",
     "output_type": "stream",
     "text": [
      "INFO:pytorch_lightning.utilities.rank_zero:GPU available: True (cuda), used: True\n",
      "INFO:pytorch_lightning.utilities.rank_zero:TPU available: False, using: 0 TPU cores\n",
      "INFO:pytorch_lightning.utilities.rank_zero:HPU available: False, using: 0 HPUs\n",
      "INFO:pytorch_lightning.accelerators.cuda:LOCAL_RANK: 0 - CUDA_VISIBLE_DEVICES: [0]\n",
      "INFO:pytorch_lightning.callbacks.model_summary:\n",
      "  | Name         | Type          | Params | Mode \n",
      "-------------------------------------------------------\n",
      "0 | loss         | MASE          | 0      | train\n",
      "1 | padder_train | ConstantPad1d | 0      | train\n",
      "2 | scaler       | TemporalNorm  | 0      | train\n",
      "3 | blocks       | ModuleList    | 429 K  | train\n",
      "4 | gate         | Sequential    | 306    | train\n",
      "-------------------------------------------------------\n",
      "428 K     Trainable params\n",
      "1.7 K     Non-trainable params\n",
      "430 K     Total params\n",
      "1.720     Total estimated model params size (MB)\n",
      "25        Modules in train mode\n",
      "0         Modules in eval mode\n"
     ]
    },
    {
     "name": "stdout",
     "output_type": "stream",
     "text": [
      "Epoch 133:  33%|███▎      | 15/45 [00:00<00:01, 16.86it/s, v_num=1572, train_loss_step=0.643, train_loss_epoch=0.625, valid_loss=1.300]"
     ]
    },
    {
     "name": "stderr",
     "output_type": "stream",
     "text": [
      "INFO:pytorch_lightning.utilities.rank_zero:`Trainer.fit` stopped: `max_steps=6000` reached.\n"
     ]
    },
    {
     "name": "stdout",
     "output_type": "stream",
     "text": [
      "Epoch 133:  33%|███▎      | 15/45 [00:00<00:01, 16.86it/s, v_num=1572, train_loss_step=0.643, train_loss_epoch=0.625, valid_loss=1.300]\n"
     ]
    },
    {
     "name": "stderr",
     "output_type": "stream",
     "text": [
      "INFO:pytorch_lightning.utilities.rank_zero:GPU available: True (cuda), used: True\n",
      "INFO:pytorch_lightning.utilities.rank_zero:TPU available: False, using: 0 TPU cores\n",
      "INFO:pytorch_lightning.utilities.rank_zero:HPU available: False, using: 0 HPUs\n",
      "INFO:pytorch_lightning.accelerators.cuda:LOCAL_RANK: 0 - CUDA_VISIBLE_DEVICES: [0]\n",
      "INFO:pytorch_lightning.callbacks.model_summary:\n",
      "  | Name         | Type          | Params | Mode \n",
      "-------------------------------------------------------\n",
      "0 | loss         | MASE          | 0      | train\n",
      "1 | padder_train | ConstantPad1d | 0      | train\n",
      "2 | scaler       | TemporalNorm  | 0      | train\n",
      "3 | blocks       | ModuleList    | 434 K  | train\n",
      "4 | gate         | Sequential    | 405    | train\n",
      "-------------------------------------------------------\n",
      "433 K     Trainable params\n",
      "2.0 K     Non-trainable params\n",
      "435 K     Total params\n",
      "1.740     Total estimated model params size (MB)\n",
      "25        Modules in train mode\n",
      "0         Modules in eval mode\n"
     ]
    },
    {
     "name": "stdout",
     "output_type": "stream",
     "text": [
      "Epoch 133:  33%|███▎      | 15/45 [00:00<00:01, 15.83it/s, v_num=1573, train_loss_step=1.030, train_loss_epoch=0.688, valid_loss=1.260]"
     ]
    },
    {
     "name": "stderr",
     "output_type": "stream",
     "text": [
      "INFO:pytorch_lightning.utilities.rank_zero:`Trainer.fit` stopped: `max_steps=6000` reached.\n"
     ]
    },
    {
     "name": "stdout",
     "output_type": "stream",
     "text": [
      "Epoch 133:  33%|███▎      | 15/45 [00:00<00:01, 15.83it/s, v_num=1573, train_loss_step=1.030, train_loss_epoch=0.688, valid_loss=1.260]\n"
     ]
    },
    {
     "name": "stderr",
     "output_type": "stream",
     "text": [
      "INFO:pytorch_lightning.utilities.rank_zero:GPU available: True (cuda), used: True\n",
      "INFO:pytorch_lightning.utilities.rank_zero:TPU available: False, using: 0 TPU cores\n",
      "INFO:pytorch_lightning.utilities.rank_zero:HPU available: False, using: 0 HPUs\n",
      "INFO:pytorch_lightning.accelerators.cuda:LOCAL_RANK: 0 - CUDA_VISIBLE_DEVICES: [0]\n",
      "INFO:pytorch_lightning.callbacks.model_summary:\n",
      "  | Name         | Type          | Params | Mode \n",
      "-------------------------------------------------------\n",
      "0 | loss         | SMAPE         | 0      | train\n",
      "1 | padder_train | ConstantPad1d | 0      | train\n",
      "2 | scaler       | TemporalNorm  | 0      | train\n",
      "3 | blocks       | ModuleList    | 434 K  | train\n",
      "4 | gate         | Sequential    | 405    | train\n",
      "-------------------------------------------------------\n",
      "433 K     Trainable params\n",
      "2.0 K     Non-trainable params\n",
      "435 K     Total params\n",
      "1.740     Total estimated model params size (MB)\n",
      "25        Modules in train mode\n",
      "0         Modules in eval mode\n"
     ]
    },
    {
     "name": "stdout",
     "output_type": "stream",
     "text": [
      "Epoch 133:  33%|███▎      | 15/45 [00:01<00:02, 14.38it/s, v_num=1574, train_loss_step=0.0675, train_loss_epoch=0.0865, valid_loss=0.153]"
     ]
    },
    {
     "name": "stderr",
     "output_type": "stream",
     "text": [
      "INFO:pytorch_lightning.utilities.rank_zero:`Trainer.fit` stopped: `max_steps=6000` reached.\n"
     ]
    },
    {
     "name": "stdout",
     "output_type": "stream",
     "text": [
      "Epoch 133:  33%|███▎      | 15/45 [00:01<00:02, 14.38it/s, v_num=1574, train_loss_step=0.0675, train_loss_epoch=0.0865, valid_loss=0.153]\n"
     ]
    },
    {
     "name": "stderr",
     "output_type": "stream",
     "text": [
      "INFO:pytorch_lightning.utilities.rank_zero:GPU available: True (cuda), used: True\n",
      "INFO:pytorch_lightning.utilities.rank_zero:TPU available: False, using: 0 TPU cores\n",
      "INFO:pytorch_lightning.utilities.rank_zero:HPU available: False, using: 0 HPUs\n",
      "INFO:pytorch_lightning.accelerators.cuda:LOCAL_RANK: 0 - CUDA_VISIBLE_DEVICES: [0]\n",
      "INFO:pytorch_lightning.callbacks.model_summary:\n",
      "  | Name         | Type          | Params | Mode \n",
      "-------------------------------------------------------\n",
      "0 | loss         | SMAPE         | 0      | train\n",
      "1 | padder_train | ConstantPad1d | 0      | train\n",
      "2 | scaler       | TemporalNorm  | 0      | train\n",
      "3 | blocks       | ModuleList    | 454 K  | train\n",
      "4 | gate         | Sequential    | 801    | train\n",
      "-------------------------------------------------------\n",
      "451 K     Trainable params\n",
      "3.3 K     Non-trainable params\n",
      "455 K     Total params\n",
      "1.821     Total estimated model params size (MB)\n",
      "25        Modules in train mode\n",
      "0         Modules in eval mode\n"
     ]
    },
    {
     "name": "stdout",
     "output_type": "stream",
     "text": [
      "Epoch 133:  33%|███▎      | 15/45 [00:01<00:02, 14.48it/s, v_num=1575, train_loss_step=0.0937, train_loss_epoch=0.0776, valid_loss=0.157]"
     ]
    },
    {
     "name": "stderr",
     "output_type": "stream",
     "text": [
      "INFO:pytorch_lightning.utilities.rank_zero:`Trainer.fit` stopped: `max_steps=6000` reached.\n"
     ]
    },
    {
     "name": "stdout",
     "output_type": "stream",
     "text": [
      "Epoch 133:  33%|███▎      | 15/45 [00:01<00:02, 14.48it/s, v_num=1575, train_loss_step=0.0937, train_loss_epoch=0.0776, valid_loss=0.157]\n"
     ]
    },
    {
     "name": "stderr",
     "output_type": "stream",
     "text": [
      "INFO:pytorch_lightning.utilities.rank_zero:GPU available: True (cuda), used: True\n",
      "INFO:pytorch_lightning.utilities.rank_zero:TPU available: False, using: 0 TPU cores\n",
      "INFO:pytorch_lightning.utilities.rank_zero:HPU available: False, using: 0 HPUs\n",
      "INFO:pytorch_lightning.accelerators.cuda:LOCAL_RANK: 0 - CUDA_VISIBLE_DEVICES: [0]\n",
      "INFO:pytorch_lightning.callbacks.model_summary:\n",
      "  | Name         | Type          | Params | Mode \n",
      "-------------------------------------------------------\n",
      "0 | loss         | MASE          | 0      | train\n",
      "1 | padder_train | ConstantPad1d | 0      | train\n",
      "2 | scaler       | TemporalNorm  | 0      | train\n",
      "3 | blocks       | ModuleList    | 464 K  | train\n",
      "4 | gate         | Sequential    | 999    | train\n",
      "-------------------------------------------------------\n",
      "461 K     Trainable params\n",
      "4.0 K     Non-trainable params\n",
      "465 K     Total params\n",
      "1.861     Total estimated model params size (MB)\n",
      "25        Modules in train mode\n",
      "0         Modules in eval mode\n"
     ]
    },
    {
     "name": "stdout",
     "output_type": "stream",
     "text": [
      "Epoch 133:  33%|███▎      | 15/45 [00:00<00:01, 15.41it/s, v_num=1576, train_loss_step=0.293, train_loss_epoch=0.272, valid_loss=1.380]"
     ]
    },
    {
     "name": "stderr",
     "output_type": "stream",
     "text": [
      "INFO:pytorch_lightning.utilities.rank_zero:`Trainer.fit` stopped: `max_steps=6000` reached.\n"
     ]
    },
    {
     "name": "stdout",
     "output_type": "stream",
     "text": [
      "Epoch 133:  33%|███▎      | 15/45 [00:00<00:01, 15.41it/s, v_num=1576, train_loss_step=0.293, train_loss_epoch=0.272, valid_loss=1.380]\n"
     ]
    },
    {
     "name": "stderr",
     "output_type": "stream",
     "text": [
      "INFO:pytorch_lightning.utilities.rank_zero:GPU available: True (cuda), used: True\n",
      "INFO:pytorch_lightning.utilities.rank_zero:TPU available: False, using: 0 TPU cores\n",
      "INFO:pytorch_lightning.utilities.rank_zero:HPU available: False, using: 0 HPUs\n",
      "INFO:pytorch_lightning.accelerators.cuda:LOCAL_RANK: 0 - CUDA_VISIBLE_DEVICES: [0]\n",
      "INFO:pytorch_lightning.callbacks.model_summary:\n",
      "  | Name         | Type          | Params | Mode \n",
      "-------------------------------------------------------\n",
      "0 | loss         | MASE          | 0      | train\n",
      "1 | padder_train | ConstantPad1d | 0      | train\n",
      "2 | scaler       | TemporalNorm  | 0      | train\n",
      "3 | blocks       | ModuleList    | 429 K  | train\n",
      "4 | gate         | Sequential    | 306    | train\n",
      "-------------------------------------------------------\n",
      "428 K     Trainable params\n",
      "1.7 K     Non-trainable params\n",
      "430 K     Total params\n",
      "1.720     Total estimated model params size (MB)\n",
      "25        Modules in train mode\n",
      "0         Modules in eval mode\n"
     ]
    },
    {
     "name": "stdout",
     "output_type": "stream",
     "text": [
      "Epoch 133:  33%|███▎      | 15/45 [00:00<00:01, 17.06it/s, v_num=1577, train_loss_step=0.614, train_loss_epoch=0.616, valid_loss=1.370]"
     ]
    },
    {
     "name": "stderr",
     "output_type": "stream",
     "text": [
      "INFO:pytorch_lightning.utilities.rank_zero:`Trainer.fit` stopped: `max_steps=6000` reached.\n"
     ]
    },
    {
     "name": "stdout",
     "output_type": "stream",
     "text": [
      "Epoch 133:  33%|███▎      | 15/45 [00:00<00:01, 16.76it/s, v_num=1577, train_loss_step=0.614, train_loss_epoch=0.616, valid_loss=1.370]\n"
     ]
    },
    {
     "name": "stderr",
     "output_type": "stream",
     "text": [
      "INFO:pytorch_lightning.utilities.rank_zero:GPU available: True (cuda), used: True\n",
      "INFO:pytorch_lightning.utilities.rank_zero:TPU available: False, using: 0 TPU cores\n",
      "INFO:pytorch_lightning.utilities.rank_zero:HPU available: False, using: 0 HPUs\n",
      "INFO:pytorch_lightning.accelerators.cuda:LOCAL_RANK: 0 - CUDA_VISIBLE_DEVICES: [0]\n",
      "INFO:pytorch_lightning.callbacks.model_summary:\n",
      "  | Name         | Type          | Params | Mode \n",
      "-------------------------------------------------------\n",
      "0 | loss         | MASE          | 0      | train\n",
      "1 | padder_train | ConstantPad1d | 0      | train\n",
      "2 | scaler       | TemporalNorm  | 0      | train\n",
      "3 | blocks       | ModuleList    | 444 K  | train\n",
      "4 | gate         | Sequential    | 603    | train\n",
      "-------------------------------------------------------\n",
      "442 K     Trainable params\n",
      "2.7 K     Non-trainable params\n",
      "445 K     Total params\n",
      "1.781     Total estimated model params size (MB)\n",
      "25        Modules in train mode\n",
      "0         Modules in eval mode\n"
     ]
    },
    {
     "name": "stdout",
     "output_type": "stream",
     "text": [
      "Epoch 133:  33%|███▎      | 15/45 [00:01<00:02, 14.97it/s, v_num=1578, train_loss_step=0.596, train_loss_epoch=0.624, valid_loss=1.380]"
     ]
    },
    {
     "name": "stderr",
     "output_type": "stream",
     "text": [
      "INFO:pytorch_lightning.utilities.rank_zero:`Trainer.fit` stopped: `max_steps=6000` reached.\n"
     ]
    },
    {
     "name": "stdout",
     "output_type": "stream",
     "text": [
      "Epoch 133:  33%|███▎      | 15/45 [00:01<00:02, 14.92it/s, v_num=1578, train_loss_step=0.596, train_loss_epoch=0.624, valid_loss=1.380]\n"
     ]
    },
    {
     "name": "stderr",
     "output_type": "stream",
     "text": [
      "INFO:pytorch_lightning.utilities.rank_zero:GPU available: True (cuda), used: True\n",
      "INFO:pytorch_lightning.utilities.rank_zero:TPU available: False, using: 0 TPU cores\n",
      "INFO:pytorch_lightning.utilities.rank_zero:HPU available: False, using: 0 HPUs\n",
      "INFO:pytorch_lightning.accelerators.cuda:LOCAL_RANK: 0 - CUDA_VISIBLE_DEVICES: [0]\n",
      "INFO:pytorch_lightning.callbacks.model_summary:\n",
      "  | Name         | Type          | Params | Mode \n",
      "-------------------------------------------------------\n",
      "0 | loss         | MAPE          | 0      | train\n",
      "1 | padder_train | ConstantPad1d | 0      | train\n",
      "2 | scaler       | TemporalNorm  | 0      | train\n",
      "3 | blocks       | ModuleList    | 464 K  | train\n",
      "4 | gate         | Sequential    | 999    | train\n",
      "-------------------------------------------------------\n",
      "461 K     Trainable params\n",
      "4.0 K     Non-trainable params\n",
      "465 K     Total params\n",
      "1.861     Total estimated model params size (MB)\n",
      "25        Modules in train mode\n",
      "0         Modules in eval mode\n"
     ]
    },
    {
     "name": "stdout",
     "output_type": "stream",
     "text": [
      "Epoch 133:  33%|███▎      | 15/45 [00:01<00:02, 13.52it/s, v_num=1579, train_loss_step=0.0691, train_loss_epoch=0.0651, valid_loss=0.184]"
     ]
    },
    {
     "name": "stderr",
     "output_type": "stream",
     "text": [
      "INFO:pytorch_lightning.utilities.rank_zero:`Trainer.fit` stopped: `max_steps=6000` reached.\n"
     ]
    },
    {
     "name": "stdout",
     "output_type": "stream",
     "text": [
      "Epoch 133:  33%|███▎      | 15/45 [00:01<00:02, 13.47it/s, v_num=1579, train_loss_step=0.0691, train_loss_epoch=0.0651, valid_loss=0.184]\n"
     ]
    },
    {
     "name": "stderr",
     "output_type": "stream",
     "text": [
      "INFO:pytorch_lightning.utilities.rank_zero:GPU available: True (cuda), used: True\n",
      "INFO:pytorch_lightning.utilities.rank_zero:TPU available: False, using: 0 TPU cores\n",
      "INFO:pytorch_lightning.utilities.rank_zero:HPU available: False, using: 0 HPUs\n",
      "INFO:pytorch_lightning.accelerators.cuda:LOCAL_RANK: 0 - CUDA_VISIBLE_DEVICES: [0]\n",
      "INFO:pytorch_lightning.callbacks.model_summary:\n",
      "  | Name         | Type          | Params | Mode \n",
      "-------------------------------------------------------\n",
      "0 | loss         | MAPE          | 0      | train\n",
      "1 | padder_train | ConstantPad1d | 0      | train\n",
      "2 | scaler       | TemporalNorm  | 0      | train\n",
      "3 | blocks       | ModuleList    | 444 K  | train\n",
      "4 | gate         | Sequential    | 603    | train\n",
      "-------------------------------------------------------\n",
      "442 K     Trainable params\n",
      "2.7 K     Non-trainable params\n",
      "445 K     Total params\n",
      "1.781     Total estimated model params size (MB)\n",
      "25        Modules in train mode\n",
      "0         Modules in eval mode\n"
     ]
    },
    {
     "name": "stdout",
     "output_type": "stream",
     "text": [
      "Epoch 133:  33%|███▎      | 15/45 [00:01<00:02, 12.60it/s, v_num=1580, train_loss_step=0.122, train_loss_epoch=0.0915, valid_loss=0.168] "
     ]
    },
    {
     "name": "stderr",
     "output_type": "stream",
     "text": [
      "INFO:pytorch_lightning.utilities.rank_zero:`Trainer.fit` stopped: `max_steps=6000` reached.\n"
     ]
    },
    {
     "name": "stdout",
     "output_type": "stream",
     "text": [
      "Epoch 133:  33%|███▎      | 15/45 [00:01<00:02, 12.58it/s, v_num=1580, train_loss_step=0.122, train_loss_epoch=0.0915, valid_loss=0.168]\n"
     ]
    },
    {
     "name": "stderr",
     "output_type": "stream",
     "text": [
      "INFO:pytorch_lightning.utilities.rank_zero:GPU available: True (cuda), used: True\n",
      "INFO:pytorch_lightning.utilities.rank_zero:TPU available: False, using: 0 TPU cores\n",
      "INFO:pytorch_lightning.utilities.rank_zero:HPU available: False, using: 0 HPUs\n",
      "INFO:pytorch_lightning.accelerators.cuda:LOCAL_RANK: 0 - CUDA_VISIBLE_DEVICES: [0]\n",
      "INFO:pytorch_lightning.callbacks.model_summary:\n",
      "  | Name         | Type          | Params | Mode \n",
      "-------------------------------------------------------\n",
      "0 | loss         | SMAPE         | 0      | train\n",
      "1 | padder_train | ConstantPad1d | 0      | train\n",
      "2 | scaler       | TemporalNorm  | 0      | train\n",
      "3 | blocks       | ModuleList    | 429 K  | train\n",
      "4 | gate         | Sequential    | 306    | train\n",
      "-------------------------------------------------------\n",
      "428 K     Trainable params\n",
      "1.7 K     Non-trainable params\n",
      "430 K     Total params\n",
      "1.720     Total estimated model params size (MB)\n",
      "25        Modules in train mode\n",
      "0         Modules in eval mode\n"
     ]
    },
    {
     "name": "stdout",
     "output_type": "stream",
     "text": [
      "Epoch 133:  33%|███▎      | 15/45 [00:01<00:02, 14.55it/s, v_num=1581, train_loss_step=0.0711, train_loss_epoch=0.0894, valid_loss=0.155]"
     ]
    },
    {
     "name": "stderr",
     "output_type": "stream",
     "text": [
      "INFO:pytorch_lightning.utilities.rank_zero:`Trainer.fit` stopped: `max_steps=6000` reached.\n"
     ]
    },
    {
     "name": "stdout",
     "output_type": "stream",
     "text": [
      "Epoch 133:  33%|███▎      | 15/45 [00:01<00:02, 14.55it/s, v_num=1581, train_loss_step=0.0711, train_loss_epoch=0.0894, valid_loss=0.155]\n"
     ]
    },
    {
     "name": "stderr",
     "output_type": "stream",
     "text": [
      "INFO:pytorch_lightning.utilities.rank_zero:GPU available: True (cuda), used: True\n",
      "INFO:pytorch_lightning.utilities.rank_zero:TPU available: False, using: 0 TPU cores\n",
      "INFO:pytorch_lightning.utilities.rank_zero:HPU available: False, using: 0 HPUs\n",
      "INFO:pytorch_lightning.accelerators.cuda:LOCAL_RANK: 0 - CUDA_VISIBLE_DEVICES: [0]\n",
      "INFO:pytorch_lightning.callbacks.model_summary:\n",
      "  | Name         | Type          | Params | Mode \n",
      "-------------------------------------------------------\n",
      "0 | loss         | SMAPE         | 0      | train\n",
      "1 | padder_train | ConstantPad1d | 0      | train\n",
      "2 | scaler       | TemporalNorm  | 0      | train\n",
      "3 | blocks       | ModuleList    | 434 K  | train\n",
      "4 | gate         | Sequential    | 405    | train\n",
      "-------------------------------------------------------\n",
      "433 K     Trainable params\n",
      "2.0 K     Non-trainable params\n",
      "435 K     Total params\n",
      "1.740     Total estimated model params size (MB)\n",
      "25        Modules in train mode\n",
      "0         Modules in eval mode\n"
     ]
    },
    {
     "name": "stdout",
     "output_type": "stream",
     "text": [
      "Epoch 133:  33%|███▎      | 15/45 [00:01<00:02, 14.36it/s, v_num=1582, train_loss_step=0.0865, train_loss_epoch=0.0834, valid_loss=0.152]"
     ]
    },
    {
     "name": "stderr",
     "output_type": "stream",
     "text": [
      "INFO:pytorch_lightning.utilities.rank_zero:`Trainer.fit` stopped: `max_steps=6000` reached.\n"
     ]
    },
    {
     "name": "stdout",
     "output_type": "stream",
     "text": [
      "Epoch 133:  33%|███▎      | 15/45 [00:01<00:02, 14.17it/s, v_num=1582, train_loss_step=0.0865, train_loss_epoch=0.0834, valid_loss=0.152]\n"
     ]
    },
    {
     "name": "stderr",
     "output_type": "stream",
     "text": [
      "INFO:pytorch_lightning.utilities.rank_zero:GPU available: True (cuda), used: True\n",
      "INFO:pytorch_lightning.utilities.rank_zero:TPU available: False, using: 0 TPU cores\n",
      "INFO:pytorch_lightning.utilities.rank_zero:HPU available: False, using: 0 HPUs\n",
      "INFO:pytorch_lightning.accelerators.cuda:LOCAL_RANK: 0 - CUDA_VISIBLE_DEVICES: [0]\n",
      "INFO:pytorch_lightning.callbacks.model_summary:\n",
      "  | Name         | Type          | Params | Mode \n",
      "-------------------------------------------------------\n",
      "0 | loss         | MASE          | 0      | train\n",
      "1 | padder_train | ConstantPad1d | 0      | train\n",
      "2 | scaler       | TemporalNorm  | 0      | train\n",
      "3 | blocks       | ModuleList    | 464 K  | train\n",
      "4 | gate         | Sequential    | 999    | train\n",
      "-------------------------------------------------------\n",
      "461 K     Trainable params\n",
      "4.0 K     Non-trainable params\n",
      "465 K     Total params\n",
      "1.861     Total estimated model params size (MB)\n",
      "25        Modules in train mode\n",
      "0         Modules in eval mode\n"
     ]
    },
    {
     "name": "stdout",
     "output_type": "stream",
     "text": [
      "Epoch 133:  33%|███▎      | 15/45 [00:01<00:02, 13.97it/s, v_num=1583, train_loss_step=0.220, train_loss_epoch=0.253, valid_loss=1.370]"
     ]
    },
    {
     "name": "stderr",
     "output_type": "stream",
     "text": [
      "INFO:pytorch_lightning.utilities.rank_zero:`Trainer.fit` stopped: `max_steps=6000` reached.\n"
     ]
    },
    {
     "name": "stdout",
     "output_type": "stream",
     "text": [
      "Epoch 133:  33%|███▎      | 15/45 [00:01<00:02, 13.94it/s, v_num=1583, train_loss_step=0.220, train_loss_epoch=0.253, valid_loss=1.370]\n"
     ]
    },
    {
     "name": "stderr",
     "output_type": "stream",
     "text": [
      "INFO:pytorch_lightning.utilities.rank_zero:GPU available: True (cuda), used: True\n",
      "INFO:pytorch_lightning.utilities.rank_zero:TPU available: False, using: 0 TPU cores\n",
      "INFO:pytorch_lightning.utilities.rank_zero:HPU available: False, using: 0 HPUs\n",
      "INFO:pytorch_lightning.accelerators.cuda:LOCAL_RANK: 0 - CUDA_VISIBLE_DEVICES: [0]\n",
      "INFO:pytorch_lightning.callbacks.model_summary:\n",
      "  | Name         | Type          | Params | Mode \n",
      "-------------------------------------------------------\n",
      "0 | loss         | MAPE          | 0      | train\n",
      "1 | padder_train | ConstantPad1d | 0      | train\n",
      "2 | scaler       | TemporalNorm  | 0      | train\n",
      "3 | blocks       | ModuleList    | 464 K  | train\n",
      "4 | gate         | Sequential    | 999    | train\n",
      "-------------------------------------------------------\n",
      "461 K     Trainable params\n",
      "4.0 K     Non-trainable params\n",
      "465 K     Total params\n",
      "1.861     Total estimated model params size (MB)\n",
      "25        Modules in train mode\n",
      "0         Modules in eval mode\n"
     ]
    },
    {
     "name": "stdout",
     "output_type": "stream",
     "text": [
      "Epoch 133:  33%|███▎      | 15/45 [00:01<00:02, 13.25it/s, v_num=1584, train_loss_step=0.0804, train_loss_epoch=0.0642, valid_loss=0.189]"
     ]
    },
    {
     "name": "stderr",
     "output_type": "stream",
     "text": [
      "INFO:pytorch_lightning.utilities.rank_zero:`Trainer.fit` stopped: `max_steps=6000` reached.\n"
     ]
    },
    {
     "name": "stdout",
     "output_type": "stream",
     "text": [
      "Epoch 133:  33%|███▎      | 15/45 [00:01<00:02, 13.21it/s, v_num=1584, train_loss_step=0.0804, train_loss_epoch=0.0642, valid_loss=0.189]\n"
     ]
    },
    {
     "name": "stderr",
     "output_type": "stream",
     "text": [
      "INFO:pytorch_lightning.utilities.rank_zero:GPU available: True (cuda), used: True\n",
      "INFO:pytorch_lightning.utilities.rank_zero:TPU available: False, using: 0 TPU cores\n",
      "INFO:pytorch_lightning.utilities.rank_zero:HPU available: False, using: 0 HPUs\n",
      "INFO:pytorch_lightning.accelerators.cuda:LOCAL_RANK: 0 - CUDA_VISIBLE_DEVICES: [0]\n",
      "INFO:pytorch_lightning.callbacks.model_summary:\n",
      "  | Name         | Type          | Params | Mode \n",
      "-------------------------------------------------------\n",
      "0 | loss         | MASE          | 0      | train\n",
      "1 | padder_train | ConstantPad1d | 0      | train\n",
      "2 | scaler       | TemporalNorm  | 0      | train\n",
      "3 | blocks       | ModuleList    | 429 K  | train\n",
      "4 | gate         | Sequential    | 306    | train\n",
      "-------------------------------------------------------\n",
      "428 K     Trainable params\n",
      "1.7 K     Non-trainable params\n",
      "430 K     Total params\n",
      "1.720     Total estimated model params size (MB)\n",
      "25        Modules in train mode\n",
      "0         Modules in eval mode\n"
     ]
    },
    {
     "name": "stdout",
     "output_type": "stream",
     "text": [
      "Epoch 133:  33%|███▎      | 15/45 [00:01<00:02, 14.04it/s, v_num=1585, train_loss_step=0.600, train_loss_epoch=0.674, valid_loss=1.280]"
     ]
    },
    {
     "name": "stderr",
     "output_type": "stream",
     "text": [
      "INFO:pytorch_lightning.utilities.rank_zero:`Trainer.fit` stopped: `max_steps=6000` reached.\n"
     ]
    },
    {
     "name": "stdout",
     "output_type": "stream",
     "text": [
      "Epoch 133:  33%|███▎      | 15/45 [00:01<00:02, 14.04it/s, v_num=1585, train_loss_step=0.600, train_loss_epoch=0.674, valid_loss=1.280]\n"
     ]
    },
    {
     "name": "stderr",
     "output_type": "stream",
     "text": [
      "INFO:pytorch_lightning.utilities.rank_zero:GPU available: True (cuda), used: True\n",
      "INFO:pytorch_lightning.utilities.rank_zero:TPU available: False, using: 0 TPU cores\n",
      "INFO:pytorch_lightning.utilities.rank_zero:HPU available: False, using: 0 HPUs\n",
      "INFO:pytorch_lightning.accelerators.cuda:LOCAL_RANK: 0 - CUDA_VISIBLE_DEVICES: [0]\n",
      "INFO:pytorch_lightning.callbacks.model_summary:\n",
      "  | Name         | Type          | Params | Mode \n",
      "-------------------------------------------------------\n",
      "0 | loss         | SMAPE         | 0      | train\n",
      "1 | padder_train | ConstantPad1d | 0      | train\n",
      "2 | scaler       | TemporalNorm  | 0      | train\n",
      "3 | blocks       | ModuleList    | 434 K  | train\n",
      "4 | gate         | Sequential    | 405    | train\n",
      "-------------------------------------------------------\n",
      "433 K     Trainable params\n",
      "2.0 K     Non-trainable params\n",
      "435 K     Total params\n",
      "1.740     Total estimated model params size (MB)\n",
      "25        Modules in train mode\n",
      "0         Modules in eval mode\n"
     ]
    },
    {
     "name": "stdout",
     "output_type": "stream",
     "text": [
      "Epoch 133:  33%|███▎      | 15/45 [00:01<00:02, 14.06it/s, v_num=1586, train_loss_step=0.0843, train_loss_epoch=0.0887, valid_loss=0.151]"
     ]
    },
    {
     "name": "stderr",
     "output_type": "stream",
     "text": [
      "INFO:pytorch_lightning.utilities.rank_zero:`Trainer.fit` stopped: `max_steps=6000` reached.\n"
     ]
    },
    {
     "name": "stdout",
     "output_type": "stream",
     "text": [
      "Epoch 133:  33%|███▎      | 15/45 [00:01<00:02, 14.06it/s, v_num=1586, train_loss_step=0.0843, train_loss_epoch=0.0887, valid_loss=0.151]\n"
     ]
    },
    {
     "name": "stderr",
     "output_type": "stream",
     "text": [
      "INFO:pytorch_lightning.utilities.rank_zero:GPU available: True (cuda), used: True\n",
      "INFO:pytorch_lightning.utilities.rank_zero:TPU available: False, using: 0 TPU cores\n",
      "INFO:pytorch_lightning.utilities.rank_zero:HPU available: False, using: 0 HPUs\n",
      "INFO:pytorch_lightning.accelerators.cuda:LOCAL_RANK: 0 - CUDA_VISIBLE_DEVICES: [0]\n",
      "INFO:pytorch_lightning.callbacks.model_summary:\n",
      "  | Name         | Type          | Params | Mode \n",
      "-------------------------------------------------------\n",
      "0 | loss         | SMAPE         | 0      | train\n",
      "1 | padder_train | ConstantPad1d | 0      | train\n",
      "2 | scaler       | TemporalNorm  | 0      | train\n",
      "3 | blocks       | ModuleList    | 429 K  | train\n",
      "4 | gate         | Sequential    | 306    | train\n",
      "-------------------------------------------------------\n",
      "428 K     Trainable params\n",
      "1.7 K     Non-trainable params\n",
      "430 K     Total params\n",
      "1.720     Total estimated model params size (MB)\n",
      "25        Modules in train mode\n",
      "0         Modules in eval mode\n"
     ]
    },
    {
     "name": "stdout",
     "output_type": "stream",
     "text": [
      "Epoch 133:  33%|███▎      | 15/45 [00:01<00:02, 13.90it/s, v_num=1587, train_loss_step=0.102, train_loss_epoch=0.0876, valid_loss=0.158] "
     ]
    },
    {
     "name": "stderr",
     "output_type": "stream",
     "text": [
      "INFO:pytorch_lightning.utilities.rank_zero:`Trainer.fit` stopped: `max_steps=6000` reached.\n"
     ]
    },
    {
     "name": "stdout",
     "output_type": "stream",
     "text": [
      "Epoch 133:  33%|███▎      | 15/45 [00:01<00:02, 13.90it/s, v_num=1587, train_loss_step=0.102, train_loss_epoch=0.0876, valid_loss=0.158]\n"
     ]
    },
    {
     "name": "stderr",
     "output_type": "stream",
     "text": [
      "INFO:pytorch_lightning.utilities.rank_zero:GPU available: True (cuda), used: True\n",
      "INFO:pytorch_lightning.utilities.rank_zero:TPU available: False, using: 0 TPU cores\n",
      "INFO:pytorch_lightning.utilities.rank_zero:HPU available: False, using: 0 HPUs\n",
      "INFO:pytorch_lightning.accelerators.cuda:LOCAL_RANK: 0 - CUDA_VISIBLE_DEVICES: [0]\n",
      "INFO:pytorch_lightning.callbacks.model_summary:\n",
      "  | Name         | Type          | Params | Mode \n",
      "-------------------------------------------------------\n",
      "0 | loss         | MAPE          | 0      | train\n",
      "1 | padder_train | ConstantPad1d | 0      | train\n",
      "2 | scaler       | TemporalNorm  | 0      | train\n",
      "3 | blocks       | ModuleList    | 454 K  | train\n",
      "4 | gate         | Sequential    | 801    | train\n",
      "-------------------------------------------------------\n",
      "451 K     Trainable params\n",
      "3.3 K     Non-trainable params\n",
      "455 K     Total params\n",
      "1.821     Total estimated model params size (MB)\n",
      "25        Modules in train mode\n",
      "0         Modules in eval mode\n"
     ]
    },
    {
     "name": "stdout",
     "output_type": "stream",
     "text": [
      "Epoch 133:  33%|███▎      | 15/45 [00:01<00:02, 13.06it/s, v_num=1588, train_loss_step=0.0893, train_loss_epoch=0.083, valid_loss=0.179] "
     ]
    },
    {
     "name": "stderr",
     "output_type": "stream",
     "text": [
      "INFO:pytorch_lightning.utilities.rank_zero:`Trainer.fit` stopped: `max_steps=6000` reached.\n"
     ]
    },
    {
     "name": "stdout",
     "output_type": "stream",
     "text": [
      "Epoch 133:  33%|███▎      | 15/45 [00:01<00:02, 13.06it/s, v_num=1588, train_loss_step=0.0893, train_loss_epoch=0.083, valid_loss=0.179]\n"
     ]
    },
    {
     "name": "stderr",
     "output_type": "stream",
     "text": [
      "INFO:pytorch_lightning.utilities.rank_zero:GPU available: True (cuda), used: True\n",
      "INFO:pytorch_lightning.utilities.rank_zero:TPU available: False, using: 0 TPU cores\n",
      "INFO:pytorch_lightning.utilities.rank_zero:HPU available: False, using: 0 HPUs\n",
      "INFO:pytorch_lightning.accelerators.cuda:LOCAL_RANK: 0 - CUDA_VISIBLE_DEVICES: [0]\n",
      "INFO:pytorch_lightning.callbacks.model_summary:\n",
      "  | Name         | Type          | Params | Mode \n",
      "-------------------------------------------------------\n",
      "0 | loss         | MAPE          | 0      | train\n",
      "1 | padder_train | ConstantPad1d | 0      | train\n",
      "2 | scaler       | TemporalNorm  | 0      | train\n",
      "3 | blocks       | ModuleList    | 464 K  | train\n",
      "4 | gate         | Sequential    | 999    | train\n",
      "-------------------------------------------------------\n",
      "461 K     Trainable params\n",
      "4.0 K     Non-trainable params\n",
      "465 K     Total params\n",
      "1.861     Total estimated model params size (MB)\n",
      "25        Modules in train mode\n",
      "0         Modules in eval mode\n"
     ]
    },
    {
     "name": "stdout",
     "output_type": "stream",
     "text": [
      "Epoch 133:  33%|███▎      | 15/45 [00:01<00:02, 13.62it/s, v_num=1589, train_loss_step=0.056, train_loss_epoch=0.0633, valid_loss=0.195] "
     ]
    },
    {
     "name": "stderr",
     "output_type": "stream",
     "text": [
      "INFO:pytorch_lightning.utilities.rank_zero:`Trainer.fit` stopped: `max_steps=6000` reached.\n"
     ]
    },
    {
     "name": "stdout",
     "output_type": "stream",
     "text": [
      "Epoch 133:  33%|███▎      | 15/45 [00:01<00:02, 13.59it/s, v_num=1589, train_loss_step=0.056, train_loss_epoch=0.0633, valid_loss=0.195]\n"
     ]
    },
    {
     "name": "stderr",
     "output_type": "stream",
     "text": [
      "INFO:pytorch_lightning.utilities.rank_zero:GPU available: True (cuda), used: True\n",
      "INFO:pytorch_lightning.utilities.rank_zero:TPU available: False, using: 0 TPU cores\n",
      "INFO:pytorch_lightning.utilities.rank_zero:HPU available: False, using: 0 HPUs\n",
      "INFO:pytorch_lightning.accelerators.cuda:LOCAL_RANK: 0 - CUDA_VISIBLE_DEVICES: [0]\n",
      "INFO:pytorch_lightning.callbacks.model_summary:\n",
      "  | Name         | Type          | Params | Mode \n",
      "-------------------------------------------------------\n",
      "0 | loss         | MAPE          | 0      | train\n",
      "1 | padder_train | ConstantPad1d | 0      | train\n",
      "2 | scaler       | TemporalNorm  | 0      | train\n",
      "3 | blocks       | ModuleList    | 439 K  | train\n",
      "4 | gate         | Sequential    | 504    | train\n",
      "-------------------------------------------------------\n",
      "437 K     Trainable params\n",
      "2.3 K     Non-trainable params\n",
      "440 K     Total params\n",
      "1.761     Total estimated model params size (MB)\n",
      "25        Modules in train mode\n",
      "0         Modules in eval mode\n"
     ]
    },
    {
     "name": "stdout",
     "output_type": "stream",
     "text": [
      "Epoch 133:  33%|███▎      | 15/45 [00:00<00:01, 15.92it/s, v_num=1590, train_loss_step=0.0831, train_loss_epoch=0.0907, valid_loss=0.163]"
     ]
    },
    {
     "name": "stderr",
     "output_type": "stream",
     "text": [
      "INFO:pytorch_lightning.utilities.rank_zero:`Trainer.fit` stopped: `max_steps=6000` reached.\n"
     ]
    },
    {
     "name": "stdout",
     "output_type": "stream",
     "text": [
      "Epoch 133:  33%|███▎      | 15/45 [00:00<00:01, 15.87it/s, v_num=1590, train_loss_step=0.0831, train_loss_epoch=0.0907, valid_loss=0.163]\n"
     ]
    },
    {
     "name": "stderr",
     "output_type": "stream",
     "text": [
      "INFO:pytorch_lightning.utilities.rank_zero:GPU available: True (cuda), used: True\n",
      "INFO:pytorch_lightning.utilities.rank_zero:TPU available: False, using: 0 TPU cores\n",
      "INFO:pytorch_lightning.utilities.rank_zero:HPU available: False, using: 0 HPUs\n",
      "INFO:pytorch_lightning.accelerators.cuda:LOCAL_RANK: 0 - CUDA_VISIBLE_DEVICES: [0]\n",
      "INFO:pytorch_lightning.callbacks.model_summary:\n",
      "  | Name         | Type          | Params | Mode \n",
      "-------------------------------------------------------\n",
      "0 | loss         | SMAPE         | 0      | train\n",
      "1 | padder_train | ConstantPad1d | 0      | train\n",
      "2 | scaler       | TemporalNorm  | 0      | train\n",
      "3 | blocks       | ModuleList    | 454 K  | train\n",
      "4 | gate         | Sequential    | 801    | train\n",
      "-------------------------------------------------------\n",
      "451 K     Trainable params\n",
      "3.3 K     Non-trainable params\n",
      "455 K     Total params\n",
      "1.821     Total estimated model params size (MB)\n",
      "25        Modules in train mode\n",
      "0         Modules in eval mode\n"
     ]
    },
    {
     "name": "stdout",
     "output_type": "stream",
     "text": [
      "Epoch 133:  33%|███▎      | 15/45 [00:01<00:02, 14.33it/s, v_num=1591, train_loss_step=0.0722, train_loss_epoch=0.0811, valid_loss=0.161]"
     ]
    },
    {
     "name": "stderr",
     "output_type": "stream",
     "text": [
      "INFO:pytorch_lightning.utilities.rank_zero:`Trainer.fit` stopped: `max_steps=6000` reached.\n"
     ]
    },
    {
     "name": "stdout",
     "output_type": "stream",
     "text": [
      "Epoch 133:  33%|███▎      | 15/45 [00:01<00:02, 14.29it/s, v_num=1591, train_loss_step=0.0722, train_loss_epoch=0.0811, valid_loss=0.161]\n"
     ]
    },
    {
     "name": "stderr",
     "output_type": "stream",
     "text": [
      "INFO:pytorch_lightning.utilities.rank_zero:GPU available: True (cuda), used: True\n",
      "INFO:pytorch_lightning.utilities.rank_zero:TPU available: False, using: 0 TPU cores\n",
      "INFO:pytorch_lightning.utilities.rank_zero:HPU available: False, using: 0 HPUs\n",
      "INFO:pytorch_lightning.accelerators.cuda:LOCAL_RANK: 0 - CUDA_VISIBLE_DEVICES: [0]\n",
      "INFO:pytorch_lightning.callbacks.model_summary:\n",
      "  | Name         | Type          | Params | Mode \n",
      "-------------------------------------------------------\n",
      "0 | loss         | SMAPE         | 0      | train\n",
      "1 | padder_train | ConstantPad1d | 0      | train\n",
      "2 | scaler       | TemporalNorm  | 0      | train\n",
      "3 | blocks       | ModuleList    | 429 K  | train\n",
      "4 | gate         | Sequential    | 306    | train\n",
      "-------------------------------------------------------\n",
      "428 K     Trainable params\n",
      "1.7 K     Non-trainable params\n",
      "430 K     Total params\n",
      "1.720     Total estimated model params size (MB)\n",
      "25        Modules in train mode\n",
      "0         Modules in eval mode\n"
     ]
    },
    {
     "name": "stdout",
     "output_type": "stream",
     "text": [
      "Epoch 133:  33%|███▎      | 15/45 [00:01<00:02, 14.28it/s, v_num=1592, train_loss_step=0.0845, train_loss_epoch=0.0854, valid_loss=0.155]"
     ]
    },
    {
     "name": "stderr",
     "output_type": "stream",
     "text": [
      "INFO:pytorch_lightning.utilities.rank_zero:`Trainer.fit` stopped: `max_steps=6000` reached.\n"
     ]
    },
    {
     "name": "stdout",
     "output_type": "stream",
     "text": [
      "Epoch 133:  33%|███▎      | 15/45 [00:01<00:02, 14.24it/s, v_num=1592, train_loss_step=0.0845, train_loss_epoch=0.0854, valid_loss=0.155]\n"
     ]
    },
    {
     "name": "stderr",
     "output_type": "stream",
     "text": [
      "INFO:pytorch_lightning.utilities.rank_zero:GPU available: True (cuda), used: True\n",
      "INFO:pytorch_lightning.utilities.rank_zero:TPU available: False, using: 0 TPU cores\n",
      "INFO:pytorch_lightning.utilities.rank_zero:HPU available: False, using: 0 HPUs\n",
      "INFO:pytorch_lightning.accelerators.cuda:LOCAL_RANK: 0 - CUDA_VISIBLE_DEVICES: [0]\n",
      "INFO:pytorch_lightning.callbacks.model_summary:\n",
      "  | Name         | Type          | Params | Mode \n",
      "-------------------------------------------------------\n",
      "0 | loss         | MAPE          | 0      | train\n",
      "1 | padder_train | ConstantPad1d | 0      | train\n",
      "2 | scaler       | TemporalNorm  | 0      | train\n",
      "3 | blocks       | ModuleList    | 464 K  | train\n",
      "4 | gate         | Sequential    | 999    | train\n",
      "-------------------------------------------------------\n",
      "461 K     Trainable params\n",
      "4.0 K     Non-trainable params\n",
      "465 K     Total params\n",
      "1.861     Total estimated model params size (MB)\n",
      "25        Modules in train mode\n",
      "0         Modules in eval mode\n"
     ]
    },
    {
     "name": "stdout",
     "output_type": "stream",
     "text": [
      "Epoch 133:  33%|███▎      | 15/45 [00:01<00:02, 14.82it/s, v_num=1593, train_loss_step=0.0769, train_loss_epoch=0.0634, valid_loss=0.183]"
     ]
    },
    {
     "name": "stderr",
     "output_type": "stream",
     "text": [
      "INFO:pytorch_lightning.utilities.rank_zero:`Trainer.fit` stopped: `max_steps=6000` reached.\n"
     ]
    },
    {
     "name": "stdout",
     "output_type": "stream",
     "text": [
      "Epoch 133:  33%|███▎      | 15/45 [00:01<00:02, 14.77it/s, v_num=1593, train_loss_step=0.0769, train_loss_epoch=0.0634, valid_loss=0.183]\n"
     ]
    },
    {
     "name": "stderr",
     "output_type": "stream",
     "text": [
      "INFO:pytorch_lightning.utilities.rank_zero:GPU available: True (cuda), used: True\n",
      "INFO:pytorch_lightning.utilities.rank_zero:TPU available: False, using: 0 TPU cores\n",
      "INFO:pytorch_lightning.utilities.rank_zero:HPU available: False, using: 0 HPUs\n",
      "INFO:pytorch_lightning.accelerators.cuda:LOCAL_RANK: 0 - CUDA_VISIBLE_DEVICES: [0]\n",
      "INFO:pytorch_lightning.callbacks.model_summary:\n",
      "  | Name         | Type          | Params | Mode \n",
      "-------------------------------------------------------\n",
      "0 | loss         | MAPE          | 0      | train\n",
      "1 | padder_train | ConstantPad1d | 0      | train\n",
      "2 | scaler       | TemporalNorm  | 0      | train\n",
      "3 | blocks       | ModuleList    | 439 K  | train\n",
      "4 | gate         | Sequential    | 504    | train\n",
      "-------------------------------------------------------\n",
      "437 K     Trainable params\n",
      "2.3 K     Non-trainable params\n",
      "440 K     Total params\n",
      "1.761     Total estimated model params size (MB)\n",
      "25        Modules in train mode\n",
      "0         Modules in eval mode\n"
     ]
    },
    {
     "name": "stdout",
     "output_type": "stream",
     "text": [
      "Epoch 133:  33%|███▎      | 15/45 [00:01<00:02, 14.29it/s, v_num=1594, train_loss_step=0.0632, train_loss_epoch=0.0858, valid_loss=0.166]"
     ]
    },
    {
     "name": "stderr",
     "output_type": "stream",
     "text": [
      "INFO:pytorch_lightning.utilities.rank_zero:`Trainer.fit` stopped: `max_steps=6000` reached.\n"
     ]
    },
    {
     "name": "stdout",
     "output_type": "stream",
     "text": [
      "Epoch 133:  33%|███▎      | 15/45 [00:01<00:02, 14.29it/s, v_num=1594, train_loss_step=0.0632, train_loss_epoch=0.0858, valid_loss=0.166]\n"
     ]
    },
    {
     "name": "stderr",
     "output_type": "stream",
     "text": [
      "INFO:pytorch_lightning.utilities.rank_zero:GPU available: True (cuda), used: True\n",
      "INFO:pytorch_lightning.utilities.rank_zero:TPU available: False, using: 0 TPU cores\n",
      "INFO:pytorch_lightning.utilities.rank_zero:HPU available: False, using: 0 HPUs\n",
      "INFO:pytorch_lightning.accelerators.cuda:LOCAL_RANK: 0 - CUDA_VISIBLE_DEVICES: [0]\n",
      "INFO:pytorch_lightning.callbacks.model_summary:\n",
      "  | Name         | Type          | Params | Mode \n",
      "-------------------------------------------------------\n",
      "0 | loss         | MASE          | 0      | train\n",
      "1 | padder_train | ConstantPad1d | 0      | train\n",
      "2 | scaler       | TemporalNorm  | 0      | train\n",
      "3 | blocks       | ModuleList    | 439 K  | train\n",
      "4 | gate         | Sequential    | 504    | train\n",
      "-------------------------------------------------------\n",
      "437 K     Trainable params\n",
      "2.3 K     Non-trainable params\n",
      "440 K     Total params\n",
      "1.761     Total estimated model params size (MB)\n",
      "25        Modules in train mode\n",
      "0         Modules in eval mode\n"
     ]
    },
    {
     "name": "stdout",
     "output_type": "stream",
     "text": [
      "Epoch 133:  33%|███▎      | 15/45 [00:01<00:02, 13.50it/s, v_num=1595, train_loss_step=0.541, train_loss_epoch=0.656, valid_loss=1.270]"
     ]
    },
    {
     "name": "stderr",
     "output_type": "stream",
     "text": [
      "INFO:pytorch_lightning.utilities.rank_zero:`Trainer.fit` stopped: `max_steps=6000` reached.\n"
     ]
    },
    {
     "name": "stdout",
     "output_type": "stream",
     "text": [
      "Epoch 133:  33%|███▎      | 15/45 [00:01<00:02, 13.46it/s, v_num=1595, train_loss_step=0.541, train_loss_epoch=0.656, valid_loss=1.270]\n"
     ]
    },
    {
     "name": "stderr",
     "output_type": "stream",
     "text": [
      "INFO:pytorch_lightning.utilities.rank_zero:GPU available: True (cuda), used: True\n",
      "INFO:pytorch_lightning.utilities.rank_zero:TPU available: False, using: 0 TPU cores\n",
      "INFO:pytorch_lightning.utilities.rank_zero:HPU available: False, using: 0 HPUs\n",
      "INFO:pytorch_lightning.accelerators.cuda:LOCAL_RANK: 0 - CUDA_VISIBLE_DEVICES: [0]\n",
      "INFO:pytorch_lightning.callbacks.model_summary:\n",
      "  | Name         | Type          | Params | Mode \n",
      "-------------------------------------------------------\n",
      "0 | loss         | SMAPE         | 0      | train\n",
      "1 | padder_train | ConstantPad1d | 0      | train\n",
      "2 | scaler       | TemporalNorm  | 0      | train\n",
      "3 | blocks       | ModuleList    | 434 K  | train\n",
      "4 | gate         | Sequential    | 405    | train\n",
      "-------------------------------------------------------\n",
      "433 K     Trainable params\n",
      "2.0 K     Non-trainable params\n",
      "435 K     Total params\n",
      "1.740     Total estimated model params size (MB)\n",
      "25        Modules in train mode\n",
      "0         Modules in eval mode\n"
     ]
    },
    {
     "name": "stdout",
     "output_type": "stream",
     "text": [
      "Epoch 133:  33%|███▎      | 15/45 [00:01<00:02, 13.84it/s, v_num=1596, train_loss_step=0.102, train_loss_epoch=0.0838, valid_loss=0.156] "
     ]
    },
    {
     "name": "stderr",
     "output_type": "stream",
     "text": [
      "INFO:pytorch_lightning.utilities.rank_zero:`Trainer.fit` stopped: `max_steps=6000` reached.\n"
     ]
    },
    {
     "name": "stdout",
     "output_type": "stream",
     "text": [
      "Epoch 133:  33%|███▎      | 15/45 [00:01<00:02, 13.84it/s, v_num=1596, train_loss_step=0.102, train_loss_epoch=0.0838, valid_loss=0.156]\n"
     ]
    },
    {
     "name": "stderr",
     "output_type": "stream",
     "text": [
      "INFO:pytorch_lightning.utilities.rank_zero:GPU available: True (cuda), used: True\n",
      "INFO:pytorch_lightning.utilities.rank_zero:TPU available: False, using: 0 TPU cores\n",
      "INFO:pytorch_lightning.utilities.rank_zero:HPU available: False, using: 0 HPUs\n",
      "INFO:pytorch_lightning.accelerators.cuda:LOCAL_RANK: 0 - CUDA_VISIBLE_DEVICES: [0]\n",
      "INFO:pytorch_lightning.callbacks.model_summary:\n",
      "  | Name         | Type          | Params | Mode \n",
      "-------------------------------------------------------\n",
      "0 | loss         | MASE          | 0      | train\n",
      "1 | padder_train | ConstantPad1d | 0      | train\n",
      "2 | scaler       | TemporalNorm  | 0      | train\n",
      "3 | blocks       | ModuleList    | 454 K  | train\n",
      "4 | gate         | Sequential    | 801    | train\n",
      "-------------------------------------------------------\n",
      "451 K     Trainable params\n",
      "3.3 K     Non-trainable params\n",
      "455 K     Total params\n",
      "1.821     Total estimated model params size (MB)\n",
      "25        Modules in train mode\n",
      "0         Modules in eval mode\n"
     ]
    },
    {
     "name": "stdout",
     "output_type": "stream",
     "text": [
      "Epoch 133:  33%|███▎      | 15/45 [00:01<00:02, 14.55it/s, v_num=1597, train_loss_step=2.460, train_loss_epoch=1.010, valid_loss=1.340]"
     ]
    },
    {
     "name": "stderr",
     "output_type": "stream",
     "text": [
      "INFO:pytorch_lightning.utilities.rank_zero:`Trainer.fit` stopped: `max_steps=6000` reached.\n"
     ]
    },
    {
     "name": "stdout",
     "output_type": "stream",
     "text": [
      "Epoch 133:  33%|███▎      | 15/45 [00:01<00:02, 14.32it/s, v_num=1597, train_loss_step=2.460, train_loss_epoch=1.010, valid_loss=1.340]\n"
     ]
    },
    {
     "name": "stderr",
     "output_type": "stream",
     "text": [
      "INFO:pytorch_lightning.utilities.rank_zero:GPU available: True (cuda), used: True\n",
      "INFO:pytorch_lightning.utilities.rank_zero:TPU available: False, using: 0 TPU cores\n",
      "INFO:pytorch_lightning.utilities.rank_zero:HPU available: False, using: 0 HPUs\n",
      "INFO:pytorch_lightning.accelerators.cuda:LOCAL_RANK: 0 - CUDA_VISIBLE_DEVICES: [0]\n",
      "INFO:pytorch_lightning.callbacks.model_summary:\n",
      "  | Name         | Type          | Params | Mode \n",
      "-------------------------------------------------------\n",
      "0 | loss         | MASE          | 0      | train\n",
      "1 | padder_train | ConstantPad1d | 0      | train\n",
      "2 | scaler       | TemporalNorm  | 0      | train\n",
      "3 | blocks       | ModuleList    | 444 K  | train\n",
      "4 | gate         | Sequential    | 603    | train\n",
      "-------------------------------------------------------\n",
      "442 K     Trainable params\n",
      "2.7 K     Non-trainable params\n",
      "445 K     Total params\n",
      "1.781     Total estimated model params size (MB)\n",
      "25        Modules in train mode\n",
      "0         Modules in eval mode\n"
     ]
    },
    {
     "name": "stdout",
     "output_type": "stream",
     "text": [
      "Epoch 133:  33%|███▎      | 15/45 [00:01<00:02, 14.21it/s, v_num=1598, train_loss_step=0.722, train_loss_epoch=0.645, valid_loss=1.320]"
     ]
    },
    {
     "name": "stderr",
     "output_type": "stream",
     "text": [
      "INFO:pytorch_lightning.utilities.rank_zero:`Trainer.fit` stopped: `max_steps=6000` reached.\n"
     ]
    },
    {
     "name": "stdout",
     "output_type": "stream",
     "text": [
      "Epoch 133:  33%|███▎      | 15/45 [00:01<00:02, 14.18it/s, v_num=1598, train_loss_step=0.722, train_loss_epoch=0.645, valid_loss=1.320]\n"
     ]
    },
    {
     "name": "stderr",
     "output_type": "stream",
     "text": [
      "INFO:pytorch_lightning.utilities.rank_zero:GPU available: True (cuda), used: True\n",
      "INFO:pytorch_lightning.utilities.rank_zero:TPU available: False, using: 0 TPU cores\n",
      "INFO:pytorch_lightning.utilities.rank_zero:HPU available: False, using: 0 HPUs\n",
      "INFO:pytorch_lightning.accelerators.cuda:LOCAL_RANK: 0 - CUDA_VISIBLE_DEVICES: [0]\n",
      "INFO:pytorch_lightning.callbacks.model_summary:\n",
      "  | Name         | Type          | Params | Mode \n",
      "-------------------------------------------------------\n",
      "0 | loss         | SMAPE         | 0      | train\n",
      "1 | padder_train | ConstantPad1d | 0      | train\n",
      "2 | scaler       | TemporalNorm  | 0      | train\n",
      "3 | blocks       | ModuleList    | 434 K  | train\n",
      "4 | gate         | Sequential    | 405    | train\n",
      "-------------------------------------------------------\n",
      "433 K     Trainable params\n",
      "2.0 K     Non-trainable params\n",
      "435 K     Total params\n",
      "1.740     Total estimated model params size (MB)\n",
      "25        Modules in train mode\n",
      "0         Modules in eval mode\n"
     ]
    },
    {
     "name": "stdout",
     "output_type": "stream",
     "text": [
      "Epoch 133:  33%|███▎      | 15/45 [00:01<00:02, 14.04it/s, v_num=1599, train_loss_step=0.0922, train_loss_epoch=0.0859, valid_loss=0.155]"
     ]
    },
    {
     "name": "stderr",
     "output_type": "stream",
     "text": [
      "INFO:pytorch_lightning.utilities.rank_zero:`Trainer.fit` stopped: `max_steps=6000` reached.\n"
     ]
    },
    {
     "name": "stdout",
     "output_type": "stream",
     "text": [
      "Epoch 133:  33%|███▎      | 15/45 [00:01<00:02, 14.02it/s, v_num=1599, train_loss_step=0.0922, train_loss_epoch=0.0859, valid_loss=0.155]\n"
     ]
    },
    {
     "name": "stderr",
     "output_type": "stream",
     "text": [
      "INFO:pytorch_lightning.utilities.rank_zero:GPU available: True (cuda), used: True\n",
      "INFO:pytorch_lightning.utilities.rank_zero:TPU available: False, using: 0 TPU cores\n",
      "INFO:pytorch_lightning.utilities.rank_zero:HPU available: False, using: 0 HPUs\n",
      "INFO:pytorch_lightning.accelerators.cuda:LOCAL_RANK: 0 - CUDA_VISIBLE_DEVICES: [0]\n",
      "INFO:pytorch_lightning.callbacks.model_summary:\n",
      "  | Name         | Type          | Params | Mode \n",
      "-------------------------------------------------------\n",
      "0 | loss         | MASE          | 0      | train\n",
      "1 | padder_train | ConstantPad1d | 0      | train\n",
      "2 | scaler       | TemporalNorm  | 0      | train\n",
      "3 | blocks       | ModuleList    | 464 K  | train\n",
      "4 | gate         | Sequential    | 999    | train\n",
      "-------------------------------------------------------\n",
      "461 K     Trainable params\n",
      "4.0 K     Non-trainable params\n",
      "465 K     Total params\n",
      "1.861     Total estimated model params size (MB)\n",
      "25        Modules in train mode\n",
      "0         Modules in eval mode\n"
     ]
    },
    {
     "name": "stdout",
     "output_type": "stream",
     "text": [
      "Epoch 133:  33%|███▎      | 15/45 [00:01<00:02, 13.59it/s, v_num=1600, train_loss_step=0.256, train_loss_epoch=0.255, valid_loss=1.390]"
     ]
    },
    {
     "name": "stderr",
     "output_type": "stream",
     "text": [
      "INFO:pytorch_lightning.utilities.rank_zero:`Trainer.fit` stopped: `max_steps=6000` reached.\n"
     ]
    },
    {
     "name": "stdout",
     "output_type": "stream",
     "text": [
      "Epoch 133:  33%|███▎      | 15/45 [00:01<00:02, 13.59it/s, v_num=1600, train_loss_step=0.256, train_loss_epoch=0.255, valid_loss=1.390]\n"
     ]
    },
    {
     "name": "stderr",
     "output_type": "stream",
     "text": [
      "INFO:pytorch_lightning.utilities.rank_zero:GPU available: True (cuda), used: True\n",
      "INFO:pytorch_lightning.utilities.rank_zero:TPU available: False, using: 0 TPU cores\n",
      "INFO:pytorch_lightning.utilities.rank_zero:HPU available: False, using: 0 HPUs\n",
      "INFO:pytorch_lightning.accelerators.cuda:LOCAL_RANK: 0 - CUDA_VISIBLE_DEVICES: [0]\n",
      "INFO:pytorch_lightning.callbacks.model_summary:\n",
      "  | Name         | Type          | Params | Mode \n",
      "-------------------------------------------------------\n",
      "0 | loss         | SMAPE         | 0      | train\n",
      "1 | padder_train | ConstantPad1d | 0      | train\n",
      "2 | scaler       | TemporalNorm  | 0      | train\n",
      "3 | blocks       | ModuleList    | 434 K  | train\n",
      "4 | gate         | Sequential    | 405    | train\n",
      "-------------------------------------------------------\n",
      "433 K     Trainable params\n",
      "2.0 K     Non-trainable params\n",
      "435 K     Total params\n",
      "1.740     Total estimated model params size (MB)\n",
      "25        Modules in train mode\n",
      "0         Modules in eval mode\n"
     ]
    },
    {
     "name": "stdout",
     "output_type": "stream",
     "text": [
      "Epoch 133:  33%|███▎      | 15/45 [00:00<00:01, 16.30it/s, v_num=1601, train_loss_step=0.0685, train_loss_epoch=0.0878, valid_loss=0.160]"
     ]
    },
    {
     "name": "stderr",
     "output_type": "stream",
     "text": [
      "INFO:pytorch_lightning.utilities.rank_zero:`Trainer.fit` stopped: `max_steps=6000` reached.\n"
     ]
    },
    {
     "name": "stdout",
     "output_type": "stream",
     "text": [
      "Epoch 133:  33%|███▎      | 15/45 [00:00<00:01, 16.24it/s, v_num=1601, train_loss_step=0.0685, train_loss_epoch=0.0878, valid_loss=0.160]\n"
     ]
    },
    {
     "name": "stderr",
     "output_type": "stream",
     "text": [
      "INFO:pytorch_lightning.utilities.rank_zero:GPU available: True (cuda), used: True\n",
      "INFO:pytorch_lightning.utilities.rank_zero:TPU available: False, using: 0 TPU cores\n",
      "INFO:pytorch_lightning.utilities.rank_zero:HPU available: False, using: 0 HPUs\n",
      "INFO:pytorch_lightning.accelerators.cuda:LOCAL_RANK: 0 - CUDA_VISIBLE_DEVICES: [0]\n",
      "INFO:pytorch_lightning.callbacks.model_summary:\n",
      "  | Name         | Type          | Params | Mode \n",
      "-------------------------------------------------------\n",
      "0 | loss         | SMAPE         | 0      | train\n",
      "1 | padder_train | ConstantPad1d | 0      | train\n",
      "2 | scaler       | TemporalNorm  | 0      | train\n",
      "3 | blocks       | ModuleList    | 429 K  | train\n",
      "4 | gate         | Sequential    | 306    | train\n",
      "-------------------------------------------------------\n",
      "428 K     Trainable params\n",
      "1.7 K     Non-trainable params\n",
      "430 K     Total params\n",
      "1.720     Total estimated model params size (MB)\n",
      "25        Modules in train mode\n",
      "0         Modules in eval mode\n"
     ]
    },
    {
     "name": "stdout",
     "output_type": "stream",
     "text": [
      "Epoch 133:  33%|███▎      | 15/45 [00:01<00:02, 14.18it/s, v_num=1602, train_loss_step=0.103, train_loss_epoch=0.096, valid_loss=0.152]  "
     ]
    },
    {
     "name": "stderr",
     "output_type": "stream",
     "text": [
      "INFO:pytorch_lightning.utilities.rank_zero:`Trainer.fit` stopped: `max_steps=6000` reached.\n"
     ]
    },
    {
     "name": "stdout",
     "output_type": "stream",
     "text": [
      "Epoch 133:  33%|███▎      | 15/45 [00:01<00:02, 14.14it/s, v_num=1602, train_loss_step=0.103, train_loss_epoch=0.096, valid_loss=0.152]\n"
     ]
    },
    {
     "name": "stderr",
     "output_type": "stream",
     "text": [
      "INFO:pytorch_lightning.utilities.rank_zero:GPU available: True (cuda), used: True\n",
      "INFO:pytorch_lightning.utilities.rank_zero:TPU available: False, using: 0 TPU cores\n",
      "INFO:pytorch_lightning.utilities.rank_zero:HPU available: False, using: 0 HPUs\n",
      "INFO:pytorch_lightning.accelerators.cuda:LOCAL_RANK: 0 - CUDA_VISIBLE_DEVICES: [0]\n",
      "INFO:pytorch_lightning.callbacks.model_summary:\n",
      "  | Name         | Type          | Params | Mode \n",
      "-------------------------------------------------------\n",
      "0 | loss         | SMAPE         | 0      | train\n",
      "1 | padder_train | ConstantPad1d | 0      | train\n",
      "2 | scaler       | TemporalNorm  | 0      | train\n",
      "3 | blocks       | ModuleList    | 444 K  | train\n",
      "4 | gate         | Sequential    | 603    | train\n",
      "-------------------------------------------------------\n",
      "442 K     Trainable params\n",
      "2.7 K     Non-trainable params\n",
      "445 K     Total params\n",
      "1.781     Total estimated model params size (MB)\n",
      "25        Modules in train mode\n",
      "0         Modules in eval mode\n"
     ]
    },
    {
     "name": "stdout",
     "output_type": "stream",
     "text": [
      "Epoch 133:  33%|███▎      | 15/45 [00:01<00:02, 13.42it/s, v_num=1603, train_loss_step=0.0742, train_loss_epoch=0.0793, valid_loss=0.155]"
     ]
    },
    {
     "name": "stderr",
     "output_type": "stream",
     "text": [
      "INFO:pytorch_lightning.utilities.rank_zero:`Trainer.fit` stopped: `max_steps=6000` reached.\n"
     ]
    },
    {
     "name": "stdout",
     "output_type": "stream",
     "text": [
      "Epoch 133:  33%|███▎      | 15/45 [00:01<00:02, 13.36it/s, v_num=1603, train_loss_step=0.0742, train_loss_epoch=0.0793, valid_loss=0.155]"
     ]
    },
    {
     "name": "stderr",
     "output_type": "stream",
     "text": [
      "INFO:pytorch_lightning.utilities.rank_zero:GPU available: True (cuda), used: True\n"
     ]
    },
    {
     "name": "stdout",
     "output_type": "stream",
     "text": [
      "\n"
     ]
    },
    {
     "name": "stderr",
     "output_type": "stream",
     "text": [
      "INFO:pytorch_lightning.utilities.rank_zero:TPU available: False, using: 0 TPU cores\n",
      "INFO:pytorch_lightning.utilities.rank_zero:HPU available: False, using: 0 HPUs\n",
      "INFO:pytorch_lightning.accelerators.cuda:LOCAL_RANK: 0 - CUDA_VISIBLE_DEVICES: [0]\n",
      "INFO:pytorch_lightning.callbacks.model_summary:\n",
      "  | Name         | Type          | Params | Mode \n",
      "-------------------------------------------------------\n",
      "0 | loss         | MAPE          | 0      | train\n",
      "1 | padder_train | ConstantPad1d | 0      | train\n",
      "2 | scaler       | TemporalNorm  | 0      | train\n",
      "3 | blocks       | ModuleList    | 444 K  | train\n",
      "4 | gate         | Sequential    | 603    | train\n",
      "-------------------------------------------------------\n",
      "442 K     Trainable params\n",
      "2.7 K     Non-trainable params\n",
      "445 K     Total params\n",
      "1.781     Total estimated model params size (MB)\n",
      "25        Modules in train mode\n",
      "0         Modules in eval mode\n"
     ]
    },
    {
     "name": "stdout",
     "output_type": "stream",
     "text": [
      "Epoch 133:  33%|███▎      | 15/45 [00:01<00:02, 13.20it/s, v_num=1604, train_loss_step=0.0936, train_loss_epoch=0.0827, valid_loss=0.168]"
     ]
    },
    {
     "name": "stderr",
     "output_type": "stream",
     "text": [
      "INFO:pytorch_lightning.utilities.rank_zero:`Trainer.fit` stopped: `max_steps=6000` reached.\n"
     ]
    },
    {
     "name": "stdout",
     "output_type": "stream",
     "text": [
      "Epoch 133:  33%|███▎      | 15/45 [00:01<00:02, 13.20it/s, v_num=1604, train_loss_step=0.0936, train_loss_epoch=0.0827, valid_loss=0.168]\n"
     ]
    },
    {
     "name": "stderr",
     "output_type": "stream",
     "text": [
      "INFO:pytorch_lightning.utilities.rank_zero:GPU available: True (cuda), used: True\n",
      "INFO:pytorch_lightning.utilities.rank_zero:TPU available: False, using: 0 TPU cores\n",
      "INFO:pytorch_lightning.utilities.rank_zero:HPU available: False, using: 0 HPUs\n",
      "INFO:pytorch_lightning.accelerators.cuda:LOCAL_RANK: 0 - CUDA_VISIBLE_DEVICES: [0]\n",
      "INFO:pytorch_lightning.callbacks.model_summary:\n",
      "  | Name         | Type          | Params | Mode \n",
      "-------------------------------------------------------\n",
      "0 | loss         | MAPE          | 0      | train\n",
      "1 | padder_train | ConstantPad1d | 0      | train\n",
      "2 | scaler       | TemporalNorm  | 0      | train\n",
      "3 | blocks       | ModuleList    | 454 K  | train\n",
      "4 | gate         | Sequential    | 801    | train\n",
      "-------------------------------------------------------\n",
      "451 K     Trainable params\n",
      "3.3 K     Non-trainable params\n",
      "455 K     Total params\n",
      "1.821     Total estimated model params size (MB)\n",
      "25        Modules in train mode\n",
      "0         Modules in eval mode\n"
     ]
    },
    {
     "name": "stdout",
     "output_type": "stream",
     "text": [
      "Epoch 133:  33%|███▎      | 15/45 [00:01<00:02, 14.63it/s, v_num=1605, train_loss_step=0.0804, train_loss_epoch=0.0861, valid_loss=0.187]"
     ]
    },
    {
     "name": "stderr",
     "output_type": "stream",
     "text": [
      "INFO:pytorch_lightning.utilities.rank_zero:`Trainer.fit` stopped: `max_steps=6000` reached.\n"
     ]
    },
    {
     "name": "stdout",
     "output_type": "stream",
     "text": [
      "Epoch 133:  33%|███▎      | 15/45 [00:01<00:02, 14.63it/s, v_num=1605, train_loss_step=0.0804, train_loss_epoch=0.0861, valid_loss=0.187]\n"
     ]
    },
    {
     "name": "stderr",
     "output_type": "stream",
     "text": [
      "INFO:pytorch_lightning.utilities.rank_zero:GPU available: True (cuda), used: True\n",
      "INFO:pytorch_lightning.utilities.rank_zero:TPU available: False, using: 0 TPU cores\n",
      "INFO:pytorch_lightning.utilities.rank_zero:HPU available: False, using: 0 HPUs\n",
      "INFO:pytorch_lightning.accelerators.cuda:LOCAL_RANK: 0 - CUDA_VISIBLE_DEVICES: [0]\n",
      "INFO:pytorch_lightning.callbacks.model_summary:\n",
      "  | Name         | Type          | Params | Mode \n",
      "-------------------------------------------------------\n",
      "0 | loss         | MAPE          | 0      | train\n",
      "1 | padder_train | ConstantPad1d | 0      | train\n",
      "2 | scaler       | TemporalNorm  | 0      | train\n",
      "3 | blocks       | ModuleList    | 439 K  | train\n",
      "4 | gate         | Sequential    | 504    | train\n",
      "-------------------------------------------------------\n",
      "437 K     Trainable params\n",
      "2.3 K     Non-trainable params\n",
      "440 K     Total params\n",
      "1.761     Total estimated model params size (MB)\n",
      "25        Modules in train mode\n",
      "0         Modules in eval mode\n"
     ]
    },
    {
     "name": "stdout",
     "output_type": "stream",
     "text": [
      "Epoch 133:  33%|███▎      | 15/45 [00:01<00:02, 14.93it/s, v_num=1606, train_loss_step=0.0816, train_loss_epoch=0.0913, valid_loss=0.168]"
     ]
    },
    {
     "name": "stderr",
     "output_type": "stream",
     "text": [
      "INFO:pytorch_lightning.utilities.rank_zero:`Trainer.fit` stopped: `max_steps=6000` reached.\n"
     ]
    },
    {
     "name": "stdout",
     "output_type": "stream",
     "text": [
      "Epoch 133:  33%|███▎      | 15/45 [00:01<00:02, 14.88it/s, v_num=1606, train_loss_step=0.0816, train_loss_epoch=0.0913, valid_loss=0.168]\n"
     ]
    },
    {
     "name": "stderr",
     "output_type": "stream",
     "text": [
      "INFO:pytorch_lightning.utilities.rank_zero:GPU available: True (cuda), used: True\n",
      "INFO:pytorch_lightning.utilities.rank_zero:TPU available: False, using: 0 TPU cores\n",
      "INFO:pytorch_lightning.utilities.rank_zero:HPU available: False, using: 0 HPUs\n",
      "INFO:pytorch_lightning.accelerators.cuda:LOCAL_RANK: 0 - CUDA_VISIBLE_DEVICES: [0]\n",
      "INFO:pytorch_lightning.callbacks.model_summary:\n",
      "  | Name         | Type          | Params | Mode \n",
      "-------------------------------------------------------\n",
      "0 | loss         | SMAPE         | 0      | train\n",
      "1 | padder_train | ConstantPad1d | 0      | train\n",
      "2 | scaler       | TemporalNorm  | 0      | train\n",
      "3 | blocks       | ModuleList    | 454 K  | train\n",
      "4 | gate         | Sequential    | 801    | train\n",
      "-------------------------------------------------------\n",
      "451 K     Trainable params\n",
      "3.3 K     Non-trainable params\n",
      "455 K     Total params\n",
      "1.821     Total estimated model params size (MB)\n",
      "25        Modules in train mode\n",
      "0         Modules in eval mode\n"
     ]
    },
    {
     "name": "stdout",
     "output_type": "stream",
     "text": [
      "Epoch 133:  33%|███▎      | 15/45 [00:00<00:01, 16.99it/s, v_num=1607, train_loss_step=0.0973, train_loss_epoch=0.0792, valid_loss=0.157]"
     ]
    },
    {
     "name": "stderr",
     "output_type": "stream",
     "text": [
      "INFO:pytorch_lightning.utilities.rank_zero:`Trainer.fit` stopped: `max_steps=6000` reached.\n"
     ]
    },
    {
     "name": "stdout",
     "output_type": "stream",
     "text": [
      "Epoch 133:  33%|███▎      | 15/45 [00:00<00:01, 16.94it/s, v_num=1607, train_loss_step=0.0973, train_loss_epoch=0.0792, valid_loss=0.157]\n"
     ]
    },
    {
     "name": "stderr",
     "output_type": "stream",
     "text": [
      "INFO:pytorch_lightning.utilities.rank_zero:GPU available: True (cuda), used: True\n",
      "INFO:pytorch_lightning.utilities.rank_zero:TPU available: False, using: 0 TPU cores\n",
      "INFO:pytorch_lightning.utilities.rank_zero:HPU available: False, using: 0 HPUs\n",
      "INFO:pytorch_lightning.accelerators.cuda:LOCAL_RANK: 0 - CUDA_VISIBLE_DEVICES: [0]\n",
      "INFO:pytorch_lightning.callbacks.model_summary:\n",
      "  | Name         | Type          | Params | Mode \n",
      "-------------------------------------------------------\n",
      "0 | loss         | SMAPE         | 0      | train\n",
      "1 | padder_train | ConstantPad1d | 0      | train\n",
      "2 | scaler       | TemporalNorm  | 0      | train\n",
      "3 | blocks       | ModuleList    | 444 K  | train\n",
      "4 | gate         | Sequential    | 603    | train\n",
      "-------------------------------------------------------\n",
      "442 K     Trainable params\n",
      "2.7 K     Non-trainable params\n",
      "445 K     Total params\n",
      "1.781     Total estimated model params size (MB)\n",
      "25        Modules in train mode\n",
      "0         Modules in eval mode\n"
     ]
    },
    {
     "name": "stdout",
     "output_type": "stream",
     "text": [
      "Epoch 133:  33%|███▎      | 15/45 [00:00<00:01, 15.05it/s, v_num=1608, train_loss_step=0.0812, train_loss_epoch=0.0808, valid_loss=0.154]"
     ]
    },
    {
     "name": "stderr",
     "output_type": "stream",
     "text": [
      "INFO:pytorch_lightning.utilities.rank_zero:`Trainer.fit` stopped: `max_steps=6000` reached.\n"
     ]
    },
    {
     "name": "stdout",
     "output_type": "stream",
     "text": [
      "Epoch 133:  33%|███▎      | 15/45 [00:00<00:01, 15.01it/s, v_num=1608, train_loss_step=0.0812, train_loss_epoch=0.0808, valid_loss=0.154]\n"
     ]
    },
    {
     "name": "stderr",
     "output_type": "stream",
     "text": [
      "INFO:pytorch_lightning.utilities.rank_zero:GPU available: True (cuda), used: True\n",
      "INFO:pytorch_lightning.utilities.rank_zero:TPU available: False, using: 0 TPU cores\n",
      "INFO:pytorch_lightning.utilities.rank_zero:HPU available: False, using: 0 HPUs\n",
      "INFO:pytorch_lightning.accelerators.cuda:LOCAL_RANK: 0 - CUDA_VISIBLE_DEVICES: [0]\n",
      "INFO:pytorch_lightning.callbacks.model_summary:\n",
      "  | Name         | Type          | Params | Mode \n",
      "-------------------------------------------------------\n",
      "0 | loss         | MAPE          | 0      | train\n",
      "1 | padder_train | ConstantPad1d | 0      | train\n",
      "2 | scaler       | TemporalNorm  | 0      | train\n",
      "3 | blocks       | ModuleList    | 429 K  | train\n",
      "4 | gate         | Sequential    | 306    | train\n",
      "-------------------------------------------------------\n",
      "428 K     Trainable params\n",
      "1.7 K     Non-trainable params\n",
      "430 K     Total params\n",
      "1.720     Total estimated model params size (MB)\n",
      "25        Modules in train mode\n",
      "0         Modules in eval mode\n"
     ]
    },
    {
     "name": "stdout",
     "output_type": "stream",
     "text": [
      "Epoch 133:  33%|███▎      | 15/45 [00:00<00:01, 15.86it/s, v_num=1609, train_loss_step=0.107, train_loss_epoch=0.0964, valid_loss=0.168] "
     ]
    },
    {
     "name": "stderr",
     "output_type": "stream",
     "text": [
      "INFO:pytorch_lightning.utilities.rank_zero:`Trainer.fit` stopped: `max_steps=6000` reached.\n"
     ]
    },
    {
     "name": "stdout",
     "output_type": "stream",
     "text": [
      "Epoch 133:  33%|███▎      | 15/45 [00:00<00:01, 15.82it/s, v_num=1609, train_loss_step=0.107, train_loss_epoch=0.0964, valid_loss=0.168]\n"
     ]
    },
    {
     "name": "stderr",
     "output_type": "stream",
     "text": [
      "INFO:pytorch_lightning.utilities.rank_zero:GPU available: True (cuda), used: True\n",
      "INFO:pytorch_lightning.utilities.rank_zero:TPU available: False, using: 0 TPU cores\n",
      "INFO:pytorch_lightning.utilities.rank_zero:HPU available: False, using: 0 HPUs\n",
      "INFO:pytorch_lightning.accelerators.cuda:LOCAL_RANK: 0 - CUDA_VISIBLE_DEVICES: [0]\n",
      "INFO:pytorch_lightning.callbacks.model_summary:\n",
      "  | Name         | Type          | Params | Mode \n",
      "-------------------------------------------------------\n",
      "0 | loss         | MAPE          | 0      | train\n",
      "1 | padder_train | ConstantPad1d | 0      | train\n",
      "2 | scaler       | TemporalNorm  | 0      | train\n",
      "3 | blocks       | ModuleList    | 464 K  | train\n",
      "4 | gate         | Sequential    | 999    | train\n",
      "-------------------------------------------------------\n",
      "461 K     Trainable params\n",
      "4.0 K     Non-trainable params\n",
      "465 K     Total params\n",
      "1.861     Total estimated model params size (MB)\n",
      "25        Modules in train mode\n",
      "0         Modules in eval mode\n"
     ]
    },
    {
     "name": "stdout",
     "output_type": "stream",
     "text": [
      "Epoch 133:  33%|███▎      | 15/45 [00:00<00:01, 15.85it/s, v_num=1610, train_loss_step=0.052, train_loss_epoch=0.063, valid_loss=0.184]  "
     ]
    },
    {
     "name": "stderr",
     "output_type": "stream",
     "text": [
      "INFO:pytorch_lightning.utilities.rank_zero:`Trainer.fit` stopped: `max_steps=6000` reached.\n"
     ]
    },
    {
     "name": "stdout",
     "output_type": "stream",
     "text": [
      "Epoch 133:  33%|███▎      | 15/45 [00:00<00:01, 15.80it/s, v_num=1610, train_loss_step=0.052, train_loss_epoch=0.063, valid_loss=0.184]\n"
     ]
    },
    {
     "name": "stderr",
     "output_type": "stream",
     "text": [
      "INFO:pytorch_lightning.utilities.rank_zero:GPU available: True (cuda), used: True\n",
      "INFO:pytorch_lightning.utilities.rank_zero:TPU available: False, using: 0 TPU cores\n",
      "INFO:pytorch_lightning.utilities.rank_zero:HPU available: False, using: 0 HPUs\n",
      "INFO:pytorch_lightning.accelerators.cuda:LOCAL_RANK: 0 - CUDA_VISIBLE_DEVICES: [0]\n",
      "INFO:pytorch_lightning.callbacks.model_summary:\n",
      "  | Name         | Type          | Params | Mode \n",
      "-------------------------------------------------------\n",
      "0 | loss         | MAPE          | 0      | train\n",
      "1 | padder_train | ConstantPad1d | 0      | train\n",
      "2 | scaler       | TemporalNorm  | 0      | train\n",
      "3 | blocks       | ModuleList    | 434 K  | train\n",
      "4 | gate         | Sequential    | 405    | train\n",
      "-------------------------------------------------------\n",
      "433 K     Trainable params\n",
      "2.0 K     Non-trainable params\n",
      "435 K     Total params\n",
      "1.740     Total estimated model params size (MB)\n",
      "25        Modules in train mode\n",
      "0         Modules in eval mode\n"
     ]
    },
    {
     "name": "stdout",
     "output_type": "stream",
     "text": [
      "Epoch 133:  33%|███▎      | 15/45 [00:00<00:01, 17.11it/s, v_num=1611, train_loss_step=0.087, train_loss_epoch=0.0901, valid_loss=0.167] "
     ]
    },
    {
     "name": "stderr",
     "output_type": "stream",
     "text": [
      "INFO:pytorch_lightning.utilities.rank_zero:`Trainer.fit` stopped: `max_steps=6000` reached.\n"
     ]
    },
    {
     "name": "stdout",
     "output_type": "stream",
     "text": [
      "Epoch 133:  33%|███▎      | 15/45 [00:00<00:01, 17.07it/s, v_num=1611, train_loss_step=0.087, train_loss_epoch=0.0901, valid_loss=0.167]\n"
     ]
    },
    {
     "name": "stderr",
     "output_type": "stream",
     "text": [
      "INFO:pytorch_lightning.utilities.rank_zero:GPU available: True (cuda), used: True\n",
      "INFO:pytorch_lightning.utilities.rank_zero:TPU available: False, using: 0 TPU cores\n",
      "INFO:pytorch_lightning.utilities.rank_zero:HPU available: False, using: 0 HPUs\n",
      "INFO:pytorch_lightning.accelerators.cuda:LOCAL_RANK: 0 - CUDA_VISIBLE_DEVICES: [0]\n",
      "INFO:pytorch_lightning.callbacks.model_summary:\n",
      "  | Name         | Type          | Params | Mode \n",
      "-------------------------------------------------------\n",
      "0 | loss         | MAPE          | 0      | train\n",
      "1 | padder_train | ConstantPad1d | 0      | train\n",
      "2 | scaler       | TemporalNorm  | 0      | train\n",
      "3 | blocks       | ModuleList    | 464 K  | train\n",
      "4 | gate         | Sequential    | 999    | train\n",
      "-------------------------------------------------------\n",
      "461 K     Trainable params\n",
      "4.0 K     Non-trainable params\n",
      "465 K     Total params\n",
      "1.861     Total estimated model params size (MB)\n",
      "25        Modules in train mode\n",
      "0         Modules in eval mode\n"
     ]
    },
    {
     "name": "stdout",
     "output_type": "stream",
     "text": [
      "Epoch 133:  33%|███▎      | 15/45 [00:00<00:01, 15.13it/s, v_num=1612, train_loss_step=0.0642, train_loss_epoch=0.0618, valid_loss=0.197]"
     ]
    },
    {
     "name": "stderr",
     "output_type": "stream",
     "text": [
      "INFO:pytorch_lightning.utilities.rank_zero:`Trainer.fit` stopped: `max_steps=6000` reached.\n"
     ]
    },
    {
     "name": "stdout",
     "output_type": "stream",
     "text": [
      "Epoch 133:  33%|███▎      | 15/45 [00:00<00:01, 15.08it/s, v_num=1612, train_loss_step=0.0642, train_loss_epoch=0.0618, valid_loss=0.197]\n"
     ]
    },
    {
     "name": "stderr",
     "output_type": "stream",
     "text": [
      "INFO:pytorch_lightning.utilities.rank_zero:GPU available: True (cuda), used: True\n",
      "INFO:pytorch_lightning.utilities.rank_zero:TPU available: False, using: 0 TPU cores\n",
      "INFO:pytorch_lightning.utilities.rank_zero:HPU available: False, using: 0 HPUs\n",
      "INFO:pytorch_lightning.accelerators.cuda:LOCAL_RANK: 0 - CUDA_VISIBLE_DEVICES: [0]\n",
      "INFO:pytorch_lightning.callbacks.model_summary:\n",
      "  | Name         | Type          | Params | Mode \n",
      "-------------------------------------------------------\n",
      "0 | loss         | SMAPE         | 0      | train\n",
      "1 | padder_train | ConstantPad1d | 0      | train\n",
      "2 | scaler       | TemporalNorm  | 0      | train\n",
      "3 | blocks       | ModuleList    | 444 K  | train\n",
      "4 | gate         | Sequential    | 603    | train\n",
      "-------------------------------------------------------\n",
      "442 K     Trainable params\n",
      "2.7 K     Non-trainable params\n",
      "445 K     Total params\n",
      "1.781     Total estimated model params size (MB)\n",
      "25        Modules in train mode\n",
      "0         Modules in eval mode\n"
     ]
    },
    {
     "name": "stdout",
     "output_type": "stream",
     "text": [
      "Epoch 133:  33%|███▎      | 15/45 [00:01<00:02, 14.18it/s, v_num=1613, train_loss_step=0.0908, train_loss_epoch=0.0775, valid_loss=0.158]"
     ]
    },
    {
     "name": "stderr",
     "output_type": "stream",
     "text": [
      "INFO:pytorch_lightning.utilities.rank_zero:`Trainer.fit` stopped: `max_steps=6000` reached.\n"
     ]
    },
    {
     "name": "stdout",
     "output_type": "stream",
     "text": [
      "Epoch 133:  33%|███▎      | 15/45 [00:01<00:02, 14.14it/s, v_num=1613, train_loss_step=0.0908, train_loss_epoch=0.0775, valid_loss=0.158]\n"
     ]
    },
    {
     "name": "stderr",
     "output_type": "stream",
     "text": [
      "INFO:pytorch_lightning.utilities.rank_zero:GPU available: True (cuda), used: True\n",
      "INFO:pytorch_lightning.utilities.rank_zero:TPU available: False, using: 0 TPU cores\n",
      "INFO:pytorch_lightning.utilities.rank_zero:HPU available: False, using: 0 HPUs\n",
      "INFO:pytorch_lightning.accelerators.cuda:LOCAL_RANK: 0 - CUDA_VISIBLE_DEVICES: [0]\n",
      "INFO:pytorch_lightning.callbacks.model_summary:\n",
      "  | Name         | Type          | Params | Mode \n",
      "-------------------------------------------------------\n",
      "0 | loss         | MAPE          | 0      | train\n",
      "1 | padder_train | ConstantPad1d | 0      | train\n",
      "2 | scaler       | TemporalNorm  | 0      | train\n",
      "3 | blocks       | ModuleList    | 434 K  | train\n",
      "4 | gate         | Sequential    | 405    | train\n",
      "-------------------------------------------------------\n",
      "433 K     Trainable params\n",
      "2.0 K     Non-trainable params\n",
      "435 K     Total params\n",
      "1.740     Total estimated model params size (MB)\n",
      "25        Modules in train mode\n",
      "0         Modules in eval mode\n"
     ]
    },
    {
     "name": "stdout",
     "output_type": "stream",
     "text": [
      "Epoch 133:  33%|███▎      | 15/45 [00:01<00:02, 14.68it/s, v_num=1614, train_loss_step=0.0871, train_loss_epoch=0.0983, valid_loss=0.169]"
     ]
    },
    {
     "name": "stderr",
     "output_type": "stream",
     "text": [
      "INFO:pytorch_lightning.utilities.rank_zero:`Trainer.fit` stopped: `max_steps=6000` reached.\n"
     ]
    },
    {
     "name": "stdout",
     "output_type": "stream",
     "text": [
      "Epoch 133:  33%|███▎      | 15/45 [00:01<00:02, 14.62it/s, v_num=1614, train_loss_step=0.0871, train_loss_epoch=0.0983, valid_loss=0.169]\n"
     ]
    },
    {
     "name": "stderr",
     "output_type": "stream",
     "text": [
      "INFO:pytorch_lightning.utilities.rank_zero:GPU available: True (cuda), used: True\n",
      "INFO:pytorch_lightning.utilities.rank_zero:TPU available: False, using: 0 TPU cores\n",
      "INFO:pytorch_lightning.utilities.rank_zero:HPU available: False, using: 0 HPUs\n",
      "INFO:pytorch_lightning.accelerators.cuda:LOCAL_RANK: 0 - CUDA_VISIBLE_DEVICES: [0]\n",
      "INFO:pytorch_lightning.callbacks.model_summary:\n",
      "  | Name         | Type          | Params | Mode \n",
      "-------------------------------------------------------\n",
      "0 | loss         | SMAPE         | 0      | train\n",
      "1 | padder_train | ConstantPad1d | 0      | train\n",
      "2 | scaler       | TemporalNorm  | 0      | train\n",
      "3 | blocks       | ModuleList    | 434 K  | train\n",
      "4 | gate         | Sequential    | 405    | train\n",
      "-------------------------------------------------------\n",
      "433 K     Trainable params\n",
      "2.0 K     Non-trainable params\n",
      "435 K     Total params\n",
      "1.740     Total estimated model params size (MB)\n",
      "25        Modules in train mode\n",
      "0         Modules in eval mode\n"
     ]
    },
    {
     "name": "stdout",
     "output_type": "stream",
     "text": [
      "Epoch 133:  33%|███▎      | 15/45 [00:00<00:01, 15.26it/s, v_num=1615, train_loss_step=0.0702, train_loss_epoch=0.0854, valid_loss=0.158]"
     ]
    },
    {
     "name": "stderr",
     "output_type": "stream",
     "text": [
      "INFO:pytorch_lightning.utilities.rank_zero:`Trainer.fit` stopped: `max_steps=6000` reached.\n"
     ]
    },
    {
     "name": "stdout",
     "output_type": "stream",
     "text": [
      "Epoch 133:  33%|███▎      | 15/45 [00:00<00:01, 15.23it/s, v_num=1615, train_loss_step=0.0702, train_loss_epoch=0.0854, valid_loss=0.158]\n"
     ]
    },
    {
     "name": "stderr",
     "output_type": "stream",
     "text": [
      "INFO:pytorch_lightning.utilities.rank_zero:GPU available: True (cuda), used: True\n",
      "INFO:pytorch_lightning.utilities.rank_zero:TPU available: False, using: 0 TPU cores\n",
      "INFO:pytorch_lightning.utilities.rank_zero:HPU available: False, using: 0 HPUs\n",
      "INFO:pytorch_lightning.accelerators.cuda:LOCAL_RANK: 0 - CUDA_VISIBLE_DEVICES: [0]\n",
      "INFO:pytorch_lightning.callbacks.model_summary:\n",
      "  | Name         | Type          | Params | Mode \n",
      "-------------------------------------------------------\n",
      "0 | loss         | SMAPE         | 0      | train\n",
      "1 | padder_train | ConstantPad1d | 0      | train\n",
      "2 | scaler       | TemporalNorm  | 0      | train\n",
      "3 | blocks       | ModuleList    | 439 K  | train\n",
      "4 | gate         | Sequential    | 504    | train\n",
      "-------------------------------------------------------\n",
      "437 K     Trainable params\n",
      "2.3 K     Non-trainable params\n",
      "440 K     Total params\n",
      "1.761     Total estimated model params size (MB)\n",
      "25        Modules in train mode\n",
      "0         Modules in eval mode\n"
     ]
    },
    {
     "name": "stdout",
     "output_type": "stream",
     "text": [
      "Epoch 133:  33%|███▎      | 15/45 [00:00<00:01, 16.29it/s, v_num=1616, train_loss_step=0.0756, train_loss_epoch=0.0805, valid_loss=0.153]"
     ]
    },
    {
     "name": "stderr",
     "output_type": "stream",
     "text": [
      "INFO:pytorch_lightning.utilities.rank_zero:`Trainer.fit` stopped: `max_steps=6000` reached.\n"
     ]
    },
    {
     "name": "stdout",
     "output_type": "stream",
     "text": [
      "Epoch 133:  33%|███▎      | 15/45 [00:00<00:01, 16.25it/s, v_num=1616, train_loss_step=0.0756, train_loss_epoch=0.0805, valid_loss=0.153]\n"
     ]
    },
    {
     "name": "stderr",
     "output_type": "stream",
     "text": [
      "INFO:pytorch_lightning.utilities.rank_zero:GPU available: True (cuda), used: True\n",
      "INFO:pytorch_lightning.utilities.rank_zero:TPU available: False, using: 0 TPU cores\n",
      "INFO:pytorch_lightning.utilities.rank_zero:HPU available: False, using: 0 HPUs\n",
      "INFO:pytorch_lightning.accelerators.cuda:LOCAL_RANK: 0 - CUDA_VISIBLE_DEVICES: [0]\n",
      "INFO:pytorch_lightning.callbacks.model_summary:\n",
      "  | Name         | Type          | Params | Mode \n",
      "-------------------------------------------------------\n",
      "0 | loss         | MASE          | 0      | train\n",
      "1 | padder_train | ConstantPad1d | 0      | train\n",
      "2 | scaler       | TemporalNorm  | 0      | train\n",
      "3 | blocks       | ModuleList    | 429 K  | train\n",
      "4 | gate         | Sequential    | 306    | train\n",
      "-------------------------------------------------------\n",
      "428 K     Trainable params\n",
      "1.7 K     Non-trainable params\n",
      "430 K     Total params\n",
      "1.720     Total estimated model params size (MB)\n",
      "25        Modules in train mode\n",
      "0         Modules in eval mode\n"
     ]
    },
    {
     "name": "stdout",
     "output_type": "stream",
     "text": [
      "Epoch 133:  33%|███▎      | 15/45 [00:00<00:01, 17.89it/s, v_num=1617, train_loss_step=0.643, train_loss_epoch=0.625, valid_loss=1.300]"
     ]
    },
    {
     "name": "stderr",
     "output_type": "stream",
     "text": [
      "INFO:pytorch_lightning.utilities.rank_zero:`Trainer.fit` stopped: `max_steps=6000` reached.\n"
     ]
    },
    {
     "name": "stdout",
     "output_type": "stream",
     "text": [
      "Epoch 133:  33%|███▎      | 15/45 [00:00<00:01, 17.83it/s, v_num=1617, train_loss_step=0.643, train_loss_epoch=0.625, valid_loss=1.300]"
     ]
    },
    {
     "name": "stderr",
     "output_type": "stream",
     "text": [
      "INFO:pytorch_lightning.utilities.rank_zero:GPU available: True (cuda), used: True\n"
     ]
    },
    {
     "name": "stdout",
     "output_type": "stream",
     "text": [
      "\n"
     ]
    },
    {
     "name": "stderr",
     "output_type": "stream",
     "text": [
      "INFO:pytorch_lightning.utilities.rank_zero:TPU available: False, using: 0 TPU cores\n",
      "INFO:pytorch_lightning.utilities.rank_zero:HPU available: False, using: 0 HPUs\n",
      "INFO:pytorch_lightning.accelerators.cuda:LOCAL_RANK: 0 - CUDA_VISIBLE_DEVICES: [0]\n",
      "INFO:pytorch_lightning.callbacks.model_summary:\n",
      "  | Name         | Type          | Params | Mode \n",
      "-------------------------------------------------------\n",
      "0 | loss         | MASE          | 0      | train\n",
      "1 | padder_train | ConstantPad1d | 0      | train\n",
      "2 | scaler       | TemporalNorm  | 0      | train\n",
      "3 | blocks       | ModuleList    | 434 K  | train\n",
      "4 | gate         | Sequential    | 405    | train\n",
      "-------------------------------------------------------\n",
      "433 K     Trainable params\n",
      "2.0 K     Non-trainable params\n",
      "435 K     Total params\n",
      "1.740     Total estimated model params size (MB)\n",
      "25        Modules in train mode\n",
      "0         Modules in eval mode\n"
     ]
    },
    {
     "name": "stdout",
     "output_type": "stream",
     "text": [
      "Epoch 133:  33%|███▎      | 15/45 [00:01<00:02, 14.16it/s, v_num=1618, train_loss_step=1.030, train_loss_epoch=0.688, valid_loss=1.260]"
     ]
    },
    {
     "name": "stderr",
     "output_type": "stream",
     "text": [
      "INFO:pytorch_lightning.utilities.rank_zero:`Trainer.fit` stopped: `max_steps=6000` reached.\n"
     ]
    },
    {
     "name": "stdout",
     "output_type": "stream",
     "text": [
      "Epoch 133:  33%|███▎      | 15/45 [00:01<00:02, 14.12it/s, v_num=1618, train_loss_step=1.030, train_loss_epoch=0.688, valid_loss=1.260]\n"
     ]
    },
    {
     "name": "stderr",
     "output_type": "stream",
     "text": [
      "INFO:pytorch_lightning.utilities.rank_zero:GPU available: True (cuda), used: True\n",
      "INFO:pytorch_lightning.utilities.rank_zero:TPU available: False, using: 0 TPU cores\n",
      "INFO:pytorch_lightning.utilities.rank_zero:HPU available: False, using: 0 HPUs\n",
      "INFO:pytorch_lightning.accelerators.cuda:LOCAL_RANK: 0 - CUDA_VISIBLE_DEVICES: [0]\n",
      "INFO:pytorch_lightning.callbacks.model_summary:\n",
      "  | Name         | Type          | Params | Mode \n",
      "-------------------------------------------------------\n",
      "0 | loss         | SMAPE         | 0      | train\n",
      "1 | padder_train | ConstantPad1d | 0      | train\n",
      "2 | scaler       | TemporalNorm  | 0      | train\n",
      "3 | blocks       | ModuleList    | 434 K  | train\n",
      "4 | gate         | Sequential    | 405    | train\n",
      "-------------------------------------------------------\n",
      "433 K     Trainable params\n",
      "2.0 K     Non-trainable params\n",
      "435 K     Total params\n",
      "1.740     Total estimated model params size (MB)\n",
      "25        Modules in train mode\n",
      "0         Modules in eval mode\n"
     ]
    },
    {
     "name": "stdout",
     "output_type": "stream",
     "text": [
      "Epoch 133:  33%|███▎      | 15/45 [00:00<00:01, 15.14it/s, v_num=1619, train_loss_step=0.0675, train_loss_epoch=0.0865, valid_loss=0.153]"
     ]
    },
    {
     "name": "stderr",
     "output_type": "stream",
     "text": [
      "INFO:pytorch_lightning.utilities.rank_zero:`Trainer.fit` stopped: `max_steps=6000` reached.\n"
     ]
    },
    {
     "name": "stdout",
     "output_type": "stream",
     "text": [
      "Epoch 133:  33%|███▎      | 15/45 [00:00<00:01, 15.11it/s, v_num=1619, train_loss_step=0.0675, train_loss_epoch=0.0865, valid_loss=0.153]\n"
     ]
    },
    {
     "name": "stderr",
     "output_type": "stream",
     "text": [
      "INFO:pytorch_lightning.utilities.rank_zero:GPU available: True (cuda), used: True\n",
      "INFO:pytorch_lightning.utilities.rank_zero:TPU available: False, using: 0 TPU cores\n",
      "INFO:pytorch_lightning.utilities.rank_zero:HPU available: False, using: 0 HPUs\n",
      "INFO:pytorch_lightning.accelerators.cuda:LOCAL_RANK: 0 - CUDA_VISIBLE_DEVICES: [0]\n",
      "INFO:pytorch_lightning.callbacks.model_summary:\n",
      "  | Name         | Type          | Params | Mode \n",
      "-------------------------------------------------------\n",
      "0 | loss         | SMAPE         | 0      | train\n",
      "1 | padder_train | ConstantPad1d | 0      | train\n",
      "2 | scaler       | TemporalNorm  | 0      | train\n",
      "3 | blocks       | ModuleList    | 454 K  | train\n",
      "4 | gate         | Sequential    | 801    | train\n",
      "-------------------------------------------------------\n",
      "451 K     Trainable params\n",
      "3.3 K     Non-trainable params\n",
      "455 K     Total params\n",
      "1.821     Total estimated model params size (MB)\n",
      "25        Modules in train mode\n",
      "0         Modules in eval mode\n"
     ]
    },
    {
     "name": "stdout",
     "output_type": "stream",
     "text": [
      "Epoch 133:  33%|███▎      | 15/45 [00:00<00:01, 15.14it/s, v_num=1620, train_loss_step=0.0937, train_loss_epoch=0.0776, valid_loss=0.157]"
     ]
    },
    {
     "name": "stderr",
     "output_type": "stream",
     "text": [
      "INFO:pytorch_lightning.utilities.rank_zero:`Trainer.fit` stopped: `max_steps=6000` reached.\n"
     ]
    },
    {
     "name": "stdout",
     "output_type": "stream",
     "text": [
      "Epoch 133:  33%|███▎      | 15/45 [00:00<00:01, 15.08it/s, v_num=1620, train_loss_step=0.0937, train_loss_epoch=0.0776, valid_loss=0.157]\n"
     ]
    },
    {
     "name": "stderr",
     "output_type": "stream",
     "text": [
      "INFO:pytorch_lightning.utilities.rank_zero:GPU available: True (cuda), used: True\n",
      "INFO:pytorch_lightning.utilities.rank_zero:TPU available: False, using: 0 TPU cores\n",
      "INFO:pytorch_lightning.utilities.rank_zero:HPU available: False, using: 0 HPUs\n",
      "INFO:pytorch_lightning.accelerators.cuda:LOCAL_RANK: 0 - CUDA_VISIBLE_DEVICES: [0]\n",
      "INFO:pytorch_lightning.callbacks.model_summary:\n",
      "  | Name         | Type          | Params | Mode \n",
      "-------------------------------------------------------\n",
      "0 | loss         | MASE          | 0      | train\n",
      "1 | padder_train | ConstantPad1d | 0      | train\n",
      "2 | scaler       | TemporalNorm  | 0      | train\n",
      "3 | blocks       | ModuleList    | 464 K  | train\n",
      "4 | gate         | Sequential    | 999    | train\n",
      "-------------------------------------------------------\n",
      "461 K     Trainable params\n",
      "4.0 K     Non-trainable params\n",
      "465 K     Total params\n",
      "1.861     Total estimated model params size (MB)\n",
      "25        Modules in train mode\n",
      "0         Modules in eval mode\n"
     ]
    },
    {
     "name": "stdout",
     "output_type": "stream",
     "text": [
      "Epoch 133:  33%|███▎      | 15/45 [00:00<00:01, 16.06it/s, v_num=1621, train_loss_step=0.293, train_loss_epoch=0.272, valid_loss=1.380]"
     ]
    },
    {
     "name": "stderr",
     "output_type": "stream",
     "text": [
      "INFO:pytorch_lightning.utilities.rank_zero:`Trainer.fit` stopped: `max_steps=6000` reached.\n"
     ]
    },
    {
     "name": "stdout",
     "output_type": "stream",
     "text": [
      "Epoch 133:  33%|███▎      | 15/45 [00:00<00:01, 16.02it/s, v_num=1621, train_loss_step=0.293, train_loss_epoch=0.272, valid_loss=1.380]\n"
     ]
    },
    {
     "name": "stderr",
     "output_type": "stream",
     "text": [
      "INFO:pytorch_lightning.utilities.rank_zero:GPU available: True (cuda), used: True\n",
      "INFO:pytorch_lightning.utilities.rank_zero:TPU available: False, using: 0 TPU cores\n",
      "INFO:pytorch_lightning.utilities.rank_zero:HPU available: False, using: 0 HPUs\n",
      "INFO:pytorch_lightning.accelerators.cuda:LOCAL_RANK: 0 - CUDA_VISIBLE_DEVICES: [0]\n",
      "INFO:pytorch_lightning.callbacks.model_summary:\n",
      "  | Name         | Type          | Params | Mode \n",
      "-------------------------------------------------------\n",
      "0 | loss         | MASE          | 0      | train\n",
      "1 | padder_train | ConstantPad1d | 0      | train\n",
      "2 | scaler       | TemporalNorm  | 0      | train\n",
      "3 | blocks       | ModuleList    | 429 K  | train\n",
      "4 | gate         | Sequential    | 306    | train\n",
      "-------------------------------------------------------\n",
      "428 K     Trainable params\n",
      "1.7 K     Non-trainable params\n",
      "430 K     Total params\n",
      "1.720     Total estimated model params size (MB)\n",
      "25        Modules in train mode\n",
      "0         Modules in eval mode\n"
     ]
    },
    {
     "name": "stdout",
     "output_type": "stream",
     "text": [
      "Epoch 133:  33%|███▎      | 15/45 [00:00<00:01, 15.41it/s, v_num=1622, train_loss_step=0.614, train_loss_epoch=0.616, valid_loss=1.370]"
     ]
    },
    {
     "name": "stderr",
     "output_type": "stream",
     "text": [
      "INFO:pytorch_lightning.utilities.rank_zero:`Trainer.fit` stopped: `max_steps=6000` reached.\n"
     ]
    },
    {
     "name": "stdout",
     "output_type": "stream",
     "text": [
      "Epoch 133:  33%|███▎      | 15/45 [00:00<00:01, 15.41it/s, v_num=1622, train_loss_step=0.614, train_loss_epoch=0.616, valid_loss=1.370]\n"
     ]
    },
    {
     "name": "stderr",
     "output_type": "stream",
     "text": [
      "INFO:pytorch_lightning.utilities.rank_zero:GPU available: True (cuda), used: True\n",
      "INFO:pytorch_lightning.utilities.rank_zero:TPU available: False, using: 0 TPU cores\n",
      "INFO:pytorch_lightning.utilities.rank_zero:HPU available: False, using: 0 HPUs\n",
      "INFO:pytorch_lightning.accelerators.cuda:LOCAL_RANK: 0 - CUDA_VISIBLE_DEVICES: [0]\n",
      "INFO:pytorch_lightning.callbacks.model_summary:\n",
      "  | Name         | Type          | Params | Mode \n",
      "-------------------------------------------------------\n",
      "0 | loss         | MASE          | 0      | train\n",
      "1 | padder_train | ConstantPad1d | 0      | train\n",
      "2 | scaler       | TemporalNorm  | 0      | train\n",
      "3 | blocks       | ModuleList    | 444 K  | train\n",
      "4 | gate         | Sequential    | 603    | train\n",
      "-------------------------------------------------------\n",
      "442 K     Trainable params\n",
      "2.7 K     Non-trainable params\n",
      "445 K     Total params\n",
      "1.781     Total estimated model params size (MB)\n",
      "25        Modules in train mode\n",
      "0         Modules in eval mode\n"
     ]
    },
    {
     "name": "stdout",
     "output_type": "stream",
     "text": [
      "Epoch 133:  33%|███▎      | 15/45 [00:00<00:01, 16.73it/s, v_num=1623, train_loss_step=0.596, train_loss_epoch=0.624, valid_loss=1.380]"
     ]
    },
    {
     "name": "stderr",
     "output_type": "stream",
     "text": [
      "INFO:pytorch_lightning.utilities.rank_zero:`Trainer.fit` stopped: `max_steps=6000` reached.\n"
     ]
    },
    {
     "name": "stdout",
     "output_type": "stream",
     "text": [
      "Epoch 133:  33%|███▎      | 15/45 [00:00<00:01, 16.73it/s, v_num=1623, train_loss_step=0.596, train_loss_epoch=0.624, valid_loss=1.380]\n"
     ]
    },
    {
     "name": "stderr",
     "output_type": "stream",
     "text": [
      "INFO:pytorch_lightning.utilities.rank_zero:GPU available: True (cuda), used: True\n",
      "INFO:pytorch_lightning.utilities.rank_zero:TPU available: False, using: 0 TPU cores\n",
      "INFO:pytorch_lightning.utilities.rank_zero:HPU available: False, using: 0 HPUs\n",
      "INFO:pytorch_lightning.accelerators.cuda:LOCAL_RANK: 0 - CUDA_VISIBLE_DEVICES: [0]\n",
      "INFO:pytorch_lightning.callbacks.model_summary:\n",
      "  | Name         | Type          | Params | Mode \n",
      "-------------------------------------------------------\n",
      "0 | loss         | MAPE          | 0      | train\n",
      "1 | padder_train | ConstantPad1d | 0      | train\n",
      "2 | scaler       | TemporalNorm  | 0      | train\n",
      "3 | blocks       | ModuleList    | 464 K  | train\n",
      "4 | gate         | Sequential    | 999    | train\n",
      "-------------------------------------------------------\n",
      "461 K     Trainable params\n",
      "4.0 K     Non-trainable params\n",
      "465 K     Total params\n",
      "1.861     Total estimated model params size (MB)\n",
      "25        Modules in train mode\n",
      "0         Modules in eval mode\n"
     ]
    },
    {
     "name": "stdout",
     "output_type": "stream",
     "text": [
      "Epoch 133:  33%|███▎      | 15/45 [00:01<00:02, 14.72it/s, v_num=1624, train_loss_step=0.0691, train_loss_epoch=0.0651, valid_loss=0.184]"
     ]
    },
    {
     "name": "stderr",
     "output_type": "stream",
     "text": [
      "INFO:pytorch_lightning.utilities.rank_zero:`Trainer.fit` stopped: `max_steps=6000` reached.\n"
     ]
    },
    {
     "name": "stdout",
     "output_type": "stream",
     "text": [
      "Epoch 133:  33%|███▎      | 15/45 [00:01<00:02, 14.72it/s, v_num=1624, train_loss_step=0.0691, train_loss_epoch=0.0651, valid_loss=0.184]\n"
     ]
    },
    {
     "name": "stderr",
     "output_type": "stream",
     "text": [
      "INFO:pytorch_lightning.utilities.rank_zero:GPU available: True (cuda), used: True\n",
      "INFO:pytorch_lightning.utilities.rank_zero:TPU available: False, using: 0 TPU cores\n",
      "INFO:pytorch_lightning.utilities.rank_zero:HPU available: False, using: 0 HPUs\n",
      "INFO:pytorch_lightning.accelerators.cuda:LOCAL_RANK: 0 - CUDA_VISIBLE_DEVICES: [0]\n",
      "INFO:pytorch_lightning.callbacks.model_summary:\n",
      "  | Name         | Type          | Params | Mode \n",
      "-------------------------------------------------------\n",
      "0 | loss         | MAPE          | 0      | train\n",
      "1 | padder_train | ConstantPad1d | 0      | train\n",
      "2 | scaler       | TemporalNorm  | 0      | train\n",
      "3 | blocks       | ModuleList    | 444 K  | train\n",
      "4 | gate         | Sequential    | 603    | train\n",
      "-------------------------------------------------------\n",
      "442 K     Trainable params\n",
      "2.7 K     Non-trainable params\n",
      "445 K     Total params\n",
      "1.781     Total estimated model params size (MB)\n",
      "25        Modules in train mode\n",
      "0         Modules in eval mode\n"
     ]
    },
    {
     "name": "stdout",
     "output_type": "stream",
     "text": [
      "Epoch 133:  33%|███▎      | 15/45 [00:00<00:01, 15.19it/s, v_num=1625, train_loss_step=0.122, train_loss_epoch=0.0915, valid_loss=0.168] "
     ]
    },
    {
     "name": "stderr",
     "output_type": "stream",
     "text": [
      "INFO:pytorch_lightning.utilities.rank_zero:`Trainer.fit` stopped: `max_steps=6000` reached.\n"
     ]
    },
    {
     "name": "stdout",
     "output_type": "stream",
     "text": [
      "Epoch 133:  33%|███▎      | 15/45 [00:00<00:01, 15.19it/s, v_num=1625, train_loss_step=0.122, train_loss_epoch=0.0915, valid_loss=0.168]\n"
     ]
    },
    {
     "name": "stderr",
     "output_type": "stream",
     "text": [
      "INFO:pytorch_lightning.utilities.rank_zero:GPU available: True (cuda), used: True\n",
      "INFO:pytorch_lightning.utilities.rank_zero:TPU available: False, using: 0 TPU cores\n",
      "INFO:pytorch_lightning.utilities.rank_zero:HPU available: False, using: 0 HPUs\n",
      "INFO:pytorch_lightning.accelerators.cuda:LOCAL_RANK: 0 - CUDA_VISIBLE_DEVICES: [0]\n",
      "INFO:pytorch_lightning.callbacks.model_summary:\n",
      "  | Name         | Type          | Params | Mode \n",
      "-------------------------------------------------------\n",
      "0 | loss         | SMAPE         | 0      | train\n",
      "1 | padder_train | ConstantPad1d | 0      | train\n",
      "2 | scaler       | TemporalNorm  | 0      | train\n",
      "3 | blocks       | ModuleList    | 429 K  | train\n",
      "4 | gate         | Sequential    | 306    | train\n",
      "-------------------------------------------------------\n",
      "428 K     Trainable params\n",
      "1.7 K     Non-trainable params\n",
      "430 K     Total params\n",
      "1.720     Total estimated model params size (MB)\n",
      "25        Modules in train mode\n",
      "0         Modules in eval mode\n"
     ]
    },
    {
     "name": "stdout",
     "output_type": "stream",
     "text": [
      "Epoch 133:  33%|███▎      | 15/45 [00:00<00:01, 16.41it/s, v_num=1626, train_loss_step=0.0711, train_loss_epoch=0.0894, valid_loss=0.155]"
     ]
    },
    {
     "name": "stderr",
     "output_type": "stream",
     "text": [
      "INFO:pytorch_lightning.utilities.rank_zero:`Trainer.fit` stopped: `max_steps=6000` reached.\n"
     ]
    },
    {
     "name": "stdout",
     "output_type": "stream",
     "text": [
      "Epoch 133:  33%|███▎      | 15/45 [00:00<00:01, 16.41it/s, v_num=1626, train_loss_step=0.0711, train_loss_epoch=0.0894, valid_loss=0.155]\n"
     ]
    },
    {
     "name": "stderr",
     "output_type": "stream",
     "text": [
      "INFO:pytorch_lightning.utilities.rank_zero:GPU available: True (cuda), used: True\n",
      "INFO:pytorch_lightning.utilities.rank_zero:TPU available: False, using: 0 TPU cores\n",
      "INFO:pytorch_lightning.utilities.rank_zero:HPU available: False, using: 0 HPUs\n",
      "INFO:pytorch_lightning.accelerators.cuda:LOCAL_RANK: 0 - CUDA_VISIBLE_DEVICES: [0]\n",
      "INFO:pytorch_lightning.callbacks.model_summary:\n",
      "  | Name         | Type          | Params | Mode \n",
      "-------------------------------------------------------\n",
      "0 | loss         | SMAPE         | 0      | train\n",
      "1 | padder_train | ConstantPad1d | 0      | train\n",
      "2 | scaler       | TemporalNorm  | 0      | train\n",
      "3 | blocks       | ModuleList    | 434 K  | train\n",
      "4 | gate         | Sequential    | 405    | train\n",
      "-------------------------------------------------------\n",
      "433 K     Trainable params\n",
      "2.0 K     Non-trainable params\n",
      "435 K     Total params\n",
      "1.740     Total estimated model params size (MB)\n",
      "25        Modules in train mode\n",
      "0         Modules in eval mode\n"
     ]
    },
    {
     "name": "stdout",
     "output_type": "stream",
     "text": [
      "Epoch 133:  33%|███▎      | 15/45 [00:01<00:02, 14.93it/s, v_num=1627, train_loss_step=0.0865, train_loss_epoch=0.0834, valid_loss=0.152]"
     ]
    },
    {
     "name": "stderr",
     "output_type": "stream",
     "text": [
      "INFO:pytorch_lightning.utilities.rank_zero:`Trainer.fit` stopped: `max_steps=6000` reached.\n"
     ]
    },
    {
     "name": "stdout",
     "output_type": "stream",
     "text": [
      "Epoch 133:  33%|███▎      | 15/45 [00:01<00:02, 14.93it/s, v_num=1627, train_loss_step=0.0865, train_loss_epoch=0.0834, valid_loss=0.152]\n"
     ]
    },
    {
     "name": "stderr",
     "output_type": "stream",
     "text": [
      "INFO:pytorch_lightning.utilities.rank_zero:GPU available: True (cuda), used: True\n",
      "INFO:pytorch_lightning.utilities.rank_zero:TPU available: False, using: 0 TPU cores\n",
      "INFO:pytorch_lightning.utilities.rank_zero:HPU available: False, using: 0 HPUs\n",
      "INFO:pytorch_lightning.accelerators.cuda:LOCAL_RANK: 0 - CUDA_VISIBLE_DEVICES: [0]\n",
      "INFO:pytorch_lightning.callbacks.model_summary:\n",
      "  | Name         | Type          | Params | Mode \n",
      "-------------------------------------------------------\n",
      "0 | loss         | MASE          | 0      | train\n",
      "1 | padder_train | ConstantPad1d | 0      | train\n",
      "2 | scaler       | TemporalNorm  | 0      | train\n",
      "3 | blocks       | ModuleList    | 464 K  | train\n",
      "4 | gate         | Sequential    | 999    | train\n",
      "-------------------------------------------------------\n",
      "461 K     Trainable params\n",
      "4.0 K     Non-trainable params\n",
      "465 K     Total params\n",
      "1.861     Total estimated model params size (MB)\n",
      "25        Modules in train mode\n",
      "0         Modules in eval mode\n"
     ]
    },
    {
     "name": "stdout",
     "output_type": "stream",
     "text": [
      "Epoch 133:  33%|███▎      | 15/45 [00:01<00:02, 14.98it/s, v_num=1628, train_loss_step=0.220, train_loss_epoch=0.253, valid_loss=1.370]"
     ]
    },
    {
     "name": "stderr",
     "output_type": "stream",
     "text": [
      "INFO:pytorch_lightning.utilities.rank_zero:`Trainer.fit` stopped: `max_steps=6000` reached.\n"
     ]
    },
    {
     "name": "stdout",
     "output_type": "stream",
     "text": [
      "Epoch 133:  33%|███▎      | 15/45 [00:01<00:02, 14.98it/s, v_num=1628, train_loss_step=0.220, train_loss_epoch=0.253, valid_loss=1.370]\n"
     ]
    },
    {
     "name": "stderr",
     "output_type": "stream",
     "text": [
      "INFO:pytorch_lightning.utilities.rank_zero:GPU available: True (cuda), used: True\n",
      "INFO:pytorch_lightning.utilities.rank_zero:TPU available: False, using: 0 TPU cores\n",
      "INFO:pytorch_lightning.utilities.rank_zero:HPU available: False, using: 0 HPUs\n",
      "INFO:pytorch_lightning.accelerators.cuda:LOCAL_RANK: 0 - CUDA_VISIBLE_DEVICES: [0]\n",
      "INFO:pytorch_lightning.callbacks.model_summary:\n",
      "  | Name         | Type          | Params | Mode \n",
      "-------------------------------------------------------\n",
      "0 | loss         | MAPE          | 0      | train\n",
      "1 | padder_train | ConstantPad1d | 0      | train\n",
      "2 | scaler       | TemporalNorm  | 0      | train\n",
      "3 | blocks       | ModuleList    | 464 K  | train\n",
      "4 | gate         | Sequential    | 999    | train\n",
      "-------------------------------------------------------\n",
      "461 K     Trainable params\n",
      "4.0 K     Non-trainable params\n",
      "465 K     Total params\n",
      "1.861     Total estimated model params size (MB)\n",
      "25        Modules in train mode\n",
      "0         Modules in eval mode\n"
     ]
    },
    {
     "name": "stdout",
     "output_type": "stream",
     "text": [
      "Epoch 133:  33%|███▎      | 15/45 [00:01<00:02, 14.41it/s, v_num=1629, train_loss_step=0.0804, train_loss_epoch=0.0642, valid_loss=0.189]"
     ]
    },
    {
     "name": "stderr",
     "output_type": "stream",
     "text": [
      "INFO:pytorch_lightning.utilities.rank_zero:`Trainer.fit` stopped: `max_steps=6000` reached.\n"
     ]
    },
    {
     "name": "stdout",
     "output_type": "stream",
     "text": [
      "Epoch 133:  33%|███▎      | 15/45 [00:01<00:02, 14.41it/s, v_num=1629, train_loss_step=0.0804, train_loss_epoch=0.0642, valid_loss=0.189]\n"
     ]
    },
    {
     "name": "stderr",
     "output_type": "stream",
     "text": [
      "INFO:pytorch_lightning.utilities.rank_zero:GPU available: True (cuda), used: True\n",
      "INFO:pytorch_lightning.utilities.rank_zero:TPU available: False, using: 0 TPU cores\n",
      "INFO:pytorch_lightning.utilities.rank_zero:HPU available: False, using: 0 HPUs\n",
      "INFO:pytorch_lightning.accelerators.cuda:LOCAL_RANK: 0 - CUDA_VISIBLE_DEVICES: [0]\n",
      "INFO:pytorch_lightning.callbacks.model_summary:\n",
      "  | Name         | Type          | Params | Mode \n",
      "-------------------------------------------------------\n",
      "0 | loss         | MASE          | 0      | train\n",
      "1 | padder_train | ConstantPad1d | 0      | train\n",
      "2 | scaler       | TemporalNorm  | 0      | train\n",
      "3 | blocks       | ModuleList    | 429 K  | train\n",
      "4 | gate         | Sequential    | 306    | train\n",
      "-------------------------------------------------------\n",
      "428 K     Trainable params\n",
      "1.7 K     Non-trainable params\n",
      "430 K     Total params\n",
      "1.720     Total estimated model params size (MB)\n",
      "25        Modules in train mode\n",
      "0         Modules in eval mode\n"
     ]
    },
    {
     "name": "stdout",
     "output_type": "stream",
     "text": [
      "Epoch 133:  33%|███▎      | 15/45 [00:01<00:02, 14.75it/s, v_num=1630, train_loss_step=0.600, train_loss_epoch=0.674, valid_loss=1.280]"
     ]
    },
    {
     "name": "stderr",
     "output_type": "stream",
     "text": [
      "INFO:pytorch_lightning.utilities.rank_zero:`Trainer.fit` stopped: `max_steps=6000` reached.\n"
     ]
    },
    {
     "name": "stdout",
     "output_type": "stream",
     "text": [
      "Epoch 133:  33%|███▎      | 15/45 [00:01<00:02, 14.75it/s, v_num=1630, train_loss_step=0.600, train_loss_epoch=0.674, valid_loss=1.280]\n"
     ]
    },
    {
     "name": "stderr",
     "output_type": "stream",
     "text": [
      "INFO:pytorch_lightning.utilities.rank_zero:GPU available: True (cuda), used: True\n",
      "INFO:pytorch_lightning.utilities.rank_zero:TPU available: False, using: 0 TPU cores\n",
      "INFO:pytorch_lightning.utilities.rank_zero:HPU available: False, using: 0 HPUs\n",
      "INFO:pytorch_lightning.accelerators.cuda:LOCAL_RANK: 0 - CUDA_VISIBLE_DEVICES: [0]\n",
      "INFO:pytorch_lightning.callbacks.model_summary:\n",
      "  | Name         | Type          | Params | Mode \n",
      "-------------------------------------------------------\n",
      "0 | loss         | SMAPE         | 0      | train\n",
      "1 | padder_train | ConstantPad1d | 0      | train\n",
      "2 | scaler       | TemporalNorm  | 0      | train\n",
      "3 | blocks       | ModuleList    | 434 K  | train\n",
      "4 | gate         | Sequential    | 405    | train\n",
      "-------------------------------------------------------\n",
      "433 K     Trainable params\n",
      "2.0 K     Non-trainable params\n",
      "435 K     Total params\n",
      "1.740     Total estimated model params size (MB)\n",
      "25        Modules in train mode\n",
      "0         Modules in eval mode\n"
     ]
    },
    {
     "name": "stdout",
     "output_type": "stream",
     "text": [
      "Epoch 133:  33%|███▎      | 15/45 [00:00<00:01, 15.18it/s, v_num=1631, train_loss_step=0.0843, train_loss_epoch=0.0887, valid_loss=0.151]"
     ]
    },
    {
     "name": "stderr",
     "output_type": "stream",
     "text": [
      "INFO:pytorch_lightning.utilities.rank_zero:`Trainer.fit` stopped: `max_steps=6000` reached.\n"
     ]
    },
    {
     "name": "stdout",
     "output_type": "stream",
     "text": [
      "Epoch 133:  33%|███▎      | 15/45 [00:00<00:01, 15.18it/s, v_num=1631, train_loss_step=0.0843, train_loss_epoch=0.0887, valid_loss=0.151]\n"
     ]
    },
    {
     "name": "stderr",
     "output_type": "stream",
     "text": [
      "INFO:pytorch_lightning.utilities.rank_zero:GPU available: True (cuda), used: True\n",
      "INFO:pytorch_lightning.utilities.rank_zero:TPU available: False, using: 0 TPU cores\n",
      "INFO:pytorch_lightning.utilities.rank_zero:HPU available: False, using: 0 HPUs\n",
      "INFO:pytorch_lightning.accelerators.cuda:LOCAL_RANK: 0 - CUDA_VISIBLE_DEVICES: [0]\n",
      "INFO:pytorch_lightning.callbacks.model_summary:\n",
      "  | Name         | Type          | Params | Mode \n",
      "-------------------------------------------------------\n",
      "0 | loss         | SMAPE         | 0      | train\n",
      "1 | padder_train | ConstantPad1d | 0      | train\n",
      "2 | scaler       | TemporalNorm  | 0      | train\n",
      "3 | blocks       | ModuleList    | 429 K  | train\n",
      "4 | gate         | Sequential    | 306    | train\n",
      "-------------------------------------------------------\n",
      "428 K     Trainable params\n",
      "1.7 K     Non-trainable params\n",
      "430 K     Total params\n",
      "1.720     Total estimated model params size (MB)\n",
      "25        Modules in train mode\n",
      "0         Modules in eval mode\n"
     ]
    },
    {
     "name": "stdout",
     "output_type": "stream",
     "text": [
      "Epoch 133:  33%|███▎      | 15/45 [00:00<00:01, 15.53it/s, v_num=1632, train_loss_step=0.102, train_loss_epoch=0.0876, valid_loss=0.158] "
     ]
    },
    {
     "name": "stderr",
     "output_type": "stream",
     "text": [
      "INFO:pytorch_lightning.utilities.rank_zero:`Trainer.fit` stopped: `max_steps=6000` reached.\n"
     ]
    },
    {
     "name": "stdout",
     "output_type": "stream",
     "text": [
      "Epoch 133:  33%|███▎      | 15/45 [00:00<00:01, 15.53it/s, v_num=1632, train_loss_step=0.102, train_loss_epoch=0.0876, valid_loss=0.158]\n"
     ]
    },
    {
     "name": "stderr",
     "output_type": "stream",
     "text": [
      "INFO:pytorch_lightning.utilities.rank_zero:GPU available: True (cuda), used: True\n",
      "INFO:pytorch_lightning.utilities.rank_zero:TPU available: False, using: 0 TPU cores\n",
      "INFO:pytorch_lightning.utilities.rank_zero:HPU available: False, using: 0 HPUs\n",
      "INFO:pytorch_lightning.accelerators.cuda:LOCAL_RANK: 0 - CUDA_VISIBLE_DEVICES: [0]\n",
      "INFO:pytorch_lightning.callbacks.model_summary:\n",
      "  | Name         | Type          | Params | Mode \n",
      "-------------------------------------------------------\n",
      "0 | loss         | MAPE          | 0      | train\n",
      "1 | padder_train | ConstantPad1d | 0      | train\n",
      "2 | scaler       | TemporalNorm  | 0      | train\n",
      "3 | blocks       | ModuleList    | 454 K  | train\n",
      "4 | gate         | Sequential    | 801    | train\n",
      "-------------------------------------------------------\n",
      "451 K     Trainable params\n",
      "3.3 K     Non-trainable params\n",
      "455 K     Total params\n",
      "1.821     Total estimated model params size (MB)\n",
      "25        Modules in train mode\n",
      "0         Modules in eval mode\n"
     ]
    },
    {
     "name": "stdout",
     "output_type": "stream",
     "text": [
      "Epoch 133:  33%|███▎      | 15/45 [00:00<00:01, 15.47it/s, v_num=1633, train_loss_step=0.0893, train_loss_epoch=0.083, valid_loss=0.179] "
     ]
    },
    {
     "name": "stderr",
     "output_type": "stream",
     "text": [
      "INFO:pytorch_lightning.utilities.rank_zero:`Trainer.fit` stopped: `max_steps=6000` reached.\n"
     ]
    },
    {
     "name": "stdout",
     "output_type": "stream",
     "text": [
      "Epoch 133:  33%|███▎      | 15/45 [00:00<00:01, 15.47it/s, v_num=1633, train_loss_step=0.0893, train_loss_epoch=0.083, valid_loss=0.179]\n"
     ]
    },
    {
     "name": "stderr",
     "output_type": "stream",
     "text": [
      "INFO:pytorch_lightning.utilities.rank_zero:GPU available: True (cuda), used: True\n",
      "INFO:pytorch_lightning.utilities.rank_zero:TPU available: False, using: 0 TPU cores\n",
      "INFO:pytorch_lightning.utilities.rank_zero:HPU available: False, using: 0 HPUs\n",
      "INFO:pytorch_lightning.accelerators.cuda:LOCAL_RANK: 0 - CUDA_VISIBLE_DEVICES: [0]\n",
      "INFO:pytorch_lightning.callbacks.model_summary:\n",
      "  | Name         | Type          | Params | Mode \n",
      "-------------------------------------------------------\n",
      "0 | loss         | MAPE          | 0      | train\n",
      "1 | padder_train | ConstantPad1d | 0      | train\n",
      "2 | scaler       | TemporalNorm  | 0      | train\n",
      "3 | blocks       | ModuleList    | 464 K  | train\n",
      "4 | gate         | Sequential    | 999    | train\n",
      "-------------------------------------------------------\n",
      "461 K     Trainable params\n",
      "4.0 K     Non-trainable params\n",
      "465 K     Total params\n",
      "1.861     Total estimated model params size (MB)\n",
      "25        Modules in train mode\n",
      "0         Modules in eval mode\n"
     ]
    },
    {
     "name": "stdout",
     "output_type": "stream",
     "text": [
      "Epoch 133:  33%|███▎      | 15/45 [00:00<00:01, 16.47it/s, v_num=1634, train_loss_step=0.056, train_loss_epoch=0.0633, valid_loss=0.195] "
     ]
    },
    {
     "name": "stderr",
     "output_type": "stream",
     "text": [
      "INFO:pytorch_lightning.utilities.rank_zero:`Trainer.fit` stopped: `max_steps=6000` reached.\n"
     ]
    },
    {
     "name": "stdout",
     "output_type": "stream",
     "text": [
      "Epoch 133:  33%|███▎      | 15/45 [00:00<00:01, 16.20it/s, v_num=1634, train_loss_step=0.056, train_loss_epoch=0.0633, valid_loss=0.195]\n"
     ]
    },
    {
     "name": "stderr",
     "output_type": "stream",
     "text": [
      "INFO:pytorch_lightning.utilities.rank_zero:GPU available: True (cuda), used: True\n",
      "INFO:pytorch_lightning.utilities.rank_zero:TPU available: False, using: 0 TPU cores\n",
      "INFO:pytorch_lightning.utilities.rank_zero:HPU available: False, using: 0 HPUs\n",
      "INFO:pytorch_lightning.accelerators.cuda:LOCAL_RANK: 0 - CUDA_VISIBLE_DEVICES: [0]\n",
      "INFO:pytorch_lightning.callbacks.model_summary:\n",
      "  | Name         | Type          | Params | Mode \n",
      "-------------------------------------------------------\n",
      "0 | loss         | MAPE          | 0      | train\n",
      "1 | padder_train | ConstantPad1d | 0      | train\n",
      "2 | scaler       | TemporalNorm  | 0      | train\n",
      "3 | blocks       | ModuleList    | 439 K  | train\n",
      "4 | gate         | Sequential    | 504    | train\n",
      "-------------------------------------------------------\n",
      "437 K     Trainable params\n",
      "2.3 K     Non-trainable params\n",
      "440 K     Total params\n",
      "1.761     Total estimated model params size (MB)\n",
      "25        Modules in train mode\n",
      "0         Modules in eval mode\n"
     ]
    },
    {
     "name": "stdout",
     "output_type": "stream",
     "text": [
      "Epoch 133:  33%|███▎      | 15/45 [00:00<00:01, 16.82it/s, v_num=1635, train_loss_step=0.0831, train_loss_epoch=0.0907, valid_loss=0.163]"
     ]
    },
    {
     "name": "stderr",
     "output_type": "stream",
     "text": [
      "INFO:pytorch_lightning.utilities.rank_zero:`Trainer.fit` stopped: `max_steps=6000` reached.\n"
     ]
    },
    {
     "name": "stdout",
     "output_type": "stream",
     "text": [
      "Epoch 133:  33%|███▎      | 15/45 [00:00<00:01, 16.82it/s, v_num=1635, train_loss_step=0.0831, train_loss_epoch=0.0907, valid_loss=0.163]\n"
     ]
    },
    {
     "name": "stderr",
     "output_type": "stream",
     "text": [
      "INFO:pytorch_lightning.utilities.rank_zero:GPU available: True (cuda), used: True\n",
      "INFO:pytorch_lightning.utilities.rank_zero:TPU available: False, using: 0 TPU cores\n",
      "INFO:pytorch_lightning.utilities.rank_zero:HPU available: False, using: 0 HPUs\n",
      "INFO:pytorch_lightning.accelerators.cuda:LOCAL_RANK: 0 - CUDA_VISIBLE_DEVICES: [0]\n",
      "INFO:pytorch_lightning.callbacks.model_summary:\n",
      "  | Name         | Type          | Params | Mode \n",
      "-------------------------------------------------------\n",
      "0 | loss         | SMAPE         | 0      | train\n",
      "1 | padder_train | ConstantPad1d | 0      | train\n",
      "2 | scaler       | TemporalNorm  | 0      | train\n",
      "3 | blocks       | ModuleList    | 454 K  | train\n",
      "4 | gate         | Sequential    | 801    | train\n",
      "-------------------------------------------------------\n",
      "451 K     Trainable params\n",
      "3.3 K     Non-trainable params\n",
      "455 K     Total params\n",
      "1.821     Total estimated model params size (MB)\n",
      "25        Modules in train mode\n",
      "0         Modules in eval mode\n"
     ]
    },
    {
     "name": "stdout",
     "output_type": "stream",
     "text": [
      "Epoch 133:  33%|███▎      | 15/45 [00:00<00:01, 15.97it/s, v_num=1636, train_loss_step=0.0722, train_loss_epoch=0.0811, valid_loss=0.161]"
     ]
    },
    {
     "name": "stderr",
     "output_type": "stream",
     "text": [
      "INFO:pytorch_lightning.utilities.rank_zero:`Trainer.fit` stopped: `max_steps=6000` reached.\n"
     ]
    },
    {
     "name": "stdout",
     "output_type": "stream",
     "text": [
      "Epoch 133:  33%|███▎      | 15/45 [00:00<00:01, 15.97it/s, v_num=1636, train_loss_step=0.0722, train_loss_epoch=0.0811, valid_loss=0.161]\n"
     ]
    },
    {
     "name": "stderr",
     "output_type": "stream",
     "text": [
      "INFO:pytorch_lightning.utilities.rank_zero:GPU available: True (cuda), used: True\n",
      "INFO:pytorch_lightning.utilities.rank_zero:TPU available: False, using: 0 TPU cores\n",
      "INFO:pytorch_lightning.utilities.rank_zero:HPU available: False, using: 0 HPUs\n",
      "INFO:pytorch_lightning.accelerators.cuda:LOCAL_RANK: 0 - CUDA_VISIBLE_DEVICES: [0]\n",
      "INFO:pytorch_lightning.callbacks.model_summary:\n",
      "  | Name         | Type          | Params | Mode \n",
      "-------------------------------------------------------\n",
      "0 | loss         | SMAPE         | 0      | train\n",
      "1 | padder_train | ConstantPad1d | 0      | train\n",
      "2 | scaler       | TemporalNorm  | 0      | train\n",
      "3 | blocks       | ModuleList    | 429 K  | train\n",
      "4 | gate         | Sequential    | 306    | train\n",
      "-------------------------------------------------------\n",
      "428 K     Trainable params\n",
      "1.7 K     Non-trainable params\n",
      "430 K     Total params\n",
      "1.720     Total estimated model params size (MB)\n",
      "25        Modules in train mode\n",
      "0         Modules in eval mode\n"
     ]
    },
    {
     "name": "stdout",
     "output_type": "stream",
     "text": [
      "Epoch 133:  33%|███▎      | 15/45 [00:00<00:01, 15.43it/s, v_num=1637, train_loss_step=0.0845, train_loss_epoch=0.0854, valid_loss=0.155]"
     ]
    },
    {
     "name": "stderr",
     "output_type": "stream",
     "text": [
      "INFO:pytorch_lightning.utilities.rank_zero:`Trainer.fit` stopped: `max_steps=6000` reached.\n"
     ]
    },
    {
     "name": "stdout",
     "output_type": "stream",
     "text": [
      "Epoch 133:  33%|███▎      | 15/45 [00:00<00:01, 15.43it/s, v_num=1637, train_loss_step=0.0845, train_loss_epoch=0.0854, valid_loss=0.155]\n"
     ]
    },
    {
     "name": "stderr",
     "output_type": "stream",
     "text": [
      "INFO:pytorch_lightning.utilities.rank_zero:GPU available: True (cuda), used: True\n",
      "INFO:pytorch_lightning.utilities.rank_zero:TPU available: False, using: 0 TPU cores\n",
      "INFO:pytorch_lightning.utilities.rank_zero:HPU available: False, using: 0 HPUs\n",
      "INFO:pytorch_lightning.accelerators.cuda:LOCAL_RANK: 0 - CUDA_VISIBLE_DEVICES: [0]\n",
      "INFO:pytorch_lightning.callbacks.model_summary:\n",
      "  | Name         | Type          | Params | Mode \n",
      "-------------------------------------------------------\n",
      "0 | loss         | MAPE          | 0      | train\n",
      "1 | padder_train | ConstantPad1d | 0      | train\n",
      "2 | scaler       | TemporalNorm  | 0      | train\n",
      "3 | blocks       | ModuleList    | 464 K  | train\n",
      "4 | gate         | Sequential    | 999    | train\n",
      "-------------------------------------------------------\n",
      "461 K     Trainable params\n",
      "4.0 K     Non-trainable params\n",
      "465 K     Total params\n",
      "1.861     Total estimated model params size (MB)\n",
      "25        Modules in train mode\n",
      "0         Modules in eval mode\n"
     ]
    },
    {
     "name": "stdout",
     "output_type": "stream",
     "text": [
      "Epoch 133:  33%|███▎      | 15/45 [00:00<00:01, 15.94it/s, v_num=1638, train_loss_step=0.0769, train_loss_epoch=0.0634, valid_loss=0.183]"
     ]
    },
    {
     "name": "stderr",
     "output_type": "stream",
     "text": [
      "INFO:pytorch_lightning.utilities.rank_zero:`Trainer.fit` stopped: `max_steps=6000` reached.\n"
     ]
    },
    {
     "name": "stdout",
     "output_type": "stream",
     "text": [
      "Epoch 133:  33%|███▎      | 15/45 [00:00<00:01, 15.68it/s, v_num=1638, train_loss_step=0.0769, train_loss_epoch=0.0634, valid_loss=0.183]\n"
     ]
    },
    {
     "name": "stderr",
     "output_type": "stream",
     "text": [
      "INFO:pytorch_lightning.utilities.rank_zero:GPU available: True (cuda), used: True\n",
      "INFO:pytorch_lightning.utilities.rank_zero:TPU available: False, using: 0 TPU cores\n",
      "INFO:pytorch_lightning.utilities.rank_zero:HPU available: False, using: 0 HPUs\n",
      "INFO:pytorch_lightning.accelerators.cuda:LOCAL_RANK: 0 - CUDA_VISIBLE_DEVICES: [0]\n",
      "INFO:pytorch_lightning.callbacks.model_summary:\n",
      "  | Name         | Type          | Params | Mode \n",
      "-------------------------------------------------------\n",
      "0 | loss         | MAPE          | 0      | train\n",
      "1 | padder_train | ConstantPad1d | 0      | train\n",
      "2 | scaler       | TemporalNorm  | 0      | train\n",
      "3 | blocks       | ModuleList    | 439 K  | train\n",
      "4 | gate         | Sequential    | 504    | train\n",
      "-------------------------------------------------------\n",
      "437 K     Trainable params\n",
      "2.3 K     Non-trainable params\n",
      "440 K     Total params\n",
      "1.761     Total estimated model params size (MB)\n",
      "25        Modules in train mode\n",
      "0         Modules in eval mode\n"
     ]
    },
    {
     "name": "stdout",
     "output_type": "stream",
     "text": [
      "Epoch 133:  33%|███▎      | 15/45 [00:00<00:01, 15.96it/s, v_num=1639, train_loss_step=0.0632, train_loss_epoch=0.0858, valid_loss=0.166]"
     ]
    },
    {
     "name": "stderr",
     "output_type": "stream",
     "text": [
      "INFO:pytorch_lightning.utilities.rank_zero:`Trainer.fit` stopped: `max_steps=6000` reached.\n"
     ]
    },
    {
     "name": "stdout",
     "output_type": "stream",
     "text": [
      "Epoch 133:  33%|███▎      | 15/45 [00:00<00:01, 15.96it/s, v_num=1639, train_loss_step=0.0632, train_loss_epoch=0.0858, valid_loss=0.166]\n"
     ]
    },
    {
     "name": "stderr",
     "output_type": "stream",
     "text": [
      "INFO:pytorch_lightning.utilities.rank_zero:GPU available: True (cuda), used: True\n",
      "INFO:pytorch_lightning.utilities.rank_zero:TPU available: False, using: 0 TPU cores\n",
      "INFO:pytorch_lightning.utilities.rank_zero:HPU available: False, using: 0 HPUs\n",
      "INFO:pytorch_lightning.accelerators.cuda:LOCAL_RANK: 0 - CUDA_VISIBLE_DEVICES: [0]\n",
      "INFO:pytorch_lightning.callbacks.model_summary:\n",
      "  | Name         | Type          | Params | Mode \n",
      "-------------------------------------------------------\n",
      "0 | loss         | MASE          | 0      | train\n",
      "1 | padder_train | ConstantPad1d | 0      | train\n",
      "2 | scaler       | TemporalNorm  | 0      | train\n",
      "3 | blocks       | ModuleList    | 439 K  | train\n",
      "4 | gate         | Sequential    | 504    | train\n",
      "-------------------------------------------------------\n",
      "437 K     Trainable params\n",
      "2.3 K     Non-trainable params\n",
      "440 K     Total params\n",
      "1.761     Total estimated model params size (MB)\n",
      "25        Modules in train mode\n",
      "0         Modules in eval mode\n"
     ]
    },
    {
     "name": "stdout",
     "output_type": "stream",
     "text": [
      "Epoch 133:  33%|███▎      | 15/45 [00:00<00:01, 16.76it/s, v_num=1640, train_loss_step=0.541, train_loss_epoch=0.656, valid_loss=1.270]"
     ]
    },
    {
     "name": "stderr",
     "output_type": "stream",
     "text": [
      "INFO:pytorch_lightning.utilities.rank_zero:`Trainer.fit` stopped: `max_steps=6000` reached.\n"
     ]
    },
    {
     "name": "stdout",
     "output_type": "stream",
     "text": [
      "Epoch 133:  33%|███▎      | 15/45 [00:00<00:01, 16.76it/s, v_num=1640, train_loss_step=0.541, train_loss_epoch=0.656, valid_loss=1.270]\n"
     ]
    },
    {
     "name": "stderr",
     "output_type": "stream",
     "text": [
      "INFO:pytorch_lightning.utilities.rank_zero:GPU available: True (cuda), used: True\n",
      "INFO:pytorch_lightning.utilities.rank_zero:TPU available: False, using: 0 TPU cores\n",
      "INFO:pytorch_lightning.utilities.rank_zero:HPU available: False, using: 0 HPUs\n",
      "INFO:pytorch_lightning.accelerators.cuda:LOCAL_RANK: 0 - CUDA_VISIBLE_DEVICES: [0]\n",
      "INFO:pytorch_lightning.callbacks.model_summary:\n",
      "  | Name         | Type          | Params | Mode \n",
      "-------------------------------------------------------\n",
      "0 | loss         | SMAPE         | 0      | train\n",
      "1 | padder_train | ConstantPad1d | 0      | train\n",
      "2 | scaler       | TemporalNorm  | 0      | train\n",
      "3 | blocks       | ModuleList    | 434 K  | train\n",
      "4 | gate         | Sequential    | 405    | train\n",
      "-------------------------------------------------------\n",
      "433 K     Trainable params\n",
      "2.0 K     Non-trainable params\n",
      "435 K     Total params\n",
      "1.740     Total estimated model params size (MB)\n",
      "25        Modules in train mode\n",
      "0         Modules in eval mode\n"
     ]
    },
    {
     "name": "stdout",
     "output_type": "stream",
     "text": [
      "Epoch 133:  33%|███▎      | 15/45 [00:00<00:01, 16.16it/s, v_num=1641, train_loss_step=0.102, train_loss_epoch=0.0838, valid_loss=0.156] "
     ]
    },
    {
     "name": "stderr",
     "output_type": "stream",
     "text": [
      "INFO:pytorch_lightning.utilities.rank_zero:`Trainer.fit` stopped: `max_steps=6000` reached.\n"
     ]
    },
    {
     "name": "stdout",
     "output_type": "stream",
     "text": [
      "Epoch 133:  33%|███▎      | 15/45 [00:00<00:01, 16.16it/s, v_num=1641, train_loss_step=0.102, train_loss_epoch=0.0838, valid_loss=0.156]"
     ]
    },
    {
     "name": "stderr",
     "output_type": "stream",
     "text": [
      "INFO:pytorch_lightning.utilities.rank_zero:GPU available: True (cuda), used: True\n"
     ]
    },
    {
     "name": "stdout",
     "output_type": "stream",
     "text": [
      "\n"
     ]
    },
    {
     "name": "stderr",
     "output_type": "stream",
     "text": [
      "INFO:pytorch_lightning.utilities.rank_zero:TPU available: False, using: 0 TPU cores\n",
      "INFO:pytorch_lightning.utilities.rank_zero:HPU available: False, using: 0 HPUs\n",
      "INFO:pytorch_lightning.accelerators.cuda:LOCAL_RANK: 0 - CUDA_VISIBLE_DEVICES: [0]\n",
      "INFO:pytorch_lightning.callbacks.model_summary:\n",
      "  | Name         | Type          | Params | Mode \n",
      "-------------------------------------------------------\n",
      "0 | loss         | MASE          | 0      | train\n",
      "1 | padder_train | ConstantPad1d | 0      | train\n",
      "2 | scaler       | TemporalNorm  | 0      | train\n",
      "3 | blocks       | ModuleList    | 454 K  | train\n",
      "4 | gate         | Sequential    | 801    | train\n",
      "-------------------------------------------------------\n",
      "451 K     Trainable params\n",
      "3.3 K     Non-trainable params\n",
      "455 K     Total params\n",
      "1.821     Total estimated model params size (MB)\n",
      "25        Modules in train mode\n",
      "0         Modules in eval mode\n"
     ]
    },
    {
     "name": "stdout",
     "output_type": "stream",
     "text": [
      "Epoch 133:  33%|███▎      | 15/45 [00:00<00:01, 15.16it/s, v_num=1642, train_loss_step=2.460, train_loss_epoch=1.010, valid_loss=1.340]"
     ]
    },
    {
     "name": "stderr",
     "output_type": "stream",
     "text": [
      "INFO:pytorch_lightning.utilities.rank_zero:`Trainer.fit` stopped: `max_steps=6000` reached.\n"
     ]
    },
    {
     "name": "stdout",
     "output_type": "stream",
     "text": [
      "Epoch 133:  33%|███▎      | 15/45 [00:00<00:01, 15.16it/s, v_num=1642, train_loss_step=2.460, train_loss_epoch=1.010, valid_loss=1.340]\n"
     ]
    },
    {
     "name": "stderr",
     "output_type": "stream",
     "text": [
      "INFO:pytorch_lightning.utilities.rank_zero:GPU available: True (cuda), used: True\n",
      "INFO:pytorch_lightning.utilities.rank_zero:TPU available: False, using: 0 TPU cores\n",
      "INFO:pytorch_lightning.utilities.rank_zero:HPU available: False, using: 0 HPUs\n",
      "INFO:pytorch_lightning.accelerators.cuda:LOCAL_RANK: 0 - CUDA_VISIBLE_DEVICES: [0]\n",
      "INFO:pytorch_lightning.callbacks.model_summary:\n",
      "  | Name         | Type          | Params | Mode \n",
      "-------------------------------------------------------\n",
      "0 | loss         | MASE          | 0      | train\n",
      "1 | padder_train | ConstantPad1d | 0      | train\n",
      "2 | scaler       | TemporalNorm  | 0      | train\n",
      "3 | blocks       | ModuleList    | 444 K  | train\n",
      "4 | gate         | Sequential    | 603    | train\n",
      "-------------------------------------------------------\n",
      "442 K     Trainable params\n",
      "2.7 K     Non-trainable params\n",
      "445 K     Total params\n",
      "1.781     Total estimated model params size (MB)\n",
      "25        Modules in train mode\n",
      "0         Modules in eval mode\n"
     ]
    },
    {
     "name": "stdout",
     "output_type": "stream",
     "text": [
      "Epoch 133:  33%|███▎      | 15/45 [00:00<00:01, 17.04it/s, v_num=1643, train_loss_step=0.722, train_loss_epoch=0.645, valid_loss=1.320]"
     ]
    },
    {
     "name": "stderr",
     "output_type": "stream",
     "text": [
      "INFO:pytorch_lightning.utilities.rank_zero:`Trainer.fit` stopped: `max_steps=6000` reached.\n"
     ]
    },
    {
     "name": "stdout",
     "output_type": "stream",
     "text": [
      "Epoch 133:  33%|███▎      | 15/45 [00:00<00:01, 17.04it/s, v_num=1643, train_loss_step=0.722, train_loss_epoch=0.645, valid_loss=1.320]\n"
     ]
    },
    {
     "name": "stderr",
     "output_type": "stream",
     "text": [
      "INFO:pytorch_lightning.utilities.rank_zero:GPU available: True (cuda), used: True\n",
      "INFO:pytorch_lightning.utilities.rank_zero:TPU available: False, using: 0 TPU cores\n",
      "INFO:pytorch_lightning.utilities.rank_zero:HPU available: False, using: 0 HPUs\n",
      "INFO:pytorch_lightning.accelerators.cuda:LOCAL_RANK: 0 - CUDA_VISIBLE_DEVICES: [0]\n",
      "INFO:pytorch_lightning.callbacks.model_summary:\n",
      "  | Name         | Type          | Params | Mode \n",
      "-------------------------------------------------------\n",
      "0 | loss         | SMAPE         | 0      | train\n",
      "1 | padder_train | ConstantPad1d | 0      | train\n",
      "2 | scaler       | TemporalNorm  | 0      | train\n",
      "3 | blocks       | ModuleList    | 434 K  | train\n",
      "4 | gate         | Sequential    | 405    | train\n",
      "-------------------------------------------------------\n",
      "433 K     Trainable params\n",
      "2.0 K     Non-trainable params\n",
      "435 K     Total params\n",
      "1.740     Total estimated model params size (MB)\n",
      "25        Modules in train mode\n",
      "0         Modules in eval mode\n"
     ]
    },
    {
     "name": "stdout",
     "output_type": "stream",
     "text": [
      "Epoch 133:  33%|███▎      | 15/45 [00:00<00:01, 17.36it/s, v_num=1644, train_loss_step=0.0922, train_loss_epoch=0.0859, valid_loss=0.155]"
     ]
    },
    {
     "name": "stderr",
     "output_type": "stream",
     "text": [
      "INFO:pytorch_lightning.utilities.rank_zero:`Trainer.fit` stopped: `max_steps=6000` reached.\n"
     ]
    },
    {
     "name": "stdout",
     "output_type": "stream",
     "text": [
      "Epoch 133:  33%|███▎      | 15/45 [00:00<00:01, 17.36it/s, v_num=1644, train_loss_step=0.0922, train_loss_epoch=0.0859, valid_loss=0.155]\n"
     ]
    },
    {
     "name": "stderr",
     "output_type": "stream",
     "text": [
      "INFO:pytorch_lightning.utilities.rank_zero:GPU available: True (cuda), used: True\n",
      "INFO:pytorch_lightning.utilities.rank_zero:TPU available: False, using: 0 TPU cores\n",
      "INFO:pytorch_lightning.utilities.rank_zero:HPU available: False, using: 0 HPUs\n",
      "INFO:pytorch_lightning.accelerators.cuda:LOCAL_RANK: 0 - CUDA_VISIBLE_DEVICES: [0]\n",
      "INFO:pytorch_lightning.callbacks.model_summary:\n",
      "  | Name         | Type          | Params | Mode \n",
      "-------------------------------------------------------\n",
      "0 | loss         | MASE          | 0      | train\n",
      "1 | padder_train | ConstantPad1d | 0      | train\n",
      "2 | scaler       | TemporalNorm  | 0      | train\n",
      "3 | blocks       | ModuleList    | 464 K  | train\n",
      "4 | gate         | Sequential    | 999    | train\n",
      "-------------------------------------------------------\n",
      "461 K     Trainable params\n",
      "4.0 K     Non-trainable params\n",
      "465 K     Total params\n",
      "1.861     Total estimated model params size (MB)\n",
      "25        Modules in train mode\n",
      "0         Modules in eval mode\n"
     ]
    },
    {
     "name": "stdout",
     "output_type": "stream",
     "text": [
      "Epoch 133:  33%|███▎      | 15/45 [00:00<00:01, 15.85it/s, v_num=1645, train_loss_step=0.256, train_loss_epoch=0.255, valid_loss=1.390]"
     ]
    },
    {
     "name": "stderr",
     "output_type": "stream",
     "text": [
      "INFO:pytorch_lightning.utilities.rank_zero:`Trainer.fit` stopped: `max_steps=6000` reached.\n"
     ]
    },
    {
     "name": "stdout",
     "output_type": "stream",
     "text": [
      "Epoch 133:  33%|███▎      | 15/45 [00:00<00:01, 15.59it/s, v_num=1645, train_loss_step=0.256, train_loss_epoch=0.255, valid_loss=1.390]\n"
     ]
    },
    {
     "name": "stderr",
     "output_type": "stream",
     "text": [
      "INFO:pytorch_lightning.utilities.rank_zero:GPU available: True (cuda), used: True\n",
      "INFO:pytorch_lightning.utilities.rank_zero:TPU available: False, using: 0 TPU cores\n",
      "INFO:pytorch_lightning.utilities.rank_zero:HPU available: False, using: 0 HPUs\n",
      "INFO:pytorch_lightning.accelerators.cuda:LOCAL_RANK: 0 - CUDA_VISIBLE_DEVICES: [0]\n",
      "INFO:pytorch_lightning.callbacks.model_summary:\n",
      "  | Name         | Type          | Params | Mode \n",
      "-------------------------------------------------------\n",
      "0 | loss         | SMAPE         | 0      | train\n",
      "1 | padder_train | ConstantPad1d | 0      | train\n",
      "2 | scaler       | TemporalNorm  | 0      | train\n",
      "3 | blocks       | ModuleList    | 434 K  | train\n",
      "4 | gate         | Sequential    | 405    | train\n",
      "-------------------------------------------------------\n",
      "433 K     Trainable params\n",
      "2.0 K     Non-trainable params\n",
      "435 K     Total params\n",
      "1.740     Total estimated model params size (MB)\n",
      "25        Modules in train mode\n",
      "0         Modules in eval mode\n"
     ]
    },
    {
     "name": "stdout",
     "output_type": "stream",
     "text": [
      "Epoch 133:  33%|███▎      | 15/45 [00:00<00:01, 16.46it/s, v_num=1646, train_loss_step=0.0685, train_loss_epoch=0.0878, valid_loss=0.160]"
     ]
    },
    {
     "name": "stderr",
     "output_type": "stream",
     "text": [
      "INFO:pytorch_lightning.utilities.rank_zero:`Trainer.fit` stopped: `max_steps=6000` reached.\n"
     ]
    },
    {
     "name": "stdout",
     "output_type": "stream",
     "text": [
      "Epoch 133:  33%|███▎      | 15/45 [00:00<00:01, 16.46it/s, v_num=1646, train_loss_step=0.0685, train_loss_epoch=0.0878, valid_loss=0.160]\n"
     ]
    },
    {
     "name": "stderr",
     "output_type": "stream",
     "text": [
      "INFO:pytorch_lightning.utilities.rank_zero:GPU available: True (cuda), used: True\n",
      "INFO:pytorch_lightning.utilities.rank_zero:TPU available: False, using: 0 TPU cores\n",
      "INFO:pytorch_lightning.utilities.rank_zero:HPU available: False, using: 0 HPUs\n",
      "INFO:pytorch_lightning.accelerators.cuda:LOCAL_RANK: 0 - CUDA_VISIBLE_DEVICES: [0]\n",
      "INFO:pytorch_lightning.callbacks.model_summary:\n",
      "  | Name         | Type          | Params | Mode \n",
      "-------------------------------------------------------\n",
      "0 | loss         | SMAPE         | 0      | train\n",
      "1 | padder_train | ConstantPad1d | 0      | train\n",
      "2 | scaler       | TemporalNorm  | 0      | train\n",
      "3 | blocks       | ModuleList    | 429 K  | train\n",
      "4 | gate         | Sequential    | 306    | train\n",
      "-------------------------------------------------------\n",
      "428 K     Trainable params\n",
      "1.7 K     Non-trainable params\n",
      "430 K     Total params\n",
      "1.720     Total estimated model params size (MB)\n",
      "25        Modules in train mode\n",
      "0         Modules in eval mode\n"
     ]
    },
    {
     "name": "stdout",
     "output_type": "stream",
     "text": [
      "Epoch 133:  33%|███▎      | 15/45 [00:01<00:02, 14.48it/s, v_num=1647, train_loss_step=0.103, train_loss_epoch=0.096, valid_loss=0.152]  "
     ]
    },
    {
     "name": "stderr",
     "output_type": "stream",
     "text": [
      "INFO:pytorch_lightning.utilities.rank_zero:`Trainer.fit` stopped: `max_steps=6000` reached.\n"
     ]
    },
    {
     "name": "stdout",
     "output_type": "stream",
     "text": [
      "Epoch 133:  33%|███▎      | 15/45 [00:01<00:02, 14.48it/s, v_num=1647, train_loss_step=0.103, train_loss_epoch=0.096, valid_loss=0.152]\n"
     ]
    },
    {
     "name": "stderr",
     "output_type": "stream",
     "text": [
      "INFO:pytorch_lightning.utilities.rank_zero:GPU available: True (cuda), used: True\n",
      "INFO:pytorch_lightning.utilities.rank_zero:TPU available: False, using: 0 TPU cores\n",
      "INFO:pytorch_lightning.utilities.rank_zero:HPU available: False, using: 0 HPUs\n",
      "INFO:pytorch_lightning.accelerators.cuda:LOCAL_RANK: 0 - CUDA_VISIBLE_DEVICES: [0]\n",
      "INFO:pytorch_lightning.callbacks.model_summary:\n",
      "  | Name         | Type          | Params | Mode \n",
      "-------------------------------------------------------\n",
      "0 | loss         | SMAPE         | 0      | train\n",
      "1 | padder_train | ConstantPad1d | 0      | train\n",
      "2 | scaler       | TemporalNorm  | 0      | train\n",
      "3 | blocks       | ModuleList    | 444 K  | train\n",
      "4 | gate         | Sequential    | 603    | train\n",
      "-------------------------------------------------------\n",
      "442 K     Trainable params\n",
      "2.7 K     Non-trainable params\n",
      "445 K     Total params\n",
      "1.781     Total estimated model params size (MB)\n",
      "25        Modules in train mode\n",
      "0         Modules in eval mode\n"
     ]
    },
    {
     "name": "stdout",
     "output_type": "stream",
     "text": [
      "Epoch 133:  33%|███▎      | 15/45 [00:00<00:01, 15.48it/s, v_num=1648, train_loss_step=0.0742, train_loss_epoch=0.0793, valid_loss=0.155]"
     ]
    },
    {
     "name": "stderr",
     "output_type": "stream",
     "text": [
      "INFO:pytorch_lightning.utilities.rank_zero:`Trainer.fit` stopped: `max_steps=6000` reached.\n"
     ]
    },
    {
     "name": "stdout",
     "output_type": "stream",
     "text": [
      "Epoch 133:  33%|███▎      | 15/45 [00:00<00:01, 15.48it/s, v_num=1648, train_loss_step=0.0742, train_loss_epoch=0.0793, valid_loss=0.155]\n"
     ]
    },
    {
     "name": "stderr",
     "output_type": "stream",
     "text": [
      "INFO:pytorch_lightning.utilities.rank_zero:GPU available: True (cuda), used: True\n",
      "INFO:pytorch_lightning.utilities.rank_zero:TPU available: False, using: 0 TPU cores\n",
      "INFO:pytorch_lightning.utilities.rank_zero:HPU available: False, using: 0 HPUs\n",
      "INFO:pytorch_lightning.accelerators.cuda:LOCAL_RANK: 0 - CUDA_VISIBLE_DEVICES: [0]\n",
      "INFO:pytorch_lightning.callbacks.model_summary:\n",
      "  | Name         | Type          | Params | Mode \n",
      "-------------------------------------------------------\n",
      "0 | loss         | MAPE          | 0      | train\n",
      "1 | padder_train | ConstantPad1d | 0      | train\n",
      "2 | scaler       | TemporalNorm  | 0      | train\n",
      "3 | blocks       | ModuleList    | 444 K  | train\n",
      "4 | gate         | Sequential    | 603    | train\n",
      "-------------------------------------------------------\n",
      "442 K     Trainable params\n",
      "2.7 K     Non-trainable params\n",
      "445 K     Total params\n",
      "1.781     Total estimated model params size (MB)\n",
      "25        Modules in train mode\n",
      "0         Modules in eval mode\n"
     ]
    },
    {
     "name": "stdout",
     "output_type": "stream",
     "text": [
      "Epoch 133:  33%|███▎      | 15/45 [00:00<00:01, 17.32it/s, v_num=1649, train_loss_step=0.0936, train_loss_epoch=0.0827, valid_loss=0.168]"
     ]
    },
    {
     "name": "stderr",
     "output_type": "stream",
     "text": [
      "INFO:pytorch_lightning.utilities.rank_zero:`Trainer.fit` stopped: `max_steps=6000` reached.\n"
     ]
    },
    {
     "name": "stdout",
     "output_type": "stream",
     "text": [
      "Epoch 133:  33%|███▎      | 15/45 [00:00<00:01, 17.32it/s, v_num=1649, train_loss_step=0.0936, train_loss_epoch=0.0827, valid_loss=0.168]\n"
     ]
    },
    {
     "name": "stderr",
     "output_type": "stream",
     "text": [
      "INFO:pytorch_lightning.utilities.rank_zero:GPU available: True (cuda), used: True\n",
      "INFO:pytorch_lightning.utilities.rank_zero:TPU available: False, using: 0 TPU cores\n",
      "INFO:pytorch_lightning.utilities.rank_zero:HPU available: False, using: 0 HPUs\n",
      "INFO:pytorch_lightning.accelerators.cuda:LOCAL_RANK: 0 - CUDA_VISIBLE_DEVICES: [0]\n",
      "INFO:pytorch_lightning.callbacks.model_summary:\n",
      "  | Name         | Type          | Params | Mode \n",
      "-------------------------------------------------------\n",
      "0 | loss         | MAPE          | 0      | train\n",
      "1 | padder_train | ConstantPad1d | 0      | train\n",
      "2 | scaler       | TemporalNorm  | 0      | train\n",
      "3 | blocks       | ModuleList    | 454 K  | train\n",
      "4 | gate         | Sequential    | 801    | train\n",
      "-------------------------------------------------------\n",
      "451 K     Trainable params\n",
      "3.3 K     Non-trainable params\n",
      "455 K     Total params\n",
      "1.821     Total estimated model params size (MB)\n",
      "25        Modules in train mode\n",
      "0         Modules in eval mode\n"
     ]
    },
    {
     "name": "stdout",
     "output_type": "stream",
     "text": [
      "Epoch 133:  33%|███▎      | 15/45 [00:01<00:02, 14.78it/s, v_num=1650, train_loss_step=0.0804, train_loss_epoch=0.0861, valid_loss=0.187]"
     ]
    },
    {
     "name": "stderr",
     "output_type": "stream",
     "text": [
      "INFO:pytorch_lightning.utilities.rank_zero:`Trainer.fit` stopped: `max_steps=6000` reached.\n"
     ]
    },
    {
     "name": "stdout",
     "output_type": "stream",
     "text": [
      "Epoch 133:  33%|███▎      | 15/45 [00:01<00:02, 14.74it/s, v_num=1650, train_loss_step=0.0804, train_loss_epoch=0.0861, valid_loss=0.187]\n"
     ]
    },
    {
     "name": "stderr",
     "output_type": "stream",
     "text": [
      "INFO:pytorch_lightning.utilities.rank_zero:GPU available: True (cuda), used: True\n",
      "INFO:pytorch_lightning.utilities.rank_zero:TPU available: False, using: 0 TPU cores\n",
      "INFO:pytorch_lightning.utilities.rank_zero:HPU available: False, using: 0 HPUs\n",
      "INFO:pytorch_lightning.accelerators.cuda:LOCAL_RANK: 0 - CUDA_VISIBLE_DEVICES: [0]\n",
      "INFO:pytorch_lightning.callbacks.model_summary:\n",
      "  | Name         | Type          | Params | Mode \n",
      "-------------------------------------------------------\n",
      "0 | loss         | MAPE          | 0      | train\n",
      "1 | padder_train | ConstantPad1d | 0      | train\n",
      "2 | scaler       | TemporalNorm  | 0      | train\n",
      "3 | blocks       | ModuleList    | 439 K  | train\n",
      "4 | gate         | Sequential    | 504    | train\n",
      "-------------------------------------------------------\n",
      "437 K     Trainable params\n",
      "2.3 K     Non-trainable params\n",
      "440 K     Total params\n",
      "1.761     Total estimated model params size (MB)\n",
      "25        Modules in train mode\n",
      "0         Modules in eval mode\n"
     ]
    },
    {
     "name": "stdout",
     "output_type": "stream",
     "text": [
      "Epoch 133:  33%|███▎      | 15/45 [00:01<00:02, 14.52it/s, v_num=1651, train_loss_step=0.0816, train_loss_epoch=0.0913, valid_loss=0.168]"
     ]
    },
    {
     "name": "stderr",
     "output_type": "stream",
     "text": [
      "INFO:pytorch_lightning.utilities.rank_zero:`Trainer.fit` stopped: `max_steps=6000` reached.\n"
     ]
    },
    {
     "name": "stdout",
     "output_type": "stream",
     "text": [
      "Epoch 133:  33%|███▎      | 15/45 [00:01<00:02, 14.47it/s, v_num=1651, train_loss_step=0.0816, train_loss_epoch=0.0913, valid_loss=0.168]\n"
     ]
    },
    {
     "name": "stderr",
     "output_type": "stream",
     "text": [
      "INFO:pytorch_lightning.utilities.rank_zero:GPU available: True (cuda), used: True\n",
      "INFO:pytorch_lightning.utilities.rank_zero:TPU available: False, using: 0 TPU cores\n",
      "INFO:pytorch_lightning.utilities.rank_zero:HPU available: False, using: 0 HPUs\n",
      "INFO:pytorch_lightning.accelerators.cuda:LOCAL_RANK: 0 - CUDA_VISIBLE_DEVICES: [0]\n",
      "INFO:pytorch_lightning.callbacks.model_summary:\n",
      "  | Name         | Type          | Params | Mode \n",
      "-------------------------------------------------------\n",
      "0 | loss         | SMAPE         | 0      | train\n",
      "1 | padder_train | ConstantPad1d | 0      | train\n",
      "2 | scaler       | TemporalNorm  | 0      | train\n",
      "3 | blocks       | ModuleList    | 454 K  | train\n",
      "4 | gate         | Sequential    | 801    | train\n",
      "-------------------------------------------------------\n",
      "451 K     Trainable params\n",
      "3.3 K     Non-trainable params\n",
      "455 K     Total params\n",
      "1.821     Total estimated model params size (MB)\n",
      "25        Modules in train mode\n",
      "0         Modules in eval mode\n"
     ]
    },
    {
     "name": "stdout",
     "output_type": "stream",
     "text": [
      "Epoch 61:  31%|███       | 14/45 [00:00<00:00, 33.26it/s, v_num=1652, train_loss_step=0.0717, train_loss_epoch=0.0943, valid_loss=0.150]"
     ]
    }
   ],
   "source": [
    "y_train, y_test = train_test_split(m3, horizon)\n",
    "\n",
    "models = []\n",
    "\n",
    "for i in range(180):\n",
    "    random_conf = get_random_conf()\n",
    "    model = NBeatsStackMoe(\n",
    "        h=horizon,\n",
    "        store_all_gate_logits=False,\n",
    "        **random_conf,\n",
    "    )\n",
    "    models.append(model)\n",
    "\n",
    "nf = NeuralForecast(\n",
    "    models=models,\n",
    "    freq='M',\n",
    ")\n",
    "\n",
    "nf.fit(df=y_train, static_df=None, val_size=horizon)\n",
    "predictions = nf.predict(futr_df=y_test)\n",
    "\n",
    "\n",
    "nbeats_cols = [col for col in predictions.columns if \"NBeatsStack\" in col]\n",
    "predictions[\"prediction_agg\"] = predictions[nbeats_cols].median(axis=1)\n",
    "\n",
    "\n",
    "smape_score = calculate_smape(y_test, predictions, \"prediction_agg\")\n",
    "print(f\"sMAPE score: {smape_score:.4f}\")\n"
   ]
  },
  {
   "cell_type": "code",
   "execution_count": null,
   "id": "0a4e4a60",
   "metadata": {},
   "outputs": [
    {
     "ename": "NameError",
     "evalue": "name 'calculate_smape' is not defined",
     "output_type": "error",
     "traceback": [
      "\u001b[1;31m---------------------------------------------------------------------------\u001b[0m",
      "\u001b[1;31mNameError\u001b[0m                                 Traceback (most recent call last)",
      "Cell \u001b[1;32mIn[1], line 1\u001b[0m\n\u001b[1;32m----> 1\u001b[0m smape_score \u001b[38;5;241m=\u001b[39m \u001b[43mcalculate_smape\u001b[49m(y_test, predictions, \u001b[38;5;124m\"\u001b[39m\u001b[38;5;124mprediction_agg\u001b[39m\u001b[38;5;124m\"\u001b[39m)\n\u001b[0;32m      2\u001b[0m \u001b[38;5;28mprint\u001b[39m(\u001b[38;5;124mf\u001b[39m\u001b[38;5;124m\"\u001b[39m\u001b[38;5;124msMAPE score: \u001b[39m\u001b[38;5;132;01m{\u001b[39;00msmape_score\u001b[38;5;132;01m:\u001b[39;00m\u001b[38;5;124m.4f\u001b[39m\u001b[38;5;132;01m}\u001b[39;00m\u001b[38;5;124m\"\u001b[39m)\n",
      "\u001b[1;31mNameError\u001b[0m: name 'calculate_smape' is not defined"
     ]
    }
   ],
   "source": [
    "smape_score = calculate_smape(y_test, predictions, \"prediction_agg\")\n",
    "print(f\"sMAPE score: {smape_score:.4f}\")"
   ]
  },
  {
   "cell_type": "code",
   "execution_count": null,
   "id": "9f944dec",
   "metadata": {},
   "outputs": [],
   "source": [
    "# predictions.to_csv(\"predictions_m3_nbeats_stack_moe_18.csv\", index=False)"
   ]
  },
  {
   "cell_type": "code",
   "execution_count": null,
   "id": "b9a3a2c2",
   "metadata": {},
   "outputs": [
    {
     "name": "stderr",
     "output_type": "stream",
     "text": [
      "INFO:pytorch_lightning.utilities.rank_zero:Trainer already configured with model summary callbacks: [<class 'pytorch_lightning.callbacks.model_summary.ModelSummary'>]. Skipping setting a default `ModelSummary` callback.\n",
      "INFO:pytorch_lightning.utilities.rank_zero:GPU available: True (cuda), used: True\n",
      "INFO:pytorch_lightning.utilities.rank_zero:TPU available: False, using: 0 TPU cores\n",
      "INFO:pytorch_lightning.utilities.rank_zero:HPU available: False, using: 0 HPUs\n",
      "INFO:pytorch_lightning.accelerators.cuda:LOCAL_RANK: 0 - CUDA_VISIBLE_DEVICES: [0]\n"
     ]
    },
    {
     "name": "stdout",
     "output_type": "stream",
     "text": [
      "Predicting DataLoader 0: 100%|██████████| 45/45 [00:00<00:00, 101.66it/s]"
     ]
    },
    {
     "name": "stderr",
     "output_type": "stream",
     "text": [
      "INFO:pytorch_lightning.utilities.rank_zero:Trainer already configured with model summary callbacks: [<class 'pytorch_lightning.callbacks.model_summary.ModelSummary'>]. Skipping setting a default `ModelSummary` callback.\n"
     ]
    },
    {
     "name": "stdout",
     "output_type": "stream",
     "text": [
      "\n"
     ]
    },
    {
     "name": "stderr",
     "output_type": "stream",
     "text": [
      "INFO:pytorch_lightning.utilities.rank_zero:GPU available: True (cuda), used: True\n",
      "INFO:pytorch_lightning.utilities.rank_zero:TPU available: False, using: 0 TPU cores\n",
      "INFO:pytorch_lightning.utilities.rank_zero:HPU available: False, using: 0 HPUs\n",
      "INFO:pytorch_lightning.accelerators.cuda:LOCAL_RANK: 0 - CUDA_VISIBLE_DEVICES: [0]\n"
     ]
    },
    {
     "name": "stdout",
     "output_type": "stream",
     "text": [
      "Predicting DataLoader 0: 100%|██████████| 45/45 [00:00<00:00, 110.60it/s]"
     ]
    },
    {
     "name": "stderr",
     "output_type": "stream",
     "text": [
      "INFO:pytorch_lightning.utilities.rank_zero:Trainer already configured with model summary callbacks: [<class 'pytorch_lightning.callbacks.model_summary.ModelSummary'>]. Skipping setting a default `ModelSummary` callback.\n"
     ]
    },
    {
     "name": "stdout",
     "output_type": "stream",
     "text": [
      "\n"
     ]
    },
    {
     "name": "stderr",
     "output_type": "stream",
     "text": [
      "INFO:pytorch_lightning.utilities.rank_zero:GPU available: True (cuda), used: True\n",
      "INFO:pytorch_lightning.utilities.rank_zero:TPU available: False, using: 0 TPU cores\n",
      "INFO:pytorch_lightning.utilities.rank_zero:HPU available: False, using: 0 HPUs\n",
      "INFO:pytorch_lightning.accelerators.cuda:LOCAL_RANK: 0 - CUDA_VISIBLE_DEVICES: [0]\n"
     ]
    },
    {
     "name": "stdout",
     "output_type": "stream",
     "text": [
      "Predicting DataLoader 0: 100%|██████████| 45/45 [00:00<00:00, 120.05it/s]\n"
     ]
    },
    {
     "name": "stderr",
     "output_type": "stream",
     "text": [
      "INFO:pytorch_lightning.utilities.rank_zero:Trainer already configured with model summary callbacks: [<class 'pytorch_lightning.callbacks.model_summary.ModelSummary'>]. Skipping setting a default `ModelSummary` callback.\n",
      "INFO:pytorch_lightning.utilities.rank_zero:GPU available: True (cuda), used: True\n",
      "INFO:pytorch_lightning.utilities.rank_zero:TPU available: False, using: 0 TPU cores\n",
      "INFO:pytorch_lightning.utilities.rank_zero:HPU available: False, using: 0 HPUs\n",
      "INFO:pytorch_lightning.accelerators.cuda:LOCAL_RANK: 0 - CUDA_VISIBLE_DEVICES: [0]\n"
     ]
    },
    {
     "name": "stdout",
     "output_type": "stream",
     "text": [
      "Predicting DataLoader 0: 100%|██████████| 45/45 [00:00<00:00, 108.49it/s]\n"
     ]
    },
    {
     "name": "stderr",
     "output_type": "stream",
     "text": [
      "INFO:pytorch_lightning.utilities.rank_zero:Trainer already configured with model summary callbacks: [<class 'pytorch_lightning.callbacks.model_summary.ModelSummary'>]. Skipping setting a default `ModelSummary` callback.\n",
      "INFO:pytorch_lightning.utilities.rank_zero:GPU available: True (cuda), used: True\n",
      "INFO:pytorch_lightning.utilities.rank_zero:TPU available: False, using: 0 TPU cores\n",
      "INFO:pytorch_lightning.utilities.rank_zero:HPU available: False, using: 0 HPUs\n",
      "INFO:pytorch_lightning.accelerators.cuda:LOCAL_RANK: 0 - CUDA_VISIBLE_DEVICES: [0]\n"
     ]
    },
    {
     "name": "stdout",
     "output_type": "stream",
     "text": [
      "Predicting DataLoader 0: 100%|██████████| 45/45 [00:00<00:00, 106.69it/s]\n"
     ]
    },
    {
     "name": "stderr",
     "output_type": "stream",
     "text": [
      "INFO:pytorch_lightning.utilities.rank_zero:Trainer already configured with model summary callbacks: [<class 'pytorch_lightning.callbacks.model_summary.ModelSummary'>]. Skipping setting a default `ModelSummary` callback.\n",
      "INFO:pytorch_lightning.utilities.rank_zero:GPU available: True (cuda), used: True\n",
      "INFO:pytorch_lightning.utilities.rank_zero:TPU available: False, using: 0 TPU cores\n",
      "INFO:pytorch_lightning.utilities.rank_zero:HPU available: False, using: 0 HPUs\n",
      "INFO:pytorch_lightning.accelerators.cuda:LOCAL_RANK: 0 - CUDA_VISIBLE_DEVICES: [0]\n"
     ]
    },
    {
     "name": "stdout",
     "output_type": "stream",
     "text": [
      "Predicting DataLoader 0: 100%|██████████| 45/45 [00:00<00:00, 102.90it/s]\n"
     ]
    },
    {
     "name": "stderr",
     "output_type": "stream",
     "text": [
      "INFO:pytorch_lightning.utilities.rank_zero:Trainer already configured with model summary callbacks: [<class 'pytorch_lightning.callbacks.model_summary.ModelSummary'>]. Skipping setting a default `ModelSummary` callback.\n",
      "INFO:pytorch_lightning.utilities.rank_zero:GPU available: True (cuda), used: True\n",
      "INFO:pytorch_lightning.utilities.rank_zero:TPU available: False, using: 0 TPU cores\n",
      "INFO:pytorch_lightning.utilities.rank_zero:HPU available: False, using: 0 HPUs\n",
      "INFO:pytorch_lightning.accelerators.cuda:LOCAL_RANK: 0 - CUDA_VISIBLE_DEVICES: [0]\n"
     ]
    },
    {
     "name": "stdout",
     "output_type": "stream",
     "text": [
      "Predicting DataLoader 0: 100%|██████████| 45/45 [00:00<00:00, 106.18it/s]"
     ]
    },
    {
     "name": "stderr",
     "output_type": "stream",
     "text": [
      "INFO:pytorch_lightning.utilities.rank_zero:Trainer already configured with model summary callbacks: [<class 'pytorch_lightning.callbacks.model_summary.ModelSummary'>]. Skipping setting a default `ModelSummary` callback.\n",
      "INFO:pytorch_lightning.utilities.rank_zero:GPU available: True (cuda), used: True\n"
     ]
    },
    {
     "name": "stdout",
     "output_type": "stream",
     "text": [
      "\n"
     ]
    },
    {
     "name": "stderr",
     "output_type": "stream",
     "text": [
      "INFO:pytorch_lightning.utilities.rank_zero:TPU available: False, using: 0 TPU cores\n",
      "INFO:pytorch_lightning.utilities.rank_zero:HPU available: False, using: 0 HPUs\n",
      "INFO:pytorch_lightning.accelerators.cuda:LOCAL_RANK: 0 - CUDA_VISIBLE_DEVICES: [0]\n"
     ]
    },
    {
     "name": "stdout",
     "output_type": "stream",
     "text": [
      "Predicting DataLoader 0: 100%|██████████| 45/45 [00:00<00:00, 104.46it/s]"
     ]
    },
    {
     "name": "stderr",
     "output_type": "stream",
     "text": [
      "INFO:pytorch_lightning.utilities.rank_zero:Trainer already configured with model summary callbacks: [<class 'pytorch_lightning.callbacks.model_summary.ModelSummary'>]. Skipping setting a default `ModelSummary` callback.\n"
     ]
    },
    {
     "name": "stdout",
     "output_type": "stream",
     "text": [
      "\n"
     ]
    },
    {
     "name": "stderr",
     "output_type": "stream",
     "text": [
      "INFO:pytorch_lightning.utilities.rank_zero:GPU available: True (cuda), used: True\n",
      "INFO:pytorch_lightning.utilities.rank_zero:TPU available: False, using: 0 TPU cores\n",
      "INFO:pytorch_lightning.utilities.rank_zero:HPU available: False, using: 0 HPUs\n",
      "INFO:pytorch_lightning.accelerators.cuda:LOCAL_RANK: 0 - CUDA_VISIBLE_DEVICES: [0]\n"
     ]
    },
    {
     "name": "stdout",
     "output_type": "stream",
     "text": [
      "Predicting DataLoader 0: 100%|██████████| 45/45 [00:00<00:00, 113.41it/s]\n"
     ]
    },
    {
     "name": "stderr",
     "output_type": "stream",
     "text": [
      "INFO:pytorch_lightning.utilities.rank_zero:Trainer already configured with model summary callbacks: [<class 'pytorch_lightning.callbacks.model_summary.ModelSummary'>]. Skipping setting a default `ModelSummary` callback.\n",
      "INFO:pytorch_lightning.utilities.rank_zero:GPU available: True (cuda), used: True\n",
      "INFO:pytorch_lightning.utilities.rank_zero:TPU available: False, using: 0 TPU cores\n",
      "INFO:pytorch_lightning.utilities.rank_zero:HPU available: False, using: 0 HPUs\n",
      "INFO:pytorch_lightning.accelerators.cuda:LOCAL_RANK: 0 - CUDA_VISIBLE_DEVICES: [0]\n"
     ]
    },
    {
     "name": "stdout",
     "output_type": "stream",
     "text": [
      "Predicting DataLoader 0: 100%|██████████| 45/45 [00:00<00:00, 111.86it/s]"
     ]
    },
    {
     "name": "stderr",
     "output_type": "stream",
     "text": [
      "INFO:pytorch_lightning.utilities.rank_zero:Trainer already configured with model summary callbacks: [<class 'pytorch_lightning.callbacks.model_summary.ModelSummary'>]. Skipping setting a default `ModelSummary` callback.\n"
     ]
    },
    {
     "name": "stdout",
     "output_type": "stream",
     "text": [
      "\n"
     ]
    },
    {
     "name": "stderr",
     "output_type": "stream",
     "text": [
      "INFO:pytorch_lightning.utilities.rank_zero:GPU available: True (cuda), used: True\n",
      "INFO:pytorch_lightning.utilities.rank_zero:TPU available: False, using: 0 TPU cores\n",
      "INFO:pytorch_lightning.utilities.rank_zero:HPU available: False, using: 0 HPUs\n",
      "INFO:pytorch_lightning.accelerators.cuda:LOCAL_RANK: 0 - CUDA_VISIBLE_DEVICES: [0]\n"
     ]
    },
    {
     "name": "stdout",
     "output_type": "stream",
     "text": [
      "Predicting DataLoader 0: 100%|██████████| 45/45 [00:00<00:00, 106.93it/s]\n"
     ]
    },
    {
     "name": "stderr",
     "output_type": "stream",
     "text": [
      "INFO:pytorch_lightning.utilities.rank_zero:Trainer already configured with model summary callbacks: [<class 'pytorch_lightning.callbacks.model_summary.ModelSummary'>]. Skipping setting a default `ModelSummary` callback.\n",
      "INFO:pytorch_lightning.utilities.rank_zero:GPU available: True (cuda), used: True\n",
      "INFO:pytorch_lightning.utilities.rank_zero:TPU available: False, using: 0 TPU cores\n",
      "INFO:pytorch_lightning.utilities.rank_zero:HPU available: False, using: 0 HPUs\n",
      "INFO:pytorch_lightning.accelerators.cuda:LOCAL_RANK: 0 - CUDA_VISIBLE_DEVICES: [0]\n"
     ]
    },
    {
     "name": "stdout",
     "output_type": "stream",
     "text": [
      "Predicting DataLoader 0: 100%|██████████| 45/45 [00:00<00:00, 112.41it/s]"
     ]
    },
    {
     "name": "stderr",
     "output_type": "stream",
     "text": [
      "INFO:pytorch_lightning.utilities.rank_zero:Trainer already configured with model summary callbacks: [<class 'pytorch_lightning.callbacks.model_summary.ModelSummary'>]. Skipping setting a default `ModelSummary` callback.\n"
     ]
    },
    {
     "name": "stdout",
     "output_type": "stream",
     "text": [
      "\n"
     ]
    },
    {
     "name": "stderr",
     "output_type": "stream",
     "text": [
      "INFO:pytorch_lightning.utilities.rank_zero:GPU available: True (cuda), used: True\n",
      "INFO:pytorch_lightning.utilities.rank_zero:TPU available: False, using: 0 TPU cores\n",
      "INFO:pytorch_lightning.utilities.rank_zero:HPU available: False, using: 0 HPUs\n",
      "INFO:pytorch_lightning.accelerators.cuda:LOCAL_RANK: 0 - CUDA_VISIBLE_DEVICES: [0]\n"
     ]
    },
    {
     "name": "stdout",
     "output_type": "stream",
     "text": [
      "Predicting DataLoader 0: 100%|██████████| 45/45 [00:00<00:00, 94.58it/s]\n"
     ]
    },
    {
     "name": "stderr",
     "output_type": "stream",
     "text": [
      "INFO:pytorch_lightning.utilities.rank_zero:Trainer already configured with model summary callbacks: [<class 'pytorch_lightning.callbacks.model_summary.ModelSummary'>]. Skipping setting a default `ModelSummary` callback.\n",
      "INFO:pytorch_lightning.utilities.rank_zero:GPU available: True (cuda), used: True\n",
      "INFO:pytorch_lightning.utilities.rank_zero:TPU available: False, using: 0 TPU cores\n",
      "INFO:pytorch_lightning.utilities.rank_zero:HPU available: False, using: 0 HPUs\n",
      "INFO:pytorch_lightning.accelerators.cuda:LOCAL_RANK: 0 - CUDA_VISIBLE_DEVICES: [0]\n"
     ]
    },
    {
     "name": "stdout",
     "output_type": "stream",
     "text": [
      "Predicting DataLoader 0: 100%|██████████| 45/45 [00:00<00:00, 108.74it/s]"
     ]
    },
    {
     "name": "stderr",
     "output_type": "stream",
     "text": [
      "INFO:pytorch_lightning.utilities.rank_zero:Trainer already configured with model summary callbacks: [<class 'pytorch_lightning.callbacks.model_summary.ModelSummary'>]. Skipping setting a default `ModelSummary` callback.\n"
     ]
    },
    {
     "name": "stdout",
     "output_type": "stream",
     "text": [
      "\n"
     ]
    },
    {
     "name": "stderr",
     "output_type": "stream",
     "text": [
      "INFO:pytorch_lightning.utilities.rank_zero:GPU available: True (cuda), used: True\n",
      "INFO:pytorch_lightning.utilities.rank_zero:TPU available: False, using: 0 TPU cores\n",
      "INFO:pytorch_lightning.utilities.rank_zero:HPU available: False, using: 0 HPUs\n",
      "INFO:pytorch_lightning.accelerators.cuda:LOCAL_RANK: 0 - CUDA_VISIBLE_DEVICES: [0]\n"
     ]
    },
    {
     "name": "stdout",
     "output_type": "stream",
     "text": [
      "Predicting DataLoader 0: 100%|██████████| 45/45 [00:00<00:00, 109.81it/s]\n"
     ]
    },
    {
     "name": "stderr",
     "output_type": "stream",
     "text": [
      "INFO:pytorch_lightning.utilities.rank_zero:Trainer already configured with model summary callbacks: [<class 'pytorch_lightning.callbacks.model_summary.ModelSummary'>]. Skipping setting a default `ModelSummary` callback.\n",
      "INFO:pytorch_lightning.utilities.rank_zero:GPU available: True (cuda), used: True\n",
      "INFO:pytorch_lightning.utilities.rank_zero:TPU available: False, using: 0 TPU cores\n",
      "INFO:pytorch_lightning.utilities.rank_zero:HPU available: False, using: 0 HPUs\n",
      "INFO:pytorch_lightning.accelerators.cuda:LOCAL_RANK: 0 - CUDA_VISIBLE_DEVICES: [0]\n"
     ]
    },
    {
     "name": "stdout",
     "output_type": "stream",
     "text": [
      "Predicting DataLoader 0: 100%|██████████| 45/45 [00:00<00:00, 113.53it/s]\n"
     ]
    },
    {
     "name": "stderr",
     "output_type": "stream",
     "text": [
      "INFO:pytorch_lightning.utilities.rank_zero:Trainer already configured with model summary callbacks: [<class 'pytorch_lightning.callbacks.model_summary.ModelSummary'>]. Skipping setting a default `ModelSummary` callback.\n",
      "INFO:pytorch_lightning.utilities.rank_zero:GPU available: True (cuda), used: True\n",
      "INFO:pytorch_lightning.utilities.rank_zero:TPU available: False, using: 0 TPU cores\n",
      "INFO:pytorch_lightning.utilities.rank_zero:HPU available: False, using: 0 HPUs\n",
      "INFO:pytorch_lightning.accelerators.cuda:LOCAL_RANK: 0 - CUDA_VISIBLE_DEVICES: [0]\n"
     ]
    },
    {
     "name": "stdout",
     "output_type": "stream",
     "text": [
      "Predicting DataLoader 0: 100%|██████████| 45/45 [00:00<00:00, 102.09it/s]\n"
     ]
    },
    {
     "name": "stderr",
     "output_type": "stream",
     "text": [
      "INFO:pytorch_lightning.utilities.rank_zero:Trainer already configured with model summary callbacks: [<class 'pytorch_lightning.callbacks.model_summary.ModelSummary'>]. Skipping setting a default `ModelSummary` callback.\n",
      "INFO:pytorch_lightning.utilities.rank_zero:GPU available: True (cuda), used: True\n",
      "INFO:pytorch_lightning.utilities.rank_zero:TPU available: False, using: 0 TPU cores\n",
      "INFO:pytorch_lightning.utilities.rank_zero:HPU available: False, using: 0 HPUs\n",
      "INFO:pytorch_lightning.accelerators.cuda:LOCAL_RANK: 0 - CUDA_VISIBLE_DEVICES: [0]\n"
     ]
    },
    {
     "name": "stdout",
     "output_type": "stream",
     "text": [
      "Predicting DataLoader 0: 100%|██████████| 45/45 [00:00<00:00, 112.10it/s]\n",
      "sMAPE score: 0.1392\n"
     ]
    }
   ],
   "source": [
    "_t, y_val = train_test_split(y_train, horizon)\n",
    "\n",
    "predictions_vaL = nf.predict(futr_df=y_val, df=_t)\n",
    "\n",
    "nbeats_cols = [col for col in predictions_vaL.columns if \"NBeatsStack\" in col]\n",
    "predictions_vaL[\"prediction_agg\"] = predictions_vaL[nbeats_cols].median(axis=1)\n",
    "\n",
    "smape_score = calculate_smape(y_val, predictions_vaL, \"prediction_agg\")\n",
    "print(f\"sMAPE score: {smape_score:.4f}\")"
   ]
  },
  {
   "cell_type": "code",
   "execution_count": null,
   "id": "96f8ea4c",
   "metadata": {},
   "outputs": [],
   "source": [
    "predictions_vaL.to_csv(\"predictions_m3_nbeats_stack_moe_val_18.csv\", index=False)"
   ]
  },
  {
   "cell_type": "code",
   "execution_count": null,
   "id": "b1d74e5e",
   "metadata": {},
   "outputs": [
    {
     "name": "stdout",
     "output_type": "stream",
     "text": [
      "sMAPE score: 0.1358\n"
     ]
    },
    {
     "data": {
      "text/html": [
       "<div>\n",
       "<style scoped>\n",
       "    .dataframe tbody tr th:only-of-type {\n",
       "        vertical-align: middle;\n",
       "    }\n",
       "\n",
       "    .dataframe tbody tr th {\n",
       "        vertical-align: top;\n",
       "    }\n",
       "\n",
       "    .dataframe thead th {\n",
       "        text-align: right;\n",
       "    }\n",
       "</style>\n",
       "<table border=\"1\" class=\"dataframe\">\n",
       "  <thead>\n",
       "    <tr style=\"text-align: right;\">\n",
       "      <th></th>\n",
       "      <th>unique_id</th>\n",
       "      <th>ds</th>\n",
       "      <th>NBeatsStackMoe</th>\n",
       "      <th>NBeatsStackMoe1</th>\n",
       "      <th>NBeatsStackMoe2</th>\n",
       "      <th>NBeatsStackMoe3</th>\n",
       "      <th>NBeatsStackMoe4</th>\n",
       "      <th>NBeatsStackMoe5</th>\n",
       "      <th>NBeatsStackMoe6</th>\n",
       "      <th>NBeatsStackMoe7</th>\n",
       "      <th>...</th>\n",
       "      <th>NBeatsStackMoe171</th>\n",
       "      <th>NBeatsStackMoe172</th>\n",
       "      <th>NBeatsStackMoe173</th>\n",
       "      <th>NBeatsStackMoe174</th>\n",
       "      <th>NBeatsStackMoe175</th>\n",
       "      <th>NBeatsStackMoe176</th>\n",
       "      <th>NBeatsStackMoe177</th>\n",
       "      <th>NBeatsStackMoe178</th>\n",
       "      <th>NBeatsStackMoe179</th>\n",
       "      <th>prediction_agg</th>\n",
       "    </tr>\n",
       "  </thead>\n",
       "  <tbody>\n",
       "    <tr>\n",
       "      <th>0</th>\n",
       "      <td>M1</td>\n",
       "      <td>1994-03-31</td>\n",
       "      <td>2101.528564</td>\n",
       "      <td>1825.395142</td>\n",
       "      <td>2286.539307</td>\n",
       "      <td>2025.922241</td>\n",
       "      <td>1269.381470</td>\n",
       "      <td>1757.979126</td>\n",
       "      <td>2341.724121</td>\n",
       "      <td>2125.269287</td>\n",
       "      <td>...</td>\n",
       "      <td>1935.692383</td>\n",
       "      <td>1594.380615</td>\n",
       "      <td>2357.999756</td>\n",
       "      <td>2071.433105</td>\n",
       "      <td>1871.214966</td>\n",
       "      <td>2636.430176</td>\n",
       "      <td>2326.763184</td>\n",
       "      <td>1978.666992</td>\n",
       "      <td>998.827271</td>\n",
       "      <td>2025.791992</td>\n",
       "    </tr>\n",
       "    <tr>\n",
       "      <th>1</th>\n",
       "      <td>M1</td>\n",
       "      <td>1994-04-30</td>\n",
       "      <td>2274.670898</td>\n",
       "      <td>2063.103760</td>\n",
       "      <td>2446.326416</td>\n",
       "      <td>2095.622070</td>\n",
       "      <td>1783.833496</td>\n",
       "      <td>2303.599121</td>\n",
       "      <td>2452.346191</td>\n",
       "      <td>2298.683594</td>\n",
       "      <td>...</td>\n",
       "      <td>2353.343506</td>\n",
       "      <td>1893.711182</td>\n",
       "      <td>2757.432617</td>\n",
       "      <td>2261.038818</td>\n",
       "      <td>2333.444092</td>\n",
       "      <td>2837.181641</td>\n",
       "      <td>2541.112305</td>\n",
       "      <td>2212.013428</td>\n",
       "      <td>2036.060425</td>\n",
       "      <td>2301.141357</td>\n",
       "    </tr>\n",
       "    <tr>\n",
       "      <th>2</th>\n",
       "      <td>M1</td>\n",
       "      <td>1994-05-31</td>\n",
       "      <td>2102.538086</td>\n",
       "      <td>2067.278809</td>\n",
       "      <td>2274.228516</td>\n",
       "      <td>1997.196777</td>\n",
       "      <td>1475.619385</td>\n",
       "      <td>2021.120605</td>\n",
       "      <td>1852.051636</td>\n",
       "      <td>1814.972412</td>\n",
       "      <td>...</td>\n",
       "      <td>1749.686157</td>\n",
       "      <td>1758.091919</td>\n",
       "      <td>2587.179199</td>\n",
       "      <td>2060.080811</td>\n",
       "      <td>2016.134888</td>\n",
       "      <td>2297.133789</td>\n",
       "      <td>2342.561035</td>\n",
       "      <td>1893.704346</td>\n",
       "      <td>2098.235596</td>\n",
       "      <td>2060.750977</td>\n",
       "    </tr>\n",
       "    <tr>\n",
       "      <th>3</th>\n",
       "      <td>M1</td>\n",
       "      <td>1994-06-30</td>\n",
       "      <td>2045.495483</td>\n",
       "      <td>2024.559570</td>\n",
       "      <td>2196.927246</td>\n",
       "      <td>1794.354736</td>\n",
       "      <td>1432.061035</td>\n",
       "      <td>1951.099609</td>\n",
       "      <td>1986.947021</td>\n",
       "      <td>2037.842773</td>\n",
       "      <td>...</td>\n",
       "      <td>1894.915283</td>\n",
       "      <td>1687.344849</td>\n",
       "      <td>2723.471191</td>\n",
       "      <td>2191.814697</td>\n",
       "      <td>2287.014160</td>\n",
       "      <td>2339.958984</td>\n",
       "      <td>2183.470703</td>\n",
       "      <td>2094.336670</td>\n",
       "      <td>1941.315186</td>\n",
       "      <td>2043.980225</td>\n",
       "    </tr>\n",
       "    <tr>\n",
       "      <th>4</th>\n",
       "      <td>M1</td>\n",
       "      <td>1994-07-31</td>\n",
       "      <td>1965.618530</td>\n",
       "      <td>1961.222534</td>\n",
       "      <td>2705.034424</td>\n",
       "      <td>2312.720215</td>\n",
       "      <td>1479.777710</td>\n",
       "      <td>2301.998779</td>\n",
       "      <td>1990.230347</td>\n",
       "      <td>2469.373535</td>\n",
       "      <td>...</td>\n",
       "      <td>2211.367676</td>\n",
       "      <td>2178.807129</td>\n",
       "      <td>2737.469971</td>\n",
       "      <td>2295.766602</td>\n",
       "      <td>2257.408936</td>\n",
       "      <td>2075.398926</td>\n",
       "      <td>2650.653320</td>\n",
       "      <td>2222.392822</td>\n",
       "      <td>2305.145264</td>\n",
       "      <td>2251.844238</td>\n",
       "    </tr>\n",
       "    <tr>\n",
       "      <th>...</th>\n",
       "      <td>...</td>\n",
       "      <td>...</td>\n",
       "      <td>...</td>\n",
       "      <td>...</td>\n",
       "      <td>...</td>\n",
       "      <td>...</td>\n",
       "      <td>...</td>\n",
       "      <td>...</td>\n",
       "      <td>...</td>\n",
       "      <td>...</td>\n",
       "      <td>...</td>\n",
       "      <td>...</td>\n",
       "      <td>...</td>\n",
       "      <td>...</td>\n",
       "      <td>...</td>\n",
       "      <td>...</td>\n",
       "      <td>...</td>\n",
       "      <td>...</td>\n",
       "      <td>...</td>\n",
       "      <td>...</td>\n",
       "      <td>...</td>\n",
       "    </tr>\n",
       "    <tr>\n",
       "      <th>25699</th>\n",
       "      <td>M999</td>\n",
       "      <td>1993-10-31</td>\n",
       "      <td>5452.085938</td>\n",
       "      <td>5381.921387</td>\n",
       "      <td>5290.620117</td>\n",
       "      <td>5299.441406</td>\n",
       "      <td>5211.586914</td>\n",
       "      <td>5187.951172</td>\n",
       "      <td>5436.750000</td>\n",
       "      <td>5355.261230</td>\n",
       "      <td>...</td>\n",
       "      <td>5357.542969</td>\n",
       "      <td>5344.971680</td>\n",
       "      <td>5365.932617</td>\n",
       "      <td>5276.649902</td>\n",
       "      <td>5458.384277</td>\n",
       "      <td>5485.014648</td>\n",
       "      <td>5330.835449</td>\n",
       "      <td>5370.976074</td>\n",
       "      <td>5227.456543</td>\n",
       "      <td>5367.019043</td>\n",
       "    </tr>\n",
       "    <tr>\n",
       "      <th>25700</th>\n",
       "      <td>M999</td>\n",
       "      <td>1993-11-30</td>\n",
       "      <td>5462.571777</td>\n",
       "      <td>5387.220703</td>\n",
       "      <td>5325.860352</td>\n",
       "      <td>5286.467773</td>\n",
       "      <td>5189.045898</td>\n",
       "      <td>5181.220703</td>\n",
       "      <td>5470.052734</td>\n",
       "      <td>5369.250488</td>\n",
       "      <td>...</td>\n",
       "      <td>5360.397461</td>\n",
       "      <td>5358.431641</td>\n",
       "      <td>5375.031250</td>\n",
       "      <td>5293.872559</td>\n",
       "      <td>5470.813965</td>\n",
       "      <td>5487.279297</td>\n",
       "      <td>5343.456055</td>\n",
       "      <td>5374.973633</td>\n",
       "      <td>5240.738770</td>\n",
       "      <td>5375.002441</td>\n",
       "    </tr>\n",
       "    <tr>\n",
       "      <th>25701</th>\n",
       "      <td>M999</td>\n",
       "      <td>1993-12-31</td>\n",
       "      <td>5497.972168</td>\n",
       "      <td>5405.514648</td>\n",
       "      <td>5339.976074</td>\n",
       "      <td>5288.808594</td>\n",
       "      <td>5170.925293</td>\n",
       "      <td>5173.499512</td>\n",
       "      <td>5461.801758</td>\n",
       "      <td>5383.061523</td>\n",
       "      <td>...</td>\n",
       "      <td>5365.534180</td>\n",
       "      <td>5358.430176</td>\n",
       "      <td>5390.463867</td>\n",
       "      <td>5283.331055</td>\n",
       "      <td>5478.517578</td>\n",
       "      <td>5492.114746</td>\n",
       "      <td>5353.147461</td>\n",
       "      <td>5398.163086</td>\n",
       "      <td>5279.960449</td>\n",
       "      <td>5386.859375</td>\n",
       "    </tr>\n",
       "    <tr>\n",
       "      <th>25702</th>\n",
       "      <td>M999</td>\n",
       "      <td>1994-01-31</td>\n",
       "      <td>5505.111816</td>\n",
       "      <td>5427.038086</td>\n",
       "      <td>5332.618652</td>\n",
       "      <td>5300.666016</td>\n",
       "      <td>5176.295898</td>\n",
       "      <td>5166.148926</td>\n",
       "      <td>5467.588867</td>\n",
       "      <td>5406.618164</td>\n",
       "      <td>...</td>\n",
       "      <td>5352.950195</td>\n",
       "      <td>5378.796387</td>\n",
       "      <td>5399.471680</td>\n",
       "      <td>5297.230957</td>\n",
       "      <td>5495.530762</td>\n",
       "      <td>5511.156250</td>\n",
       "      <td>5375.994141</td>\n",
       "      <td>5417.699707</td>\n",
       "      <td>5264.270020</td>\n",
       "      <td>5395.060059</td>\n",
       "    </tr>\n",
       "    <tr>\n",
       "      <th>25703</th>\n",
       "      <td>M999</td>\n",
       "      <td>1994-02-28</td>\n",
       "      <td>5528.220703</td>\n",
       "      <td>5437.202148</td>\n",
       "      <td>5359.828613</td>\n",
       "      <td>5308.354980</td>\n",
       "      <td>5155.706055</td>\n",
       "      <td>5155.370117</td>\n",
       "      <td>5493.426758</td>\n",
       "      <td>5413.727051</td>\n",
       "      <td>...</td>\n",
       "      <td>5368.947266</td>\n",
       "      <td>5389.575195</td>\n",
       "      <td>5409.638672</td>\n",
       "      <td>5254.787109</td>\n",
       "      <td>5515.238770</td>\n",
       "      <td>5520.014648</td>\n",
       "      <td>5362.869141</td>\n",
       "      <td>5421.497070</td>\n",
       "      <td>5195.691406</td>\n",
       "      <td>5404.552734</td>\n",
       "    </tr>\n",
       "  </tbody>\n",
       "</table>\n",
       "<p>25704 rows × 183 columns</p>\n",
       "</div>"
      ],
      "text/plain": [
       "      unique_id         ds  NBeatsStackMoe  NBeatsStackMoe1  NBeatsStackMoe2  \\\n",
       "0            M1 1994-03-31     2101.528564      1825.395142      2286.539307   \n",
       "1            M1 1994-04-30     2274.670898      2063.103760      2446.326416   \n",
       "2            M1 1994-05-31     2102.538086      2067.278809      2274.228516   \n",
       "3            M1 1994-06-30     2045.495483      2024.559570      2196.927246   \n",
       "4            M1 1994-07-31     1965.618530      1961.222534      2705.034424   \n",
       "...         ...        ...             ...              ...              ...   \n",
       "25699      M999 1993-10-31     5452.085938      5381.921387      5290.620117   \n",
       "25700      M999 1993-11-30     5462.571777      5387.220703      5325.860352   \n",
       "25701      M999 1993-12-31     5497.972168      5405.514648      5339.976074   \n",
       "25702      M999 1994-01-31     5505.111816      5427.038086      5332.618652   \n",
       "25703      M999 1994-02-28     5528.220703      5437.202148      5359.828613   \n",
       "\n",
       "       NBeatsStackMoe3  NBeatsStackMoe4  NBeatsStackMoe5  NBeatsStackMoe6  \\\n",
       "0          2025.922241      1269.381470      1757.979126      2341.724121   \n",
       "1          2095.622070      1783.833496      2303.599121      2452.346191   \n",
       "2          1997.196777      1475.619385      2021.120605      1852.051636   \n",
       "3          1794.354736      1432.061035      1951.099609      1986.947021   \n",
       "4          2312.720215      1479.777710      2301.998779      1990.230347   \n",
       "...                ...              ...              ...              ...   \n",
       "25699      5299.441406      5211.586914      5187.951172      5436.750000   \n",
       "25700      5286.467773      5189.045898      5181.220703      5470.052734   \n",
       "25701      5288.808594      5170.925293      5173.499512      5461.801758   \n",
       "25702      5300.666016      5176.295898      5166.148926      5467.588867   \n",
       "25703      5308.354980      5155.706055      5155.370117      5493.426758   \n",
       "\n",
       "       NBeatsStackMoe7  ...  NBeatsStackMoe171  NBeatsStackMoe172  \\\n",
       "0          2125.269287  ...        1935.692383        1594.380615   \n",
       "1          2298.683594  ...        2353.343506        1893.711182   \n",
       "2          1814.972412  ...        1749.686157        1758.091919   \n",
       "3          2037.842773  ...        1894.915283        1687.344849   \n",
       "4          2469.373535  ...        2211.367676        2178.807129   \n",
       "...                ...  ...                ...                ...   \n",
       "25699      5355.261230  ...        5357.542969        5344.971680   \n",
       "25700      5369.250488  ...        5360.397461        5358.431641   \n",
       "25701      5383.061523  ...        5365.534180        5358.430176   \n",
       "25702      5406.618164  ...        5352.950195        5378.796387   \n",
       "25703      5413.727051  ...        5368.947266        5389.575195   \n",
       "\n",
       "       NBeatsStackMoe173  NBeatsStackMoe174  NBeatsStackMoe175  \\\n",
       "0            2357.999756        2071.433105        1871.214966   \n",
       "1            2757.432617        2261.038818        2333.444092   \n",
       "2            2587.179199        2060.080811        2016.134888   \n",
       "3            2723.471191        2191.814697        2287.014160   \n",
       "4            2737.469971        2295.766602        2257.408936   \n",
       "...                  ...                ...                ...   \n",
       "25699        5365.932617        5276.649902        5458.384277   \n",
       "25700        5375.031250        5293.872559        5470.813965   \n",
       "25701        5390.463867        5283.331055        5478.517578   \n",
       "25702        5399.471680        5297.230957        5495.530762   \n",
       "25703        5409.638672        5254.787109        5515.238770   \n",
       "\n",
       "       NBeatsStackMoe176  NBeatsStackMoe177  NBeatsStackMoe178  \\\n",
       "0            2636.430176        2326.763184        1978.666992   \n",
       "1            2837.181641        2541.112305        2212.013428   \n",
       "2            2297.133789        2342.561035        1893.704346   \n",
       "3            2339.958984        2183.470703        2094.336670   \n",
       "4            2075.398926        2650.653320        2222.392822   \n",
       "...                  ...                ...                ...   \n",
       "25699        5485.014648        5330.835449        5370.976074   \n",
       "25700        5487.279297        5343.456055        5374.973633   \n",
       "25701        5492.114746        5353.147461        5398.163086   \n",
       "25702        5511.156250        5375.994141        5417.699707   \n",
       "25703        5520.014648        5362.869141        5421.497070   \n",
       "\n",
       "       NBeatsStackMoe179  prediction_agg  \n",
       "0             998.827271     2025.791992  \n",
       "1            2036.060425     2301.141357  \n",
       "2            2098.235596     2060.750977  \n",
       "3            1941.315186     2043.980225  \n",
       "4            2305.145264     2251.844238  \n",
       "...                  ...             ...  \n",
       "25699        5227.456543     5367.019043  \n",
       "25700        5240.738770     5375.002441  \n",
       "25701        5279.960449     5386.859375  \n",
       "25702        5264.270020     5395.060059  \n",
       "25703        5195.691406     5404.552734  \n",
       "\n",
       "[25704 rows x 183 columns]"
      ]
     },
     "execution_count": 8,
     "metadata": {},
     "output_type": "execute_result"
    }
   ],
   "source": [
    "print(f\"sMAPE score: {smape_score:.4f}\")"
   ]
  },
  {
   "cell_type": "code",
   "execution_count": null,
   "id": "b93b31da",
   "metadata": {},
   "outputs": [
    {
     "name": "stderr",
     "output_type": "stream",
     "text": [
      "INFO:lightning_fabric.utilities.seed:Seed set to 5288\n",
      "INFO:lightning_fabric.utilities.seed:Seed set to 5124\n",
      "INFO:lightning_fabric.utilities.seed:Seed set to 7101\n",
      "INFO:lightning_fabric.utilities.seed:Seed set to 9229\n",
      "INFO:lightning_fabric.utilities.seed:Seed set to 7657\n",
      "INFO:lightning_fabric.utilities.seed:Seed set to 5585\n",
      "INFO:lightning_fabric.utilities.seed:Seed set to 9802\n",
      "INFO:lightning_fabric.utilities.seed:Seed set to 276\n",
      "INFO:lightning_fabric.utilities.seed:Seed set to 3248\n",
      "INFO:lightning_fabric.utilities.seed:Seed set to 1640\n",
      "INFO:lightning_fabric.utilities.seed:Seed set to 8224\n",
      "INFO:lightning_fabric.utilities.seed:Seed set to 8464\n",
      "INFO:lightning_fabric.utilities.seed:Seed set to 6697\n",
      "INFO:lightning_fabric.utilities.seed:Seed set to 9621\n",
      "INFO:lightning_fabric.utilities.seed:Seed set to 8617\n",
      "INFO:lightning_fabric.utilities.seed:Seed set to 6553\n",
      "INFO:lightning_fabric.utilities.seed:Seed set to 2728\n",
      "INFO:lightning_fabric.utilities.seed:Seed set to 5138\n",
      "INFO:pytorch_lightning.utilities.rank_zero:GPU available: True (cuda), used: True\n",
      "INFO:pytorch_lightning.utilities.rank_zero:TPU available: False, using: 0 TPU cores\n",
      "INFO:pytorch_lightning.utilities.rank_zero:HPU available: False, using: 0 HPUs\n",
      "INFO:pytorch_lightning.accelerators.cuda:LOCAL_RANK: 0 - CUDA_VISIBLE_DEVICES: [0]\n",
      "INFO:pytorch_lightning.callbacks.model_summary:\n",
      "  | Name         | Type          | Params | Mode \n",
      "-------------------------------------------------------\n",
      "0 | loss         | MAPE          | 0      | train\n",
      "1 | padder_train | ConstantPad1d | 0      | train\n",
      "2 | scaler       | TemporalNorm  | 0      | train\n",
      "3 | blocks       | ModuleList    | 201 K  | train\n",
      "-------------------------------------------------------\n",
      "197 K     Trainable params\n",
      "3.3 K     Non-trainable params\n",
      "201 K     Total params\n",
      "0.805     Total estimated model params size (MB)\n",
      "31        Modules in train mode\n",
      "0         Modules in eval mode\n"
     ]
    },
    {
     "name": "stdout",
     "output_type": "stream",
     "text": [
      "Epoch 208:  33%|███▎      | 4/12 [00:00<00:01,  5.14it/s, v_num=569, train_loss_step=0.138, train_loss_epoch=0.123, valid_loss=0.158]  "
     ]
    },
    {
     "name": "stderr",
     "output_type": "stream",
     "text": [
      "INFO:pytorch_lightning.utilities.rank_zero:`Trainer.fit` stopped: `max_steps=2500` reached.\n"
     ]
    },
    {
     "name": "stdout",
     "output_type": "stream",
     "text": [
      "Epoch 208:  33%|███▎      | 4/12 [00:00<00:01,  5.11it/s, v_num=569, train_loss_step=0.138, train_loss_epoch=0.123, valid_loss=0.158]\n"
     ]
    },
    {
     "name": "stderr",
     "output_type": "stream",
     "text": [
      "INFO:pytorch_lightning.utilities.rank_zero:GPU available: True (cuda), used: True\n",
      "INFO:pytorch_lightning.utilities.rank_zero:TPU available: False, using: 0 TPU cores\n",
      "INFO:pytorch_lightning.utilities.rank_zero:HPU available: False, using: 0 HPUs\n",
      "INFO:pytorch_lightning.accelerators.cuda:LOCAL_RANK: 0 - CUDA_VISIBLE_DEVICES: [0]\n",
      "INFO:pytorch_lightning.callbacks.model_summary:\n",
      "  | Name         | Type          | Params | Mode \n",
      "-------------------------------------------------------\n",
      "0 | loss         | MAPE          | 0      | train\n",
      "1 | padder_train | ConstantPad1d | 0      | train\n",
      "2 | scaler       | TemporalNorm  | 0      | train\n",
      "3 | blocks       | ModuleList    | 211 K  | train\n",
      "-------------------------------------------------------\n",
      "207 K     Trainable params\n",
      "4.0 K     Non-trainable params\n",
      "211 K     Total params\n",
      "0.844     Total estimated model params size (MB)\n",
      "31        Modules in train mode\n",
      "0         Modules in eval mode\n"
     ]
    },
    {
     "name": "stdout",
     "output_type": "stream",
     "text": [
      "Epoch 208:  33%|███▎      | 4/12 [00:00<00:01,  5.57it/s, v_num=570, train_loss_step=0.126, train_loss_epoch=0.125, valid_loss=0.162]  "
     ]
    },
    {
     "name": "stderr",
     "output_type": "stream",
     "text": [
      "INFO:pytorch_lightning.utilities.rank_zero:`Trainer.fit` stopped: `max_steps=2500` reached.\n"
     ]
    },
    {
     "name": "stdout",
     "output_type": "stream",
     "text": [
      "Epoch 208:  33%|███▎      | 4/12 [00:00<00:01,  5.56it/s, v_num=570, train_loss_step=0.126, train_loss_epoch=0.125, valid_loss=0.162]\n"
     ]
    },
    {
     "name": "stderr",
     "output_type": "stream",
     "text": [
      "INFO:pytorch_lightning.utilities.rank_zero:GPU available: True (cuda), used: True\n",
      "INFO:pytorch_lightning.utilities.rank_zero:TPU available: False, using: 0 TPU cores\n",
      "INFO:pytorch_lightning.utilities.rank_zero:HPU available: False, using: 0 HPUs\n",
      "INFO:pytorch_lightning.accelerators.cuda:LOCAL_RANK: 0 - CUDA_VISIBLE_DEVICES: [0]\n",
      "INFO:pytorch_lightning.callbacks.model_summary:\n",
      "  | Name         | Type          | Params | Mode \n",
      "-------------------------------------------------------\n",
      "0 | loss         | SMAPE         | 0      | train\n",
      "1 | padder_train | ConstantPad1d | 0      | train\n",
      "2 | scaler       | TemporalNorm  | 0      | train\n",
      "3 | blocks       | ModuleList    | 191 K  | train\n",
      "-------------------------------------------------------\n",
      "188 K     Trainable params\n",
      "2.7 K     Non-trainable params\n",
      "191 K     Total params\n",
      "0.765     Total estimated model params size (MB)\n",
      "31        Modules in train mode\n",
      "0         Modules in eval mode\n"
     ]
    },
    {
     "name": "stdout",
     "output_type": "stream",
     "text": [
      "Epoch 208:  33%|███▎      | 4/12 [00:00<00:01,  5.42it/s, v_num=571, train_loss_step=0.128, train_loss_epoch=0.120, valid_loss=0.146]  "
     ]
    },
    {
     "name": "stderr",
     "output_type": "stream",
     "text": [
      "INFO:pytorch_lightning.utilities.rank_zero:`Trainer.fit` stopped: `max_steps=2500` reached.\n"
     ]
    },
    {
     "name": "stdout",
     "output_type": "stream",
     "text": [
      "Epoch 208:  33%|███▎      | 4/12 [00:00<00:01,  5.41it/s, v_num=571, train_loss_step=0.128, train_loss_epoch=0.120, valid_loss=0.146]\n"
     ]
    },
    {
     "name": "stderr",
     "output_type": "stream",
     "text": [
      "INFO:pytorch_lightning.utilities.rank_zero:GPU available: True (cuda), used: True\n",
      "INFO:pytorch_lightning.utilities.rank_zero:TPU available: False, using: 0 TPU cores\n",
      "INFO:pytorch_lightning.utilities.rank_zero:HPU available: False, using: 0 HPUs\n",
      "INFO:pytorch_lightning.accelerators.cuda:LOCAL_RANK: 0 - CUDA_VISIBLE_DEVICES: [0]\n",
      "INFO:pytorch_lightning.callbacks.model_summary:\n",
      "  | Name         | Type          | Params | Mode \n",
      "-------------------------------------------------------\n",
      "0 | loss         | HuberLoss     | 0      | train\n",
      "1 | padder_train | ConstantPad1d | 0      | train\n",
      "2 | scaler       | TemporalNorm  | 0      | train\n",
      "3 | blocks       | ModuleList    | 176 K  | train\n",
      "-------------------------------------------------------\n",
      "174 K     Trainable params\n",
      "1.7 K     Non-trainable params\n",
      "176 K     Total params\n",
      "0.706     Total estimated model params size (MB)\n",
      "31        Modules in train mode\n",
      "0         Modules in eval mode\n"
     ]
    },
    {
     "name": "stdout",
     "output_type": "stream",
     "text": [
      "Epoch 208:  33%|███▎      | 4/12 [00:00<00:01,  5.86it/s, v_num=572, train_loss_step=461.0, train_loss_epoch=531.0, valid_loss=654.0]   "
     ]
    },
    {
     "name": "stderr",
     "output_type": "stream",
     "text": [
      "INFO:pytorch_lightning.utilities.rank_zero:`Trainer.fit` stopped: `max_steps=2500` reached.\n"
     ]
    },
    {
     "name": "stdout",
     "output_type": "stream",
     "text": [
      "Epoch 208:  33%|███▎      | 4/12 [00:00<00:01,  5.84it/s, v_num=572, train_loss_step=461.0, train_loss_epoch=531.0, valid_loss=654.0]\n"
     ]
    },
    {
     "name": "stderr",
     "output_type": "stream",
     "text": [
      "INFO:pytorch_lightning.utilities.rank_zero:GPU available: True (cuda), used: True\n",
      "INFO:pytorch_lightning.utilities.rank_zero:TPU available: False, using: 0 TPU cores\n",
      "INFO:pytorch_lightning.utilities.rank_zero:HPU available: False, using: 0 HPUs\n",
      "INFO:pytorch_lightning.accelerators.cuda:LOCAL_RANK: 0 - CUDA_VISIBLE_DEVICES: [0]\n",
      "INFO:pytorch_lightning.callbacks.model_summary:\n",
      "  | Name         | Type          | Params | Mode \n",
      "-------------------------------------------------------\n",
      "0 | loss         | HuberLoss     | 0      | train\n",
      "1 | padder_train | ConstantPad1d | 0      | train\n",
      "2 | scaler       | TemporalNorm  | 0      | train\n",
      "3 | blocks       | ModuleList    | 181 K  | train\n",
      "-------------------------------------------------------\n",
      "179 K     Trainable params\n",
      "2.0 K     Non-trainable params\n",
      "181 K     Total params\n",
      "0.725     Total estimated model params size (MB)\n",
      "31        Modules in train mode\n",
      "0         Modules in eval mode\n"
     ]
    },
    {
     "name": "stdout",
     "output_type": "stream",
     "text": [
      "Epoch 208:  33%|███▎      | 4/12 [00:00<00:01,  5.97it/s, v_num=573, train_loss_step=527.0, train_loss_epoch=509.0, valid_loss=658.0]   "
     ]
    },
    {
     "name": "stderr",
     "output_type": "stream",
     "text": [
      "INFO:pytorch_lightning.utilities.rank_zero:`Trainer.fit` stopped: `max_steps=2500` reached.\n"
     ]
    },
    {
     "name": "stdout",
     "output_type": "stream",
     "text": [
      "Epoch 208:  33%|███▎      | 4/12 [00:00<00:01,  5.94it/s, v_num=573, train_loss_step=527.0, train_loss_epoch=509.0, valid_loss=658.0]\n"
     ]
    },
    {
     "name": "stderr",
     "output_type": "stream",
     "text": [
      "INFO:pytorch_lightning.utilities.rank_zero:GPU available: True (cuda), used: True\n",
      "INFO:pytorch_lightning.utilities.rank_zero:TPU available: False, using: 0 TPU cores\n",
      "INFO:pytorch_lightning.utilities.rank_zero:HPU available: False, using: 0 HPUs\n",
      "INFO:pytorch_lightning.accelerators.cuda:LOCAL_RANK: 0 - CUDA_VISIBLE_DEVICES: [0]\n",
      "INFO:pytorch_lightning.callbacks.model_summary:\n",
      "  | Name         | Type          | Params | Mode \n",
      "-------------------------------------------------------\n",
      "0 | loss         | SMAPE         | 0      | train\n",
      "1 | padder_train | ConstantPad1d | 0      | train\n",
      "2 | scaler       | TemporalNorm  | 0      | train\n",
      "3 | blocks       | ModuleList    | 201 K  | train\n",
      "-------------------------------------------------------\n",
      "197 K     Trainable params\n",
      "3.3 K     Non-trainable params\n",
      "201 K     Total params\n",
      "0.805     Total estimated model params size (MB)\n",
      "31        Modules in train mode\n",
      "0         Modules in eval mode\n"
     ]
    },
    {
     "name": "stdout",
     "output_type": "stream",
     "text": [
      "Epoch 208:  33%|███▎      | 4/12 [00:00<00:01,  5.95it/s, v_num=574, train_loss_step=0.129, train_loss_epoch=0.121, valid_loss=0.145]  "
     ]
    },
    {
     "name": "stderr",
     "output_type": "stream",
     "text": [
      "INFO:pytorch_lightning.utilities.rank_zero:`Trainer.fit` stopped: `max_steps=2500` reached.\n"
     ]
    },
    {
     "name": "stdout",
     "output_type": "stream",
     "text": [
      "Epoch 208:  33%|███▎      | 4/12 [00:00<00:01,  5.91it/s, v_num=574, train_loss_step=0.129, train_loss_epoch=0.121, valid_loss=0.145]\n"
     ]
    },
    {
     "name": "stderr",
     "output_type": "stream",
     "text": [
      "INFO:pytorch_lightning.utilities.rank_zero:GPU available: True (cuda), used: True\n",
      "INFO:pytorch_lightning.utilities.rank_zero:TPU available: False, using: 0 TPU cores\n",
      "INFO:pytorch_lightning.utilities.rank_zero:HPU available: False, using: 0 HPUs\n",
      "INFO:pytorch_lightning.accelerators.cuda:LOCAL_RANK: 0 - CUDA_VISIBLE_DEVICES: [0]\n",
      "INFO:pytorch_lightning.callbacks.model_summary:\n",
      "  | Name         | Type          | Params | Mode \n",
      "-------------------------------------------------------\n",
      "0 | loss         | SMAPE         | 0      | train\n",
      "1 | padder_train | ConstantPad1d | 0      | train\n",
      "2 | scaler       | TemporalNorm  | 0      | train\n",
      "3 | blocks       | ModuleList    | 191 K  | train\n",
      "-------------------------------------------------------\n",
      "188 K     Trainable params\n",
      "2.7 K     Non-trainable params\n",
      "191 K     Total params\n",
      "0.765     Total estimated model params size (MB)\n",
      "31        Modules in train mode\n",
      "0         Modules in eval mode\n"
     ]
    },
    {
     "name": "stdout",
     "output_type": "stream",
     "text": [
      "Epoch 208:  33%|███▎      | 4/12 [00:00<00:01,  5.90it/s, v_num=575, train_loss_step=0.112, train_loss_epoch=0.112, valid_loss=0.144]  "
     ]
    },
    {
     "name": "stderr",
     "output_type": "stream",
     "text": [
      "INFO:pytorch_lightning.utilities.rank_zero:`Trainer.fit` stopped: `max_steps=2500` reached.\n"
     ]
    },
    {
     "name": "stdout",
     "output_type": "stream",
     "text": [
      "Epoch 208:  33%|███▎      | 4/12 [00:00<00:01,  5.85it/s, v_num=575, train_loss_step=0.112, train_loss_epoch=0.112, valid_loss=0.144]\n"
     ]
    },
    {
     "name": "stderr",
     "output_type": "stream",
     "text": [
      "INFO:pytorch_lightning.utilities.rank_zero:GPU available: True (cuda), used: True\n",
      "INFO:pytorch_lightning.utilities.rank_zero:TPU available: False, using: 0 TPU cores\n",
      "INFO:pytorch_lightning.utilities.rank_zero:HPU available: False, using: 0 HPUs\n",
      "INFO:pytorch_lightning.accelerators.cuda:LOCAL_RANK: 0 - CUDA_VISIBLE_DEVICES: [0]\n",
      "INFO:pytorch_lightning.callbacks.model_summary:\n",
      "  | Name         | Type          | Params | Mode \n",
      "-------------------------------------------------------\n",
      "0 | loss         | SMAPE         | 0      | train\n",
      "1 | padder_train | ConstantPad1d | 0      | train\n",
      "2 | scaler       | TemporalNorm  | 0      | train\n",
      "3 | blocks       | ModuleList    | 176 K  | train\n",
      "-------------------------------------------------------\n",
      "174 K     Trainable params\n",
      "1.7 K     Non-trainable params\n",
      "176 K     Total params\n",
      "0.706     Total estimated model params size (MB)\n",
      "31        Modules in train mode\n",
      "0         Modules in eval mode\n"
     ]
    },
    {
     "name": "stdout",
     "output_type": "stream",
     "text": [
      "Epoch 208:  33%|███▎      | 4/12 [00:00<00:01,  7.17it/s, v_num=576, train_loss_step=0.106, train_loss_epoch=0.111, valid_loss=0.146]  "
     ]
    },
    {
     "name": "stderr",
     "output_type": "stream",
     "text": [
      "INFO:pytorch_lightning.utilities.rank_zero:`Trainer.fit` stopped: `max_steps=2500` reached.\n"
     ]
    },
    {
     "name": "stdout",
     "output_type": "stream",
     "text": [
      "Epoch 208:  33%|███▎      | 4/12 [00:00<00:01,  7.13it/s, v_num=576, train_loss_step=0.106, train_loss_epoch=0.111, valid_loss=0.146]\n"
     ]
    },
    {
     "name": "stderr",
     "output_type": "stream",
     "text": [
      "INFO:pytorch_lightning.utilities.rank_zero:GPU available: True (cuda), used: True\n",
      "INFO:pytorch_lightning.utilities.rank_zero:TPU available: False, using: 0 TPU cores\n",
      "INFO:pytorch_lightning.utilities.rank_zero:HPU available: False, using: 0 HPUs\n",
      "INFO:pytorch_lightning.accelerators.cuda:LOCAL_RANK: 0 - CUDA_VISIBLE_DEVICES: [0]\n",
      "INFO:pytorch_lightning.callbacks.model_summary:\n",
      "  | Name         | Type          | Params | Mode \n",
      "-------------------------------------------------------\n",
      "0 | loss         | HuberLoss     | 0      | train\n",
      "1 | padder_train | ConstantPad1d | 0      | train\n",
      "2 | scaler       | TemporalNorm  | 0      | train\n",
      "3 | blocks       | ModuleList    | 176 K  | train\n",
      "-------------------------------------------------------\n",
      "174 K     Trainable params\n",
      "1.7 K     Non-trainable params\n",
      "176 K     Total params\n",
      "0.706     Total estimated model params size (MB)\n",
      "31        Modules in train mode\n",
      "0         Modules in eval mode\n"
     ]
    },
    {
     "name": "stdout",
     "output_type": "stream",
     "text": [
      "Epoch 4:  17%|█▋        | 2/12 [2:18:22<11:31:52,  0.00it/s, v_num=532, train_loss_step=637.0, train_loss_epoch=665.0]alid_loss=660.0] \n",
      "Epoch 208:  33%|███▎      | 4/12 [00:00<00:01,  5.87it/s, v_num=577, train_loss_step=456.0, train_loss_epoch=487.0, valid_loss=660.0] "
     ]
    },
    {
     "name": "stderr",
     "output_type": "stream",
     "text": [
      "INFO:pytorch_lightning.utilities.rank_zero:`Trainer.fit` stopped: `max_steps=2500` reached.\n"
     ]
    },
    {
     "name": "stdout",
     "output_type": "stream",
     "text": [
      "Epoch 208:  33%|███▎      | 4/12 [00:00<00:01,  5.83it/s, v_num=577, train_loss_step=456.0, train_loss_epoch=487.0, valid_loss=660.0]"
     ]
    },
    {
     "name": "stderr",
     "output_type": "stream",
     "text": [
      "INFO:pytorch_lightning.utilities.rank_zero:GPU available: True (cuda), used: True\n"
     ]
    },
    {
     "name": "stdout",
     "output_type": "stream",
     "text": [
      "\n"
     ]
    },
    {
     "name": "stderr",
     "output_type": "stream",
     "text": [
      "INFO:pytorch_lightning.utilities.rank_zero:TPU available: False, using: 0 TPU cores\n",
      "INFO:pytorch_lightning.utilities.rank_zero:HPU available: False, using: 0 HPUs\n",
      "INFO:pytorch_lightning.accelerators.cuda:LOCAL_RANK: 0 - CUDA_VISIBLE_DEVICES: [0]\n",
      "INFO:pytorch_lightning.callbacks.model_summary:\n",
      "  | Name         | Type          | Params | Mode \n",
      "-------------------------------------------------------\n",
      "0 | loss         | HuberLoss     | 0      | train\n",
      "1 | padder_train | ConstantPad1d | 0      | train\n",
      "2 | scaler       | TemporalNorm  | 0      | train\n",
      "3 | blocks       | ModuleList    | 201 K  | train\n",
      "-------------------------------------------------------\n",
      "197 K     Trainable params\n",
      "3.3 K     Non-trainable params\n",
      "201 K     Total params\n",
      "0.805     Total estimated model params size (MB)\n",
      "31        Modules in train mode\n",
      "0         Modules in eval mode\n"
     ]
    },
    {
     "name": "stdout",
     "output_type": "stream",
     "text": [
      "Epoch 208:  33%|███▎      | 4/12 [00:00<00:01,  5.87it/s, v_num=578, train_loss_step=535.0, train_loss_epoch=490.0, valid_loss=646.0]  "
     ]
    },
    {
     "name": "stderr",
     "output_type": "stream",
     "text": [
      "INFO:pytorch_lightning.utilities.rank_zero:`Trainer.fit` stopped: `max_steps=2500` reached.\n"
     ]
    },
    {
     "name": "stdout",
     "output_type": "stream",
     "text": [
      "Epoch 208:  33%|███▎      | 4/12 [00:00<00:01,  5.83it/s, v_num=578, train_loss_step=535.0, train_loss_epoch=490.0, valid_loss=646.0]\n"
     ]
    },
    {
     "name": "stderr",
     "output_type": "stream",
     "text": [
      "INFO:pytorch_lightning.utilities.rank_zero:GPU available: True (cuda), used: True\n",
      "INFO:pytorch_lightning.utilities.rank_zero:TPU available: False, using: 0 TPU cores\n",
      "INFO:pytorch_lightning.utilities.rank_zero:HPU available: False, using: 0 HPUs\n",
      "INFO:pytorch_lightning.accelerators.cuda:LOCAL_RANK: 0 - CUDA_VISIBLE_DEVICES: [0]\n",
      "INFO:pytorch_lightning.callbacks.model_summary:\n",
      "  | Name         | Type          | Params | Mode \n",
      "-------------------------------------------------------\n",
      "0 | loss         | MAPE          | 0      | train\n",
      "1 | padder_train | ConstantPad1d | 0      | train\n",
      "2 | scaler       | TemporalNorm  | 0      | train\n",
      "3 | blocks       | ModuleList    | 186 K  | train\n",
      "-------------------------------------------------------\n",
      "183 K     Trainable params\n",
      "2.3 K     Non-trainable params\n",
      "186 K     Total params\n",
      "0.745     Total estimated model params size (MB)\n",
      "31        Modules in train mode\n",
      "0         Modules in eval mode\n"
     ]
    },
    {
     "name": "stdout",
     "output_type": "stream",
     "text": [
      "Epoch 208:  33%|███▎      | 4/12 [00:00<00:01,  5.35it/s, v_num=579, train_loss_step=0.128, train_loss_epoch=0.126, valid_loss=0.157]  "
     ]
    },
    {
     "name": "stderr",
     "output_type": "stream",
     "text": [
      "INFO:pytorch_lightning.utilities.rank_zero:`Trainer.fit` stopped: `max_steps=2500` reached.\n"
     ]
    },
    {
     "name": "stdout",
     "output_type": "stream",
     "text": [
      "Epoch 208:  33%|███▎      | 4/12 [00:00<00:01,  5.33it/s, v_num=579, train_loss_step=0.128, train_loss_epoch=0.126, valid_loss=0.157]\n"
     ]
    },
    {
     "name": "stderr",
     "output_type": "stream",
     "text": [
      "INFO:pytorch_lightning.utilities.rank_zero:GPU available: True (cuda), used: True\n",
      "INFO:pytorch_lightning.utilities.rank_zero:TPU available: False, using: 0 TPU cores\n",
      "INFO:pytorch_lightning.utilities.rank_zero:HPU available: False, using: 0 HPUs\n",
      "INFO:pytorch_lightning.accelerators.cuda:LOCAL_RANK: 0 - CUDA_VISIBLE_DEVICES: [0]\n",
      "INFO:pytorch_lightning.callbacks.model_summary:\n",
      "  | Name         | Type          | Params | Mode \n",
      "-------------------------------------------------------\n",
      "0 | loss         | HuberLoss     | 0      | train\n",
      "1 | padder_train | ConstantPad1d | 0      | train\n",
      "2 | scaler       | TemporalNorm  | 0      | train\n",
      "3 | blocks       | ModuleList    | 176 K  | train\n",
      "-------------------------------------------------------\n",
      "174 K     Trainable params\n",
      "1.7 K     Non-trainable params\n",
      "176 K     Total params\n",
      "0.706     Total estimated model params size (MB)\n",
      "31        Modules in train mode\n",
      "0         Modules in eval mode\n"
     ]
    },
    {
     "name": "stdout",
     "output_type": "stream",
     "text": [
      "Epoch 208:  33%|███▎      | 4/12 [00:00<00:01,  5.40it/s, v_num=580, train_loss_step=461.0, train_loss_epoch=544.0, valid_loss=656.0]  "
     ]
    },
    {
     "name": "stderr",
     "output_type": "stream",
     "text": [
      "INFO:pytorch_lightning.utilities.rank_zero:`Trainer.fit` stopped: `max_steps=2500` reached.\n"
     ]
    },
    {
     "name": "stdout",
     "output_type": "stream",
     "text": [
      "Epoch 208:  33%|███▎      | 4/12 [00:00<00:01,  5.38it/s, v_num=580, train_loss_step=461.0, train_loss_epoch=544.0, valid_loss=656.0]\n"
     ]
    },
    {
     "name": "stderr",
     "output_type": "stream",
     "text": [
      "INFO:pytorch_lightning.utilities.rank_zero:GPU available: True (cuda), used: True\n",
      "INFO:pytorch_lightning.utilities.rank_zero:TPU available: False, using: 0 TPU cores\n",
      "INFO:pytorch_lightning.utilities.rank_zero:HPU available: False, using: 0 HPUs\n",
      "INFO:pytorch_lightning.accelerators.cuda:LOCAL_RANK: 0 - CUDA_VISIBLE_DEVICES: [0]\n",
      "INFO:pytorch_lightning.callbacks.model_summary:\n",
      "  | Name         | Type          | Params | Mode \n",
      "-------------------------------------------------------\n",
      "0 | loss         | HuberLoss     | 0      | train\n",
      "1 | padder_train | ConstantPad1d | 0      | train\n",
      "2 | scaler       | TemporalNorm  | 0      | train\n",
      "3 | blocks       | ModuleList    | 186 K  | train\n",
      "-------------------------------------------------------\n",
      "183 K     Trainable params\n",
      "2.3 K     Non-trainable params\n",
      "186 K     Total params\n",
      "0.745     Total estimated model params size (MB)\n",
      "31        Modules in train mode\n",
      "0         Modules in eval mode\n"
     ]
    },
    {
     "name": "stdout",
     "output_type": "stream",
     "text": [
      "Epoch 208:  33%|███▎      | 4/12 [00:00<00:01,  6.02it/s, v_num=581, train_loss_step=532.0, train_loss_epoch=506.0, valid_loss=658.0]  "
     ]
    },
    {
     "name": "stderr",
     "output_type": "stream",
     "text": [
      "INFO:pytorch_lightning.utilities.rank_zero:`Trainer.fit` stopped: `max_steps=2500` reached.\n"
     ]
    },
    {
     "name": "stdout",
     "output_type": "stream",
     "text": [
      "Epoch 208:  33%|███▎      | 4/12 [00:00<00:01,  6.01it/s, v_num=581, train_loss_step=532.0, train_loss_epoch=506.0, valid_loss=658.0]\n"
     ]
    },
    {
     "name": "stderr",
     "output_type": "stream",
     "text": [
      "INFO:pytorch_lightning.utilities.rank_zero:GPU available: True (cuda), used: True\n",
      "INFO:pytorch_lightning.utilities.rank_zero:TPU available: False, using: 0 TPU cores\n",
      "INFO:pytorch_lightning.utilities.rank_zero:HPU available: False, using: 0 HPUs\n",
      "INFO:pytorch_lightning.accelerators.cuda:LOCAL_RANK: 0 - CUDA_VISIBLE_DEVICES: [0]\n",
      "INFO:pytorch_lightning.callbacks.model_summary:\n",
      "  | Name         | Type          | Params | Mode \n",
      "-------------------------------------------------------\n",
      "0 | loss         | SMAPE         | 0      | train\n",
      "1 | padder_train | ConstantPad1d | 0      | train\n",
      "2 | scaler       | TemporalNorm  | 0      | train\n",
      "3 | blocks       | ModuleList    | 191 K  | train\n",
      "-------------------------------------------------------\n",
      "188 K     Trainable params\n",
      "2.7 K     Non-trainable params\n",
      "191 K     Total params\n",
      "0.765     Total estimated model params size (MB)\n",
      "31        Modules in train mode\n",
      "0         Modules in eval mode\n"
     ]
    },
    {
     "name": "stdout",
     "output_type": "stream",
     "text": [
      "Epoch 199: 100%|██████████| 12/12 [00:01<00:00,  9.15it/s, v_num=582, train_loss_step=0.112, train_loss_epoch=0.118, valid_loss=0.146] \n"
     ]
    },
    {
     "name": "stderr",
     "output_type": "stream",
     "text": [
      "INFO:pytorch_lightning.utilities.rank_zero:GPU available: True (cuda), used: True\n",
      "INFO:pytorch_lightning.utilities.rank_zero:TPU available: False, using: 0 TPU cores\n",
      "INFO:pytorch_lightning.utilities.rank_zero:HPU available: False, using: 0 HPUs\n",
      "INFO:pytorch_lightning.accelerators.cuda:LOCAL_RANK: 0 - CUDA_VISIBLE_DEVICES: [0]\n",
      "INFO:pytorch_lightning.callbacks.model_summary:\n",
      "  | Name         | Type          | Params | Mode \n",
      "-------------------------------------------------------\n",
      "0 | loss         | MAPE          | 0      | train\n",
      "1 | padder_train | ConstantPad1d | 0      | train\n",
      "2 | scaler       | TemporalNorm  | 0      | train\n",
      "3 | blocks       | ModuleList    | 191 K  | train\n",
      "-------------------------------------------------------\n",
      "188 K     Trainable params\n",
      "2.7 K     Non-trainable params\n",
      "191 K     Total params\n",
      "0.765     Total estimated model params size (MB)\n",
      "31        Modules in train mode\n",
      "0         Modules in eval mode\n"
     ]
    },
    {
     "name": "stdout",
     "output_type": "stream",
     "text": [
      "Epoch 208:  33%|███▎      | 4/12 [00:00<00:01,  4.94it/s, v_num=583, train_loss_step=0.129, train_loss_epoch=0.129, valid_loss=0.154]  "
     ]
    },
    {
     "name": "stderr",
     "output_type": "stream",
     "text": [
      "INFO:pytorch_lightning.utilities.rank_zero:`Trainer.fit` stopped: `max_steps=2500` reached.\n"
     ]
    },
    {
     "name": "stdout",
     "output_type": "stream",
     "text": [
      "Epoch 208:  33%|███▎      | 4/12 [00:00<00:01,  4.93it/s, v_num=583, train_loss_step=0.129, train_loss_epoch=0.129, valid_loss=0.154]"
     ]
    },
    {
     "name": "stderr",
     "output_type": "stream",
     "text": [
      "INFO:pytorch_lightning.utilities.rank_zero:GPU available: True (cuda), used: True\n",
      "INFO:pytorch_lightning.utilities.rank_zero:TPU available: False, using: 0 TPU cores\n",
      "INFO:pytorch_lightning.utilities.rank_zero:HPU available: False, using: 0 HPUs\n"
     ]
    },
    {
     "name": "stdout",
     "output_type": "stream",
     "text": [
      "\n"
     ]
    },
    {
     "name": "stderr",
     "output_type": "stream",
     "text": [
      "INFO:pytorch_lightning.accelerators.cuda:LOCAL_RANK: 0 - CUDA_VISIBLE_DEVICES: [0]\n",
      "INFO:pytorch_lightning.callbacks.model_summary:\n",
      "  | Name         | Type          | Params | Mode \n",
      "-------------------------------------------------------\n",
      "0 | loss         | MAPE          | 0      | train\n",
      "1 | padder_train | ConstantPad1d | 0      | train\n",
      "2 | scaler       | TemporalNorm  | 0      | train\n",
      "3 | blocks       | ModuleList    | 201 K  | train\n",
      "-------------------------------------------------------\n",
      "197 K     Trainable params\n",
      "3.3 K     Non-trainable params\n",
      "201 K     Total params\n",
      "0.805     Total estimated model params size (MB)\n",
      "31        Modules in train mode\n",
      "0         Modules in eval mode\n"
     ]
    },
    {
     "name": "stdout",
     "output_type": "stream",
     "text": [
      "Epoch 208:  33%|███▎      | 4/12 [00:00<00:01,  5.42it/s, v_num=584, train_loss_step=0.116, train_loss_epoch=0.117, valid_loss=0.157]  "
     ]
    },
    {
     "name": "stderr",
     "output_type": "stream",
     "text": [
      "INFO:pytorch_lightning.utilities.rank_zero:`Trainer.fit` stopped: `max_steps=2500` reached.\n"
     ]
    },
    {
     "name": "stdout",
     "output_type": "stream",
     "text": [
      "Epoch 208:  33%|███▎      | 4/12 [00:00<00:01,  5.40it/s, v_num=584, train_loss_step=0.116, train_loss_epoch=0.117, valid_loss=0.157]"
     ]
    },
    {
     "name": "stderr",
     "output_type": "stream",
     "text": [
      "INFO:pytorch_lightning.utilities.rank_zero:GPU available: True (cuda), used: True\n"
     ]
    },
    {
     "name": "stdout",
     "output_type": "stream",
     "text": [
      "\n"
     ]
    },
    {
     "name": "stderr",
     "output_type": "stream",
     "text": [
      "INFO:pytorch_lightning.utilities.rank_zero:TPU available: False, using: 0 TPU cores\n",
      "INFO:pytorch_lightning.utilities.rank_zero:HPU available: False, using: 0 HPUs\n",
      "INFO:pytorch_lightning.accelerators.cuda:LOCAL_RANK: 0 - CUDA_VISIBLE_DEVICES: [0]\n",
      "INFO:pytorch_lightning.callbacks.model_summary:\n",
      "  | Name         | Type          | Params | Mode \n",
      "-------------------------------------------------------\n",
      "0 | loss         | MAPE          | 0      | train\n",
      "1 | padder_train | ConstantPad1d | 0      | train\n",
      "2 | scaler       | TemporalNorm  | 0      | train\n",
      "3 | blocks       | ModuleList    | 186 K  | train\n",
      "-------------------------------------------------------\n",
      "183 K     Trainable params\n",
      "2.3 K     Non-trainable params\n",
      "186 K     Total params\n",
      "0.745     Total estimated model params size (MB)\n",
      "31        Modules in train mode\n",
      "0         Modules in eval mode\n"
     ]
    },
    {
     "name": "stdout",
     "output_type": "stream",
     "text": [
      "Epoch 208:  33%|███▎      | 4/12 [00:00<00:01,  5.46it/s, v_num=585, train_loss_step=0.143, train_loss_epoch=0.136, valid_loss=0.153]  "
     ]
    },
    {
     "name": "stderr",
     "output_type": "stream",
     "text": [
      "INFO:pytorch_lightning.utilities.rank_zero:`Trainer.fit` stopped: `max_steps=2500` reached.\n"
     ]
    },
    {
     "name": "stdout",
     "output_type": "stream",
     "text": [
      "Epoch 208:  33%|███▎      | 4/12 [00:00<00:01,  5.44it/s, v_num=585, train_loss_step=0.143, train_loss_epoch=0.136, valid_loss=0.153]\n"
     ]
    },
    {
     "name": "stderr",
     "output_type": "stream",
     "text": [
      "INFO:pytorch_lightning.utilities.rank_zero:GPU available: True (cuda), used: True\n",
      "INFO:pytorch_lightning.utilities.rank_zero:TPU available: False, using: 0 TPU cores\n",
      "INFO:pytorch_lightning.utilities.rank_zero:HPU available: False, using: 0 HPUs\n",
      "INFO:pytorch_lightning.accelerators.cuda:LOCAL_RANK: 0 - CUDA_VISIBLE_DEVICES: [0]\n",
      "INFO:pytorch_lightning.callbacks.model_summary:\n",
      "  | Name         | Type          | Params | Mode \n",
      "-------------------------------------------------------\n",
      "0 | loss         | SMAPE         | 0      | train\n",
      "1 | padder_train | ConstantPad1d | 0      | train\n",
      "2 | scaler       | TemporalNorm  | 0      | train\n",
      "3 | blocks       | ModuleList    | 201 K  | train\n",
      "-------------------------------------------------------\n",
      "197 K     Trainable params\n",
      "3.3 K     Non-trainable params\n",
      "201 K     Total params\n",
      "0.805     Total estimated model params size (MB)\n",
      "31        Modules in train mode\n",
      "0         Modules in eval mode\n"
     ]
    },
    {
     "name": "stdout",
     "output_type": "stream",
     "text": [
      "Epoch 158:  33%|███▎      | 4/12 [00:00<00:01,  5.91it/s, v_num=586, train_loss_step=0.106, train_loss_epoch=0.120, valid_loss=0.148]  \n"
     ]
    },
    {
     "name": "stderr",
     "output_type": "stream",
     "text": [
      "INFO:pytorch_lightning.utilities.rank_zero:Trainer already configured with model summary callbacks: [<class 'pytorch_lightning.callbacks.model_summary.ModelSummary'>]. Skipping setting a default `ModelSummary` callback.\n",
      "INFO:pytorch_lightning.utilities.rank_zero:GPU available: True (cuda), used: True\n",
      "INFO:pytorch_lightning.utilities.rank_zero:TPU available: False, using: 0 TPU cores\n",
      "INFO:pytorch_lightning.utilities.rank_zero:HPU available: False, using: 0 HPUs\n",
      "INFO:pytorch_lightning.accelerators.cuda:LOCAL_RANK: 0 - CUDA_VISIBLE_DEVICES: [0]\n"
     ]
    },
    {
     "name": "stdout",
     "output_type": "stream",
     "text": [
      "Predicting DataLoader 0: 100%|██████████| 12/12 [00:00<00:00, 37.98it/s]"
     ]
    },
    {
     "name": "stderr",
     "output_type": "stream",
     "text": [
      "INFO:pytorch_lightning.utilities.rank_zero:Trainer already configured with model summary callbacks: [<class 'pytorch_lightning.callbacks.model_summary.ModelSummary'>]. Skipping setting a default `ModelSummary` callback.\n"
     ]
    },
    {
     "name": "stdout",
     "output_type": "stream",
     "text": [
      "\n"
     ]
    },
    {
     "name": "stderr",
     "output_type": "stream",
     "text": [
      "INFO:pytorch_lightning.utilities.rank_zero:GPU available: True (cuda), used: True\n",
      "INFO:pytorch_lightning.utilities.rank_zero:TPU available: False, using: 0 TPU cores\n",
      "INFO:pytorch_lightning.utilities.rank_zero:HPU available: False, using: 0 HPUs\n",
      "INFO:pytorch_lightning.accelerators.cuda:LOCAL_RANK: 0 - CUDA_VISIBLE_DEVICES: [0]\n"
     ]
    },
    {
     "name": "stdout",
     "output_type": "stream",
     "text": [
      "Predicting DataLoader 0: 100%|██████████| 12/12 [00:00<00:00, 39.88it/s]"
     ]
    },
    {
     "name": "stderr",
     "output_type": "stream",
     "text": [
      "INFO:pytorch_lightning.utilities.rank_zero:Trainer already configured with model summary callbacks: [<class 'pytorch_lightning.callbacks.model_summary.ModelSummary'>]. Skipping setting a default `ModelSummary` callback.\n"
     ]
    },
    {
     "name": "stdout",
     "output_type": "stream",
     "text": [
      "\n"
     ]
    },
    {
     "name": "stderr",
     "output_type": "stream",
     "text": [
      "INFO:pytorch_lightning.utilities.rank_zero:GPU available: True (cuda), used: True\n",
      "INFO:pytorch_lightning.utilities.rank_zero:TPU available: False, using: 0 TPU cores\n",
      "INFO:pytorch_lightning.utilities.rank_zero:HPU available: False, using: 0 HPUs\n",
      "INFO:pytorch_lightning.accelerators.cuda:LOCAL_RANK: 0 - CUDA_VISIBLE_DEVICES: [0]\n"
     ]
    },
    {
     "name": "stdout",
     "output_type": "stream",
     "text": [
      "Predicting DataLoader 0: 100%|██████████| 12/12 [00:00<00:00, 45.47it/s]"
     ]
    },
    {
     "name": "stderr",
     "output_type": "stream",
     "text": [
      "INFO:pytorch_lightning.utilities.rank_zero:Trainer already configured with model summary callbacks: [<class 'pytorch_lightning.callbacks.model_summary.ModelSummary'>]. Skipping setting a default `ModelSummary` callback.\n"
     ]
    },
    {
     "name": "stdout",
     "output_type": "stream",
     "text": [
      "\n"
     ]
    },
    {
     "name": "stderr",
     "output_type": "stream",
     "text": [
      "INFO:pytorch_lightning.utilities.rank_zero:GPU available: True (cuda), used: True\n",
      "INFO:pytorch_lightning.utilities.rank_zero:TPU available: False, using: 0 TPU cores\n",
      "INFO:pytorch_lightning.utilities.rank_zero:HPU available: False, using: 0 HPUs\n",
      "INFO:pytorch_lightning.accelerators.cuda:LOCAL_RANK: 0 - CUDA_VISIBLE_DEVICES: [0]\n"
     ]
    },
    {
     "name": "stdout",
     "output_type": "stream",
     "text": [
      "Predicting DataLoader 0: 100%|██████████| 12/12 [00:00<00:00, 49.18it/s]"
     ]
    },
    {
     "name": "stderr",
     "output_type": "stream",
     "text": [
      "INFO:pytorch_lightning.utilities.rank_zero:Trainer already configured with model summary callbacks: [<class 'pytorch_lightning.callbacks.model_summary.ModelSummary'>]. Skipping setting a default `ModelSummary` callback.\n",
      "INFO:pytorch_lightning.utilities.rank_zero:GPU available: True (cuda), used: True\n"
     ]
    },
    {
     "name": "stdout",
     "output_type": "stream",
     "text": [
      "\n"
     ]
    },
    {
     "name": "stderr",
     "output_type": "stream",
     "text": [
      "INFO:pytorch_lightning.utilities.rank_zero:TPU available: False, using: 0 TPU cores\n",
      "INFO:pytorch_lightning.utilities.rank_zero:HPU available: False, using: 0 HPUs\n",
      "INFO:pytorch_lightning.accelerators.cuda:LOCAL_RANK: 0 - CUDA_VISIBLE_DEVICES: [0]\n"
     ]
    },
    {
     "name": "stdout",
     "output_type": "stream",
     "text": [
      "Predicting DataLoader 0: 100%|██████████| 12/12 [00:00<00:00, 41.93it/s]"
     ]
    },
    {
     "name": "stderr",
     "output_type": "stream",
     "text": [
      "INFO:pytorch_lightning.utilities.rank_zero:Trainer already configured with model summary callbacks: [<class 'pytorch_lightning.callbacks.model_summary.ModelSummary'>]. Skipping setting a default `ModelSummary` callback.\n",
      "INFO:pytorch_lightning.utilities.rank_zero:GPU available: True (cuda), used: True\n",
      "INFO:pytorch_lightning.utilities.rank_zero:TPU available: False, using: 0 TPU cores\n",
      "INFO:pytorch_lightning.utilities.rank_zero:HPU available: False, using: 0 HPUs\n"
     ]
    },
    {
     "name": "stdout",
     "output_type": "stream",
     "text": [
      "\n"
     ]
    },
    {
     "name": "stderr",
     "output_type": "stream",
     "text": [
      "INFO:pytorch_lightning.accelerators.cuda:LOCAL_RANK: 0 - CUDA_VISIBLE_DEVICES: [0]\n"
     ]
    },
    {
     "name": "stdout",
     "output_type": "stream",
     "text": [
      "Predicting DataLoader 0: 100%|██████████| 12/12 [00:00<00:00, 43.94it/s]\n"
     ]
    },
    {
     "name": "stderr",
     "output_type": "stream",
     "text": [
      "INFO:pytorch_lightning.utilities.rank_zero:Trainer already configured with model summary callbacks: [<class 'pytorch_lightning.callbacks.model_summary.ModelSummary'>]. Skipping setting a default `ModelSummary` callback.\n",
      "INFO:pytorch_lightning.utilities.rank_zero:GPU available: True (cuda), used: True\n",
      "INFO:pytorch_lightning.utilities.rank_zero:TPU available: False, using: 0 TPU cores\n",
      "INFO:pytorch_lightning.utilities.rank_zero:HPU available: False, using: 0 HPUs\n",
      "INFO:pytorch_lightning.accelerators.cuda:LOCAL_RANK: 0 - CUDA_VISIBLE_DEVICES: [0]\n"
     ]
    },
    {
     "name": "stdout",
     "output_type": "stream",
     "text": [
      "Predicting DataLoader 0: 100%|██████████| 12/12 [00:00<00:00, 43.48it/s]\n"
     ]
    },
    {
     "name": "stderr",
     "output_type": "stream",
     "text": [
      "INFO:pytorch_lightning.utilities.rank_zero:Trainer already configured with model summary callbacks: [<class 'pytorch_lightning.callbacks.model_summary.ModelSummary'>]. Skipping setting a default `ModelSummary` callback.\n",
      "INFO:pytorch_lightning.utilities.rank_zero:GPU available: True (cuda), used: True\n",
      "INFO:pytorch_lightning.utilities.rank_zero:TPU available: False, using: 0 TPU cores\n",
      "INFO:pytorch_lightning.utilities.rank_zero:HPU available: False, using: 0 HPUs\n",
      "INFO:pytorch_lightning.accelerators.cuda:LOCAL_RANK: 0 - CUDA_VISIBLE_DEVICES: [0]\n"
     ]
    },
    {
     "name": "stdout",
     "output_type": "stream",
     "text": [
      "Predicting DataLoader 0: 100%|██████████| 12/12 [00:00<00:00, 47.60it/s]"
     ]
    },
    {
     "name": "stderr",
     "output_type": "stream",
     "text": [
      "INFO:pytorch_lightning.utilities.rank_zero:Trainer already configured with model summary callbacks: [<class 'pytorch_lightning.callbacks.model_summary.ModelSummary'>]. Skipping setting a default `ModelSummary` callback.\n"
     ]
    },
    {
     "name": "stdout",
     "output_type": "stream",
     "text": [
      "\n"
     ]
    },
    {
     "name": "stderr",
     "output_type": "stream",
     "text": [
      "INFO:pytorch_lightning.utilities.rank_zero:GPU available: True (cuda), used: True\n",
      "INFO:pytorch_lightning.utilities.rank_zero:TPU available: False, using: 0 TPU cores\n",
      "INFO:pytorch_lightning.utilities.rank_zero:HPU available: False, using: 0 HPUs\n",
      "INFO:pytorch_lightning.accelerators.cuda:LOCAL_RANK: 0 - CUDA_VISIBLE_DEVICES: [0]\n"
     ]
    },
    {
     "name": "stdout",
     "output_type": "stream",
     "text": [
      "Predicting DataLoader 0: 100%|██████████| 12/12 [00:00<00:00, 40.02it/s]"
     ]
    },
    {
     "name": "stderr",
     "output_type": "stream",
     "text": [
      "INFO:pytorch_lightning.utilities.rank_zero:Trainer already configured with model summary callbacks: [<class 'pytorch_lightning.callbacks.model_summary.ModelSummary'>]. Skipping setting a default `ModelSummary` callback.\n"
     ]
    },
    {
     "name": "stdout",
     "output_type": "stream",
     "text": [
      "\n"
     ]
    },
    {
     "name": "stderr",
     "output_type": "stream",
     "text": [
      "INFO:pytorch_lightning.utilities.rank_zero:GPU available: True (cuda), used: True\n",
      "INFO:pytorch_lightning.utilities.rank_zero:TPU available: False, using: 0 TPU cores\n",
      "INFO:pytorch_lightning.utilities.rank_zero:HPU available: False, using: 0 HPUs\n",
      "INFO:pytorch_lightning.accelerators.cuda:LOCAL_RANK: 0 - CUDA_VISIBLE_DEVICES: [0]\n"
     ]
    },
    {
     "name": "stdout",
     "output_type": "stream",
     "text": [
      "Predicting DataLoader 0: 100%|██████████| 12/12 [00:00<00:00, 35.51it/s]\n"
     ]
    },
    {
     "name": "stderr",
     "output_type": "stream",
     "text": [
      "INFO:pytorch_lightning.utilities.rank_zero:Trainer already configured with model summary callbacks: [<class 'pytorch_lightning.callbacks.model_summary.ModelSummary'>]. Skipping setting a default `ModelSummary` callback.\n",
      "INFO:pytorch_lightning.utilities.rank_zero:GPU available: True (cuda), used: True\n",
      "INFO:pytorch_lightning.utilities.rank_zero:TPU available: False, using: 0 TPU cores\n",
      "INFO:pytorch_lightning.utilities.rank_zero:HPU available: False, using: 0 HPUs\n",
      "INFO:pytorch_lightning.accelerators.cuda:LOCAL_RANK: 0 - CUDA_VISIBLE_DEVICES: [0]\n"
     ]
    },
    {
     "name": "stdout",
     "output_type": "stream",
     "text": [
      "Predicting DataLoader 0: 100%|██████████| 12/12 [00:00<00:00, 43.72it/s]"
     ]
    },
    {
     "name": "stderr",
     "output_type": "stream",
     "text": [
      "INFO:pytorch_lightning.utilities.rank_zero:Trainer already configured with model summary callbacks: [<class 'pytorch_lightning.callbacks.model_summary.ModelSummary'>]. Skipping setting a default `ModelSummary` callback.\n"
     ]
    },
    {
     "name": "stdout",
     "output_type": "stream",
     "text": [
      "\n"
     ]
    },
    {
     "name": "stderr",
     "output_type": "stream",
     "text": [
      "INFO:pytorch_lightning.utilities.rank_zero:GPU available: True (cuda), used: True\n",
      "INFO:pytorch_lightning.utilities.rank_zero:TPU available: False, using: 0 TPU cores\n",
      "INFO:pytorch_lightning.utilities.rank_zero:HPU available: False, using: 0 HPUs\n",
      "INFO:pytorch_lightning.accelerators.cuda:LOCAL_RANK: 0 - CUDA_VISIBLE_DEVICES: [0]\n"
     ]
    },
    {
     "name": "stdout",
     "output_type": "stream",
     "text": [
      "Predicting DataLoader 0: 100%|██████████| 12/12 [00:00<00:00, 45.10it/s]"
     ]
    },
    {
     "name": "stderr",
     "output_type": "stream",
     "text": [
      "INFO:pytorch_lightning.utilities.rank_zero:Trainer already configured with model summary callbacks: [<class 'pytorch_lightning.callbacks.model_summary.ModelSummary'>]. Skipping setting a default `ModelSummary` callback.\n"
     ]
    },
    {
     "name": "stdout",
     "output_type": "stream",
     "text": [
      "\n"
     ]
    },
    {
     "name": "stderr",
     "output_type": "stream",
     "text": [
      "INFO:pytorch_lightning.utilities.rank_zero:GPU available: True (cuda), used: True\n",
      "INFO:pytorch_lightning.utilities.rank_zero:TPU available: False, using: 0 TPU cores\n",
      "INFO:pytorch_lightning.utilities.rank_zero:HPU available: False, using: 0 HPUs\n",
      "INFO:pytorch_lightning.accelerators.cuda:LOCAL_RANK: 0 - CUDA_VISIBLE_DEVICES: [0]\n"
     ]
    },
    {
     "name": "stdout",
     "output_type": "stream",
     "text": [
      "Predicting DataLoader 0: 100%|██████████| 12/12 [00:00<00:00, 49.74it/s]\n"
     ]
    },
    {
     "name": "stderr",
     "output_type": "stream",
     "text": [
      "INFO:pytorch_lightning.utilities.rank_zero:Trainer already configured with model summary callbacks: [<class 'pytorch_lightning.callbacks.model_summary.ModelSummary'>]. Skipping setting a default `ModelSummary` callback.\n",
      "INFO:pytorch_lightning.utilities.rank_zero:GPU available: True (cuda), used: True\n",
      "INFO:pytorch_lightning.utilities.rank_zero:TPU available: False, using: 0 TPU cores\n",
      "INFO:pytorch_lightning.utilities.rank_zero:HPU available: False, using: 0 HPUs\n",
      "INFO:pytorch_lightning.accelerators.cuda:LOCAL_RANK: 0 - CUDA_VISIBLE_DEVICES: [0]\n"
     ]
    },
    {
     "name": "stdout",
     "output_type": "stream",
     "text": [
      "Predicting DataLoader 0: 100%|██████████| 12/12 [00:00<00:00, 48.56it/s]"
     ]
    },
    {
     "name": "stderr",
     "output_type": "stream",
     "text": [
      "INFO:pytorch_lightning.utilities.rank_zero:Trainer already configured with model summary callbacks: [<class 'pytorch_lightning.callbacks.model_summary.ModelSummary'>]. Skipping setting a default `ModelSummary` callback.\n"
     ]
    },
    {
     "name": "stdout",
     "output_type": "stream",
     "text": [
      "\n"
     ]
    },
    {
     "name": "stderr",
     "output_type": "stream",
     "text": [
      "INFO:pytorch_lightning.utilities.rank_zero:GPU available: True (cuda), used: True\n",
      "INFO:pytorch_lightning.utilities.rank_zero:TPU available: False, using: 0 TPU cores\n",
      "INFO:pytorch_lightning.utilities.rank_zero:HPU available: False, using: 0 HPUs\n",
      "INFO:pytorch_lightning.accelerators.cuda:LOCAL_RANK: 0 - CUDA_VISIBLE_DEVICES: [0]\n"
     ]
    },
    {
     "name": "stdout",
     "output_type": "stream",
     "text": [
      "Predicting DataLoader 0: 100%|██████████| 12/12 [00:00<00:00, 45.12it/s]\n"
     ]
    },
    {
     "name": "stderr",
     "output_type": "stream",
     "text": [
      "INFO:pytorch_lightning.utilities.rank_zero:Trainer already configured with model summary callbacks: [<class 'pytorch_lightning.callbacks.model_summary.ModelSummary'>]. Skipping setting a default `ModelSummary` callback.\n",
      "INFO:pytorch_lightning.utilities.rank_zero:GPU available: True (cuda), used: True\n",
      "INFO:pytorch_lightning.utilities.rank_zero:TPU available: False, using: 0 TPU cores\n",
      "INFO:pytorch_lightning.utilities.rank_zero:HPU available: False, using: 0 HPUs\n",
      "INFO:pytorch_lightning.accelerators.cuda:LOCAL_RANK: 0 - CUDA_VISIBLE_DEVICES: [0]\n"
     ]
    },
    {
     "name": "stdout",
     "output_type": "stream",
     "text": [
      "Predicting DataLoader 0: 100%|██████████| 12/12 [00:00<00:00, 40.57it/s]\n"
     ]
    },
    {
     "name": "stderr",
     "output_type": "stream",
     "text": [
      "INFO:pytorch_lightning.utilities.rank_zero:Trainer already configured with model summary callbacks: [<class 'pytorch_lightning.callbacks.model_summary.ModelSummary'>]. Skipping setting a default `ModelSummary` callback.\n",
      "INFO:pytorch_lightning.utilities.rank_zero:GPU available: True (cuda), used: True\n",
      "INFO:pytorch_lightning.utilities.rank_zero:TPU available: False, using: 0 TPU cores\n",
      "INFO:pytorch_lightning.utilities.rank_zero:HPU available: False, using: 0 HPUs\n",
      "INFO:pytorch_lightning.accelerators.cuda:LOCAL_RANK: 0 - CUDA_VISIBLE_DEVICES: [0]\n"
     ]
    },
    {
     "name": "stdout",
     "output_type": "stream",
     "text": [
      "Predicting DataLoader 0: 100%|██████████| 12/12 [00:00<00:00, 43.65it/s]"
     ]
    },
    {
     "name": "stderr",
     "output_type": "stream",
     "text": [
      "INFO:pytorch_lightning.utilities.rank_zero:Trainer already configured with model summary callbacks: [<class 'pytorch_lightning.callbacks.model_summary.ModelSummary'>]. Skipping setting a default `ModelSummary` callback.\n"
     ]
    },
    {
     "name": "stdout",
     "output_type": "stream",
     "text": [
      "\n"
     ]
    },
    {
     "name": "stderr",
     "output_type": "stream",
     "text": [
      "INFO:pytorch_lightning.utilities.rank_zero:GPU available: True (cuda), used: True\n",
      "INFO:pytorch_lightning.utilities.rank_zero:TPU available: False, using: 0 TPU cores\n",
      "INFO:pytorch_lightning.utilities.rank_zero:HPU available: False, using: 0 HPUs\n",
      "INFO:pytorch_lightning.accelerators.cuda:LOCAL_RANK: 0 - CUDA_VISIBLE_DEVICES: [0]\n"
     ]
    },
    {
     "name": "stdout",
     "output_type": "stream",
     "text": [
      "Predicting DataLoader 0: 100%|██████████| 12/12 [00:00<00:00, 42.09it/s]\n",
      "sMAPE score: 0.1356\n"
     ]
    }
   ],
   "source": [
    "y_train, y_test = train_test_split(m3, horizon)\n",
    "\n",
    "models = []\n",
    "\n",
    "for i in range(18):\n",
    "    random_conf = get_random_conf(config['m3']['Monthly']['NBEATS'])\n",
    "    model = NBEATS(\n",
    "        h=horizon,\n",
    "        **random_conf,\n",
    "    )\n",
    "    models.append(model)\n",
    "\n",
    "nf = NeuralForecast(\n",
    "    models=models,\n",
    "    freq='M',\n",
    ")\n",
    "\n",
    "nf.fit(df=y_train, static_df=None, val_size=horizon)\n",
    "predictions = nf.predict(futr_df=y_test)\n",
    "\n",
    "\n",
    "nbeats_cols = [col for col in predictions.columns if \"NBEATS\" in col]\n",
    "predictions[\"prediction_agg\"] = predictions[nbeats_cols].median(axis=1)\n",
    "\n",
    "\n",
    "smape_score = calculate_smape(y_test, predictions, \"prediction_agg\")\n",
    "print(f\"sMAPE score: {smape_score:.4f}\")\n"
   ]
  },
  {
   "cell_type": "code",
   "execution_count": null,
   "id": "447ef4c7",
   "metadata": {},
   "outputs": [
    {
     "data": {
      "text/html": [
       "<div>\n",
       "<style scoped>\n",
       "    .dataframe tbody tr th:only-of-type {\n",
       "        vertical-align: middle;\n",
       "    }\n",
       "\n",
       "    .dataframe tbody tr th {\n",
       "        vertical-align: top;\n",
       "    }\n",
       "\n",
       "    .dataframe thead th {\n",
       "        text-align: right;\n",
       "    }\n",
       "</style>\n",
       "<table border=\"1\" class=\"dataframe\">\n",
       "  <thead>\n",
       "    <tr style=\"text-align: right;\">\n",
       "      <th></th>\n",
       "      <th>unique_id</th>\n",
       "      <th>ds</th>\n",
       "      <th>NBeatsStackMoe</th>\n",
       "      <th>NBeatsStackMoe1</th>\n",
       "      <th>NBeatsStackMoe2</th>\n",
       "      <th>NBeatsStackMoe3</th>\n",
       "      <th>NBeatsStackMoe4</th>\n",
       "      <th>NBeatsStackMoe5</th>\n",
       "      <th>NBeatsStackMoe6</th>\n",
       "      <th>NBeatsStackMoe7</th>\n",
       "      <th>...</th>\n",
       "      <th>NBeatsStackMoe9</th>\n",
       "      <th>NBeatsStackMoe10</th>\n",
       "      <th>NBeatsStackMoe11</th>\n",
       "      <th>NBeatsStackMoe12</th>\n",
       "      <th>NBeatsStackMoe13</th>\n",
       "      <th>NBeatsStackMoe14</th>\n",
       "      <th>NBeatsStackMoe15</th>\n",
       "      <th>NBeatsStackMoe16</th>\n",
       "      <th>NBeatsStackMoe17</th>\n",
       "      <th>prediction_agg</th>\n",
       "    </tr>\n",
       "  </thead>\n",
       "  <tbody>\n",
       "    <tr>\n",
       "      <th>0</th>\n",
       "      <td>M1</td>\n",
       "      <td>1994-03-31</td>\n",
       "      <td>2027.350220</td>\n",
       "      <td>1976.977783</td>\n",
       "      <td>2159.812500</td>\n",
       "      <td>2212.591064</td>\n",
       "      <td>2662.133545</td>\n",
       "      <td>1650.762939</td>\n",
       "      <td>1426.460205</td>\n",
       "      <td>2394.214355</td>\n",
       "      <td>...</td>\n",
       "      <td>2100.765381</td>\n",
       "      <td>2075.814941</td>\n",
       "      <td>2048.272461</td>\n",
       "      <td>1254.936646</td>\n",
       "      <td>2010.218994</td>\n",
       "      <td>2305.779785</td>\n",
       "      <td>2076.729004</td>\n",
       "      <td>2272.338135</td>\n",
       "      <td>2319.632080</td>\n",
       "      <td>NaN</td>\n",
       "    </tr>\n",
       "    <tr>\n",
       "      <th>1</th>\n",
       "      <td>M1</td>\n",
       "      <td>1994-04-30</td>\n",
       "      <td>2233.364990</td>\n",
       "      <td>2896.877686</td>\n",
       "      <td>2556.416260</td>\n",
       "      <td>2702.814453</td>\n",
       "      <td>3003.040771</td>\n",
       "      <td>1697.746094</td>\n",
       "      <td>1848.511841</td>\n",
       "      <td>2649.683594</td>\n",
       "      <td>...</td>\n",
       "      <td>2327.843262</td>\n",
       "      <td>2069.480957</td>\n",
       "      <td>2485.066162</td>\n",
       "      <td>1524.755249</td>\n",
       "      <td>2157.153809</td>\n",
       "      <td>2439.037842</td>\n",
       "      <td>2418.768066</td>\n",
       "      <td>2424.003418</td>\n",
       "      <td>2503.113037</td>\n",
       "      <td>NaN</td>\n",
       "    </tr>\n",
       "    <tr>\n",
       "      <th>2</th>\n",
       "      <td>M1</td>\n",
       "      <td>1994-05-31</td>\n",
       "      <td>2034.908936</td>\n",
       "      <td>2397.562744</td>\n",
       "      <td>2302.072266</td>\n",
       "      <td>2640.079834</td>\n",
       "      <td>2491.428711</td>\n",
       "      <td>1721.888794</td>\n",
       "      <td>1805.814575</td>\n",
       "      <td>2363.928467</td>\n",
       "      <td>...</td>\n",
       "      <td>1989.861206</td>\n",
       "      <td>2059.361816</td>\n",
       "      <td>2121.086426</td>\n",
       "      <td>1306.571411</td>\n",
       "      <td>1935.060425</td>\n",
       "      <td>2396.496094</td>\n",
       "      <td>1903.889160</td>\n",
       "      <td>2241.905762</td>\n",
       "      <td>2264.243896</td>\n",
       "      <td>NaN</td>\n",
       "    </tr>\n",
       "    <tr>\n",
       "      <th>3</th>\n",
       "      <td>M1</td>\n",
       "      <td>1994-06-30</td>\n",
       "      <td>1957.655029</td>\n",
       "      <td>2563.429443</td>\n",
       "      <td>2246.309814</td>\n",
       "      <td>2723.009277</td>\n",
       "      <td>2422.212891</td>\n",
       "      <td>1501.725342</td>\n",
       "      <td>1692.576904</td>\n",
       "      <td>2116.087891</td>\n",
       "      <td>...</td>\n",
       "      <td>1933.465942</td>\n",
       "      <td>2190.037842</td>\n",
       "      <td>1974.409668</td>\n",
       "      <td>1224.810303</td>\n",
       "      <td>1952.374512</td>\n",
       "      <td>2266.936279</td>\n",
       "      <td>1859.706055</td>\n",
       "      <td>2106.559082</td>\n",
       "      <td>2543.100098</td>\n",
       "      <td>NaN</td>\n",
       "    </tr>\n",
       "    <tr>\n",
       "      <th>4</th>\n",
       "      <td>M1</td>\n",
       "      <td>1994-07-31</td>\n",
       "      <td>2608.313965</td>\n",
       "      <td>2538.428955</td>\n",
       "      <td>2602.689209</td>\n",
       "      <td>3166.058350</td>\n",
       "      <td>3275.409912</td>\n",
       "      <td>1834.110474</td>\n",
       "      <td>2113.342773</td>\n",
       "      <td>2077.098633</td>\n",
       "      <td>...</td>\n",
       "      <td>2366.277832</td>\n",
       "      <td>2123.212891</td>\n",
       "      <td>1916.170532</td>\n",
       "      <td>1449.702881</td>\n",
       "      <td>2340.781006</td>\n",
       "      <td>2468.893555</td>\n",
       "      <td>2079.978516</td>\n",
       "      <td>1965.350342</td>\n",
       "      <td>2710.783447</td>\n",
       "      <td>NaN</td>\n",
       "    </tr>\n",
       "    <tr>\n",
       "      <th>...</th>\n",
       "      <td>...</td>\n",
       "      <td>...</td>\n",
       "      <td>...</td>\n",
       "      <td>...</td>\n",
       "      <td>...</td>\n",
       "      <td>...</td>\n",
       "      <td>...</td>\n",
       "      <td>...</td>\n",
       "      <td>...</td>\n",
       "      <td>...</td>\n",
       "      <td>...</td>\n",
       "      <td>...</td>\n",
       "      <td>...</td>\n",
       "      <td>...</td>\n",
       "      <td>...</td>\n",
       "      <td>...</td>\n",
       "      <td>...</td>\n",
       "      <td>...</td>\n",
       "      <td>...</td>\n",
       "      <td>...</td>\n",
       "      <td>...</td>\n",
       "    </tr>\n",
       "    <tr>\n",
       "      <th>25699</th>\n",
       "      <td>M999</td>\n",
       "      <td>1993-10-31</td>\n",
       "      <td>5377.535645</td>\n",
       "      <td>5299.405273</td>\n",
       "      <td>5358.665527</td>\n",
       "      <td>5356.336426</td>\n",
       "      <td>5273.133301</td>\n",
       "      <td>5407.424805</td>\n",
       "      <td>5227.890625</td>\n",
       "      <td>5506.175781</td>\n",
       "      <td>...</td>\n",
       "      <td>5387.047363</td>\n",
       "      <td>5437.611328</td>\n",
       "      <td>5306.417480</td>\n",
       "      <td>5245.458984</td>\n",
       "      <td>5283.004883</td>\n",
       "      <td>5357.413086</td>\n",
       "      <td>5435.615723</td>\n",
       "      <td>5438.089355</td>\n",
       "      <td>5346.955078</td>\n",
       "      <td>NaN</td>\n",
       "    </tr>\n",
       "    <tr>\n",
       "      <th>25700</th>\n",
       "      <td>M999</td>\n",
       "      <td>1993-11-30</td>\n",
       "      <td>5384.088379</td>\n",
       "      <td>5283.923340</td>\n",
       "      <td>5358.282227</td>\n",
       "      <td>5360.583496</td>\n",
       "      <td>5285.469238</td>\n",
       "      <td>5432.648926</td>\n",
       "      <td>5201.810059</td>\n",
       "      <td>5525.135254</td>\n",
       "      <td>...</td>\n",
       "      <td>5395.036621</td>\n",
       "      <td>5444.592773</td>\n",
       "      <td>5323.011230</td>\n",
       "      <td>5247.215820</td>\n",
       "      <td>5291.891602</td>\n",
       "      <td>5359.339844</td>\n",
       "      <td>5447.455566</td>\n",
       "      <td>5430.526367</td>\n",
       "      <td>5351.978027</td>\n",
       "      <td>NaN</td>\n",
       "    </tr>\n",
       "    <tr>\n",
       "      <th>25701</th>\n",
       "      <td>M999</td>\n",
       "      <td>1993-12-31</td>\n",
       "      <td>5401.246582</td>\n",
       "      <td>5321.370605</td>\n",
       "      <td>5375.719727</td>\n",
       "      <td>5356.472168</td>\n",
       "      <td>5311.429199</td>\n",
       "      <td>5428.625488</td>\n",
       "      <td>5191.773926</td>\n",
       "      <td>5549.574707</td>\n",
       "      <td>...</td>\n",
       "      <td>5405.485840</td>\n",
       "      <td>5429.930664</td>\n",
       "      <td>5305.908691</td>\n",
       "      <td>5272.377930</td>\n",
       "      <td>5299.737305</td>\n",
       "      <td>5374.971680</td>\n",
       "      <td>5468.077637</td>\n",
       "      <td>5445.824707</td>\n",
       "      <td>5364.867676</td>\n",
       "      <td>NaN</td>\n",
       "    </tr>\n",
       "    <tr>\n",
       "      <th>25702</th>\n",
       "      <td>M999</td>\n",
       "      <td>1994-01-31</td>\n",
       "      <td>5414.285156</td>\n",
       "      <td>5311.018555</td>\n",
       "      <td>5389.261719</td>\n",
       "      <td>5345.674805</td>\n",
       "      <td>5253.677246</td>\n",
       "      <td>5427.290527</td>\n",
       "      <td>5177.031738</td>\n",
       "      <td>5546.982422</td>\n",
       "      <td>...</td>\n",
       "      <td>5409.825195</td>\n",
       "      <td>5447.159668</td>\n",
       "      <td>5310.714355</td>\n",
       "      <td>5272.042480</td>\n",
       "      <td>5302.655762</td>\n",
       "      <td>5378.166504</td>\n",
       "      <td>5473.582031</td>\n",
       "      <td>5485.347656</td>\n",
       "      <td>5368.282715</td>\n",
       "      <td>NaN</td>\n",
       "    </tr>\n",
       "    <tr>\n",
       "      <th>25703</th>\n",
       "      <td>M999</td>\n",
       "      <td>1994-02-28</td>\n",
       "      <td>5439.761230</td>\n",
       "      <td>5282.000000</td>\n",
       "      <td>5416.051758</td>\n",
       "      <td>5351.327637</td>\n",
       "      <td>5258.251465</td>\n",
       "      <td>5484.002930</td>\n",
       "      <td>5159.233887</td>\n",
       "      <td>5572.908691</td>\n",
       "      <td>...</td>\n",
       "      <td>5429.392578</td>\n",
       "      <td>5461.073242</td>\n",
       "      <td>5301.871582</td>\n",
       "      <td>5282.048828</td>\n",
       "      <td>5301.764648</td>\n",
       "      <td>5379.105469</td>\n",
       "      <td>5496.192871</td>\n",
       "      <td>5511.962402</td>\n",
       "      <td>5374.295898</td>\n",
       "      <td>NaN</td>\n",
       "    </tr>\n",
       "  </tbody>\n",
       "</table>\n",
       "<p>25704 rows × 21 columns</p>\n",
       "</div>"
      ],
      "text/plain": [
       "      unique_id         ds  NBeatsStackMoe  NBeatsStackMoe1  NBeatsStackMoe2  \\\n",
       "0            M1 1994-03-31     2027.350220      1976.977783      2159.812500   \n",
       "1            M1 1994-04-30     2233.364990      2896.877686      2556.416260   \n",
       "2            M1 1994-05-31     2034.908936      2397.562744      2302.072266   \n",
       "3            M1 1994-06-30     1957.655029      2563.429443      2246.309814   \n",
       "4            M1 1994-07-31     2608.313965      2538.428955      2602.689209   \n",
       "...         ...        ...             ...              ...              ...   \n",
       "25699      M999 1993-10-31     5377.535645      5299.405273      5358.665527   \n",
       "25700      M999 1993-11-30     5384.088379      5283.923340      5358.282227   \n",
       "25701      M999 1993-12-31     5401.246582      5321.370605      5375.719727   \n",
       "25702      M999 1994-01-31     5414.285156      5311.018555      5389.261719   \n",
       "25703      M999 1994-02-28     5439.761230      5282.000000      5416.051758   \n",
       "\n",
       "       NBeatsStackMoe3  NBeatsStackMoe4  NBeatsStackMoe5  NBeatsStackMoe6  \\\n",
       "0          2212.591064      2662.133545      1650.762939      1426.460205   \n",
       "1          2702.814453      3003.040771      1697.746094      1848.511841   \n",
       "2          2640.079834      2491.428711      1721.888794      1805.814575   \n",
       "3          2723.009277      2422.212891      1501.725342      1692.576904   \n",
       "4          3166.058350      3275.409912      1834.110474      2113.342773   \n",
       "...                ...              ...              ...              ...   \n",
       "25699      5356.336426      5273.133301      5407.424805      5227.890625   \n",
       "25700      5360.583496      5285.469238      5432.648926      5201.810059   \n",
       "25701      5356.472168      5311.429199      5428.625488      5191.773926   \n",
       "25702      5345.674805      5253.677246      5427.290527      5177.031738   \n",
       "25703      5351.327637      5258.251465      5484.002930      5159.233887   \n",
       "\n",
       "       NBeatsStackMoe7  ...  NBeatsStackMoe9  NBeatsStackMoe10  \\\n",
       "0          2394.214355  ...      2100.765381       2075.814941   \n",
       "1          2649.683594  ...      2327.843262       2069.480957   \n",
       "2          2363.928467  ...      1989.861206       2059.361816   \n",
       "3          2116.087891  ...      1933.465942       2190.037842   \n",
       "4          2077.098633  ...      2366.277832       2123.212891   \n",
       "...                ...  ...              ...               ...   \n",
       "25699      5506.175781  ...      5387.047363       5437.611328   \n",
       "25700      5525.135254  ...      5395.036621       5444.592773   \n",
       "25701      5549.574707  ...      5405.485840       5429.930664   \n",
       "25702      5546.982422  ...      5409.825195       5447.159668   \n",
       "25703      5572.908691  ...      5429.392578       5461.073242   \n",
       "\n",
       "       NBeatsStackMoe11  NBeatsStackMoe12  NBeatsStackMoe13  NBeatsStackMoe14  \\\n",
       "0           2048.272461       1254.936646       2010.218994       2305.779785   \n",
       "1           2485.066162       1524.755249       2157.153809       2439.037842   \n",
       "2           2121.086426       1306.571411       1935.060425       2396.496094   \n",
       "3           1974.409668       1224.810303       1952.374512       2266.936279   \n",
       "4           1916.170532       1449.702881       2340.781006       2468.893555   \n",
       "...                 ...               ...               ...               ...   \n",
       "25699       5306.417480       5245.458984       5283.004883       5357.413086   \n",
       "25700       5323.011230       5247.215820       5291.891602       5359.339844   \n",
       "25701       5305.908691       5272.377930       5299.737305       5374.971680   \n",
       "25702       5310.714355       5272.042480       5302.655762       5378.166504   \n",
       "25703       5301.871582       5282.048828       5301.764648       5379.105469   \n",
       "\n",
       "       NBeatsStackMoe15  NBeatsStackMoe16  NBeatsStackMoe17  prediction_agg  \n",
       "0           2076.729004       2272.338135       2319.632080             NaN  \n",
       "1           2418.768066       2424.003418       2503.113037             NaN  \n",
       "2           1903.889160       2241.905762       2264.243896             NaN  \n",
       "3           1859.706055       2106.559082       2543.100098             NaN  \n",
       "4           2079.978516       1965.350342       2710.783447             NaN  \n",
       "...                 ...               ...               ...             ...  \n",
       "25699       5435.615723       5438.089355       5346.955078             NaN  \n",
       "25700       5447.455566       5430.526367       5351.978027             NaN  \n",
       "25701       5468.077637       5445.824707       5364.867676             NaN  \n",
       "25702       5473.582031       5485.347656       5368.282715             NaN  \n",
       "25703       5496.192871       5511.962402       5374.295898             NaN  \n",
       "\n",
       "[25704 rows x 21 columns]"
      ]
     },
     "execution_count": 87,
     "metadata": {},
     "output_type": "execute_result"
    }
   ],
   "source": [
    "predictions"
   ]
  }
 ],
 "metadata": {
  "kernelspec": {
   "display_name": "venv",
   "language": "python",
   "name": "python3"
  },
  "language_info": {
   "codemirror_mode": {
    "name": "ipython",
    "version": 3
   },
   "file_extension": ".py",
   "mimetype": "text/x-python",
   "name": "python",
   "nbconvert_exporter": "python",
   "pygments_lexer": "ipython3",
   "version": "3.11.9"
  }
 },
 "nbformat": 4,
 "nbformat_minor": 5
}
