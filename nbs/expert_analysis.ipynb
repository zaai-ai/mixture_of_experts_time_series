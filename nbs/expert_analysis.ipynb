{
 "cells": [
  {
   "cell_type": "code",
   "execution_count": 1,
   "metadata": {},
   "outputs": [],
   "source": [
    "import os\n",
    "os.chdir(\"..\")\n",
    "\n",
    "\n",
    "import numpy as np\n",
    "import hydra"
   ]
  },
  {
   "cell_type": "code",
   "execution_count": null,
   "metadata": {},
   "outputs": [
    {
     "name": "stderr",
     "output_type": "stream",
     "text": [
      "c:\\Users\\ricar\\mixture_of_experts_time_series\\venv\\Lib\\site-packages\\tqdm\\auto.py:21: TqdmWarning: IProgress not found. Please update jupyter and ipywidgets. See https://ipywidgets.readthedocs.io/en/stable/user_install.html\n",
      "  from .autonotebook import tqdm as notebook_tqdm\n",
      "2025-04-04 00:39:15,363\tINFO util.py:154 -- Missing packages: ['ipywidgets']. Run `pip install -U ipywidgets`, then restart the notebook server for rich notebook output.\n",
      "2025-04-04 00:39:15,561\tINFO util.py:154 -- Missing packages: ['ipywidgets']. Run `pip install -U ipywidgets`, then restart the notebook server for rich notebook output.\n",
      "c:\\Users\\ricar\\mixture_of_experts_time_series\\venv\\Lib\\site-packages\\gluonts\\json.py:102: UserWarning: Using `json`-module for json-handling. Consider installing one of `orjson`, `ujson` to speed up serialization and deserialization.\n",
      "  warnings.warn(\n",
      "INFO:root:using dataset already processed in path C:\\Users\\ricar\\.gluonts\\datasets\\tourism_monthly.\n"
     ]
    },
    {
     "name": "stdout",
     "output_type": "stream",
     "text": [
      "\n",
      "==== Running experiment for dataset: gluonts_tourism_monthly ====\n",
      "Loading tourism_monthly dataset...\n"
     ]
    }
   ],
   "source": [
    "import run_model as utils\n",
    "\n",
    "\n",
    "def run_all_models():\n",
    "    hydra.initialize(config_path=\"./../conf\")\n",
    "    cfg = hydra.compose(config_name=\"config.yaml\")\n",
    "    \n",
    "    results, forecasts, callbacks = utils.run_exp(cfg)\n",
    "    results.to_csv(\"results.csv\", index=False)\n",
    "\n",
    "    return results, forecasts, callbacks\n",
    "results, forecasts, callbacks = run_all_models()"
   ]
  },
  {
   "cell_type": "code",
   "execution_count": null,
   "metadata": {},
   "outputs": [
    {
     "name": "stdout",
     "output_type": "stream",
     "text": [
      "Gate values shape: (3, 32, 8)\n",
      "All inputs shape: (3, 32, 24)\n"
     ]
    }
   ],
   "source": [
    "# load the gate_values_epoch_0.npy file\n",
    "gate_values = np.load(\"gate_values_epoch_0.npy\")\n",
    "all_inputs = np.load(\"all_inputs_epoch_0.npy\")\n",
    "\n",
    "print(\"Gate values shape:\", gate_values.shape)\n",
    "print(\"All inputs shape:\", all_inputs.shape)"
   ]
  }
 ],
 "metadata": {
  "kernelspec": {
   "display_name": "venv",
   "language": "python",
   "name": "python3"
  },
  "language_info": {
   "codemirror_mode": {
    "name": "ipython",
    "version": 3
   },
   "file_extension": ".py",
   "mimetype": "text/x-python",
   "name": "python",
   "nbconvert_exporter": "python",
   "pygments_lexer": "ipython3",
   "version": "3.11.9"
  }
 },
 "nbformat": 4,
 "nbformat_minor": 2
}
